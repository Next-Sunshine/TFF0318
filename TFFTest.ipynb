{
  "nbformat": 4,
  "nbformat_minor": 0,
  "metadata": {
    "colab": {
      "name": "TFFTest.ipynb",
      "provenance": [],
      "collapsed_sections": [],
      "authorship_tag": "ABX9TyMEaE0qcwZT2fIyqf/ulrV0",
      "include_colab_link": true
    },
    "kernelspec": {
      "name": "python3",
      "display_name": "Python 3"
    }
  },
  "cells": [
    {
      "cell_type": "markdown",
      "metadata": {
        "id": "view-in-github",
        "colab_type": "text"
      },
      "source": [
        "<a href=\"https://colab.research.google.com/github/Next-Sunshine/TTF0318/blob/master/TFFTest.ipynb\" target=\"_parent\"><img src=\"https://colab.research.google.com/assets/colab-badge.svg\" alt=\"Open In Colab\"/></a>"
      ]
    },
    {
      "cell_type": "code",
      "metadata": {
        "id": "Q_7YLBxLP3Ou",
        "colab_type": "code",
        "outputId": "2a5f722a-f9d4-4fb8-8fd5-a51fdcec1aed",
        "colab": {
          "base_uri": "https://localhost:8080/",
          "height": 35
        }
      },
      "source": [
        "#test environment\n",
        "!pip install --quiet --upgrade tensorflow_federated\n",
        "\n",
        "import collections\n",
        "import numpy as np\n",
        "import tensorflow as tf\n",
        "import tensorflow_federated as tff\n",
        "\n",
        "tf.compat.v1.enable_v2_behavior()\n",
        "@tff.federated_computation\n",
        "def hello_world():\n",
        "  return 'Hello World!'\n",
        "\n",
        "hello_world()"
      ],
      "execution_count": 3,
      "outputs": [
        {
          "output_type": "execute_result",
          "data": {
            "text/plain": [
              "b'Hello World!'"
            ]
          },
          "metadata": {
            "tags": []
          },
          "execution_count": 3
        }
      ]
    },
    {
      "cell_type": "code",
      "metadata": {
        "id": "cDErJVYGVbln",
        "colab_type": "code",
        "colab": {}
      },
      "source": [
        "#定义一组联邦浮点类型的值，分布式传感器阵列中出现的温度读数的集合就可以定义成这种\n",
        "#put tf.float32 into the placement tff.CLIENTS\n",
        "#定义一组联邦值，member是float32，placement是CLIENTS\n",
        "federated_float_on_clients = tff.FederatedType(tf.float32,tff.CLIENTS)   \n",
        "#the function str() turn int to a string\n",
        "#为什么多个str()不会依次运行只会运行最后一个,我猜测可能是用一个缓冲区装串，每写一次就进行覆盖\n",
        "#对于一个一维线性模型，构造float32类型的参数ab的一对非联邦类型以供TFF使用"
      ],
      "execution_count": 0,
      "outputs": []
    },
    {
      "cell_type": "code",
      "metadata": {
        "id": "z123Tc0bNXsu",
        "colab_type": "code",
        "outputId": "ec3009f2-f103-4b56-cb29-b4f73586174f",
        "colab": {
          "base_uri": "https://localhost:8080/",
          "height": 34
        }
      },
      "source": [
        "#查看federated_float_on_clients的成员类型？\n",
        "str(federated_float_on_clients.member)"
      ],
      "execution_count": 0,
      "outputs": [
        {
          "output_type": "execute_result",
          "data": {
            "text/plain": [
              "'float32'"
            ]
          },
          "metadata": {
            "tags": []
          },
          "execution_count": 16
        }
      ]
    },
    {
      "cell_type": "code",
      "metadata": {
        "id": "KSyFzOUaNoaS",
        "colab_type": "code",
        "outputId": "979f9035-ea4a-4d4a-8840-c9aea36bd735",
        "colab": {
          "base_uri": "https://localhost:8080/",
          "height": 34
        }
      },
      "source": [
        "#federated_float_on_clients reperents a relationship whose member shows the member constituents and placement shows the place we putted the member in\n",
        "str(federated_float_on_clients.placement)  "
      ],
      "execution_count": 0,
      "outputs": [
        {
          "output_type": "execute_result",
          "data": {
            "text/plain": [
              "'CLIENTS'"
            ]
          },
          "metadata": {
            "tags": []
          },
          "execution_count": 17
        }
      ]
    },
    {
      "cell_type": "code",
      "metadata": {
        "id": "FAuiniwtOJBX",
        "colab_type": "code",
        "outputId": "2c4ca65a-754d-4b41-e0b7-1cce1a66b46a",
        "colab": {
          "base_uri": "https://localhost:8080/",
          "height": 34
        }
      },
      "source": [
        "#placement G with member constituents T can be repersented as {T}@G,here output {float32}@CLIENTS\n",
        "#查看联邦类型federated_float_on_clients，会打印出它的member以及placement\n",
        "str(federated_float_on_clients)   "
      ],
      "execution_count": 0,
      "outputs": [
        {
          "output_type": "execute_result",
          "data": {
            "text/plain": [
              "'{float32}@CLIENTS'"
            ]
          },
          "metadata": {
            "tags": []
          },
          "execution_count": 18
        }
      ]
    },
    {
      "cell_type": "code",
      "metadata": {
        "id": "vFZPRi-sO4g-",
        "colab_type": "code",
        "outputId": "0559f75f-76cc-49b3-88f7-275311b54e30",
        "colab": {
          "base_uri": "https://localhost:8080/",
          "height": 34
        }
      },
      "source": [
        "#测试FederatedType构造函数中all_equal的默认值是false，默认并不是相同的类型\n",
        "federated_float_on_clients.all_equal  "
      ],
      "execution_count": 0,
      "outputs": [
        {
          "output_type": "execute_result",
          "data": {
            "text/plain": [
              "False"
            ]
          },
          "metadata": {
            "tags": []
          },
          "execution_count": 20
        }
      ]
    },
    {
      "cell_type": "code",
      "metadata": {
        "id": "GtXQkbUPPhak",
        "colab_type": "code",
        "outputId": "37289c65-6480-46ad-d094-a0c96978be6a",
        "colab": {
          "base_uri": "https://localhost:8080/",
          "height": 34
        }
      },
      "source": [
        "#通过控制all_equal=True来显式说明所有的member都是相同的类型，那么这时{}就会去掉\n",
        "str(tff.FederatedType(tf.float32,tff.CLIENTS,all_equal=True))"
      ],
      "execution_count": 0,
      "outputs": [
        {
          "output_type": "execute_result",
          "data": {
            "text/plain": [
              "'float32@CLIENTS'"
            ]
          },
          "metadata": {
            "tags": []
          },
          "execution_count": 21
        }
      ]
    },
    {
      "cell_type": "code",
      "metadata": {
        "id": "ViG5uO84S4-J",
        "colab_type": "code",
        "outputId": "4dc76392-e2ff-43e5-bfc8-b0b35f7db1ba",
        "colab": {
          "base_uri": "https://localhost:8080/",
          "height": 34
        }
      },
      "source": [
        "#一对float32类型的参数，构造一个名叫simple_regression_model_type作为member类型的数以便在tff中使用\n",
        "#相当于federated_float_on_clients = tff.FederatedType(tf.float32,tff.CLIENTS)中的tf.float\n",
        "simple_regression_model_type = (\n",
        "    tff.NamedTupleType([('a',tf.float32),('b',tf.float32)])\n",
        ")\n",
        "str(simple_regression_model_type)"
      ],
      "execution_count": 0,
      "outputs": [
        {
          "output_type": "execute_result",
          "data": {
            "text/plain": [
              "'<a=float32,b=float32>'"
            ]
          },
          "metadata": {
            "tags": []
          },
          "execution_count": 22
        }
      ]
    },
    {
      "cell_type": "code",
      "metadata": {
        "id": "ApfmKafqUZoc",
        "colab_type": "code",
        "outputId": "34a7a34d-3fad-41d1-e9ec-13fae21bf34e",
        "colab": {
          "base_uri": "https://localhost:8080/",
          "height": 34
        }
      },
      "source": [
        "#当模型广播给客户机时，得到的联邦值类型可以表示为如下\n",
        "str(tff.FederatedType(simple_regression_model_type,tff.CLIENTS,all_equal=True))"
      ],
      "execution_count": 0,
      "outputs": [
        {
          "output_type": "execute_result",
          "data": {
            "text/plain": [
              "'<a=float32,b=float32>@CLIENTS'"
            ]
          },
          "metadata": {
            "tags": []
          },
          "execution_count": 23
        }
      ]
    },
    {
      "cell_type": "code",
      "metadata": {
        "id": "e7QbTBr4PwJq",
        "colab_type": "code",
        "outputId": "e64dddd9-a5d2-4b9b-b3fd-fcf664d4685b",
        "colab": {
          "base_uri": "https://localhost:8080/",
          "height": 50
        }
      },
      "source": [
        "#Federated computation example：计算传感器阵列报告的平均温度\n",
        "@tff.federated_computation(tff.FederatedType(tf.float32,tff.CLIENTS))\n",
        "def get_average_temperature(sensor_readings):\n",
        "\n",
        "  #添加打印以监听添加了@tff.federated_computation的函数,另外猜测\"{}\"是占位符，然后用format填充\n",
        "  print('Getting traced, the argument is \"{}\".'\n",
        "  .format(type(sensor_readings).__name__))\n",
        "\n",
        "  return tff.federated_mean(sensor_readings)\n",
        "#使用type_signature打印计算的类型,({float32}@CLIENTS -> float32@SERVER)\n",
        "#类型签名告诉我们,计算接受客户端设备上不同传感器读数的集合，并在服务器上返回单个平均值。\n",
        "str(get_average_temperature.type_signature)\n",
        "\n",
        "#使用纯列表的方式,32位浮点数类型\n",
        "get_average_temperature([68.5,70.3,69.8])"
      ],
      "execution_count": 0,
      "outputs": [
        {
          "output_type": "stream",
          "text": [
            "Getting traced, the argument is \"ValueImpl\".\n"
          ],
          "name": "stdout"
        },
        {
          "output_type": "execute_result",
          "data": {
            "text/plain": [
              "'(float32 -> float32)'"
            ]
          },
          "metadata": {
            "tags": []
          },
          "execution_count": 17
        }
      ]
    },
    {
      "cell_type": "code",
      "metadata": {
        "id": "iTpXxLngQsOQ",
        "colab_type": "code",
        "colab": {
          "base_uri": "https://localhost:8080/",
          "height": 35
        },
        "outputId": "6e770ca4-70fa-435c-8674-758fdb819486"
      },
      "source": [
        "#定义TensorFlow计算，接受一个数字并加0.5，@tff.tf_computation()中放的是参数类型吗，此处是一个tf类型的浮点数，所以用@tff.tf_修饰\n",
        "@tff.tf_computation(tf.float32)\n",
        "def add_half(x):\n",
        "  return tf.add(x,0.5)\n",
        "#打印类型签名\n",
        "#(float32 -> float32):类型签名告诉我们，函数接收一个浮点数并且返回一个浮点数\n",
        "str(add_half.type_signature)"
      ],
      "execution_count": 4,
      "outputs": [
        {
          "output_type": "execute_result",
          "data": {
            "text/plain": [
              "'(float32 -> float32)'"
            ]
          },
          "metadata": {
            "tags": []
          },
          "execution_count": 4
        }
      ]
    },
    {
      "cell_type": "code",
      "metadata": {
        "id": "ZM35ouqod09b",
        "colab_type": "code",
        "outputId": "12089c7c-e47f-4c77-b502-80b9ed7236c4",
        "colab": {
          "base_uri": "https://localhost:8080/",
          "height": 34
        }
      },
      "source": [
        "#此处tff.federated_computaion（）中放的是一个联邦类型的值，member是float32，placement是CLIENTS\n",
        "@tff.federated_computation(tff.FederatedType(tf.float32,tff.CLIENTS))\n",
        "def add_half_on_clients(x):\n",
        "  return tff.federated_map(add_half,x)\n",
        "str(add_half_on_clients.type_signature)"
      ],
      "execution_count": 0,
      "outputs": [
        {
          "output_type": "execute_result",
          "data": {
            "text/plain": [
              "'({float32}@CLIENTS -> {float32}@CLIENTS)'"
            ]
          },
          "metadata": {
            "tags": []
          },
          "execution_count": 20
        }
      ]
    },
    {
      "cell_type": "code",
      "metadata": {
        "id": "VNkSAsWue76j",
        "colab_type": "code",
        "outputId": "403d72de-ed57-4e85-d502-26726ec631e0",
        "colab": {
          "base_uri": "https://localhost:8080/",
          "height": 67
        }
      },
      "source": [
        "#此处输出的结果好像是在显示张量\n",
        "add_half_on_clients([1.0,3.0,2.0])"
      ],
      "execution_count": 0,
      "outputs": [
        {
          "output_type": "execute_result",
          "data": {
            "text/plain": [
              "[<tf.Tensor: shape=(), dtype=float32, numpy=1.5>,\n",
              " <tf.Tensor: shape=(), dtype=float32, numpy=3.5>,\n",
              " <tf.Tensor: shape=(), dtype=float32, numpy=2.5>]"
            ]
          },
          "metadata": {
            "tags": []
          },
          "execution_count": 21
        }
      ]
    },
    {
      "cell_type": "code",
      "metadata": {
        "id": "stvcBLn34f52",
        "colab_type": "code",
        "outputId": "7c00b2cd-737d-4d39-b79c-772d2f4e8067",
        "colab": {
          "base_uri": "https://localhost:8080/",
          "height": 34
        }
      },
      "source": [
        "try:\n",
        "  # Eager mode,每次重新进入运行新的代码都要先运行一下环境\n",
        "  #运行失败的原因是在add_ten()之外又构造了一个常量\n",
        "  constant_10 = tf.constant(10.)\n",
        "\n",
        "  @tff.tf_computation(tf.float32)\n",
        "  def add_ten(x):\n",
        "    return x + constant_10\n",
        "\n",
        "except Exception as err:\n",
        "  print(err)"
      ],
      "execution_count": 0,
      "outputs": [
        {
          "output_type": "stream",
          "text": [
            "Attempting to capture an EagerTensor without building a function.\n"
          ],
          "name": "stdout"
        }
      ]
    },
    {
      "cell_type": "code",
      "metadata": {
        "id": "vZyd5fL-55je",
        "colab_type": "code",
        "outputId": "8d6fba55-1089-40eb-efc1-283247ce7b72",
        "colab": {
          "base_uri": "https://localhost:8080/",
          "height": 34
        }
      },
      "source": [
        "def get_constant_10():\n",
        "  return tf.constant(10.)\n",
        "@tff.tf_computation(tf.float32)\n",
        "def add_ten(x):\n",
        "  return x + get_constant_10()\n",
        "\n",
        "add_ten(5.0)"
      ],
      "execution_count": 0,
      "outputs": [
        {
          "output_type": "execute_result",
          "data": {
            "text/plain": [
              "15.0"
            ]
          },
          "metadata": {
            "tags": []
          },
          "execution_count": 4
        }
      ]
    },
    {
      "cell_type": "code",
      "metadata": {
        "id": "n3Pu7VCS7n4u",
        "colab_type": "code",
        "outputId": "6830590e-6b62-4293-ac41-4caa8c59c8d4",
        "colab": {
          "base_uri": "https://localhost:8080/",
          "height": 34
        }
      },
      "source": [
        "float32_sequence = tff.SequenceType(tf.float32)\n",
        "str(float32_sequence)"
      ],
      "execution_count": 0,
      "outputs": [
        {
          "output_type": "execute_result",
          "data": {
            "text/plain": [
              "'float32*'"
            ]
          },
          "metadata": {
            "tags": []
          },
          "execution_count": 5
        }
      ]
    },
    {
      "cell_type": "code",
      "metadata": {
        "id": "B6I7iSfI8ri1",
        "colab_type": "code",
        "outputId": "b930ca3f-e115-4a8d-d473-258263af9781",
        "colab": {
          "base_uri": "https://localhost:8080/",
          "height": 34
        }
      },
      "source": [
        "@tff.tf_computation(tff.SequenceType(tf.float32))\n",
        "def get_local_temperature_average(local_temperatures):\n",
        "  sum_and_count = (\n",
        "      #Python中的reduce方法会用传给它的函数先对1,2个参数进行操作然后再用得到的结果和第三个元素操作\n",
        "      #这里使用lambda匿名函数，x[0]+y应该是在计算和，x[1]+1应该是在计算个数\n",
        "      local_temperatures.reduce((0.0,0),lambda x, y: (x[0] + y, x[1] + 1))\n",
        "  )\n",
        "  return sum_and_count[0] / tf.cast(sum_and_count[1],tf.float32)\n",
        "str(get_local_temperature_average.type_signature)"
      ],
      "execution_count": 0,
      "outputs": [
        {
          "output_type": "execute_result",
          "data": {
            "text/plain": [
              "'(float32* -> float32)'"
            ]
          },
          "metadata": {
            "tags": []
          },
          "execution_count": 6
        }
      ]
    },
    {
      "cell_type": "code",
      "metadata": {
        "id": "UphQaf1w98uX",
        "colab_type": "code",
        "outputId": "23659374-b3f0-472f-fa23-1cff763c3a8b",
        "colab": {
          "base_uri": "https://localhost:8080/",
          "height": 34
        }
      },
      "source": [
        "@tff.tf_computation(tff.SequenceType(tf.int32))\n",
        "def foo(x):\n",
        "  return x.reduce(np.int32(0), lambda x, y: x+y)\n",
        "foo([1,2,3])"
      ],
      "execution_count": 0,
      "outputs": [
        {
          "output_type": "execute_result",
          "data": {
            "text/plain": [
              "6"
            ]
          },
          "metadata": {
            "tags": []
          },
          "execution_count": 8
        }
      ]
    },
    {
      "cell_type": "code",
      "metadata": {
        "id": "-SHUJB74-nt4",
        "colab_type": "code",
        "outputId": "2da26756-fffa-4ae7-c7e7-d5ad999e3ba4",
        "colab": {
          "base_uri": "https://localhost:8080/",
          "height": 34
        }
      },
      "source": [
        "get_local_temperature_average([68.5,70.3,69.8])"
      ],
      "execution_count": 0,
      "outputs": [
        {
          "output_type": "execute_result",
          "data": {
            "text/plain": [
              "69.53333"
            ]
          },
          "metadata": {
            "tags": []
          },
          "execution_count": 9
        }
      ]
    },
    {
      "cell_type": "code",
      "metadata": {
        "id": "iKnc9zMj_Esb",
        "colab_type": "code",
        "outputId": "d2d0c2e6-4aa3-49c1-e126-92ea927ad163",
        "colab": {
          "base_uri": "https://localhost:8080/",
          "height": 54
        }
      },
      "source": [
        "@tff.tf_computation(tff.SequenceType(collections.OrderedDict([('A', tf.int32),('B', tf.int32)])))\n",
        "def foo(ds):\n",
        "  print('element_structure = {}'.format(ds.element_spec))\n",
        "  return ds.reduce(np.int32(0), lambda total, x: total + x['A'] * x['B'])"
      ],
      "execution_count": 0,
      "outputs": [
        {
          "output_type": "stream",
          "text": [
            "element_structure = OrderedDict([('A', TensorSpec(shape=(), dtype=tf.int32, name=None)), ('B', TensorSpec(shape=(), dtype=tf.int32, name=None))])\n"
          ],
          "name": "stdout"
        }
      ]
    },
    {
      "cell_type": "code",
      "metadata": {
        "id": "ibVMabbg_0xE",
        "colab_type": "code",
        "outputId": "41470418-7bc8-4343-a53f-2383f754f584",
        "colab": {
          "base_uri": "https://localhost:8080/",
          "height": 34
        }
      },
      "source": [
        "str(foo.type_signature)"
      ],
      "execution_count": 0,
      "outputs": [
        {
          "output_type": "execute_result",
          "data": {
            "text/plain": [
              "'(<A=int32,B=int32>* -> int32)'"
            ]
          },
          "metadata": {
            "tags": []
          },
          "execution_count": 11
        }
      ]
    },
    {
      "cell_type": "code",
      "metadata": {
        "id": "-lwFCwQf_-vG",
        "colab_type": "code",
        "outputId": "7fb324b1-2812-4784-e469-bdd82d20a433",
        "colab": {
          "base_uri": "https://localhost:8080/",
          "height": 34
        }
      },
      "source": [
        "foo([{'A': 2, 'B':3}, {'A':4, 'B':5}])"
      ],
      "execution_count": 0,
      "outputs": [
        {
          "output_type": "execute_result",
          "data": {
            "text/plain": [
              "26"
            ]
          },
          "metadata": {
            "tags": []
          },
          "execution_count": 12
        }
      ]
    },
    {
      "cell_type": "code",
      "metadata": {
        "id": "rSu3KsF5IFTY",
        "colab_type": "code",
        "colab": {}
      },
      "source": [
        "@tff.federated_computation(\n",
        "    tff.FederatedType(tff.SequenceType(tf.float32), tff.CLIENTS)\n",
        ")\n",
        "def get_global_temperature_average(sensor_readings):\n",
        "  return tff.federated_mean(\n",
        "      tff.federated_map(get_local_temperature_average, sensor_readings)\n",
        "  )"
      ],
      "execution_count": 0,
      "outputs": []
    },
    {
      "cell_type": "code",
      "metadata": {
        "id": "ZUempeR5I92o",
        "colab_type": "code",
        "outputId": "ebfb240c-b5e1-479e-b358-4c9df40afd7d",
        "colab": {
          "base_uri": "https://localhost:8080/",
          "height": 34
        }
      },
      "source": [
        "str(get_global_temperature_average.type_signature)"
      ],
      "execution_count": 0,
      "outputs": [
        {
          "output_type": "execute_result",
          "data": {
            "text/plain": [
              "'({float32*}@CLIENTS -> float32@SERVER)'"
            ]
          },
          "metadata": {
            "tags": []
          },
          "execution_count": 14
        }
      ]
    }
  ]
}