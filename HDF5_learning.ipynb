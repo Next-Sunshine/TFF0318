{
  "nbformat": 4,
  "nbformat_minor": 0,
  "metadata": {
    "colab": {
      "name": "HDF5_learning.ipynb",
      "provenance": [],
      "collapsed_sections": [],
      "authorship_tag": "ABX9TyPuCCG47WqvyQKcBzRVi4Iv",
      "include_colab_link": true
    },
    "kernelspec": {
      "name": "python3",
      "display_name": "Python 3"
    }
  },
  "cells": [
    {
      "cell_type": "markdown",
      "metadata": {
        "id": "view-in-github",
        "colab_type": "text"
      },
      "source": [
        "<a href=\"https://colab.research.google.com/github/Next-Sunshine/TFF0318/blob/master/HDF5_learning.ipynb\" target=\"_parent\"><img src=\"https://colab.research.google.com/assets/colab-badge.svg\" alt=\"Open In Colab\"/></a>"
      ]
    },
    {
      "cell_type": "code",
      "metadata": {
        "id": "XcRnxMAby1aI",
        "colab_type": "code",
        "colab": {
          "base_uri": "https://localhost:8080/",
          "height": 71
        },
        "outputId": "01ed64bf-5a73-4cf0-e8b2-633d17eed35e"
      },
      "source": [
        "!pip install h5py"
      ],
      "execution_count": 5,
      "outputs": [
        {
          "output_type": "stream",
          "text": [
            "Requirement already satisfied: h5py in /usr/local/lib/python3.6/dist-packages (2.10.0)\n",
            "Requirement already satisfied: six in /usr/local/lib/python3.6/dist-packages (from h5py) (1.12.0)\n",
            "Requirement already satisfied: numpy>=1.7 in /usr/local/lib/python3.6/dist-packages (from h5py) (1.18.2)\n"
          ],
          "name": "stdout"
        }
      ]
    },
    {
      "cell_type": "code",
      "metadata": {
        "id": "5Gc7_H4nzILJ",
        "colab_type": "code",
        "colab": {}
      },
      "source": [
        "import h5py"
      ],
      "execution_count": 0,
      "outputs": []
    },
    {
      "cell_type": "code",
      "metadata": {
        "id": "5iXuoN7XznZm",
        "colab_type": "code",
        "colab": {
          "base_uri": "https://localhost:8080/",
          "height": 231
        },
        "outputId": "86d8ed97-eb19-4154-f8df-70c12820cef5"
      },
      "source": [
        "!pip install --quiet --upgrade tensorflow_federated"
      ],
      "execution_count": 7,
      "outputs": [
        {
          "output_type": "stream",
          "text": [
            "\u001b[?25l\r\u001b[K     |▊                               | 10kB 23.0MB/s eta 0:00:01\r\u001b[K     |█▌                              | 20kB 1.7MB/s eta 0:00:01\r\u001b[K     |██▎                             | 30kB 2.2MB/s eta 0:00:01\r\u001b[K     |███                             | 40kB 2.5MB/s eta 0:00:01\r\u001b[K     |███▉                            | 51kB 2.0MB/s eta 0:00:01\r\u001b[K     |████▋                           | 61kB 2.2MB/s eta 0:00:01\r\u001b[K     |█████▍                          | 71kB 2.5MB/s eta 0:00:01\r\u001b[K     |██████▏                         | 81kB 2.7MB/s eta 0:00:01\r\u001b[K     |██████▉                         | 92kB 2.8MB/s eta 0:00:01\r\u001b[K     |███████▋                        | 102kB 2.7MB/s eta 0:00:01\r\u001b[K     |████████▍                       | 112kB 2.7MB/s eta 0:00:01\r\u001b[K     |█████████▏                      | 122kB 2.7MB/s eta 0:00:01\r\u001b[K     |██████████                      | 133kB 2.7MB/s eta 0:00:01\r\u001b[K     |██████████▊                     | 143kB 2.7MB/s eta 0:00:01\r\u001b[K     |███████████▌                    | 153kB 2.7MB/s eta 0:00:01\r\u001b[K     |████████████▎                   | 163kB 2.7MB/s eta 0:00:01\r\u001b[K     |█████████████                   | 174kB 2.7MB/s eta 0:00:01\r\u001b[K     |█████████████▊                  | 184kB 2.7MB/s eta 0:00:01\r\u001b[K     |██████████████▌                 | 194kB 2.7MB/s eta 0:00:01\r\u001b[K     |███████████████▎                | 204kB 2.7MB/s eta 0:00:01\r\u001b[K     |████████████████                | 215kB 2.7MB/s eta 0:00:01\r\u001b[K     |████████████████▉               | 225kB 2.7MB/s eta 0:00:01\r\u001b[K     |█████████████████▋              | 235kB 2.7MB/s eta 0:00:01\r\u001b[K     |██████████████████▍             | 245kB 2.7MB/s eta 0:00:01\r\u001b[K     |███████████████████▏            | 256kB 2.7MB/s eta 0:00:01\r\u001b[K     |███████████████████▉            | 266kB 2.7MB/s eta 0:00:01\r\u001b[K     |████████████████████▋           | 276kB 2.7MB/s eta 0:00:01\r\u001b[K     |█████████████████████▍          | 286kB 2.7MB/s eta 0:00:01\r\u001b[K     |██████████████████████▏         | 296kB 2.7MB/s eta 0:00:01\r\u001b[K     |███████████████████████         | 307kB 2.7MB/s eta 0:00:01\r\u001b[K     |███████████████████████▊        | 317kB 2.7MB/s eta 0:00:01\r\u001b[K     |████████████████████████▌       | 327kB 2.7MB/s eta 0:00:01\r\u001b[K     |█████████████████████████▎      | 337kB 2.7MB/s eta 0:00:01\r\u001b[K     |██████████████████████████      | 348kB 2.7MB/s eta 0:00:01\r\u001b[K     |██████████████████████████▊     | 358kB 2.7MB/s eta 0:00:01\r\u001b[K     |███████████████████████████▌    | 368kB 2.7MB/s eta 0:00:01\r\u001b[K     |████████████████████████████▎   | 378kB 2.7MB/s eta 0:00:01\r\u001b[K     |█████████████████████████████   | 389kB 2.7MB/s eta 0:00:01\r\u001b[K     |█████████████████████████████▉  | 399kB 2.7MB/s eta 0:00:01\r\u001b[K     |██████████████████████████████▋ | 409kB 2.7MB/s eta 0:00:01\r\u001b[K     |███████████████████████████████▍| 419kB 2.7MB/s eta 0:00:01\r\u001b[K     |████████████████████████████████| 430kB 2.7MB/s \n",
            "\u001b[K     |████████████████████████████████| 296kB 12.2MB/s \n",
            "\u001b[K     |████████████████████████████████| 20.0MB 226kB/s \n",
            "\u001b[K     |████████████████████████████████| 2.2MB 46.2MB/s \n",
            "\u001b[K     |████████████████████████████████| 421.8MB 28kB/s \n",
            "\u001b[K     |████████████████████████████████| 102kB 12.3MB/s \n",
            "\u001b[K     |████████████████████████████████| 2.8MB 47.8MB/s \n",
            "\u001b[K     |████████████████████████████████| 450kB 42.7MB/s \n",
            "\u001b[K     |████████████████████████████████| 3.9MB 48.3MB/s \n",
            "\u001b[?25h  Building wheel for gast (setup.py) ... \u001b[?25l\u001b[?25hdone\n",
            "\u001b[31mERROR: datascience 0.10.6 has requirement folium==0.2.1, but you'll have folium 0.8.3 which is incompatible.\u001b[0m\n",
            "\u001b[31mERROR: albumentations 0.1.12 has requirement imgaug<0.2.7,>=0.2.5, but you'll have imgaug 0.2.9 which is incompatible.\u001b[0m\n"
          ],
          "name": "stdout"
        }
      ]
    },
    {
      "cell_type": "code",
      "metadata": {
        "id": "J8sjlgBW0l2X",
        "colab_type": "code",
        "colab": {
          "base_uri": "https://localhost:8080/",
          "height": 35
        },
        "outputId": "90caa4ef-2c55-474b-faaf-fbf0bbfa73e9"
      },
      "source": [
        "import collections\n",
        "\n",
        "import numpy as np\n",
        "import tensorflow as tf\n",
        "import tensorflow_federated as tff\n",
        "\n",
        "tf.compat.v1.enable_v2_behavior()\n",
        "\n",
        "np.random.seed(0)\n",
        "\n",
        "tff.federated_computation(lambda: 'Hello,world!')()"
      ],
      "execution_count": 8,
      "outputs": [
        {
          "output_type": "execute_result",
          "data": {
            "text/plain": [
              "b'Hello,world!'"
            ]
          },
          "metadata": {
            "tags": []
          },
          "execution_count": 8
        }
      ]
    },
    {
      "cell_type": "code",
      "metadata": {
        "id": "yKCSm3td0s_M",
        "colab_type": "code",
        "colab": {}
      },
      "source": [
        "#装载数据集\n",
        "#emnist_train, emnist_test = tff.simulation.datasets.emnist.load_data()"
      ],
      "execution_count": 0,
      "outputs": []
    },
    {
      "cell_type": "code",
      "metadata": {
        "id": "biRtT6kK1MD4",
        "colab_type": "code",
        "colab": {
          "base_uri": "https://localhost:8080/",
          "height": 55
        },
        "outputId": "fc4b1ed0-4759-4c6b-fe04-476a10ef10af"
      },
      "source": [
        "'''\n",
        "example_dataset = emnist_train.create_tf_dataset_for_client(\n",
        "    emnist_train.client_ids[0]\n",
        ")\n",
        "example_element = next(iter(example_dataset))\n",
        "example_element['label'].numpy()  #加了.numpy（）是在取numpy()属性的值，就是用.取属性值的意思\n",
        "'''"
      ],
      "execution_count": 10,
      "outputs": [
        {
          "output_type": "execute_result",
          "data": {
            "text/plain": [
              "\"\\nexample_dataset = emnist_train.create_tf_dataset_for_client(\\n    emnist_train.client_ids[0]\\n)\\nexample_element = next(iter(example_dataset))\\nexample_element['label'].numpy()  #加了.numpy（）是在取numpy()属性的值，就是用.取属性值的意思\\n\""
            ]
          },
          "metadata": {
            "tags": []
          },
          "execution_count": 10
        }
      ]
    },
    {
      "cell_type": "code",
      "metadata": {
        "id": "fWPEiE8HEyFr",
        "colab_type": "code",
        "colab": {}
      },
      "source": [
        "# #网上的代码，跟着做一做\n",
        "# import PIL as Image\n",
        "# input_data = tf.keras.datasets.mnist.load_data() "
      ],
      "execution_count": 0,
      "outputs": []
    },
    {
      "cell_type": "code",
      "metadata": {
        "id": "dzWRiAHhFgvV",
        "colab_type": "code",
        "colab": {}
      },
      "source": [
        "# #生成200张图片\n",
        "# def gen_image(arr, index, label):\n",
        "#   #直接保存arr是黑底照片，1.0-arr是白底照片\n",
        "#   matrix = (np.reshape(1.0 - arr, (28,28)) * 255).astype(np.uint8)\n",
        "#   img = Image.fromarray(matrix, 'L')\n",
        "#   #存储图片时，label_index的格式傍边在制作数据集时，从文件名即可知道label\n",
        "#   img.save(\"./images/{}_{}.png\".format(label, index))\n",
        "\n",
        "# # data = input_data\n",
        "# x, y = mnist_train(200)\n",
        "# for i,(arr, label) in enumerate(zip(x, y)):\n",
        "#   print(i, label)\n",
        "#   gen_image(arr, i, label)"
      ],
      "execution_count": 0,
      "outputs": []
    },
    {
      "cell_type": "code",
      "metadata": {
        "id": "Do6cXq6DRX4M",
        "colab_type": "code",
        "colab": {
          "base_uri": "https://localhost:8080/",
          "height": 35
        },
        "outputId": "463468f4-570d-4bab-a613-9dfabd2e0917"
      },
      "source": [
        "'''\n",
        "import cv2\n",
        "import os\n",
        "from keras.datasets import mnist\n",
        "'''"
      ],
      "execution_count": 13,
      "outputs": [
        {
          "output_type": "execute_result",
          "data": {
            "text/plain": [
              "'\\nimport cv2\\nimport os\\nfrom keras.datasets import mnist\\n'"
            ]
          },
          "metadata": {
            "tags": []
          },
          "execution_count": 13
        }
      ]
    },
    {
      "cell_type": "code",
      "metadata": {
        "id": "GMWEoWjnRiak",
        "colab_type": "code",
        "colab": {
          "base_uri": "https://localhost:8080/",
          "height": 55
        },
        "outputId": "d226d2a1-ab8d-4070-8a09-515b4c72af91"
      },
      "source": [
        "'''\n",
        "#将mnist数据集图片提取出来\n",
        "str_1 = 'mnist_train'\n",
        "str_2 = 'mnist_test'\n",
        "\n",
        "if os.path.exists(str_1) is False:\n",
        "  os.mkdir(str_1)\n",
        "\n",
        "if os.path.exists(str_2) is False:\n",
        "  os.mkdir(str_2)\n",
        "\n",
        "(X_train, Y_train),(X_test, Y_test) = mnist_train, mnist_test\n",
        "#迭代0到59999之间的数字\n",
        "for i in range(0,59999): \n",
        "  fileName = \"mnist_train/\"+str(Y_train[i]) + \"_\" + str(i) +\".jpg\"\n",
        "  cv2.imwrite(fileName, X_train[i])\n",
        "for i in range(0,9999):\n",
        "  fileName = \"mnist_test/\"+str(Y_test[i]) + \"_\" + str(i) + \".jpg\"\n",
        "  cv2.imwrite(fileName, X_test[i])\n",
        "'''"
      ],
      "execution_count": 14,
      "outputs": [
        {
          "output_type": "execute_result",
          "data": {
            "text/plain": [
              "'\\n#将mnist数据集图片提取出来\\nstr_1 = \\'mnist_train\\'\\nstr_2 = \\'mnist_test\\'\\n\\nif os.path.exists(str_1) is False:\\n  os.mkdir(str_1)\\n\\nif os.path.exists(str_2) is False:\\n  os.mkdir(str_2)\\n\\n(X_train, Y_train),(X_test, Y_test) = mnist_train, mnist_test\\n#迭代0到59999之间的数字\\nfor i in range(0,59999): \\n  fileName = \"mnist_train/\"+str(Y_train[i]) + \"_\" + str(i) +\".jpg\"\\n  cv2.imwrite(fileName, X_train[i])\\nfor i in range(0,9999):\\n  fileName = \"mnist_test/\"+str(Y_test[i]) + \"_\" + str(i) + \".jpg\"\\n  cv2.imwrite(fileName, X_test[i])\\n'"
            ]
          },
          "metadata": {
            "tags": []
          },
          "execution_count": 14
        }
      ]
    },
    {
      "cell_type": "code",
      "metadata": {
        "id": "AlprOI7EYGoY",
        "colab_type": "code",
        "colab": {}
      },
      "source": [
        "# ###############创建一个文件\n",
        "#这里最好写成\n",
        "# with h5py.File('mytestfile.hdf5, 'w') as f:否则打开了以后向里面写东西还要\n",
        "#使用f.close()显式关闭，不然就会报错\n",
        "#OSError: Unable to create file (unable to truncate a file which is already open)\n",
        "f = h5py.File('mytestfile.hdf5','w')"
      ],
      "execution_count": 0,
      "outputs": []
    },
    {
      "cell_type": "code",
      "metadata": {
        "id": "6MQyGYcKa3Yj",
        "colab_type": "code",
        "colab": {}
      },
      "source": [
        "# #向文件里面写一个数据，形状为(100,)，类型为i\n",
        "# dset = f.create_dataset('mydefault', (100,), dtype='i')"
      ],
      "execution_count": 0,
      "outputs": []
    },
    {
      "cell_type": "code",
      "metadata": {
        "id": "Kb3Vjx00ccuw",
        "colab_type": "code",
        "colab": {}
      },
      "source": [
        "# f.close()"
      ],
      "execution_count": 0,
      "outputs": []
    },
    {
      "cell_type": "code",
      "metadata": {
        "id": "MChrSDyPbAuJ",
        "colab_type": "code",
        "colab": {}
      },
      "source": [
        "# #with h5py.File('mytestfile.hdf5', 'r') as f:\n",
        "# f = h5py.File('mytestfile.hdf5', 'r')\n",
        "# list(f.keys())"
      ],
      "execution_count": 0,
      "outputs": []
    },
    {
      "cell_type": "code",
      "metadata": {
        "id": "ildDfVoxeLRG",
        "colab_type": "code",
        "colab": {}
      },
      "source": [
        "# dset = f['mydefault']\n",
        "# dset.shape  #(100,)\n",
        "# dset.dtype  #dtype('int32')\n",
        "# #数组切片\n",
        "# dset = np.arange(100)\n",
        "# dset[0]  #0\n",
        "# dset[10] #10\n",
        "# dset[0:100:10]"
      ],
      "execution_count": 0,
      "outputs": []
    },
    {
      "cell_type": "code",
      "metadata": {
        "id": "gMgEoTpf0iZc",
        "colab_type": "code",
        "colab": {}
      },
      "source": [
        "# #Groups\n",
        "# f = h5py.File('foo.hdf5','w')"
      ],
      "execution_count": 0,
      "outputs": []
    },
    {
      "cell_type": "code",
      "metadata": {
        "id": "taqAVEo10tBi",
        "colab_type": "code",
        "colab": {}
      },
      "source": [
        "# f.name"
      ],
      "execution_count": 0,
      "outputs": []
    },
    {
      "cell_type": "code",
      "metadata": {
        "id": "9QYPYVL00uSw",
        "colab_type": "code",
        "colab": {}
      },
      "source": [
        "# f.keys()"
      ],
      "execution_count": 0,
      "outputs": []
    },
    {
      "cell_type": "code",
      "metadata": {
        "id": "91XEkYPh1I3v",
        "colab_type": "code",
        "colab": {}
      },
      "source": [
        "# #创建新组\n",
        "# grp = f.create_group(\"bar\")\n",
        "# grp.name"
      ],
      "execution_count": 0,
      "outputs": []
    },
    {
      "cell_type": "code",
      "metadata": {
        "id": "sxImfSYN1RjH",
        "colab_type": "code",
        "colab": {}
      },
      "source": [
        "# subgrp = grp.create_group(\"baz\")"
      ],
      "execution_count": 0,
      "outputs": []
    },
    {
      "cell_type": "code",
      "metadata": {
        "id": "IpoGiW0g1gWR",
        "colab_type": "code",
        "colab": {}
      },
      "source": [
        "# subgrp.name"
      ],
      "execution_count": 0,
      "outputs": []
    },
    {
      "cell_type": "code",
      "metadata": {
        "id": "OppXmZ-y1tKN",
        "colab_type": "code",
        "colab": {}
      },
      "source": [
        "# #隐式创建多个中间组\n",
        "# grp2 = f.create_group(\"some/long/path\")\n",
        "# grp2.name"
      ],
      "execution_count": 0,
      "outputs": []
    },
    {
      "cell_type": "code",
      "metadata": {
        "id": "BS90LYpO2B-K",
        "colab_type": "code",
        "colab": {}
      },
      "source": [
        "# grp3 = f['/some/long']\n",
        "# grp3.name"
      ],
      "execution_count": 0,
      "outputs": []
    },
    {
      "cell_type": "code",
      "metadata": {
        "id": "1MiD75aq2jet",
        "colab_type": "code",
        "colab": {}
      },
      "source": [
        "# #索引异常\n",
        "# myds = subgrp[\"MyDS\"]\n",
        "# missing = subgrp[\"missing\"]"
      ],
      "execution_count": 0,
      "outputs": []
    },
    {
      "cell_type": "code",
      "metadata": {
        "id": "QYArw8S42y8T",
        "colab_type": "code",
        "colab": {}
      },
      "source": [
        "# #删除对象，但是我一删除就报错\n",
        "# del subgrp[\"baz\"]"
      ],
      "execution_count": 0,
      "outputs": []
    },
    {
      "cell_type": "code",
      "metadata": {
        "id": "THV2sZ0X4CWW",
        "colab_type": "code",
        "colab": {}
      },
      "source": [
        "# #把一个对象复制给group里面的name\n",
        "# grp[\"name\"] = 42\n",
        "# out = grp[\"name\"]\n",
        "# out"
      ],
      "execution_count": 0,
      "outputs": []
    },
    {
      "cell_type": "code",
      "metadata": {
        "id": "sHGuhTm84cbF",
        "colab_type": "code",
        "colab": {}
      },
      "source": [
        "# #当要存储的对象是现有组或数据集时，将对该对象建立新链接：\n",
        "# grp[\"other name\"] = out\n",
        "# grp[\"other name\"]"
      ],
      "execution_count": 0,
      "outputs": []
    },
    {
      "cell_type": "code",
      "metadata": {
        "id": "tZr1zCOx5FXC",
        "colab_type": "code",
        "colab": {}
      },
      "source": [
        "\n",
        "# grp[\"other name\"] == grp[\"name\"]"
      ],
      "execution_count": 0,
      "outputs": []
    },
    {
      "cell_type": "code",
      "metadata": {
        "id": "84hmUzJ452Kw",
        "colab_type": "code",
        "colab": {}
      },
      "source": [
        "# #创建软links\n",
        "# myfile = h5py.File('foo2.hdf5','w')\n",
        "# group = myfile.create_group(\"somegroup\")"
      ],
      "execution_count": 0,
      "outputs": []
    },
    {
      "cell_type": "code",
      "metadata": {
        "id": "jso2VpBk6hiG",
        "colab_type": "code",
        "colab": {}
      },
      "source": [
        "\n",
        "# myfile[\"alias\"] = h5py.SoftLink('/somegroup')"
      ],
      "execution_count": 0,
      "outputs": []
    },
    {
      "cell_type": "code",
      "metadata": {
        "id": "W8OTq-tT6rtq",
        "colab_type": "code",
        "colab": {}
      },
      "source": [
        "# #如果目标被移除，它们将“悬挂”：\n",
        "# del myfile['somegroup']\n",
        "# print(myfile['alias'])"
      ],
      "execution_count": 0,
      "outputs": []
    },
    {
      "cell_type": "code",
      "metadata": {
        "id": "GLPe5kQq8ZLm",
        "colab_type": "code",
        "colab": {}
      },
      "source": [
        "# #创建数据集\n",
        "# #使用Group.create_dataset（）或Group.require_dataset（）创建新数据集。\n",
        "# #应使用组索引语法（dset=group[“name”]）检索现有数据集。\n",
        "# #要使数据集为空，只需指定名称、形状和可选的数据类型（默认为“f”）：\n",
        "# dset = f.create_dataset(\"default\", (100,))\n",
        "# dset = f.create_dataset(\"ints\", (100,), dtype='i8')"
      ],
      "execution_count": 0,
      "outputs": []
    },
    {
      "cell_type": "code",
      "metadata": {
        "id": "3_mxIlU78bU8",
        "colab_type": "code",
        "colab": {}
      },
      "source": [
        "# #可以将现有数据集初始化为Numpy数组\n",
        "# arr = np.arange(100)\n",
        "# dset = f.create_dataset(\"init\", data=arr)"
      ],
      "execution_count": 0,
      "outputs": []
    },
    {
      "cell_type": "code",
      "metadata": {
        "id": "xrxoon2H9QIB",
        "colab_type": "code",
        "colab": {}
      },
      "source": [
        "# #查看值\n",
        "# dset.value\n",
        "# dset.file"
      ],
      "execution_count": 0,
      "outputs": []
    },
    {
      "cell_type": "code",
      "metadata": {
        "id": "PoQXzjXl9-vh",
        "colab_type": "code",
        "colab": {}
      },
      "source": [
        "# #要启用分块存储，请将关键字chunks设置为表示块形状的元组：\n",
        "# dset = f.create_dataset(\"chunked\", (1000,1000), chunks=(100,100))"
      ],
      "execution_count": 0,
      "outputs": []
    },
    {
      "cell_type": "code",
      "metadata": {
        "id": "U04qh78S-tQe",
        "colab_type": "code",
        "colab": {}
      },
      "source": [
        "# #由于选择块形状可能会令人困惑，因此您可以让h5py为您猜测块形状\n",
        "# dset = f.create_dataset(\"autochunk\", (1000,1000), chunks=True)"
      ],
      "execution_count": 0,
      "outputs": []
    },
    {
      "cell_type": "code",
      "metadata": {
        "id": "XojcShsi_bIn",
        "colab_type": "code",
        "colab": {}
      },
      "source": [
        "# dset = f.create_dataset(\"resizable\", (10,10), maxshape=(500,20))"
      ],
      "execution_count": 0,
      "outputs": []
    },
    {
      "cell_type": "code",
      "metadata": {
        "id": "b4BpPeon_omt",
        "colab_type": "code",
        "colab": {}
      },
      "source": [
        "# dset = f.create_dataset(\"unlimited\", (10,10), maxshape=(None,10))"
      ],
      "execution_count": 0,
      "outputs": []
    },
    {
      "cell_type": "code",
      "metadata": {
        "id": "Ytn9T9Y6AZww",
        "colab_type": "code",
        "colab": {}
      },
      "source": [
        "# #读写数据\n",
        "# dset = f.create_dataset(\"MyDataset\", (10,10,10), 'f')\n",
        "# dset[0,0,0] #0.0"
      ],
      "execution_count": 0,
      "outputs": []
    },
    {
      "cell_type": "code",
      "metadata": {
        "id": "jZXB_Iy2AlNK",
        "colab_type": "code",
        "colab": {}
      },
      "source": [
        "# dset[0,2:10,1:9:3]\n",
        "# dset[:,::2,5]\n",
        "# dset[0]\n",
        "# dset.value\n",
        "# dset[1,5] #第一行第五列\n",
        "# dset[0,...]\n",
        "# dset[...,6]\n"
      ],
      "execution_count": 0,
      "outputs": []
    },
    {
      "cell_type": "code",
      "metadata": {
        "id": "8QmAHC9NCCVl",
        "colab_type": "code",
        "colab": {}
      },
      "source": [
        "#对于复合数据，可以在数字切片旁边指定多个字段名：\n",
        "#dset[\"FieldA\"]"
      ],
      "execution_count": 0,
      "outputs": []
    },
    {
      "cell_type": "code",
      "metadata": {
        "id": "12GjhMDwDmsh",
        "colab_type": "code",
        "colab": {
          "base_uri": "https://localhost:8080/",
          "height": 35
        },
        "outputId": "2d0160a0-29ad-4a26-ccea-f9d599c36170"
      },
      "source": [
        "'''\n",
        "#创造和读空属性空数据集\n",
        "#创建空属性\n",
        "obj.attrs[\"EmptyAttr\"] = h5py.Empty(\"f\")\n",
        "#读空属性\n",
        "obj.attrs[\"EmptyAttr\"]\n",
        "'''"
      ],
      "execution_count": 45,
      "outputs": [
        {
          "output_type": "execute_result",
          "data": {
            "text/plain": [
              "'\\n#创造和读空属性空数据集\\n#创建空属性\\nobj.attrs[\"EmptyAttr\"] = h5py.Empty(\"f\")\\n#读空属性\\nobj.attrs[\"EmptyAttr\"]\\n'"
            ]
          },
          "metadata": {
            "tags": []
          },
          "execution_count": 45
        }
      ]
    },
    {
      "cell_type": "code",
      "metadata": {
        "id": "s_wpZ1_IDr92",
        "colab_type": "code",
        "colab": {}
      },
      "source": [
        "#胡乱练习\n",
        "f = h5py.File(\"test.hdf5\",'w')"
      ],
      "execution_count": 0,
      "outputs": []
    },
    {
      "cell_type": "code",
      "metadata": {
        "id": "4eIusmuUFt9S",
        "colab_type": "code",
        "colab": {}
      },
      "source": [
        "#创建一个组\n",
        "test_group = f.create_group(\"test_group\")"
      ],
      "execution_count": 0,
      "outputs": []
    },
    {
      "cell_type": "code",
      "metadata": {
        "id": "tun_eJVfLKCq",
        "colab_type": "code",
        "colab": {
          "base_uri": "https://localhost:8080/",
          "height": 53
        },
        "outputId": "3724517a-89db-43c0-db0a-5f551a40c006"
      },
      "source": [
        "mnist_train, mnist_test = tf.keras.datasets.mnist.load_data()"
      ],
      "execution_count": 48,
      "outputs": [
        {
          "output_type": "stream",
          "text": [
            "Downloading data from https://storage.googleapis.com/tensorflow/tf-keras-datasets/mnist.npz\n",
            "11493376/11490434 [==============================] - 0s 0us/step\n"
          ],
          "name": "stdout"
        }
      ]
    },
    {
      "cell_type": "code",
      "metadata": {
        "id": "2vYqVaYQLp7O",
        "colab_type": "code",
        "colab": {}
      },
      "source": [
        "#mnist_train"
      ],
      "execution_count": 0,
      "outputs": []
    },
    {
      "cell_type": "code",
      "metadata": {
        "id": "MHokspWeUfy1",
        "colab_type": "code",
        "colab": {}
      },
      "source": [
        "#创建一个数据集\n",
        "test_dataset_ = test_group.create_dataset(\"dataset_\", data=\n",
        "            mnist_train[0])"
      ],
      "execution_count": 0,
      "outputs": []
    },
    {
      "cell_type": "code",
      "metadata": {
        "id": "12oC0zJQGMIO",
        "colab_type": "code",
        "colab": {}
      },
      "source": [
        "#创建一个数据集\n",
        "test_dataset = test_group.create_dataset(\"dataset22\", data=\n",
        "            [mnist_train[0][i] for i in range(len(mnist_train[1]))\n",
        "            if(mnist_train[1][i]==1)\n",
        "             ])"
      ],
      "execution_count": 0,
      "outputs": []
    },
    {
      "cell_type": "code",
      "metadata": {
        "id": "xdBnI68Wn2rd",
        "colab_type": "code",
        "colab": {
          "base_uri": "https://localhost:8080/",
          "height": 265
        },
        "outputId": "ac4f6338-b034-44cd-813e-7df016214236"
      },
      "source": [
        "#创建一个dict表示client_id到DataSets的键值对\n",
        "dict0 = {}\n",
        "base_key = \"client_id_\"\n",
        "\n",
        "#首先将0-9每个元素的数字拿出来\n",
        "class_ = [[]for i in range(10)]\n",
        "for i in range(len(mnist_train[1])):\n",
        "  label = mnist_train[1][i]\n",
        "  class_[label].append(mnist_train[0][i])\n",
        " "
      ],
      "execution_count": 88,
      "outputs": [
        {
          "output_type": "display_data",
          "data": {
            "image/png": "[encoded data removed]",
            "text/plain": [
              "<Figure size 432x288 with 1 Axes>"
            ]
          },
          "metadata": {
            "tags": []
          }
        }
      ]
    },
    {
      "cell_type": "code",
      "metadata": {
        "id": "9cuHuGZbw8ha",
        "colab_type": "code",
        "colab": {}
      },
      "source": [
        "#验证拿对了没有\n",
        "from matplotlib import pyplot as plt\n",
        "plt.imshow(class_[5][0],cmap='gray')\n",
        "plt.grid(False)\n",
        "plt.show()"
      ],
      "execution_count": 0,
      "outputs": []
    },
    {
      "cell_type": "code",
      "metadata": {
        "id": "Kv1-E2SNxO5g",
        "colab_type": "code",
        "colab": {}
      },
      "source": [
        "#将10个类别平均放到500个客户端中，每个客户端每个类别放12个\n",
        "import random\n",
        "NUM_CLIENTS = 5  #写的时候最初用5，免得时间太长\n",
        "NUM_PER_CLASS = 12\n",
        "\n",
        "#clients_data[i][0]代表样本,clients_data[i][1]代表label  500*120*10\n",
        "clients_data = [[[] for i in range(10)] for i in range(NUM_PER_CLASS * 10)]\n",
        "for i in range(NUM_CLIENTS):\n",
        "  for j in range(10):\n",
        "    #随机生成一个起始下标用来索引某个类的手写体,最大随机下标应为该类样本总数/每个客户端应在该类分得的样本数\n",
        "    #random = random.randint(0,len(class_[j])//(NUM_PER_CLASS))  #加入图像\n",
        "    #clients_data[i][0].append(class_[j][random:random+NUM_PER_CLASS])\n",
        "    clients_data[i][0].append(class_[j][i*NUM_PER_CLASS:(i+1)*NUM_PER_CLASS])\n",
        "    #print(class_[j][random:random+NUM_PER_CLASS])\n",
        "    clients_data[i][1].append(j)  #加入下标\n",
        "    #class_[j].remove(class_[j][random:random+NUM_PER_CLASS])  #删除前面的客户端已经选过的图像\n",
        "  #将数据集合和client_id封装成一个字典\n"
      ],
      "execution_count": 0,
      "outputs": []
    },
    {
      "cell_type": "code",
      "metadata": {
        "id": "cPEZ6df1_0M1",
        "colab_type": "code",
        "colab": {}
      },
      "source": [
        "#\n"
      ],
      "execution_count": 0,
      "outputs": []
    },
    {
      "cell_type": "code",
      "metadata": {
        "id": "09lfr3bC9fOE",
        "colab_type": "code",
        "colab": {
          "base_uri": "https://localhost:8080/",
          "height": 1000
        },
        "outputId": "d88cf73a-cade-41ab-d5ef-1a2b731ca16c"
      },
      "source": [
        "#画出第3个客户端的随便一张图\n",
        "#print(clients_data.count)\n",
        "#print(clients_data[3][1][-1])\n",
        "#print(clients_data[3][0][-1][-1])\n",
        "plt.imshow(clients_data[3][0][0][0],cmap='gray')\n",
        "plt.grid(False)\n",
        "plt.show()"
      ],
      "execution_count": 107,
      "outputs": [
        {
          "output_type": "stream",
          "text": [
            "9\n",
            "[[  0   0   0   0   0   0   0   0   0   0   0   0   0   0   0   0   0   0\n",
            "    0   0   0   0   0   0   0   0   0   0]\n",
            " [  0   0   0   0   0   0   0   0   0   0   0   0   0   0   0   0   0   0\n",
            "    0   0   0   0   0   0   0   0   0   0]\n",
            " [  0   0   0   0   0   0   0   0   0   0   0   0   0   0   0   0   0   0\n",
            "    0   0   0   0   0   0   0   0   0   0]\n",
            " [  0   0   0   0   0   0   0   0   0   0   0   0   0   0   0   0   0   0\n",
            "    0   0   0   0   0   0   0   0   0   0]\n",
            " [  0   0   0   0   0   0   0   0   0   0   0   0   0   0   0   0   0   0\n",
            "    0   0   0   0   0   0   0   0   0   0]\n",
            " [  0   0   0   0   0   0   0   0   0   0   0   0   0   0   0   0   0   0\n",
            "    0   0   0   0   0   0   0   0   0   0]\n",
            " [  0   0   0   0   0   0   0   0   0   0  23  67 228 254 255 226  39   0\n",
            "    0   0   0   0   0   0   0   0   0   0]\n",
            " [  0   0   0   0   0   0   0   0  75 132 172 253 253 253 253 253 203  44\n",
            "    0   0   0   0   0   0   0   0   0   0]\n",
            " [  0   0   0   0   0   0 155 198 228 253 253 253 246 253 253 253 253  84\n",
            "    0   0   0   0   0   0   0   0   0   0]\n",
            " [  0   0   0   0   0  40 214 253 253 253 227 177  46 205 253 253 253  84\n",
            "    0   0   0   0   0   0   0   0   0   0]\n",
            " [  0   0   0   0  38 199 253 253 253 136  75   0   0  95 253 253 253  84\n",
            "    0   0   0   0   0   0   0   0   0   0]\n",
            " [  0   0   0   0  67 253 253 253 253 201  19  19  19 107 253 253 253  84\n",
            "    0   0   0   0   0   0   0   0   0   0]\n",
            " [  0   0   0   0  67 253 253 253 253 253 253 253 253 253 253 253 253  84\n",
            "    0   0   0   0   0   0   0   0   0   0]\n",
            " [  0   0   0   0  27 180 253 253 253 253 253 253 253 253 253 253 253  84\n",
            "    0   0   0   0   0   0   0   0   0   0]\n",
            " [  0   0   0   0   0  19  43 224 224 224 224 224 203 107 242 253 253  84\n",
            "    0   0   0   0   0   0   0   0   0   0]\n",
            " [  0   0   0   0   0   0   0   0   0   0   0   0   0   0 160 253 253  84\n",
            "    0   0   0   0   0   0   0   0   0   0]\n",
            " [  0   0   0   0   0   0   0   0   0   0   0   0   0   0 160 253 253 190\n",
            "   11   0   0   0   0   0   0   0   0   0]\n",
            " [  0   0   0   0   0   0   0   0   0   0   0   0   0   0  17 201 253 253\n",
            "  228 126   0   0   0   0   0   0   0   0]\n",
            " [  0   0   0   0   0   0   0   0   0   0   0   0   0   0   0  38 253 253\n",
            "  253 186  31   0   0   0   0   0   0   0]\n",
            " [  0   0   0   0   0   0   0   0   0   0   0   0   0   0   0  38 253 253\n",
            "  253 253  74   0   0   0   0   0   0   0]\n",
            " [  0   0   0   0   0   0   0   0   0   0   0   0   0   0   0  31 225 253\n",
            "  253 253 108   2   0   0   0   0   0   0]\n",
            " [  0   0   0   0   0   0   0   0   0   0   0   0   0   0   0   0  58 215\n",
            "  253 253 253  93   0   0   0   0   0   0]\n",
            " [  0   0   0   0   0   0   0   0   0   0   0   0   0   0   0   0   0 170\n",
            "  253 253 253 196   0   0   0   0   0   0]\n",
            " [  0   0   0   0   0   0   0   0   0   0   0   0   0   0   0   0   0   6\n",
            "  236 253 253 251 127   0   0   0   0   0]\n",
            " [  0   0   0   0   0   0   0   0   0   0   0   0   0   0   0   0   0   0\n",
            "  236 253 253 253 130   0   0   0   0   0]\n",
            " [  0   0   0   0   0   0   0   0   0   0   0   0   0   0   0   0   0   0\n",
            "   60 148 253  70  34   0   0   0   0   0]\n",
            " [  0   0   0   0   0   0   0   0   0   0   0   0   0   0   0   0   0   0\n",
            "    0   0   0   0   0   0   0   0   0   0]\n",
            " [  0   0   0   0   0   0   0   0   0   0   0   0   0   0   0   0   0   0\n",
            "    0   0   0   0   0   0   0   0   0   0]]\n"
          ],
          "name": "stdout"
        },
        {
          "output_type": "display_data",
          "data": {
            "image/png": "[encoded data removed]",
            "text/plain": [
              "<Figure size 432x288 with 1 Axes>"
            ]
          },
          "metadata": {
            "tags": []
          }
        }
      ]
    },
    {
      "cell_type": "code",
      "metadata": {
        "id": "LYVZantYWAlF",
        "colab_type": "code",
        "colab": {
          "base_uri": "https://localhost:8080/",
          "height": 552
        },
        "outputId": "f4ba6ef7-5907-4463-a8e9-5e7a89a3cecd"
      },
      "source": [
        "len(test_dataset)\n",
        "test_dataset.name\n",
        "#这里应该是一个HDF5ClientData类型\n",
        "#f[test_group]仿照emnist创建一个该实例\n",
        "#MyNIST = tff.simulation.hdf5_client_data.HDF5ClientData(\"test.hdf5\")\n",
        "#f = MyNIST.h5py.File(\"mynist.hdf5\",\"w\")"
      ],
      "execution_count": 80,
      "outputs": [
        {
          "output_type": "error",
          "ename": "KeyError",
          "evalue": "ignored",
          "traceback": [
            "\u001b[0;31m---------------------------------------------------------------------------\u001b[0m",
            "\u001b[0;31mKeyError\u001b[0m                                  Traceback (most recent call last)",
            "\u001b[0;32m<ipython-input-80-386804b3fb1a>\u001b[0m in \u001b[0;36m<module>\u001b[0;34m()\u001b[0m\n\u001b[1;32m      3\u001b[0m \u001b[0;31m#这里应该是一个HDF5ClientData类型\u001b[0m\u001b[0;34m\u001b[0m\u001b[0;34m\u001b[0m\u001b[0;34m\u001b[0m\u001b[0m\n\u001b[1;32m      4\u001b[0m \u001b[0;31m#f[test_group]仿照emnist创建一个该实例\u001b[0m\u001b[0;34m\u001b[0m\u001b[0;34m\u001b[0m\u001b[0;34m\u001b[0m\u001b[0m\n\u001b[0;32m----> 5\u001b[0;31m \u001b[0mMyNIST\u001b[0m \u001b[0;34m=\u001b[0m \u001b[0mtff\u001b[0m\u001b[0;34m.\u001b[0m\u001b[0msimulation\u001b[0m\u001b[0;34m.\u001b[0m\u001b[0mhdf5_client_data\u001b[0m\u001b[0;34m.\u001b[0m\u001b[0mHDF5ClientData\u001b[0m\u001b[0;34m(\u001b[0m\u001b[0;34m\"test.hdf5\"\u001b[0m\u001b[0;34m)\u001b[0m\u001b[0;34m\u001b[0m\u001b[0;34m\u001b[0m\u001b[0m\n\u001b[0m\u001b[1;32m      6\u001b[0m \u001b[0;31m#f = MyNIST.h5py.File(\"mynist.hdf5\",\"w\")\u001b[0m\u001b[0;34m\u001b[0m\u001b[0;34m\u001b[0m\u001b[0;34m\u001b[0m\u001b[0m\n",
            "\u001b[0;32m/usr/local/lib/python3.6/dist-packages/tensorflow_federated/python/simulation/hdf5_client_data.py\u001b[0m in \u001b[0;36m__init__\u001b[0;34m(self, hdf5_filepath)\u001b[0m\n\u001b[1;32m     50\u001b[0m     \u001b[0mself\u001b[0m\u001b[0;34m.\u001b[0m\u001b[0m_h5_file\u001b[0m \u001b[0;34m=\u001b[0m \u001b[0mh5py\u001b[0m\u001b[0;34m.\u001b[0m\u001b[0mFile\u001b[0m\u001b[0;34m(\u001b[0m\u001b[0mself\u001b[0m\u001b[0;34m.\u001b[0m\u001b[0m_filepath\u001b[0m\u001b[0;34m,\u001b[0m \u001b[0;34m\"r\"\u001b[0m\u001b[0;34m)\u001b[0m\u001b[0;34m\u001b[0m\u001b[0;34m\u001b[0m\u001b[0m\n\u001b[1;32m     51\u001b[0m     self._client_ids = sorted(\n\u001b[0;32m---> 52\u001b[0;31m         list(self._h5_file[HDF5ClientData._EXAMPLES_GROUP].keys()))\n\u001b[0m\u001b[1;32m     53\u001b[0m \u001b[0;34m\u001b[0m\u001b[0m\n\u001b[1;32m     54\u001b[0m     \u001b[0;31m# Get the types and shapes from the first client. We do it once during\u001b[0m\u001b[0;34m\u001b[0m\u001b[0;34m\u001b[0m\u001b[0;34m\u001b[0m\u001b[0m\n",
            "\u001b[0;32mh5py/_objects.pyx\u001b[0m in \u001b[0;36mh5py._objects.with_phil.wrapper\u001b[0;34m()\u001b[0m\n",
            "\u001b[0;32mh5py/_objects.pyx\u001b[0m in \u001b[0;36mh5py._objects.with_phil.wrapper\u001b[0;34m()\u001b[0m\n",
            "\u001b[0;32m/usr/local/lib/python3.6/dist-packages/h5py/_hl/group.py\u001b[0m in \u001b[0;36m__getitem__\u001b[0;34m(self, name)\u001b[0m\n\u001b[1;32m    262\u001b[0m \u001b[0;34m\u001b[0m\u001b[0m\n\u001b[1;32m    263\u001b[0m         \u001b[0mNamed\u001b[0m \u001b[0mHDF5\u001b[0m \u001b[0mobject\u001b[0m \u001b[0;34m(\u001b[0m\u001b[0mDataset\u001b[0m\u001b[0;34m,\u001b[0m \u001b[0mGroup\u001b[0m\u001b[0;34m,\u001b[0m \u001b[0mDatatype\u001b[0m\u001b[0;34m)\u001b[0m\u001b[0;34m\u001b[0m\u001b[0;34m\u001b[0m\u001b[0m\n\u001b[0;32m--> 264\u001b[0;31m             \u001b[0mA\u001b[0m \u001b[0mhard\u001b[0m \u001b[0mlink\u001b[0m \u001b[0;32mis\u001b[0m \u001b[0mcreated\u001b[0m \u001b[0mat\u001b[0m \u001b[0;34m\"name\"\u001b[0m \u001b[0mwhich\u001b[0m \u001b[0mpoints\u001b[0m \u001b[0mto\u001b[0m \u001b[0mthe\u001b[0m\u001b[0;34m\u001b[0m\u001b[0;34m\u001b[0m\u001b[0m\n\u001b[0m\u001b[1;32m    265\u001b[0m             \u001b[0mgiven\u001b[0m \u001b[0mobject\u001b[0m\u001b[0;34m.\u001b[0m\u001b[0;34m\u001b[0m\u001b[0;34m\u001b[0m\u001b[0m\n\u001b[1;32m    266\u001b[0m \u001b[0;34m\u001b[0m\u001b[0m\n",
            "\u001b[0;32mh5py/_objects.pyx\u001b[0m in \u001b[0;36mh5py._objects.with_phil.wrapper\u001b[0;34m()\u001b[0m\n",
            "\u001b[0;32mh5py/_objects.pyx\u001b[0m in \u001b[0;36mh5py._objects.with_phil.wrapper\u001b[0;34m()\u001b[0m\n",
            "\u001b[0;32mh5py/h5o.pyx\u001b[0m in \u001b[0;36mh5py.h5o.open\u001b[0;34m()\u001b[0m\n",
            "\u001b[0;31mKeyError\u001b[0m: \"Unable to open object (object 'examples' doesn't exist)\""
          ]
        }
      ]
    },
    {
      "cell_type": "code",
      "metadata": {
        "id": "anMsI44kexJy",
        "colab_type": "code",
        "colab": {}
      },
      "source": [
        ""
      ],
      "execution_count": 0,
      "outputs": []
    },
    {
      "cell_type": "code",
      "metadata": {
        "id": "XAsqgmC7aHx3",
        "colab_type": "code",
        "colab": {}
      },
      "source": [
        "root_group = f.create_group(\"root_group\")"
      ],
      "execution_count": 0,
      "outputs": []
    },
    {
      "cell_type": "code",
      "metadata": {
        "id": "g9v0Z29abEd1",
        "colab_type": "code",
        "colab": {}
      },
      "source": [
        "ds0 = root_group.create_dataset(\"ds0\", data=[mnist_train[0][i] for i in range(len(mnist_train[1]))\n",
        "            if(mnist_train[1][i]==0)\n",
        "             ])"
      ],
      "execution_count": 0,
      "outputs": []
    },
    {
      "cell_type": "code",
      "metadata": {
        "id": "R9DsD1aLbkZT",
        "colab_type": "code",
        "colab": {
          "base_uri": "https://localhost:8080/",
          "height": 171
        },
        "outputId": "57ebd4ac-ef8b-46ed-c1b6-bfdd61f0ad63"
      },
      "source": [
        "MyNIST.element_type_structure()"
      ],
      "execution_count": 76,
      "outputs": [
        {
          "output_type": "error",
          "ename": "AttributeError",
          "evalue": "ignored",
          "traceback": [
            "\u001b[0;31m---------------------------------------------------------------------------\u001b[0m",
            "\u001b[0;31mAttributeError\u001b[0m                            Traceback (most recent call last)",
            "\u001b[0;32m<ipython-input-76-8d1364b7b738>\u001b[0m in \u001b[0;36m<module>\u001b[0;34m()\u001b[0m\n\u001b[0;32m----> 1\u001b[0;31m \u001b[0mMyNIST\u001b[0m\u001b[0;34m.\u001b[0m\u001b[0melement_type_structure\u001b[0m\u001b[0;34m(\u001b[0m\u001b[0;34m)\u001b[0m\u001b[0;34m\u001b[0m\u001b[0;34m\u001b[0m\u001b[0m\n\u001b[0m",
            "\u001b[0;31mAttributeError\u001b[0m: module 'tensorflow_federated.python.simulation.hdf5_client_data' has no attribute 'element_type_structure'"
          ]
        }
      ]
    },
    {
      "cell_type": "code",
      "metadata": {
        "id": "YIiiZqiAQ1aQ",
        "colab_type": "code",
        "colab": {}
      },
      "source": [
        "# test_dataset.value\n",
        "# from matplotlib import pyplot as plt\n",
        "# plt.imshow(test_dataset[-1],cmap='gray')\n",
        "# plt.grid(False)\n",
        "# plt.show()"
      ],
      "execution_count": 0,
      "outputs": []
    },
    {
      "cell_type": "code",
      "metadata": {
        "id": "WsM1xZawJWTE",
        "colab_type": "code",
        "colab": {}
      },
      "source": [
        "#emnist_train.datasets"
      ],
      "execution_count": 0,
      "outputs": []
    },
    {
      "cell_type": "code",
      "metadata": {
        "id": "wEmnK8nLP8Yx",
        "colab_type": "code",
        "colab": {}
      },
      "source": [
        "# mnist_train[1][-1]"
      ],
      "execution_count": 0,
      "outputs": []
    },
    {
      "cell_type": "code",
      "metadata": {
        "id": "aoQcjKoXKEoj",
        "colab_type": "code",
        "colab": {}
      },
      "source": [
        "# from matplotlib import pyplot as plt\n",
        "# plt.imshow(mnist_train[0][-1],cmap='gray')\n",
        "# plt.grid(False)\n",
        "# plt.show()"
      ],
      "execution_count": 0,
      "outputs": []
    }
  ]
}