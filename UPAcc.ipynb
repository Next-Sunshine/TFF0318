{
  "nbformat": 4,
  "nbformat_minor": 0,
  "metadata": {
    "colab": {
      "name": "UPAcc.ipynb",
      "provenance": [],
      "collapsed_sections": [],
      "authorship_tag": "ABX9TyPLpcmjVkY9KaIwgHuBCjBa",
      "include_colab_link": true
    },
    "kernelspec": {
      "name": "python3",
      "display_name": "Python 3"
    }
  },
  "cells": [
    {
      "cell_type": "markdown",
      "metadata": {
        "id": "view-in-github",
        "colab_type": "text"
      },
      "source": [
        "<a href=\"https://colab.research.google.com/github/Next-Sunshine/TFF0318/blob/master/UPAcc.ipynb\" target=\"_parent\"><img src=\"https://colab.research.google.com/assets/colab-badge.svg\" alt=\"Open In Colab\"/></a>"
      ]
    },
    {
      "cell_type": "code",
      "metadata": {
        "id": "JR1AhTInyjGI",
        "colab_type": "code",
        "colab": {}
      },
      "source": [
        ""
      ],
      "execution_count": 0,
      "outputs": []
    },
    {
      "cell_type": "markdown",
      "metadata": {
        "id": "aJVghqEic-bV",
        "colab_type": "text"
      },
      "source": [
        "### 导包"
      ]
    },
    {
      "cell_type": "code",
      "metadata": {
        "id": "tArDK_PFLG42",
        "colab_type": "code",
        "outputId": "b8c27604-c427-43a1-e37b-86ab454caaf5",
        "colab": {
          "base_uri": "https://localhost:8080/",
          "height": 55
        }
      },
      "source": [
        "from google.colab import drive\n",
        "drive.mount('/content/drive')"
      ],
      "execution_count": 0,
      "outputs": [
        {
          "output_type": "stream",
          "text": [
            "Drive already mounted at /content/drive; to attempt to forcibly remount, call drive.mount(\"/content/drive\", force_remount=True).\n"
          ],
          "name": "stdout"
        }
      ]
    },
    {
      "cell_type": "code",
      "metadata": {
        "id": "P9pTTi0lPh1w",
        "colab_type": "code",
        "outputId": "a3c12ed9-dca6-4954-e9a4-3194772e9950",
        "colab": {
          "base_uri": "https://localhost:8080/"
        }
      },
      "source": [
        "#环境测试\n",
        "#@test {\"skip\":true}\n",
        "!pip install --quiet --upgrade tensorflow_federated\n",
        "%load_ext tensorboard"
      ],
      "execution_count": 0,
      "outputs": [
        {
          "output_type": "stream",
          "text": [
            "\u001b[?25l\r\u001b[K     |▊                               | 10kB 28.0MB/s eta 0:00:01\r\u001b[K     |█▌                              | 20kB 34.1MB/s eta 0:00:01\r\u001b[K     |██▎                             | 30kB 36.4MB/s eta 0:00:01\r\u001b[K     |███                             | 40kB 39.5MB/s eta 0:00:01\r\u001b[K     |███▉                            | 51kB 40.5MB/s eta 0:00:01\r\u001b[K     |████▋                           | 61kB 42.7MB/s eta 0:00:01\r\u001b[K     |█████▍                          | 71kB 43.1MB/s eta 0:00:01\r\u001b[K     |██████▏                         | 81kB 43.0MB/s eta 0:00:01\r\u001b[K     |██████▉                         | 92kB 44.2MB/s eta 0:00:01\r\u001b[K     |███████▋                        | 102kB 44.2MB/s eta 0:00:01\r\u001b[K     |████████▍                       | 112kB 44.2MB/s eta 0:00:01\r\u001b[K     |█████████▏                      | 122kB 44.2MB/s eta 0:00:01\r\u001b[K     |██████████                      | 133kB 44.2MB/s eta 0:00:01\r\u001b[K     |██████████▊                     | 143kB 44.2MB/s eta 0:00:01\r\u001b[K     |███████████▌                    | 153kB 44.2MB/s eta 0:00:01\r\u001b[K     |████████████▎                   | 163kB 44.2MB/s eta 0:00:01\r\u001b[K     |█████████████                   | 174kB 44.2MB/s eta 0:00:01\r\u001b[K     |█████████████▊                  | 184kB 44.2MB/s eta 0:00:01\r\u001b[K     |██████████████▌                 | 194kB 44.2MB/s eta 0:00:01\r\u001b[K     |███████████████▎                | 204kB 44.2MB/s eta 0:00:01\r\u001b[K     |████████████████                | 215kB 44.2MB/s eta 0:00:01\r\u001b[K     |████████████████▉               | 225kB 44.2MB/s eta 0:00:01\r\u001b[K     |█████████████████▋              | 235kB 44.2MB/s eta 0:00:01\r\u001b[K     |██████████████████▍             | 245kB 44.2MB/s eta 0:00:01\r\u001b[K     |███████████████████▏            | 256kB 44.2MB/s eta 0:00:01\r\u001b[K     |███████████████████▉            | 266kB 44.2MB/s eta 0:00:01\r\u001b[K     |████████████████████▋           | 276kB 44.2MB/s eta 0:00:01\r\u001b[K     |█████████████████████▍          | 286kB 44.2MB/s eta 0:00:01\r\u001b[K     |██████████████████████▏         | 296kB 44.2MB/s eta 0:00:01\r\u001b[K     |███████████████████████         | 307kB 44.2MB/s eta 0:00:01\r\u001b[K     |███████████████████████▊        | 317kB 44.2MB/s eta 0:00:01\r\u001b[K     |████████████████████████▌       | 327kB 44.2MB/s eta 0:00:01\r\u001b[K     |█████████████████████████▎      | 337kB 44.2MB/s eta 0:00:01\r\u001b[K     |██████████████████████████      | 348kB 44.2MB/s eta 0:00:01\r\u001b[K     |██████████████████████████▊     | 358kB 44.2MB/s eta 0:00:01\r\u001b[K     |███████████████████████████▌    | 368kB 44.2MB/s eta 0:00:01\r\u001b[K     |████████████████████████████▎   | 378kB 44.2MB/s eta 0:00:01\r\u001b[K     |█████████████████████████████   | 389kB 44.2MB/s eta 0:00:01\r\u001b[K     |█████████████████████████████▉  | 399kB 44.2MB/s eta 0:00:01\r\u001b[K     |██████████████████████████████▋ | 409kB 44.2MB/s eta 0:00:01\r\u001b[K     |███████████████████████████████▍| 419kB 44.2MB/s eta 0:00:01\r\u001b[K     |████████████████████████████████| 430kB 44.2MB/s \n",
            "\u001b[?25h\u001b[?25l\r\u001b[K     |███▌                            | 10kB 29.8MB/s eta 0:00:01\r\u001b[K     |███████                         | 20kB 37.3MB/s eta 0:00:01\r\u001b[K     |██████████▌                     | 30kB 43.5MB/s eta 0:00:01\r\u001b[K     |██████████████                  | 40kB 45.9MB/s eta 0:00:01\r\u001b[K     |█████████████████▌              | 51kB 46.2MB/s eta 0:00:01\r\u001b[K     |█████████████████████           | 61kB 49.0MB/s eta 0:00:01\r\u001b[K     |████████████████████████▌       | 71kB 49.7MB/s eta 0:00:01\r\u001b[K     |████████████████████████████    | 81kB 51.5MB/s eta 0:00:01\r\u001b[K     |███████████████████████████████▌| 92kB 53.0MB/s eta 0:00:01\r\u001b[K     |████████████████████████████████| 102kB 13.5MB/s \n",
            "\u001b[K     |████████████████████████████████| 2.8MB 50.6MB/s \n",
            "\u001b[K     |████████████████████████████████| 421.8MB 26kB/s \n",
            "\u001b[K     |████████████████████████████████| 296kB 48.2MB/s \n",
            "\u001b[K     |████████████████████████████████| 20.0MB 1.3MB/s \n",
            "\u001b[K     |████████████████████████████████| 2.2MB 48.2MB/s \n",
            "\u001b[K     |████████████████████████████████| 450kB 59.1MB/s \n",
            "\u001b[K     |████████████████████████████████| 3.9MB 53.6MB/s \n",
            "\u001b[?25h  Building wheel for gast (setup.py) ... \u001b[?25l\u001b[?25hdone\n",
            "\u001b[31mERROR: datascience 0.10.6 has requirement folium==0.2.1, but you'll have folium 0.8.3 which is incompatible.\u001b[0m\n",
            "\u001b[31mERROR: albumentations 0.1.12 has requirement imgaug<0.2.7,>=0.2.5, but you'll have imgaug 0.2.9 which is incompatible.\u001b[0m\n"
          ],
          "name": "stdout"
        }
      ]
    },
    {
      "cell_type": "code",
      "metadata": {
        "id": "ITkxSUMiRa01",
        "colab_type": "code",
        "outputId": "41b1b977-08a9-4bff-8392-ad895af18de0",
        "colab": {
          "base_uri": "https://localhost:8080/"
        }
      },
      "source": [
        "import collections\n",
        "\n",
        "import numpy as np\n",
        "import tensorflow as tf\n",
        "import tensorflow_federated as tff\n",
        "from matplotlib import pyplot as plt\n",
        "import h5py\n",
        "import random\n",
        "import math\n",
        "import gc\n",
        "\n",
        "tf.compat.v1.enable_v2_behavior()\n",
        "\n",
        "np.random.seed(0)\n",
        "\n",
        "tff.federated_computation(lambda: 'Hello, world!')()"
      ],
      "execution_count": 0,
      "outputs": [
        {
          "output_type": "execute_result",
          "data": {
            "text/plain": [
              "b'Hello, world!'"
            ]
          },
          "metadata": {
            "tags": []
          },
          "execution_count": 2
        }
      ]
    },
    {
      "cell_type": "code",
      "metadata": {
        "id": "tRJgOTiAR3T4",
        "colab_type": "code",
        "outputId": "57a439c4-6d0e-4fba-c8b0-cfa5f5cbc737",
        "colab": {
          "base_uri": "https://localhost:8080/"
        }
      },
      "source": [
        "#装载数据集，实验使用EMNIST数据集\n",
        "emnist_train, emnist_test = tff.simulation.datasets.emnist.load_data()\n",
        "#装载mnist数据集\n",
        "mnist_train, mnist_test = tf.keras.datasets.mnist.load_data()"
      ],
      "execution_count": 0,
      "outputs": [
        {
          "output_type": "stream",
          "text": [
            "Downloading data from https://storage.googleapis.com/tff-datasets-public/fed_emnist_digitsonly.tar.bz2\n",
            "97402880/97398400 [==============================] - 2s 0us/step\n",
            "Downloading data from https://storage.googleapis.com/tensorflow/tf-keras-datasets/mnist.npz\n",
            "11493376/11490434 [==============================] - 0s 0us/step\n"
          ],
          "name": "stdout"
        }
      ]
    },
    {
      "cell_type": "markdown",
      "metadata": {
        "id": "uJDaikpThuc-",
        "colab_type": "text"
      },
      "source": [
        "### 加载EMNIST-digit数据集"
      ]
    },
    {
      "cell_type": "code",
      "metadata": {
        "id": "7BSFZgIdhz3-",
        "colab_type": "code",
        "colab": {}
      },
      "source": [
        "#读取EMNIST数据集的Digit\n",
        "# 引入必要的库函数:要把那四个gz文档上传上来\n",
        "from tensorflow.python.keras.utils.data_utils import get_file\n",
        "from tensorflow.python.util.tf_export import tf_export\n",
        "import gzip\n",
        "\n",
        "# 读取本地gz文档，并转换为numpy矩阵的函数\n",
        "def load_localData():\n",
        "  #files = ['emnist-digits-train-labels-idx1-ubyte.gz', 'emnist-digits-train-images-idx3-ubyte.gz', 'emnist-digits-test-labels-idx1-ubyte.gz', 'emnist-digits-test-images-idx3-ubyte.gz']\n",
        "  path = ['/content/drive/My Drive/Colab Notebooks/emnist-digits-train-labels-idx1-ubyte.gz', \n",
        "        '/content/drive/My Drive/Colab Notebooks/emnist-digits-train-images-idx3-ubyte.gz', \n",
        "        '/content/drive/My Drive/Colab Notebooks/emnist-digits-test-labels-idx1-ubyte.gz', \n",
        "        '/content/drive/My Drive/Colab Notebooks/emnist-digits-test-images-idx3-ubyte.gz']\n",
        "\n",
        "  with gzip.open(path[0], 'rb') as lpath:\n",
        "    y_train = np.frombuffer(lpath.read(), np.uint8, offset=8)\n",
        "  with gzip.open(path[1], 'rb') as imgpath:\n",
        "    x_train = np.frombuffer(imgpath.read(), np.uint8, offset=16).reshape(len(y_train), 28, 28)\n",
        "  with gzip.open(path[2], 'rb') as lpath:\n",
        "    y_test = np.frombuffer(lpath.read(), np.uint8, offset=8)\n",
        "  with gzip.open(path[3], 'rb') as imgpath:\n",
        "    x_test = np.frombuffer(imgpath.read(), np.uint8, offset=16).reshape(len(y_test), 28, 28)\n",
        "  return x_train, y_train, x_test, y_test"
      ],
      "execution_count": 0,
      "outputs": []
    },
    {
      "cell_type": "code",
      "metadata": {
        "id": "eFDFjrxyh_Ki",
        "colab_type": "code",
        "colab": {}
      },
      "source": [
        "x_train_emnist_digits, y_train_emnist_digits, x_test_emnist_digits, y_test_emnist_digits = load_localData()"
      ],
      "execution_count": 0,
      "outputs": []
    },
    {
      "cell_type": "code",
      "metadata": {
        "id": "ltgy5kIgtMdJ",
        "colab_type": "code",
        "colab": {}
      },
      "source": [
        "#查看某个客户端每个类别分别有多少\n",
        "def num_per_class(label):\n",
        "  num = np.zeros(shape=(10), dtype='int32')\n",
        "  for i in range (len(label)):\n",
        "    l = label[i]\n",
        "    num[l] = num[l] + 1\n",
        "  return num"
      ],
      "execution_count": 0,
      "outputs": []
    },
    {
      "cell_type": "code",
      "metadata": {
        "id": "8p1XDcJPi_M-",
        "colab_type": "code",
        "colab": {}
      },
      "source": [
        "#从mnist_train中读60000张图片放入一个数组中以备用\n",
        "class_ = [[]for i in range(10)]\n",
        "for i in range(len(x_train_emnist_digits)):\n",
        "  label = y_train_emnist_digits[i]\n",
        "  class_[label].append(x_train_emnist_digits[i])  #在对应的label中放入图片"
      ],
      "execution_count": 0,
      "outputs": []
    },
    {
      "cell_type": "code",
      "metadata": {
        "id": "XvcMRZlTzTj2",
        "colab_type": "code",
        "colab": {}
      },
      "source": [
        "#查看提取出来的图片，以1为例,看看是否有误:没有错误\n",
        "from matplotlib import pyplot as plt\n",
        "#print(class_[0][i])\n",
        "for i in range(10):\n",
        "  plt.imshow(class_[0][i], cmap='gray', aspect='equal')\n",
        "  plt.grid(False)\n",
        "  _=plt.show()"
      ],
      "execution_count": 0,
      "outputs": []
    },
    {
      "cell_type": "markdown",
      "metadata": {
        "id": "LYSqan74iQn0",
        "colab_type": "text"
      },
      "source": [
        "### 构造平衡的测试集"
      ]
    },
    {
      "cell_type": "code",
      "metadata": {
        "id": "2z7co-o6iT3s",
        "colab_type": "code",
        "colab": {}
      },
      "source": [
        "'''\n",
        "emnist中的数字测试集是平衡的，可以直接拿来用，共40000张图片，平均分给50个客户端\n",
        "'''"
      ],
      "execution_count": 0,
      "outputs": []
    },
    {
      "cell_type": "code",
      "metadata": {
        "id": "6VCZ3b4Lia7z",
        "colab_type": "code",
        "colab": {}
      },
      "source": [
        "#删除一个h5py文件\n",
        "f_t.flush()\n",
        "f_t.clear()"
      ],
      "execution_count": 0,
      "outputs": []
    },
    {
      "cell_type": "code",
      "metadata": {
        "id": "4ugiwETVixny",
        "colab_type": "code",
        "colab": {}
      },
      "source": [
        "#创建文件\n",
        "f_t = h5py.File(\"/content/drive/My Drive/Colab Notebooks/test.hdf5\",\"w\")\n",
        "top_group = f_t.create_group(\"examples\")"
      ],
      "execution_count": 0,
      "outputs": []
    },
    {
      "cell_type": "code",
      "metadata": {
        "id": "pTjFnO_li1K9",
        "colab_type": "code",
        "colab": {}
      },
      "source": [
        "#将10个类别平均放到50个客户端中，每个客户端每个类别放80个\n",
        "import random\n",
        "NUM_CLIENTS = 50  #写的时候最初用50，用500时间太长\n",
        "NUM_PER_CLASS = 80\n",
        "NUM_CLASS = 10\n",
        "\n",
        "pixels = [[]for i in range(NUM_CLIENTS)]\n",
        "label = [[]for i in range(NUM_CLIENTS)]\n",
        "client_ids = []\n",
        "for i in range(len(y_test_emnist_digits)):\n",
        "  #随机产生一个客户端的下标然后将该图片给放进去\n",
        "    random_client_id = random.randint(0, NUM_CLIENTS-1)\n",
        "    pixels[random_client_id].append(x_test_emnist_digits[i]/255.0)\n",
        "    label[random_client_id].append(y_test_emnist_digits[i])\n",
        "    \n",
        "#将pixels和label加入对应client的group中\n",
        "for i in range(NUM_CLIENTS):\n",
        "  client_ids.append(\"f00_\" + str(i))\n",
        "  temp_group = top_group.create_group(name=\"f00_\" + str(i))\n",
        "  label_ds = temp_group.create_dataset(name=\"label\", data=np.array(label[i], dtype='int32'))\n",
        "  pixels_ds = temp_group.create_dataset(name=\"pixels\", data=np.array(pixels[i], dtype='float32'))\n",
        "  print(num_per_class(label[i]))\n"
      ],
      "execution_count": 0,
      "outputs": []
    },
    {
      "cell_type": "code",
      "metadata": {
        "id": "t9yVRVML28M9",
        "colab_type": "code",
        "colab": {}
      },
      "source": [
        "#查看数量是否有误\n",
        "# num1 = 0\n",
        "# num2 = 0\n",
        "# for j in range(NUM_CLIENTS):\n",
        "#   #print(\"pixels\",len(pixels[j]))\n",
        "#   num1 = num1 + len(pixels[j])\n",
        "#   num2 = num2 + len(label[j])\n",
        "#   #print(\"label\",label[j])\n",
        "# print(num1)\n",
        "# print(num2)\n",
        "# print(len(y_test_emnist_gidits))\n",
        "\n",
        "#随机画图看是否有误:无误\n",
        "#把图片画出来看一看\n",
        "for i in range(10):\n",
        "  print(f_t[\"examples\"][client_ids[3]][\"label\"].value[i])\n",
        "  plt.imshow(f_t[\"examples\"][client_ids[3]][\"pixels\"].value[i],cmap='gray')\n",
        "  plt.grid(False)\n",
        "  plt.show()"
      ],
      "execution_count": 0,
      "outputs": []
    },
    {
      "cell_type": "code",
      "metadata": {
        "id": "bAxwPVuSi7ry",
        "colab_type": "code",
        "outputId": "f481b225-022e-40e6-b679-d4c4404c1b94",
        "colab": {
          "base_uri": "https://localhost:8080/",
          "height": 35
        }
      },
      "source": [
        "#f_t.close()\n",
        "del pixels[:]\n",
        "del label[:]\n",
        "gc.collect()"
      ],
      "execution_count": 0,
      "outputs": [
        {
          "output_type": "execute_result",
          "data": {
            "text/plain": [
              "25758"
            ]
          },
          "metadata": {
            "tags": []
          },
          "execution_count": 15
        }
      ]
    },
    {
      "cell_type": "markdown",
      "metadata": {
        "id": "Vy0gLL26EOv7",
        "colab_type": "text"
      },
      "source": [
        "### 构造BAL1数据集，标量平衡，全局平衡，局部IID"
      ]
    },
    {
      "cell_type": "code",
      "metadata": {
        "id": "j8FCUZGxCwft",
        "colab_type": "code",
        "colab": {}
      },
      "source": [
        "'''\n",
        "K=100，每个客户端600张图片，每一类50张图片\n",
        "'''"
      ],
      "execution_count": 0,
      "outputs": []
    },
    {
      "cell_type": "code",
      "metadata": {
        "id": "6a39F3CRqX9n",
        "colab_type": "code",
        "colab": {}
      },
      "source": [
        "#当创建数据集需要修改的时候就要用这里，先清空再重新创建\n",
        "f1.flush()\n",
        "f1.clear()"
      ],
      "execution_count": 0,
      "outputs": []
    },
    {
      "cell_type": "code",
      "metadata": {
        "id": "iz2h0TU23dsp",
        "colab_type": "code",
        "colab": {}
      },
      "source": [
        "#设置各个不平衡的数据集，首先弄一个BAL1:10个类别，每个类别数目相等，每个用户都含有10个类别且每类数目相等\n",
        "#我调查的结果是每个label数目在5000-6000张之间，于是分给500个客户端差不多每个客户端均10个\n",
        "#创建自己的数据集首先是BAL1：全平衡，使用了mnist数据集来分配，60000张图片平均分给500个客户端，每个客户端分得10类，每类10张，供100张图片\n",
        "f1 = h5py.File(\"/content/drive/My Drive/Colab Notebooks/BAL1.hdf5\",\"a\")\n",
        "top_group = f1.create_group(\"examples\")   #创建顶层group名为examples"
      ],
      "execution_count": 0,
      "outputs": []
    },
    {
      "cell_type": "code",
      "metadata": {
        "id": "5uOJHo1b_yD8",
        "colab_type": "code",
        "colab": {}
      },
      "source": [
        "bal1_balance_class = [[]for i in range(10)]  \n",
        "for i in range(0,10):\n",
        "  bal1_balance_class[i] = class_[i][0:6000]"
      ],
      "execution_count": 0,
      "outputs": []
    },
    {
      "cell_type": "code",
      "metadata": {
        "id": "lkNHRXhikc8p",
        "colab_type": "code",
        "colab": {}
      },
      "source": [
        "MY_NUM_CLIENTS = 100  #写的时候最初用50，用500时间太长，试过500，磁盘会从30G飙升到60G且还运行不完，不知道后面500个客户端的时候怎么办\n",
        "NUM_PER_CLASS = 60  #每个客户端每类的图片数量\n",
        "NUM_CLASS = 10\n",
        "#Collections.Orderdict->TensorSliceDataset+client_id->hdf5->HDF5ClientData\n",
        "#<TensorSliceDataset shapes: OrderedDict([(label, ()), (pixels, (28, 28))]), types: OrderedDict([(label, tf.int32), (pixels, tf.float32)])>\n",
        "\n",
        "pixels = []\n",
        "label=[]\n",
        "client_ids = []\n",
        "for i in range(MY_NUM_CLIENTS):  #i客户端数量\n",
        "  for j in range(10):  #j是类别数\n",
        "    for k in range(NUM_PER_CLASS): #k控制每一类图片放多少张在客户端\n",
        "      pixels.append(bal1_balance_class[j][i*NUM_PER_CLASS+k]/255.0) #转成0-1之内的数字再加入pixels，class_[j]存放的是第j类数\n",
        "      label.append(j)  #加入label\n",
        "  \n",
        "  client_ids.append(\"f00_\" + str(i))\n",
        "  temp_group = top_group.create_group(name=\"f00_\" + str(i))  #创建以client_id为名字的group\n",
        "  label_ds = temp_group.create_dataset(name=\"label\", data=np.array(label, dtype='int32'))  #向group中写入label\n",
        "  pixels_ds = temp_group.create_dataset(name=\"pixels\", data=np.array(pixels, dtype='float32'))  #向group中写入pixels\n",
        "  \n",
        "  print(num_per_class(label))\n",
        "  #清空上一个pixels数组和label数组中存放的上一个客户端的数据信息,否则会有灾难！！！\n",
        "  pixels.clear()\n",
        "  label.clear()\n"
      ],
      "execution_count": 0,
      "outputs": []
    },
    {
      "cell_type": "code",
      "metadata": {
        "id": "bIiJcLMF5rw6",
        "colab_type": "code",
        "outputId": "822f4425-f607-4cf9-cbac-e2273880f9f1",
        "colab": {
          "base_uri": "https://localhost:8080/",
          "height": 1000
        }
      },
      "source": [
        "#查看数量是否有误\n",
        "\n",
        "\n",
        "\n",
        "#随机画图看是否有误:无误\n",
        "#把图片画出来看一看\n",
        "for i in range(100,110):\n",
        "  print(f1[\"examples\"][client_ids[3]][\"label\"].value[i])\n",
        "  plt.imshow(f1[\"examples\"][client_ids[3]][\"pixels\"].value[i],cmap='gray')\n",
        "  plt.grid(False)\n",
        "  plt.show()"
      ],
      "execution_count": 0,
      "outputs": [
        {
          "output_type": "stream",
          "text": [
            "1\n"
          ],
          "name": "stdout"
        },
        {
          "output_type": "display_data",
          "data": {
            "image/png": "[encoded data removed]",
            "text/plain": [
              "<Figure size 432x288 with 1 Axes>"
            ]
          },
          "metadata": {
            "tags": [],
            "needs_background": "light"
          }
        },
        {
          "output_type": "stream",
          "text": [
            "1\n"
          ],
          "name": "stdout"
        },
        {
          "output_type": "display_data",
          "data": {
            "image/png": "[encoded data removed]",
            "text/plain": [
              "<Figure size 432x288 with 1 Axes>"
            ]
          },
          "metadata": {
            "tags": [],
            "needs_background": "light"
          }
        },
        {
          "output_type": "stream",
          "text": [
            "1\n"
          ],
          "name": "stdout"
        },
        {
          "output_type": "display_data",
          "data": {
            "image/png": "[encoded data removed]",
            "text/plain": [
              "<Figure size 432x288 with 1 Axes>"
            ]
          },
          "metadata": {
            "tags": [],
            "needs_background": "light"
          }
        },
        {
          "output_type": "stream",
          "text": [
            "1\n"
          ],
          "name": "stdout"
        },
        {
          "output_type": "display_data",
          "data": {
            "image/png": "[encoded data removed]",
            "text/plain": [
              "<Figure size 432x288 with 1 Axes>"
            ]
          },
          "metadata": {
            "tags": [],
            "needs_background": "light"
          }
        },
        {
          "output_type": "stream",
          "text": [
            "1\n"
          ],
          "name": "stdout"
        },
        {
          "output_type": "display_data",
          "data": {
            "image/png": "[encoded data removed]",
            "text/plain": [
              "<Figure size 432x288 with 1 Axes>"
            ]
          },
          "metadata": {
            "tags": [],
            "needs_background": "light"
          }
        },
        {
          "output_type": "stream",
          "text": [
            "1\n"
          ],
          "name": "stdout"
        },
        {
          "output_type": "display_data",
          "data": {
            "image/png": "[encoded data removed]",
            "text/plain": [
              "<Figure size 432x288 with 1 Axes>"
            ]
          },
          "metadata": {
            "tags": [],
            "needs_background": "light"
          }
        },
        {
          "output_type": "stream",
          "text": [
            "1\n"
          ],
          "name": "stdout"
        },
        {
          "output_type": "display_data",
          "data": {
            "image/png": "[encoded data removed]",
            "text/plain": [
              "<Figure size 432x288 with 1 Axes>"
            ]
          },
          "metadata": {
            "tags": [],
            "needs_background": "light"
          }
        },
        {
          "output_type": "stream",
          "text": [
            "1\n"
          ],
          "name": "stdout"
        },
        {
          "output_type": "display_data",
          "data": {
            "image/png": "[encoded data removed]",
            "text/plain": [
              "<Figure size 432x288 with 1 Axes>"
            ]
          },
          "metadata": {
            "tags": [],
            "needs_background": "light"
          }
        },
        {
          "output_type": "stream",
          "text": [
            "1\n"
          ],
          "name": "stdout"
        },
        {
          "output_type": "display_data",
          "data": {
            "image/png": "[encoded data removed]",
            "text/plain": [
              "<Figure size 432x288 with 1 Axes>"
            ]
          },
          "metadata": {
            "tags": [],
            "needs_background": "light"
          }
        },
        {
          "output_type": "stream",
          "text": [
            "1\n"
          ],
          "name": "stdout"
        },
        {
          "output_type": "display_data",
          "data": {
            "image/png": "[encoded data removed]",
            "text/plain": [
              "<Figure size 432x288 with 1 Axes>"
            ]
          },
          "metadata": {
            "tags": [],
            "needs_background": "light"
          }
        }
      ]
    },
    {
      "cell_type": "code",
      "metadata": {
        "id": "4sTtobq61DNi",
        "colab_type": "code",
        "outputId": "e521c825-a20a-41b2-b517-e5575262a6f3",
        "colab": {
          "base_uri": "https://localhost:8080/",
          "height": 35
        }
      },
      "source": [
        "#数据集构造完了以后，调用内存清理操作\n",
        "f1.close()\n",
        "del pixels[:]\n",
        "del label[:]\n",
        "del bal1_balance_class[:]\n",
        "gc.collect()"
      ],
      "execution_count": 0,
      "outputs": [
        {
          "output_type": "execute_result",
          "data": {
            "text/plain": [
              "0"
            ]
          },
          "metadata": {
            "tags": []
          },
          "execution_count": 20
        }
      ]
    },
    {
      "cell_type": "markdown",
      "metadata": {
        "id": "V1rl-timDodS",
        "colab_type": "text"
      },
      "source": [
        "### 构造BAL2数据集：标量平衡且全局平衡，局部Non-IID"
      ]
    },
    {
      "cell_type": "code",
      "metadata": {
        "id": "Mk85zh4PEBah",
        "colab_type": "code",
        "outputId": "3120c44e-2706-4591-b096-a03e6c2e58ec",
        "colab": {
          "base_uri": "https://localhost:8080/",
          "height": 35
        }
      },
      "source": [
        "#构造BAL2\n",
        "'''\n",
        "标量平衡:每个本地600张\n",
        "全局平衡：共10个类，每个类6000张\n",
        "局部平衡：随机\n",
        "num_clients = 100\n",
        "'''"
      ],
      "execution_count": 0,
      "outputs": [
        {
          "output_type": "execute_result",
          "data": {
            "text/plain": [
              "'\\n标量平衡:每个本地100张\\n全局平衡：共10个类，每个类10张\\n局部平衡：随机\\nnum_clients = 500\\n'"
            ]
          },
          "metadata": {
            "tags": []
          },
          "execution_count": 8
        }
      ]
    },
    {
      "cell_type": "code",
      "metadata": {
        "id": "e4BSk6uLEqZW",
        "colab_type": "code",
        "colab": {}
      },
      "source": [
        "#构造绝对平衡图片集,10张*10类*500个客户端\n",
        "#因为后面构造数据集的时候对bal2_balance_class进行了删除操作，因此每次生成数据集都要重新生成bal2_balance_class\n",
        "bal2_balance_class = [[]for i in range(10)]  \n",
        "for i in range(0,10):\n",
        "  bal2_balance_class[i] = class_[i][0:6000]"
      ],
      "execution_count": 0,
      "outputs": []
    },
    {
      "cell_type": "code",
      "metadata": {
        "id": "fbEk8BCPEx4L",
        "colab_type": "code",
        "colab": {}
      },
      "source": [
        "#删除一个h5py文件\n",
        "f2.flush()\n",
        "f2.clear()"
      ],
      "execution_count": 0,
      "outputs": []
    },
    {
      "cell_type": "code",
      "metadata": {
        "id": "iLhuN4Z8E1wD",
        "colab_type": "code",
        "colab": {}
      },
      "source": [
        "#创建hdf5文件\n",
        "f2 = h5py.File(\"/content/drive/My Drive/Colab Notebooks/BAL2.hdf5\",\"a\")\n",
        "#创建顶层group\n",
        "top_group = f2.create_group(\"examples\")"
      ],
      "execution_count": 0,
      "outputs": []
    },
    {
      "cell_type": "code",
      "metadata": {
        "id": "bODwz4MPE-gO",
        "colab_type": "code",
        "outputId": "5118d595-136f-42c0-f674-1d5c7a415f28",
        "colab": {
          "base_uri": "https://localhost:8080/"
        }
      },
      "source": [
        "#创建BAL2:使用了洗牌算法(弃了，Non-IID性不够)\n",
        "#另外的方法：按label划分以后每300张为一个碎片，每个用户随机分配两个碎片\n",
        "#将10个类别平均放到500个客户端中，每个客户端每个类别放12个\n",
        "import random\n",
        "NUM_CLIENTS = 100  #写的时候最初用50，用500时间太长\n",
        "NUM_CLASS = 10\n",
        "NUM_PER_CLASS = 60\n",
        "CHIP_SIZE = 300\n",
        "NUM_CHIP = NUM_CLASS * NUM_PER_CLASS // CHIP_SIZE\n",
        "\n",
        "\n",
        "pixels = []\n",
        "label=[]\n",
        "client_ids = []\n",
        "\n",
        "for i in range(NUM_CLIENTS):  #i客户端数量 \n",
        "  j = 0\n",
        "  #j是每个客户端控制取多少张图片\n",
        "  #使用while循环方便控制当选到label是i但是i已经被之前的客户端选择完了的情况，增设j控制\n",
        "  while(j<NUM_CHIP):\n",
        "    index_label = random.randint(0, NUM_CLASS-1) #随机产生一个label下标\n",
        "    num_remain_pixels = len(bal2_balance_class[index_label])\n",
        "    if(num_remain_pixels>0):\n",
        "      for k in range(CHIP_SIZE):\n",
        "        pixels.append(bal2_balance_class[index_label][k]/255.0)\n",
        "        label.append(index_label)  #加入label\n",
        "      del bal2_balance_class[index_label][0:CHIP_SIZE]\n",
        "      j = j+1\n",
        "  \n",
        "  client_ids.append(\"f00_\" + str(i))\n",
        "  temp_group = top_group.create_group(name=\"f00_\" + str(i))\n",
        "  label_ds = temp_group.create_dataset(name=\"label\", data=np.array(label, dtype='int32'))\n",
        "  pixels_ds = temp_group.create_dataset(name=\"pixels\", data=np.array(pixels, dtype='float32'))\n",
        "\n",
        "  print(len(label))\n",
        "  print(num_per_class(label))\n",
        "  pixels.clear()\n",
        "  label.clear()"
      ],
      "execution_count": 0,
      "outputs": [
        {
          "output_type": "stream",
          "text": [
            "600\n",
            "[  0   0   0   0   0   0   0 300 300   0]\n",
            "600\n",
            "[  0 300   0   0   0   0   0   0   0 300]\n",
            "600\n",
            "[  0 300   0   0   0   0 300   0   0   0]\n",
            "600\n",
            "[  0   0   0   0   0 300   0 300   0   0]\n",
            "600\n",
            "[  0   0   0   0   0   0   0 600   0   0]\n",
            "600\n",
            "[  0 300 300   0   0   0   0   0   0   0]\n",
            "600\n",
            "[300   0   0   0   0 300   0   0   0   0]\n",
            "600\n",
            "[  0   0   0   0   0   0   0   0 600   0]\n",
            "600\n",
            "[  0   0 300   0   0   0 300   0   0   0]\n",
            "600\n",
            "[  0 300   0   0   0   0   0 300   0   0]\n",
            "600\n",
            "[600   0   0   0   0   0   0   0   0   0]\n",
            "600\n",
            "[  0   0   0   0   0   0   0 300 300   0]\n",
            "600\n",
            "[  0   0 300 300   0   0   0   0   0   0]\n",
            "600\n",
            "[  0   0   0   0   0   0 300   0 300   0]\n",
            "600\n",
            "[  0   0   0   0   0   0 600   0   0   0]\n",
            "600\n",
            "[  0   0 300   0   0   0 300   0   0   0]\n",
            "600\n",
            "[  0   0   0   0   0 300   0 300   0   0]\n",
            "600\n",
            "[  0   0 300   0   0   0   0 300   0   0]\n",
            "600\n",
            "[  0 300   0   0   0   0   0   0 300   0]\n",
            "600\n",
            "[  0   0 600   0   0   0   0   0   0   0]\n",
            "600\n",
            "[  0   0   0   0 300 300   0   0   0   0]\n",
            "600\n",
            "[  0   0 300   0 300   0   0   0   0   0]\n",
            "600\n",
            "[  0   0   0   0   0   0 300 300   0   0]\n",
            "600\n",
            "[  0   0   0   0 300   0   0   0   0 300]\n",
            "600\n",
            "[  0   0 300 300   0   0   0   0   0   0]\n",
            "600\n",
            "[  0 300   0 300   0   0   0   0   0   0]\n",
            "600\n",
            "[  0   0   0 600   0   0   0   0   0   0]\n",
            "600\n",
            "[300   0   0   0   0   0   0   0   0 300]\n",
            "600\n",
            "[  0 300   0   0   0   0 300   0   0   0]\n",
            "600\n",
            "[  0   0 300   0 300   0   0   0   0   0]\n",
            "600\n",
            "[  0   0   0   0   0   0 300 300   0   0]\n",
            "600\n",
            "[  0 300   0   0   0 300   0   0   0   0]\n",
            "600\n",
            "[300   0   0   0   0 300   0   0   0   0]\n",
            "600\n",
            "[  0 300   0   0 300   0   0   0   0   0]\n",
            "600\n",
            "[  0   0 300   0   0   0   0 300   0   0]\n",
            "600\n",
            "[  0   0   0   0 300   0 300   0   0   0]\n",
            "600\n",
            "[  0   0   0   0   0 300   0   0   0 300]\n",
            "600\n",
            "[  0   0   0   0 300   0   0   0   0 300]\n",
            "600\n",
            "[  0   0   0   0   0   0 300 300   0   0]\n",
            "600\n",
            "[  0   0   0   0   0   0 300   0   0 300]\n",
            "600\n",
            "[300   0   0   0   0   0   0   0   0 300]\n",
            "600\n",
            "[  0   0   0 300   0   0   0   0   0 300]\n",
            "600\n",
            "[  0   0 300   0   0   0   0   0   0 300]\n",
            "600\n",
            "[  0   0   0   0   0 600   0   0   0   0]\n",
            "600\n",
            "[  0   0   0   0 300 300   0   0   0   0]\n",
            "600\n",
            "[300 300   0   0   0   0   0   0   0   0]\n",
            "600\n",
            "[  0   0 600   0   0   0   0   0   0   0]\n",
            "600\n",
            "[  0   0   0 300   0   0 300   0   0   0]\n",
            "600\n",
            "[  0   0 300   0   0 300   0   0   0   0]\n",
            "600\n",
            "[300   0   0   0   0   0   0   0   0 300]\n",
            "600\n",
            "[  0   0   0 300   0   0   0 300   0   0]\n",
            "600\n",
            "[  0 300 300   0   0   0   0   0   0   0]\n",
            "600\n",
            "[300   0 300   0   0   0   0   0   0   0]\n",
            "600\n",
            "[  0   0   0   0   0 300   0   0   0 300]\n",
            "600\n",
            "[  0   0   0   0   0 300   0 300   0   0]\n",
            "600\n",
            "[  0   0   0   0   0 300   0   0 300   0]\n",
            "600\n",
            "[  0 300   0   0 300   0   0   0   0   0]\n",
            "600\n",
            "[  0   0   0 300   0   0   0   0 300   0]\n",
            "600\n",
            "[  0   0 300   0   0   0   0   0   0 300]\n",
            "600\n",
            "[  0   0   0 300   0   0   0 300   0   0]\n",
            "600\n",
            "[  0   0   0   0   0   0   0 300   0 300]\n",
            "600\n",
            "[300 300   0   0   0   0   0   0   0   0]\n",
            "600\n",
            "[  0 300   0   0   0   0   0 300   0   0]\n",
            "600\n",
            "[300   0   0   0   0   0 300   0   0   0]\n",
            "600\n",
            "[  0 300   0   0   0 300   0   0   0   0]\n",
            "600\n",
            "[  0   0   0   0   0 600   0   0   0   0]\n",
            "600\n",
            "[  0   0   0   0 300   0   0   0   0 300]\n",
            "600\n",
            "[  0   0   0 300   0 300   0   0   0   0]\n",
            "600\n",
            "[  0   0   0   0   0 300   0   0 300   0]\n",
            "600\n",
            "[  0 300   0   0 300   0   0   0   0   0]\n",
            "600\n",
            "[300   0   0   0   0 300   0   0   0   0]\n",
            "600\n",
            "[  0   0 600   0   0   0   0   0   0   0]\n",
            "600\n",
            "[300   0   0   0   0   0   0 300   0   0]\n",
            "600\n",
            "[600   0   0   0   0   0   0   0   0   0]\n",
            "600\n",
            "[  0   0   0   0 300   0 300   0   0   0]\n",
            "600\n",
            "[300   0   0   0   0   0   0   0 300   0]\n",
            "600\n",
            "[  0   0   0   0   0   0   0   0 600   0]\n",
            "600\n",
            "[300   0   0   0   0   0   0   0 300   0]\n",
            "600\n",
            "[300   0   0   0   0   0   0   0 300   0]\n",
            "600\n",
            "[  0 300   0   0   0   0   0   0   0 300]\n",
            "600\n",
            "[  0   0   0   0 300   0   0   0 300   0]\n",
            "600\n",
            "[300   0   0   0   0   0 300   0   0   0]\n",
            "600\n",
            "[  0   0   0 300 300   0   0   0   0   0]\n",
            "600\n",
            "[300   0   0   0   0   0   0 300   0   0]\n",
            "600\n",
            "[  0   0   0   0   0   0 300   0 300   0]\n",
            "600\n",
            "[  0 300   0   0 300   0   0   0   0   0]\n",
            "600\n",
            "[  0   0   0   0   0   0 300   0 300   0]\n",
            "600\n",
            "[  0 300   0   0   0   0   0 300   0   0]\n",
            "600\n",
            "[  0   0   0   0 600   0   0   0   0   0]\n",
            "600\n",
            "[  0   0   0   0   0   0 300   0 300   0]\n",
            "600\n",
            "[  0   0   0   0 300   0   0   0   0 300]\n",
            "600\n",
            "[  0 300   0   0 300   0   0   0   0   0]\n",
            "600\n",
            "[  0   0   0   0   0   0 300   0   0 300]\n",
            "600\n",
            "[  0   0   0   0 300   0   0   0   0 300]\n",
            "600\n",
            "[  0   0   0 300   0   0   0   0 300   0]\n",
            "600\n",
            "[  0   0   0 300   0   0   0   0 300   0]\n",
            "600\n",
            "[  0   0   0 600   0   0   0   0   0   0]\n",
            "600\n",
            "[  0   0   0   0   0   0   0   0   0 600]\n",
            "600\n",
            "[  0   0   0 600   0   0   0   0   0   0]\n",
            "600\n",
            "[  0   0   0 600   0   0   0   0   0   0]\n"
          ],
          "name": "stdout"
        }
      ]
    },
    {
      "cell_type": "code",
      "metadata": {
        "id": "gGfpMtDH8rhZ",
        "colab_type": "code",
        "colab": {}
      },
      "source": [
        "#查看数量是否有误\n",
        "# num1 = 0\n",
        "# num2 = 0\n",
        "# for j in range(NUM_CLIENTS):\n",
        "#   #print(\"pixels\",len(pixels[j]))\n",
        "#   num1 = num1 + len(pixels[j])\n",
        "#   num2 = num2 + len(label[j])\n",
        "#   #print(\"label\",label[j])\n",
        "# print(num1)\n",
        "# print(num2)\n",
        "\n",
        "#查看某个客户端每个类别分别有多少\n",
        "def num_per_class(label):\n",
        "  num = np.zeros(shape=(10), dtype='int32')\n",
        "  for i in range (len(label)):\n",
        "    l = label[i]\n",
        "    num[l] = num[l] + 1\n",
        "  return num\n",
        "\n",
        "# for i in range(NUM_CLIENTS):\n",
        "#   print(num_per_label(label[i]))\n",
        "\n",
        "#print(num)\n",
        "\n",
        "\n",
        "#随机画图看是否有误:无误\n",
        "#把图片画出来看一看\n",
        "a = 9\n",
        "for i in range(10):\n",
        "  print(f2[\"examples\"][client_ids[a]][\"label\"].value[i])\n",
        "  plt.imshow(f2[\"examples\"][client_ids[a]][\"pixels\"].value[i],cmap='gray')\n",
        "  plt.grid(False)\n",
        "  plt.show()"
      ],
      "execution_count": 0,
      "outputs": []
    },
    {
      "cell_type": "code",
      "metadata": {
        "id": "lDhERs0e1a2y",
        "colab_type": "code",
        "outputId": "a751f393-0318-499c-bd44-2dfbbfd9af8b",
        "colab": {
          "base_uri": "https://localhost:8080/"
        }
      },
      "source": [
        "#数据集构造完成以后，调用内存清理操作\n",
        "f2.close()\n",
        "del bal2_balance_class[:]\n",
        "del pixels[:]\n",
        "del label[:]\n",
        "gc.collect()"
      ],
      "execution_count": 0,
      "outputs": [
        {
          "output_type": "execute_result",
          "data": {
            "text/plain": [
              "118"
            ]
          },
          "metadata": {
            "tags": []
          },
          "execution_count": 24
        }
      ]
    },
    {
      "cell_type": "markdown",
      "metadata": {
        "id": "F0kylMRgyWG_",
        "colab_type": "text"
      },
      "source": [
        "### 构造BAL3数据集：全局平衡，标量不平衡，局部Non-IID"
      ]
    },
    {
      "cell_type": "code",
      "metadata": {
        "id": "DzfySSTPyovy",
        "colab_type": "code",
        "colab": {}
      },
      "source": [
        "'''\n",
        "构造BAL3数据集\n",
        "全局平衡：10个label，每个label6000张图片\n",
        "标量不平衡，局部Non-IID\n",
        "客户端：100，C=0.02\n",
        "60000张图片随机分给100个用户\n",
        "客户端样本数分布：\n",
        "[  58   74   87   87  107  111  131  141  174  181  186  222  203  242\n",
        "  287  284  316  352  351  388  390  470  450  519  519  550  661  617\n",
        "  661  678  761  691  777  866  915  897  969  939 1011 1037  977  998\n",
        " 1041 1105 1083 1181 1131 1174 1143 1149 1187 1201 1103 1179 1091 1150\n",
        " 1145 1084 1099  994 1012 1076 1038  949  961  926  865  837  777  763\n",
        "  753  715  651  617  600  529  564  499  483  470  420  426  375  329\n",
        "  325  269  248  252  241  213  176  184  143  152  128   92  101   95\n",
        "   99   72]\n",
        "'''"
      ],
      "execution_count": 0,
      "outputs": []
    },
    {
      "cell_type": "code",
      "metadata": {
        "id": "rVUPvefO4X9o",
        "colab_type": "code",
        "outputId": "47f3ccb4-99b5-4a52-d4ae-3deeeec78718",
        "colab": {
          "base_uri": "https://localhost:8080/",
          "height": 196
        }
      },
      "source": [
        "#定义呈正态分布的客户端数量\n",
        "NUM_CLIENTS = 100\n",
        "miu = 50.5\n",
        "sigma = 21\n",
        "num_clients = np.zeros(shape=(NUM_CLIENTS),dtype=int)\n",
        "for _ in range(61000):\n",
        "  nor = random.normalvariate(miu,sigma)\n",
        "  if(nor>=0 and nor<=100):\n",
        "    index = math.floor(nor)\n",
        "    num_clients[index] = num_clients[index] + 1\n",
        "_n_ = 60000 - sum(num_clients)\n",
        "for _ in range(_n_):\n",
        "  r_id =  random.randint(0,NUM_CLIENTS-1)\n",
        "  num_clients[r_id] = num_clients[r_id] + 1\n",
        "\n",
        "print(_n_)\n",
        "print(num_clients)\n",
        "print(sum(num_clients))"
      ],
      "execution_count": 0,
      "outputs": [
        {
          "output_type": "stream",
          "text": [
            "4\n",
            "[  58   74   87   87  107  111  131  141  174  181  186  222  203  242\n",
            "  287  284  316  352  351  388  390  470  450  519  519  550  661  617\n",
            "  661  678  761  691  777  866  915  897  969  939 1011 1037  977  998\n",
            " 1041 1105 1083 1181 1131 1174 1143 1149 1187 1201 1103 1179 1091 1150\n",
            " 1145 1084 1099  994 1012 1076 1038  949  961  926  865  837  777  763\n",
            "  753  715  651  617  600  529  564  499  483  470  420  426  375  329\n",
            "  325  269  248  252  241  213  176  184  143  152  128   92  101   95\n",
            "   99   72]\n",
            "60000\n"
          ],
          "name": "stdout"
        }
      ]
    },
    {
      "cell_type": "code",
      "metadata": {
        "id": "kwwaDLPEbQtx",
        "colab_type": "code",
        "outputId": "a127de13-2b33-467e-d519-d8d812c2f849",
        "colab": {
          "base_uri": "https://localhost:8080/",
          "height": 160
        }
      },
      "source": [
        "print(num_clients)"
      ],
      "execution_count": 0,
      "outputs": [
        {
          "output_type": "stream",
          "text": [
            "[  68   77   82  103  114  100  107  151  164  152  170  206  219  245\n",
            "  236  286  321  331  347  392  398  444  466  501  532  571  623  648\n",
            "  642  690  705  775  807  831  870  919  923 1008  910 1005 1055 1029\n",
            " 1074 1118 1109 1133 1121 1139 1124 1151 1165 1188 1116 1126 1249 1128\n",
            " 1111 1143 1153 1037 1020 1042  947  948  953  920  879  859  825  781\n",
            "  719  654  628  655  601  571  536  509  486  425  465  387  375  347\n",
            "  292  315  286  247  220  202  182  169  171  181  143  115   91   99\n",
            "   77   70]\n"
          ],
          "name": "stdout"
        }
      ]
    },
    {
      "cell_type": "code",
      "metadata": {
        "id": "KqUJ4M8uzr-V",
        "colab_type": "code",
        "outputId": "ec61fd1a-feac-49d9-8105-a99f38b8097e",
        "colab": {
          "base_uri": "https://localhost:8080/",
          "height": 35
        }
      },
      "source": [
        "#获得全局绝对平衡数据集\n",
        "bal3_p = []\n",
        "bal3_l = [] \n",
        "for i in range(0,10):\n",
        "  for j in range(6000):\n",
        "    bal3_p.append(class_[i][j])\n",
        "    bal3_l.append(i)\n",
        "print(len(bal3_l))"
      ],
      "execution_count": 0,
      "outputs": [
        {
          "output_type": "stream",
          "text": [
            "60000\n"
          ],
          "name": "stdout"
        }
      ]
    },
    {
      "cell_type": "code",
      "metadata": {
        "id": "OUSHrgG9zvH4",
        "colab_type": "code",
        "colab": {}
      },
      "source": [
        "#删除一个h5py文件\n",
        "f3.flush()\n",
        "f3.clear()"
      ],
      "execution_count": 0,
      "outputs": []
    },
    {
      "cell_type": "code",
      "metadata": {
        "id": "dPmY8-G3zxnV",
        "colab_type": "code",
        "colab": {}
      },
      "source": [
        "#创建hdf5文件\n",
        "f3 = h5py.File(\"/content/drive/My Drive/Colab Notebooks/BAL3.hdf5\",\"a\")\n",
        "#创建顶层group\n",
        "top_group = f3.create_group(\"examples\")"
      ],
      "execution_count": 0,
      "outputs": []
    },
    {
      "cell_type": "code",
      "metadata": {
        "id": "gt6u9CLTz3Wl",
        "colab_type": "code",
        "outputId": "f22c7615-7417-4493-c581-66dbfe71e292",
        "colab": {
          "base_uri": "https://localhost:8080/",
          "height": 1000
        }
      },
      "source": [
        "#创建BAL3\n",
        "#将60000张图片随机分给100个客户端:洗牌算法\n",
        "\n",
        "NUM_CLIENTS = 100  \n",
        "NUM_CLASS = 10\n",
        "NUM_PER_CLASS = 6000\n",
        "CHIP_SIZE = 100\n",
        "NUM_CHIP = NUM_CLASS * NUM_PER_CLASS // CHIP_SIZE\n",
        "\n",
        "#pixels[i]存放的是第i个客户端的图片，label[i]以此类推\n",
        "pixels = [[]for i in range(NUM_CLIENTS)]\n",
        "label = [[]for i in range(NUM_CLIENTS)]\n",
        "client_ids = []\n",
        "\n",
        "for i in range(NUM_CLIENTS):\n",
        "  for _ in range(num_clients[i]):\n",
        "    random_pid = random.randint(0, len(bal3_p)-1)\n",
        "    pixels[i].append(bal3_p[random_pid]/255.0)\n",
        "    label[i].append(bal3_l[random_pid])\n",
        "    del bal3_p[random_pid]\n",
        "    del bal3_l[random_pid]\n",
        "\n",
        "#将pixels和label加入对应client的group中\n",
        "num = 0\n",
        "for i in range(NUM_CLIENTS):\n",
        "  client_ids.append(\"f00_\" + str(i))\n",
        "  temp_group = top_group.create_group(name=\"f00_\" + str(i))\n",
        "  label_ds = temp_group.create_dataset(name=\"label\", data=np.array(label[i], dtype='int32'))\n",
        "  pixels_ds = temp_group.create_dataset(name=\"pixels\", data=np.array(pixels[i], dtype='float32'))\n",
        "  print(len(label[i]))\n",
        "  print(num_per_class(label[i]))"
      ],
      "execution_count": 0,
      "outputs": [
        {
          "output_type": "stream",
          "text": [
            "68\n",
            "[8 8 5 3 6 5 9 9 9 6]\n",
            "77\n",
            "[ 9 10  7  4  8  5  6 18  6  4]\n",
            "82\n",
            "[ 8  5  9  9 11 10  5 13  9  3]\n",
            "103\n",
            "[ 8 12  4 14  5 13 12 13 12 10]\n",
            "114\n",
            "[16  7  8  9  8 19 10 11 15 11]\n",
            "100\n",
            "[11  8 10  9  9  6 17 10  9 11]\n",
            "107\n",
            "[ 9  8  8 13  8 11 16 16 10  8]\n",
            "151\n",
            "[14 17 21 12 11 17 15 19 11 14]\n",
            "164\n",
            "[10 12 11 23 17 15 18 19 14 25]\n",
            "152\n",
            "[12 13 11 28 10 14 13 18 18 15]\n",
            "170\n",
            "[13 14 16 14 21 15 17 19 20 21]\n",
            "206\n",
            "[17 21 21 13 21 25 12 26 29 21]\n",
            "219\n",
            "[22 23 19 22 18 22 29 15 25 24]\n",
            "245\n",
            "[27 23 22 25 27 22 27 17 24 31]\n",
            "236\n",
            "[21 23 20 22 37 23 20 19 15 36]\n",
            "286\n",
            "[34 29 25 28 32 30 27 33 28 20]\n",
            "321\n",
            "[38 31 28 38 38 31 22 25 35 35]\n",
            "331\n",
            "[29 36 36 32 31 34 34 29 36 34]\n",
            "347\n",
            "[30 29 38 49 27 39 37 32 34 32]\n",
            "392\n",
            "[46 39 40 31 39 30 53 40 37 37]\n",
            "398\n",
            "[45 36 42 42 38 42 41 40 26 46]\n",
            "444\n",
            "[50 40 42 42 55 47 40 39 52 37]\n",
            "466\n",
            "[52 56 41 52 50 36 33 43 51 52]\n",
            "501\n",
            "[54 55 48 44 45 52 54 49 57 43]\n",
            "532\n",
            "[49 50 62 52 47 43 53 61 58 57]\n",
            "571\n",
            "[61 53 50 55 55 51 70 68 58 50]\n",
            "623\n",
            "[75 61 73 54 58 66 59 63 51 63]\n",
            "648\n",
            "[45 68 60 65 66 70 76 65 75 58]\n",
            "642\n",
            "[75 53 64 79 57 50 64 70 77 53]\n",
            "690\n",
            "[62 80 66 73 62 75 64 69 66 73]\n",
            "705\n",
            "[60 74 59 66 59 77 77 80 69 84]\n",
            "775\n",
            "[ 79  61  70  73  73  85 100  80  81  73]\n",
            "807\n",
            "[ 78  82 101  81  73  86  78  83  68  77]\n",
            "831\n",
            "[ 82  91  87  73  87  78  87  83 100  63]\n",
            "870\n",
            "[ 84  94  74  84  99  72 102  82  86  93]\n",
            "919\n",
            "[ 98  94  94 105  79 100  90  76  96  87]\n",
            "923\n",
            "[ 79  89  82 111  96  89  96  93  85 103]\n",
            "1008\n",
            "[107 100  81 104 109  99  93 109 109  97]\n",
            "910\n",
            "[ 93 107  95  94  79  85  85  87  91  94]\n",
            "1005\n",
            "[ 85  95 102  94 105 126  98 103  97 100]\n",
            "1055\n",
            "[ 84 105 121 102  95 101 116 111 115 105]\n",
            "1029\n",
            "[106 106 100  99 102 101  89 110 115 101]\n",
            "1074\n",
            "[ 82 131 102 104 116 110 105 116  84 124]\n",
            "1118\n",
            "[112 120 101  83 125 114 122 120 104 117]\n",
            "1109\n",
            "[122 110 122 126  86 110 108 117 102 106]\n",
            "1133\n",
            "[103 119 111 113 111 116 112 118 110 120]\n",
            "1121\n",
            "[125 117 113 105  94 105 129  92 118 123]\n",
            "1139\n",
            "[102 114 126 114 119 113 113 103 109 126]\n",
            "1124\n",
            "[104 117 108  98 135 101 134 110 112 105]\n",
            "1151\n",
            "[116 116 112 107 123 110 108 124 122 113]\n",
            "1165\n",
            "[116 108 103 119 121 130 136 126 112  94]\n",
            "1188\n",
            "[128 104 143 127 115 114  98 121 125 113]\n",
            "1116\n",
            "[109 108 103 128 115 112 102 129 110 100]\n",
            "1126\n",
            "[109 111 115  94 127  97 113 132 121 107]\n",
            "1249\n",
            "[119 144 125 108 126 137 122 115 134 119]\n",
            "1128\n",
            "[119 101 117 100 127 117 112 127 111  97]\n",
            "1111\n",
            "[117 114  98 115 128 122 106  96 116  99]\n",
            "1143\n",
            "[113 113 118 107 107 137 117 119 109 103]\n",
            "1153\n",
            "[120 112 120 115 113 131 106 116 113 107]\n",
            "1037\n",
            "[105 119 108 103  94 104  99  92  98 115]\n",
            "1020\n",
            "[124  85  89 109 107  86 105  93 113 109]\n",
            "1042\n",
            "[110 112 101 116 117  95  78 115  95 103]\n",
            "947\n",
            "[ 88 102 100  91  95 101 113  87  90  80]\n",
            "948\n",
            "[ 78  86 108 115  83 101  90  91 101  95]\n",
            "953\n",
            "[ 88  87  96 103  85  96  99 107  98  94]\n",
            "920\n",
            "[103  93 104 101  93  80  85  88  84  89]\n",
            "879\n",
            "[ 93  80 108  91  86  91  70  82  88  90]\n",
            "859\n",
            "[87 76 81 95 91 89 81 92 77 90]\n",
            "825\n",
            "[85 92 84 84 81 63 90 80 78 88]\n",
            "781\n",
            "[81 63 82 71 91 83 75 54 91 90]\n",
            "719\n",
            "[78 64 62 86 65 74 72 64 74 80]\n",
            "654\n",
            "[64 68 66 66 72 58 61 82 50 67]\n",
            "628\n",
            "[63 68 57 71 59 66 67 68 52 57]\n",
            "655\n",
            "[75 51 80 58 61 62 54 57 74 83]\n",
            "601\n",
            "[58 58 59 55 61 57 62 55 63 73]\n",
            "571\n",
            "[79 62 49 64 38 55 68 58 49 49]\n",
            "536\n",
            "[43 63 60 53 51 44 66 47 51 58]\n",
            "509\n",
            "[44 60 59 33 42 58 40 63 47 63]\n",
            "486\n",
            "[46 56 45 56 53 49 39 39 43 60]\n",
            "425\n",
            "[37 50 41 39 35 50 37 48 44 44]\n",
            "465\n",
            "[52 42 39 55 45 37 46 40 60 49]\n",
            "387\n",
            "[47 34 52 42 39 37 34 34 37 31]\n",
            "375\n",
            "[31 41 40 40 36 35 43 34 44 31]\n",
            "347\n",
            "[36 39 36 31 33 39 35 21 41 36]\n",
            "292\n",
            "[40 20 33 24 38 37 24 20 21 35]\n",
            "315\n",
            "[34 32 26 21 42 28 32 36 26 38]\n",
            "286\n",
            "[26 26 34 26 26 25 29 37 30 27]\n",
            "247\n",
            "[28 25 17 25 34 23 22 22 29 22]\n",
            "220\n",
            "[30 21 21 17 22 26 25 22 17 19]\n",
            "202\n",
            "[22 12 13 27 29 18 26 25 16 14]\n",
            "182\n",
            "[18 25 27 18 16 16 18  9 15 20]\n",
            "169\n",
            "[15 19 15 20 21 17 14 19 14 15]\n",
            "171\n",
            "[23 18 17 13 23 17 11 17 18 14]\n",
            "181\n",
            "[15 19 16 13 17 21 15 20 16 29]\n",
            "143\n",
            "[ 9 16 15 12 14 23 20  6 16 12]\n",
            "115\n",
            "[ 5  9 19 15 11 12 13 10 10 11]\n",
            "91\n",
            "[ 7 10  9  6  8 11 10  7 11 12]\n",
            "99\n",
            "[12  9  8 13 13  9 11  3  9 12]\n",
            "77\n",
            "[14  6  9  8  5  5  7  5 10  8]\n",
            "70\n",
            "[6 5 5 9 7 9 7 5 9 8]\n"
          ],
          "name": "stdout"
        }
      ]
    },
    {
      "cell_type": "code",
      "metadata": {
        "id": "1poxDT9b9cOU",
        "colab_type": "code",
        "outputId": "2158f47f-6626-4884-e6b8-de013e772169",
        "colab": {
          "base_uri": "https://localhost:8080/",
          "height": 1000
        }
      },
      "source": [
        "# #查看总的数量是否有误:无误\n",
        "# num1 = 0\n",
        "# num2 = 0\n",
        "# for j in range(5):\n",
        "#   #print(\"pixels\",len(pixels[j]))\n",
        "#   num1 = num1 + len(pixels[j])\n",
        "#   num2 = num2 + len(label[j])\n",
        "#   #print(\"label\",label[j])\n",
        "# print(num1)\n",
        "# print(num2)\n",
        "\n",
        "#len(f3[\"examples\"][client_ids[2]][\"label\"].value)\n",
        "# print(f3[\"examples\"][client_ids[3]][\"label\"].value[699])\n",
        "# plt.imshow(f3[\"examples\"][client_ids[3]][\"pixels\"].value[699], cmap='gray', aspect='equal')\n",
        "# plt.grid(False)\n",
        "# #这里这个画应该是一种很随意的，因为不想再用所以命名就是_\n",
        "# #plt.imshow（）负责对图像进行处理并调整其格式但是不能显示，必须在其后跟着plt.show()才能成功显示出来\n",
        "# _=plt.show()\n",
        "\n",
        "#随机画图看是否有误:无误\n",
        "#把图片画出来看一看\n",
        "for i in range(20,30):\n",
        "  print(f3[\"examples\"][client_ids[5]][\"label\"].value[i])\n",
        "  plt.imshow(f3[\"examples\"][client_ids[5]][\"pixels\"].value[i],cmap='gray')\n",
        "  plt.grid(False)\n",
        "  plt.show()"
      ],
      "execution_count": 0,
      "outputs": [
        {
          "output_type": "stream",
          "text": [
            "5\n"
          ],
          "name": "stdout"
        },
        {
          "output_type": "display_data",
          "data": {
            "image/png": "[encoded data removed]",
            "text/plain": [
              "<Figure size 432x288 with 1 Axes>"
            ]
          },
          "metadata": {
            "tags": [],
            "needs_background": "light"
          }
        },
        {
          "output_type": "stream",
          "text": [
            "7\n"
          ],
          "name": "stdout"
        },
        {
          "output_type": "display_data",
          "data": {
            "image/png": "[encoded data removed]",
            "text/plain": [
              "<Figure size 432x288 with 1 Axes>"
            ]
          },
          "metadata": {
            "tags": [],
            "needs_background": "light"
          }
        },
        {
          "output_type": "stream",
          "text": [
            "7\n"
          ],
          "name": "stdout"
        },
        {
          "output_type": "display_data",
          "data": {
            "image/png": "[encoded data removed]",
            "text/plain": [
              "<Figure size 432x288 with 1 Axes>"
            ]
          },
          "metadata": {
            "tags": [],
            "needs_background": "light"
          }
        },
        {
          "output_type": "stream",
          "text": [
            "3\n"
          ],
          "name": "stdout"
        },
        {
          "output_type": "display_data",
          "data": {
            "image/png": "[encoded data removed]",
            "text/plain": [
              "<Figure size 432x288 with 1 Axes>"
            ]
          },
          "metadata": {
            "tags": [],
            "needs_background": "light"
          }
        },
        {
          "output_type": "stream",
          "text": [
            "7\n"
          ],
          "name": "stdout"
        },
        {
          "output_type": "display_data",
          "data": {
            "image/png": "[encoded data removed]",
            "text/plain": [
              "<Figure size 432x288 with 1 Axes>"
            ]
          },
          "metadata": {
            "tags": [],
            "needs_background": "light"
          }
        },
        {
          "output_type": "stream",
          "text": [
            "2\n"
          ],
          "name": "stdout"
        },
        {
          "output_type": "display_data",
          "data": {
            "image/png": "[encoded data removed]",
            "text/plain": [
              "<Figure size 432x288 with 1 Axes>"
            ]
          },
          "metadata": {
            "tags": [],
            "needs_background": "light"
          }
        },
        {
          "output_type": "stream",
          "text": [
            "1\n"
          ],
          "name": "stdout"
        },
        {
          "output_type": "display_data",
          "data": {
            "image/png": "[encoded data removed]",
            "text/plain": [
              "<Figure size 432x288 with 1 Axes>"
            ]
          },
          "metadata": {
            "tags": [],
            "needs_background": "light"
          }
        },
        {
          "output_type": "stream",
          "text": [
            "3\n"
          ],
          "name": "stdout"
        },
        {
          "output_type": "display_data",
          "data": {
            "image/png": "[encoded data removed]",
            "text/plain": [
              "<Figure size 432x288 with 1 Axes>"
            ]
          },
          "metadata": {
            "tags": [],
            "needs_background": "light"
          }
        },
        {
          "output_type": "stream",
          "text": [
            "3\n"
          ],
          "name": "stdout"
        },
        {
          "output_type": "display_data",
          "data": {
            "image/png": "[encoded data removed]",
            "text/plain": [
              "<Figure size 432x288 with 1 Axes>"
            ]
          },
          "metadata": {
            "tags": [],
            "needs_background": "light"
          }
        },
        {
          "output_type": "stream",
          "text": [
            "7\n"
          ],
          "name": "stdout"
        },
        {
          "output_type": "display_data",
          "data": {
            "image/png": "[encoded data removed]",
            "text/plain": [
              "<Figure size 432x288 with 1 Axes>"
            ]
          },
          "metadata": {
            "tags": [],
            "needs_background": "light"
          }
        }
      ]
    },
    {
      "cell_type": "code",
      "metadata": {
        "id": "ZFssf18G1qka",
        "colab_type": "code",
        "outputId": "49a417a3-bbbb-4c6b-819f-d0a367e40da4",
        "colab": {
          "base_uri": "https://localhost:8080/",
          "height": 35
        }
      },
      "source": [
        "#数据集构造完成以后，调用内存清理操作\n",
        "f3.close()\n",
        "del pixels[:]\n",
        "del label[:]\n",
        "del bal3_balance_class[:]\n",
        "gc.collect()"
      ],
      "execution_count": 0,
      "outputs": [
        {
          "output_type": "execute_result",
          "data": {
            "text/plain": [
              "23441"
            ]
          },
          "metadata": {
            "tags": []
          },
          "execution_count": 114
        }
      ]
    },
    {
      "cell_type": "markdown",
      "metadata": {
        "id": "pEoCrfZQg6Qf",
        "colab_type": "text"
      },
      "source": [
        "### 构造BAL4数据集，全局不平衡，标量不平衡，局部Non-IID"
      ]
    },
    {
      "cell_type": "code",
      "metadata": {
        "id": "L66Q84ZZhXYX",
        "colab_type": "code",
        "colab": {}
      },
      "source": [
        "'''\n",
        "BAL4：标量不平衡，全局不平衡，局部不平衡\n",
        "使用原始的mnist\n",
        "60000张图片随机分给100个客户端，每个客户端数目不固定\n",
        "客户端样本分布见BAL3\n",
        "类别数量分布：\n",
        "[ 1166  2692  5548  9145 11536 11574  8958  5598  2731  1052]\n",
        "'''"
      ],
      "execution_count": 0,
      "outputs": []
    },
    {
      "cell_type": "code",
      "metadata": {
        "id": "zVQfEKnJAe0E",
        "colab_type": "code",
        "outputId": "9ec6ff30-4f45-4f46-b917-d44624fea5a4",
        "colab": {
          "base_uri": "https://localhost:8080/",
          "height": 196
        }
      },
      "source": [
        "#定义呈正态分布的客户端数量\n",
        "NUM_CLIENTS = 100\n",
        "miu = 50.5\n",
        "sigma = 21\n",
        "num_clients = np.zeros(shape=(NUM_CLIENTS),dtype=int)\n",
        "for _ in range(61000):\n",
        "  nor = random.normalvariate(miu,sigma)\n",
        "  if(nor>=0 and nor<=100):\n",
        "    index = math.floor(nor)\n",
        "    num_clients[index] = num_clients[index] + 1\n",
        "_n_ = 60000 - sum(num_clients)\n",
        "for _ in range(_n_):\n",
        "  r_id =  random.randint(0,NUM_CLIENTS-1)\n",
        "  num_clients[r_id] = num_clients[r_id] + 1\n",
        "\n",
        "print(_n_)\n",
        "print(num_clients)\n",
        "print(sum(num_clients))"
      ],
      "execution_count": 0,
      "outputs": [
        {
          "output_type": "stream",
          "text": [
            "1\n",
            "[  68   77   82  103  114  100  107  151  164  152  170  206  219  245\n",
            "  236  286  321  331  347  392  398  444  466  501  532  571  623  648\n",
            "  642  690  705  775  807  831  870  919  923 1008  910 1005 1055 1029\n",
            " 1074 1118 1109 1133 1121 1139 1124 1151 1165 1188 1116 1126 1249 1128\n",
            " 1111 1143 1153 1037 1020 1042  947  948  953  920  879  859  825  781\n",
            "  719  654  628  655  601  571  536  509  486  425  465  387  375  347\n",
            "  292  315  286  247  220  202  182  169  171  181  143  115   91   99\n",
            "   77   70]\n",
            "60000\n"
          ],
          "name": "stdout"
        }
      ]
    },
    {
      "cell_type": "code",
      "metadata": {
        "id": "FX4acH06BuzA",
        "colab_type": "code",
        "outputId": "9e9667c1-8f70-4388-8896-5e9083015c40",
        "colab": {
          "base_uri": "https://localhost:8080/",
          "height": 71
        }
      },
      "source": [
        "#定义呈正态分布的各类别数量\n",
        "NUM_CLASS = 10\n",
        "miu_c = 5\n",
        "sigma_c = 2.0\n",
        "num_class = np.zeros(shape=(NUM_CLASS),dtype=int)\n",
        "for _ in range(60000):\n",
        "  nor = random.normalvariate(miu_c,sigma_c)\n",
        "  if(nor>=0 and nor<=10):\n",
        "    index = math.floor(nor)\n",
        "    num_class[index] = num_class[index] + 1\n",
        "_n_ = 60000 - sum(num_class)\n",
        "for _ in range(_n_):\n",
        "  r_id =  random.randint(0,NUM_CLASS-1)\n",
        "  num_class[r_id] = num_class[r_id] + 1\n",
        "\n",
        "print(_n_)\n",
        "print(num_class)\n",
        "print(sum(num_class))\n"
      ],
      "execution_count": 0,
      "outputs": [
        {
          "output_type": "stream",
          "text": [
            "759\n",
            "[ 1166  2692  5548  9145 11536 11574  8958  5598  2731  1052]\n",
            "60000\n"
          ],
          "name": "stdout"
        }
      ]
    },
    {
      "cell_type": "code",
      "metadata": {
        "id": "VsE-yhnbNlRL",
        "colab_type": "code",
        "outputId": "d90ad394-c886-475a-8ccf-b4b21f77003c",
        "colab": {
          "base_uri": "https://localhost:8080/",
          "height": 160
        }
      },
      "source": [
        "print(num_clients)"
      ],
      "execution_count": 0,
      "outputs": [
        {
          "output_type": "stream",
          "text": [
            "[  68   77   82  103  114  100  107  151  164  152  170  206  219  245\n",
            "  236  286  321  331  347  392  398  444  466  501  532  571  623  648\n",
            "  642  690  705  775  807  831  870  919  923 1008  910 1005 1055 1029\n",
            " 1074 1118 1109 1133 1121 1139 1124 1151 1165 1188 1116 1126 1249 1128\n",
            " 1111 1143 1153 1037 1020 1042  947  948  953  920  879  859  825  781\n",
            "  719  654  628  655  601  571  536  509  486  425  465  387  375  347\n",
            "  292  315  286  247  220  202  182  169  171  181  143  115   91   99\n",
            "   77   70]\n"
          ],
          "name": "stdout"
        }
      ]
    },
    {
      "cell_type": "code",
      "metadata": {
        "id": "SjWO678VhbGB",
        "colab_type": "code",
        "outputId": "8884143c-85d2-4707-8f82-16ac4f4d416c",
        "colab": {
          "base_uri": "https://localhost:8080/",
          "height": 35
        }
      },
      "source": [
        "#获取总的数据集：最开始使用了洗牌算法，后来发现随机的还是有点平衡，最后改用认为控制类别比例\n",
        "#因为需要使用删除操作所以不能直接使用=赋值\n",
        "bal4_p = []\n",
        "bal4_l = []\n",
        "#获得全局不平衡数据集，各个类别之间的数量基本呈正态分布  \n",
        "for i in range(10):\n",
        "  end = num_class[i]\n",
        "  for k in range(end):\n",
        "    bal4_p.append(class_[i][k])\n",
        "    bal4_l.append(i)\n",
        "print(len(bal4_p))\n"
      ],
      "execution_count": 0,
      "outputs": [
        {
          "output_type": "stream",
          "text": [
            "60000\n"
          ],
          "name": "stdout"
        }
      ]
    },
    {
      "cell_type": "code",
      "metadata": {
        "id": "X2I34xEbAQpS",
        "colab_type": "code",
        "outputId": "8c4a09df-2701-45eb-a1c1-e8ef36c4d917",
        "colab": {
          "base_uri": "https://localhost:8080/",
          "height": 35
        }
      },
      "source": [
        "#因为构造的数据集有误，所以需要看总的图片是否有误\n",
        "#第一次查看：有误.第二次查看：有误\n",
        "\n",
        "# for i in range(10,20):\n",
        "#   print(y_class[i])\n",
        "#   plt.imshow(x_class[i], cmap='gray', aspect='equal')\n",
        "#   plt.grid(False)\n",
        "#   _=plt.show()\n"
      ],
      "execution_count": 0,
      "outputs": [
        {
          "output_type": "stream",
          "text": [
            "[1166, 2692, 5548, 9145, 11536, 11574, 8958, 5598, 2731, 1052]\n"
          ],
          "name": "stdout"
        }
      ]
    },
    {
      "cell_type": "code",
      "metadata": {
        "id": "AoCoTfYphdkM",
        "colab_type": "code",
        "colab": {}
      },
      "source": [
        "#删除一个h5py文件\n",
        "f4.flush()\n",
        "f4.clear()"
      ],
      "execution_count": 0,
      "outputs": []
    },
    {
      "cell_type": "code",
      "metadata": {
        "id": "nLVp8IHMhgDs",
        "colab_type": "code",
        "colab": {}
      },
      "source": [
        "#创建hdf5文件\n",
        "f4 = h5py.File(\"/content/drive/My Drive/Colab Notebooks/BAL4.hdf5\",\"a\")\n",
        "#创建顶层group\n",
        "top_group = f4.create_group(\"examples\")"
      ],
      "execution_count": 0,
      "outputs": []
    },
    {
      "cell_type": "code",
      "metadata": {
        "id": "Gd-XISWIhjB3",
        "colab_type": "code",
        "outputId": "6a3d441c-2faa-4b8c-871c-617de4718a2d",
        "colab": {
          "base_uri": "https://localhost:8080/",
          "height": 1000
        }
      },
      "source": [
        "#创建BAL4\n",
        "#将60000张图片随机分给100个客户端，为了达到病态的效果，以CHIP_SIZE张图片为一个碎片，将碎片随机分给100个客户端\n",
        "\n",
        "NUM_CLIENTS = 100 \n",
        "NUM_CLASS = 10\n",
        "#NUM_PER_CLASS = 600\n",
        "CHIP_SIZE = 100\n",
        "NUM_CHIP = NUM_CLASS * NUM_PER_CLASS // CHIP_SIZE\n",
        "\n",
        "pixels = [[]for i in range(NUM_CLIENTS)]\n",
        "label = [[]for i in range(NUM_CLIENTS)]\n",
        "#client_ids = []\n",
        "#外层循环控制客户端数随机从样本中挑选num_clients[i]个样本\n",
        "#这里有一个问题就是数目越多的样本被选到的概率越大，而不是所有样本被选到的概率相同\n",
        "#由于在全局类别样本呈正态分布因此在每个客户端里面样本也是正态分布\n",
        "for i in range(NUM_CLIENTS):\n",
        "  for _ in range(num_clients[i]):\n",
        "    random_pid = random.randint(0, len(bal4_p)-1)\n",
        "    pixels[i].append(bal4_p[random_pid]/255.0)\n",
        "    label[i].append(bal4_l[random_pid])\n",
        "    del bal4_p[random_pid]\n",
        "    del bal4_l[random_pid]\n",
        "\n",
        "    \n",
        "#将pixels和label加入对应client的group中\n",
        "num = 0\n",
        "for i in range(NUM_CLIENTS):\n",
        "  # client_ids.append(\"f00_\" + str(i))\n",
        "  temp_group = top_group.create_group(name=\"f00_\" + str(i))\n",
        "  label_ds = temp_group.create_dataset(name=\"label\", data=np.array(label[i], dtype='int32'))\n",
        "  pixels_ds = temp_group.create_dataset(name=\"pixels\", data=np.array(pixels[i], dtype='float32'))\n",
        "  print(len(label[i]))\n",
        "  print(num_per_class(label[i]))\n",
        "  num = num + len(label[i])\n",
        "#统计最终分给100个客户端的样本总数是多少  \n",
        "print(num)"
      ],
      "execution_count": 0,
      "outputs": [
        {
          "output_type": "stream",
          "text": [
            "68\n",
            "[ 2  4  4 11 15 10  7  9  2  4]\n",
            "77\n",
            "[ 2  3  8  8 18 11 16  9  2  0]\n",
            "82\n",
            "[ 0  4  7 15 13 14 15  7  5  2]\n",
            "103\n",
            "[ 1  5  7 14 14 24 19 11  6  2]\n",
            "114\n",
            "[ 0  3  9 19 28 17 21 10  5  2]\n",
            "100\n",
            "[ 1  5  7 19 23 21 10 10  3  1]\n",
            "107\n",
            "[ 0  5  7 16 26 21 17  9  4  2]\n",
            "151\n",
            "[ 4  8 17 18 33 29 21 11  6  4]\n",
            "164\n",
            "[ 5  8 17 22 25 36 27 17  7  0]\n",
            "152\n",
            "[ 3  6 13 27 32 18 28 18  3  4]\n",
            "170\n",
            "[ 4  4 17 23 34 34 27 18  6  3]\n",
            "206\n",
            "[ 5 10 22 28 41 42 22 20 10  6]\n",
            "219\n",
            "[ 7 12 21 43 33 42 31 16  9  5]\n",
            "245\n",
            "[ 7 16 22 34 53 52 25 20 14  2]\n",
            "236\n",
            "[11 11 24 37 45 44 26 17 15  6]\n",
            "286\n",
            "[ 2 15 24 49 51 52 46 36  6  5]\n",
            "321\n",
            "[ 6 12 31 45 62 72 53 24 15  1]\n",
            "331\n",
            "[ 4 17 22 44 67 71 60 23 19  4]\n",
            "347\n",
            "[ 6 16 28 49 72 69 46 39 14  8]\n",
            "392\n",
            "[ 4 12 42 66 78 75 59 31 20  5]\n",
            "398\n",
            "[ 4 16 36 60 92 70 51 45 19  5]\n",
            "444\n",
            "[ 8 24 28 64 87 86 66 46 28  7]\n",
            "466\n",
            "[ 7 32 34 74 92 89 72 33 19 14]\n",
            "501\n",
            "[ 5 20 52 72 91 89 81 57 26  8]\n",
            "532\n",
            "[ 11  22  51  75  97 101  67  70  25  13]\n",
            "571\n",
            "[ 13  29  56  86 103  98  92  51  34   9]\n",
            "623\n",
            "[ 13  33  72  73 117 126 104  54  23   8]\n",
            "648\n",
            "[ 10  39  56  98 125 122  94  60  30  14]\n",
            "642\n",
            "[ 18  34  48 112 125 122  99  45  27  12]\n",
            "690\n",
            "[  8  30  67 110 143 118 109  66  25  14]\n",
            "705\n",
            "[  9  24  72 121 133 140 103  67  28   8]\n",
            "775\n",
            "[ 13  43  71 122 161 119 110  74  47  15]\n",
            "807\n",
            "[ 14  36  70 134 146 163 117  82  31  14]\n",
            "831\n",
            "[ 23  37  78 132 154 160 127  68  38  14]\n",
            "870\n",
            "[ 15  37  92 133 149 168 127  88  45  16]\n",
            "919\n",
            "[ 17  41  78 162 163 161 156  86  46   9]\n",
            "923\n",
            "[ 14  41  80 125 203 172 154  90  30  14]\n",
            "1008\n",
            "[ 18  47  92 143 203 204 139  98  49  15]\n",
            "910\n",
            "[ 15  42  87 126 155 179 153  87  54  12]\n",
            "1005\n",
            "[ 25  51  88 147 182 198 157  99  44  14]\n",
            "1055\n",
            "[ 18  44  88 169 209 204 164 100  38  21]\n",
            "1029\n",
            "[ 15  40  99 175 199 186 159  93  49  14]\n",
            "1074\n",
            "[ 19  39 107 150 211 195 175 108  44  26]\n",
            "1118\n",
            "[ 22  45 113 179 198 222 165 103  48  23]\n",
            "1109\n",
            "[ 26  43  99 161 238 204 171  93  46  28]\n",
            "1133\n",
            "[ 20  51 107 158 222 223 162 114  55  21]\n",
            "1121\n",
            "[ 30  38 106 133 235 235 155 119  54  16]\n",
            "1139\n",
            "[ 23  57 112 174 213 217 170 108  46  19]\n",
            "1124\n",
            "[ 20  48 112 176 212 234 151 111  48  12]\n",
            "1151\n",
            "[ 24  63 100 174 216 225 175 101  52  21]\n",
            "1165\n",
            "[ 22  55 125 174 232 196 180 112  51  18]\n",
            "1188\n",
            "[ 25  50 106 173 227 227 209 100  52  19]\n",
            "1116\n",
            "[ 23  43 114 183 205 223 158 101  50  16]\n",
            "1126\n",
            "[ 26  48 114 173 209 239 144  85  58  30]\n",
            "1249\n",
            "[ 21  57  97 202 231 266 181 113  61  20]\n",
            "1128\n",
            "[ 30  57 117 184 218 190 157 103  56  16]\n",
            "1111\n",
            "[ 20  68  85 172 218 223 177  93  43  12]\n",
            "1143\n",
            "[ 22  54 105 177 203 218 176 118  55  15]\n",
            "1153\n",
            "[ 25  51 124 178 198 237 177 104  36  23]\n",
            "1037\n",
            "[ 19  43  95 159 205 201 142 113  36  24]\n",
            "1020\n",
            "[ 23  50  84 166 189 201 143 103  38  23]\n",
            "1042\n",
            "[ 31  30  96 158 183 199 157 104  60  24]\n",
            "947\n",
            "[ 14  46  77 139 199 162 155  90  48  17]\n",
            "948\n",
            "[ 15  34  99 136 185 194 152  73  44  16]\n",
            "953\n",
            "[ 12  41  87 131 194 194 140  98  37  19]\n",
            "920\n",
            "[ 21  38  80 140 186 169 134  92  41  19]\n",
            "879\n",
            "[ 11  33  66 135 161 183 126  89  51  24]\n",
            "859\n",
            "[ 20  40  76 126 171 151 127  82  52  14]\n",
            "825\n",
            "[ 11  37  73 116 168 180 115  78  31  16]\n",
            "781\n",
            "[ 13  39  73 117 162 142 121  59  50   5]\n",
            "719\n",
            "[ 10  26  61 121 164 128 107  62  32   8]\n",
            "654\n",
            "[ 15  30  54  99 118 130  93  65  40  10]\n",
            "628\n",
            "[  6  28  45 107 120 131 109  53  22   7]\n",
            "655\n",
            "[ 18  26  65 100 124 115  91  69  34  13]\n",
            "601\n",
            "[ 13  23  59  95 110 104 100  52  31  14]\n",
            "571\n",
            "[ 14  26  53 101  94 111  71  65  23  13]\n",
            "536\n",
            "[ 13  18  44  84  99 120  75  43  30  10]\n",
            "509\n",
            "[  9  25  56  71 107 102  73  43  18   5]\n",
            "486\n",
            "[11 25 55 64 98 84 60 47 29 13]\n",
            "425\n",
            "[ 6 15 54 62 87 73 61 44 15  8]\n",
            "465\n",
            "[10 20 39 60 92 96 76 41 21 10]\n",
            "387\n",
            "[ 6 24 43 66 68 69 57 31 15  8]\n",
            "375\n",
            "[12 15 31 61 68 74 57 33 17  7]\n",
            "347\n",
            "[ 7 11 34 52 67 75 58 27 11  5]\n",
            "292\n",
            "[ 6 13 26 45 47 63 47 25 15  5]\n",
            "315\n",
            "[ 7 10 30 50 65 64 46 28 13  2]\n",
            "286\n",
            "[10 19 24 51 49 67 36 18  9  3]\n",
            "247\n",
            "[ 6 15 25 40 39 59 30 21  7  5]\n",
            "220\n",
            "[ 4 14 22 30 45 32 36 20 11  6]\n",
            "202\n",
            "[ 3  9 19 35 43 52 21  8 10  2]\n",
            "182\n",
            "[ 3  6 15 27 33 39 30 17  8  4]\n",
            "169\n",
            "[ 3  6 12 29 34 32 27 16  5  5]\n",
            "171\n",
            "[ 2 13 13 30 30 37 23 14  6  3]\n",
            "181\n",
            "[ 5  7 19 34 38 32 22 15  5  4]\n",
            "143\n",
            "[ 4  8 17 13 28 22 22 13 13  3]\n",
            "115\n",
            "[ 2  7 13 17 20 21 15 11  7  2]\n",
            "91\n",
            "[ 2  3  6 20 14 16 14  9  4  3]\n",
            "99\n",
            "[ 2  5 12 10 24 22 10  9  5  0]\n",
            "77\n",
            "[ 2  5  3 15 17 12 12  9  1  1]\n",
            "70\n",
            "[ 0  4  6 12 13 13  7  9  5  1]\n",
            "60000\n"
          ],
          "name": "stdout"
        }
      ]
    },
    {
      "cell_type": "code",
      "metadata": {
        "id": "UTiJPo5Y-_ea",
        "colab_type": "code",
        "outputId": "98d9640e-077d-4bcf-9a27-246c5f2c2486",
        "colab": {
          "base_uri": "https://localhost:8080/"
        }
      },
      "source": [
        "#查看数量是否有误\n",
        "num1 = 0\n",
        "num2 = 0\n",
        "for j in range(5):\n",
        "  #print(\"pixels\",len(pixels[j]))\n",
        "  num1 = num1 + len(pixels[j])\n",
        "  num2 = num2 + len(label[j])\n",
        "  #print(\"label\",label[j])\n",
        "print(num1)\n",
        "# # print(num2)\n",
        "\n",
        "#随机画图看是否有误:第一次有误，label和图片对不上\n",
        "#把图片画出来看一看\n",
        "# for i in range(10):\n",
        "#   print(f3[\"examples\"][client_ids[3]][\"label\"].value[i])\n",
        "#   plt.imshow(f3[\"examples\"][client_ids[3]][\"pixels\"].value[i],cmap='gray')\n",
        "#   plt.grid(False)\n",
        "#   plt.show()"
      ],
      "execution_count": 0,
      "outputs": [
        {
          "output_type": "stream",
          "text": [
            "3000\n"
          ],
          "name": "stdout"
        }
      ]
    },
    {
      "cell_type": "code",
      "metadata": {
        "id": "hN78Iq1mhoWJ",
        "colab_type": "code",
        "outputId": "af2ec5fb-9df8-4b13-a3b3-c618353356c3",
        "colab": {
          "base_uri": "https://localhost:8080/",
          "height": 35
        }
      },
      "source": [
        "#数据集构造完成以后，调用内存清理操作\n",
        "f4.close()\n",
        "del pixels[:]\n",
        "del label[:]\n",
        "del bal4_p[:]\n",
        "del bal4_l[:]\n",
        "#del bal4_imbalance_class[:]\n",
        "gc.collect()"
      ],
      "execution_count": 0,
      "outputs": [
        {
          "output_type": "execute_result",
          "data": {
            "text/plain": [
              "0"
            ]
          },
          "metadata": {
            "tags": []
          },
          "execution_count": 105
        }
      ]
    },
    {
      "cell_type": "markdown",
      "metadata": {
        "id": "EgLe3GZ8s_rw",
        "colab_type": "text"
      },
      "source": [
        "### 关闭文件操作"
      ]
    },
    {
      "cell_type": "code",
      "metadata": {
        "id": "Pwux3ldMtGml",
        "colab_type": "code",
        "outputId": "8a0d7008-758e-4ac3-d9ec-861cbfcbe211",
        "colab": {
          "base_uri": "https://localhost:8080/",
          "height": 224
        }
      },
      "source": [
        "#f_t.close()\n",
        "f1.close()\n",
        "f2.close()\n",
        "f3.close()\n",
        "f4.close()"
      ],
      "execution_count": 0,
      "outputs": [
        {
          "output_type": "error",
          "ename": "NameError",
          "evalue": "ignored",
          "traceback": [
            "\u001b[0;31m---------------------------------------------------------------------------\u001b[0m",
            "\u001b[0;31mNameError\u001b[0m                                 Traceback (most recent call last)",
            "\u001b[0;32m<ipython-input-122-5331a042458e>\u001b[0m in \u001b[0;36m<module>\u001b[0;34m()\u001b[0m\n\u001b[0;32m----> 1\u001b[0;31m \u001b[0mf1\u001b[0m\u001b[0;34m.\u001b[0m\u001b[0mclose\u001b[0m\u001b[0;34m(\u001b[0m\u001b[0;34m)\u001b[0m\u001b[0;34m\u001b[0m\u001b[0;34m\u001b[0m\u001b[0m\n\u001b[0m\u001b[1;32m      2\u001b[0m \u001b[0mf2\u001b[0m\u001b[0;34m.\u001b[0m\u001b[0mclose\u001b[0m\u001b[0;34m(\u001b[0m\u001b[0;34m)\u001b[0m\u001b[0;34m\u001b[0m\u001b[0;34m\u001b[0m\u001b[0m\n\u001b[1;32m      3\u001b[0m \u001b[0mf3\u001b[0m\u001b[0;34m.\u001b[0m\u001b[0mclose\u001b[0m\u001b[0;34m(\u001b[0m\u001b[0;34m)\u001b[0m\u001b[0;34m\u001b[0m\u001b[0;34m\u001b[0m\u001b[0m\n\u001b[1;32m      4\u001b[0m \u001b[0mf4\u001b[0m\u001b[0;34m.\u001b[0m\u001b[0mclose\u001b[0m\u001b[0;34m(\u001b[0m\u001b[0;34m)\u001b[0m\u001b[0;34m\u001b[0m\u001b[0;34m\u001b[0m\u001b[0m\n",
            "\u001b[0;31mNameError\u001b[0m: name 'f1' is not defined"
          ]
        }
      ]
    },
    {
      "cell_type": "markdown",
      "metadata": {
        "id": "IFa-6jkwEmYA",
        "colab_type": "text"
      },
      "source": [
        "### 各个数据集实例化"
      ]
    },
    {
      "cell_type": "code",
      "metadata": {
        "id": "Ckb9MoXRpqkA",
        "colab_type": "code",
        "outputId": "ef2eb2b0-06b8-4cf5-ec74-ec1236de46a9",
        "colab": {
          "base_uri": "https://localhost:8080/",
          "height": 35
        }
      },
      "source": [
        "#实例化构造的数据集:test\n",
        "test = tff.simulation.hdf5_client_data.HDF5ClientData(\"/content/drive/My Drive/Colab Notebooks/test.hdf5\")\n",
        "num_clients_test = len(test.client_ids)\n",
        "print(num_clients_test)"
      ],
      "execution_count": 0,
      "outputs": [
        {
          "output_type": "stream",
          "text": [
            "50\n"
          ],
          "name": "stdout"
        }
      ]
    },
    {
      "cell_type": "code",
      "metadata": {
        "id": "tLcRrX6pk41S",
        "colab_type": "code",
        "outputId": "f2b71627-0685-4100-ee2c-e02fa5aae4de",
        "colab": {
          "base_uri": "https://localhost:8080/",
          "height": 35
        }
      },
      "source": [
        "#实例化构造的数据集：BAL1\n",
        "BAL1 = tff.simulation.hdf5_client_data.HDF5ClientData(\"/content/drive/My Drive/Colab Notebooks/BAL1.hdf5\")\n",
        "num_clients_BAL1 = len(BAL1.client_ids)\n",
        "print(num_clients_BAL1)\n",
        "#留出总客户端的4分之一做测试集\n",
        "#BAL1_train, BAL1_test = BAL1.train_test_client_split(client_data=BAL1, num_test_clients= num_clients_BAL1//4)"
      ],
      "execution_count": 0,
      "outputs": [
        {
          "output_type": "stream",
          "text": [
            "100\n"
          ],
          "name": "stdout"
        }
      ]
    },
    {
      "cell_type": "code",
      "metadata": {
        "id": "WTobUHpCFcHm",
        "colab_type": "code",
        "outputId": "349deb9b-d7bc-4de4-aad2-cead6ea7f447",
        "colab": {
          "base_uri": "https://localhost:8080/",
          "height": 35
        }
      },
      "source": [
        "#实例化构造的数据集：BAL2\n",
        "BAL2 = tff.simulation.hdf5_client_data.HDF5ClientData(\"/content/drive/My Drive/Colab Notebooks/BAL2.hdf5\")\n",
        "num_clients_BAL2 = len(BAL2.client_ids)\n",
        "print(num_clients_BAL2)\n",
        "#留出总客户端的4分之一做测试集\n",
        "#BAL2_train, BAL2_test = BAL2.train_test_client_split(client_data=BAL2, num_test_clients= num_clients_BAL2//4)"
      ],
      "execution_count": 0,
      "outputs": [
        {
          "output_type": "stream",
          "text": [
            "100\n"
          ],
          "name": "stdout"
        }
      ]
    },
    {
      "cell_type": "code",
      "metadata": {
        "id": "eeyvo_YQ2fBo",
        "colab_type": "code",
        "outputId": "aa7ddaf2-dbbc-4e23-e369-ac1bb04b2ac7",
        "colab": {
          "base_uri": "https://localhost:8080/",
          "height": 55
        }
      },
      "source": [
        "#实例化构造的数据集：BAL3\n",
        "BAL3 = tff.simulation.hdf5_client_data.HDF5ClientData(\"/content/drive/My Drive/Colab Notebooks/BAL3.hdf5\")\n",
        "num_clients_BAL3 = len(BAL3.client_ids)\n",
        "#print(num_clients_BAL3)\n",
        "\n",
        "#使用了迭代器发现确实BAL3里面的客户端样本数和分配给它的不一样\n",
        "example_dataset = BAL3.create_tf_dataset_for_client(\n",
        "    BAL3.client_ids[2]\n",
        ")\n",
        "example_element = next(iter(example_dataset))\n",
        "\n",
        "print(BAL3.client_ids[0:20])\n",
        "\n",
        "# print(num_per_class(l))\n",
        "# print(example_element['label'].numpy() )\n",
        "# plt.imshow(example_element['pixels'].numpy(), cmap='gray', aspect='equal')\n",
        "# plt.grid(False)\n",
        "# #这里这个画应该是一种很随意的，因为不想再用所以命名就是_\n",
        "# #plt.imshow（）负责对图像进行处理并调整其格式但是不能显示，必须在其后跟着plt.show()才能成功显示出来\n",
        "# _=plt.show()"
      ],
      "execution_count": 0,
      "outputs": [
        {
          "output_type": "stream",
          "text": [
            "['f00_0', 'f00_1', 'f00_10', 'f00_11', 'f00_12', 'f00_13', 'f00_14', 'f00_15', 'f00_16', 'f00_17', 'f00_18', 'f00_19', 'f00_2', 'f00_20', 'f00_21', 'f00_22', 'f00_23', 'f00_24', 'f00_25', 'f00_26']\n"
          ],
          "name": "stdout"
        }
      ]
    },
    {
      "cell_type": "code",
      "metadata": {
        "id": "GGl0f9fVwy4p",
        "colab_type": "code",
        "outputId": "e214aba9-9d00-4d75-9206-7c0bf54c5c47",
        "colab": {
          "base_uri": "https://localhost:8080/",
          "height": 73
        }
      },
      "source": [
        "#实例化构造的数据集：BAL4\n",
        "BAL4 = tff.simulation.hdf5_client_data.HDF5ClientData(\"/content/drive/My Drive/Colab Notebooks/BAL4.hdf5\")\n",
        "num_clients_BAL4 = len(BAL4.client_ids)\n",
        "print(num_clients_BAL4)\n",
        "example_dataset = BAL4.create_tf_dataset_for_client(\n",
        "    BAL4.client_ids[4]\n",
        ")\n",
        "example_element = next(iter(example_dataset))\n",
        "\n",
        "print(BAL4.client_ids[0:20])\n",
        "\n",
        "#调查，第2个客户端只分配了300个样本，但是用迭代器迭代出来了600个样本,全部都可以实例化\n"
      ],
      "execution_count": 0,
      "outputs": [
        {
          "output_type": "stream",
          "text": [
            "100\n",
            "['f00_0', 'f00_1', 'f00_10', 'f00_11', 'f00_12', 'f00_13', 'f00_14', 'f00_15', 'f00_16', 'f00_17', 'f00_18', 'f00_19', 'f00_2', 'f00_20', 'f00_21', 'f00_22', 'f00_23', 'f00_24', 'f00_25', 'f00_26']\n"
          ],
          "name": "stdout"
        }
      ]
    },
    {
      "cell_type": "code",
      "metadata": {
        "id": "wKth4b_uidw3",
        "colab_type": "code",
        "outputId": "4b7d7104-b9ac-4d69-aeab-a50129c890cd",
        "colab": {
          "base_uri": "https://localhost:8080/",
          "height": 35
        }
      },
      "source": [
        "print(len(test.client_ids))"
      ],
      "execution_count": 0,
      "outputs": [
        {
          "output_type": "stream",
          "text": [
            "50\n"
          ],
          "name": "stdout"
        }
      ]
    },
    {
      "cell_type": "code",
      "metadata": {
        "id": "RPD6BU2unLwo",
        "colab_type": "code",
        "outputId": "480d0d30-a794-4ea7-f906-82072969255d",
        "colab": {
          "base_uri": "https://localhost:8080/",
          "height": 53
        }
      },
      "source": [
        "#BAL1.client_ids\n",
        "#这里面的每一个打印出来都是和example_dataset类型一样的\n",
        "x = tf.data.Dataset.from_tensor_slices(\n",
        "        collections.OrderedDict((name, ds.value) for name, ds in sorted(\n",
        "            f1[\"examples\"][BAL1.client_ids[0]].items())))\n",
        "print(x)\n",
        "example_dataset = emnist_train.create_tf_dataset_for_client(\n",
        "    emnist_train.client_ids[0]\n",
        ")\n",
        "print(example_dataset)"
      ],
      "execution_count": 0,
      "outputs": [
        {
          "output_type": "stream",
          "text": [
            "<TensorSliceDataset shapes: OrderedDict([(label, ()), (pixels, (28, 28))]), types: OrderedDict([(label, tf.int32), (pixels, tf.float32)])>\n",
            "<TensorSliceDataset shapes: OrderedDict([(label, ()), (pixels, (28, 28))]), types: OrderedDict([(label, tf.int32), (pixels, tf.float32)])>\n"
          ],
          "name": "stdout"
        }
      ]
    },
    {
      "cell_type": "code",
      "metadata": {
        "id": "DHXBNT_UxIWo",
        "colab_type": "code",
        "outputId": "a234c1c7-85da-4ce0-f7bf-4e8dab10d3af",
        "colab": {
          "base_uri": "https://localhost:8080/",
          "height": 35
        }
      },
      "source": [
        "#此处得到客户端的总数K，因为每一轮随机选择C×K的向上取整\n",
        "#根据FedAvg做的研究C取0.2可获得较好的性能，为了简化模型K这里取固定的数\n",
        "# K = len(emnist_train.client_ids)\n",
        "#BAL1数据集\n",
        "K = len(BAL4.client_ids)\n",
        "C = 0.02\n",
        "math.ceil(K*C)"
      ],
      "execution_count": 0,
      "outputs": [
        {
          "output_type": "execute_result",
          "data": {
            "text/plain": [
              "8"
            ]
          },
          "metadata": {
            "tags": []
          },
          "execution_count": 17
        }
      ]
    },
    {
      "cell_type": "code",
      "metadata": {
        "id": "RaO3Jj0e8Pwb",
        "colab_type": "code",
        "outputId": "06688db3-d0f3-48c6-8794-912c0ed132ce",
        "colab": {
          "base_uri": "https://localhost:8080/",
          "height": 283
        }
      },
      "source": [
        "#这个单元格在看数据集里面的图片是否正常\n",
        "#第一次：test的label和图片匹配不上\n",
        "example_dataset = BAL1.create_tf_dataset_for_client(\n",
        "    BAL1.client_ids[3]\n",
        ")\n",
        "\n",
        "example_element = next(iter(example_dataset))\n",
        "print(example_element['label'].numpy())  #加了.numpy（）是在取numpy()属性的值，就是用.取属性值的意思\n",
        "\n",
        "from matplotlib import pyplot as plt\n",
        "plt.imshow(example_element['pixels'].numpy(), cmap='gray', aspect='equal')\n",
        "plt.grid(False)\n",
        "_=plt.show()"
      ],
      "execution_count": 0,
      "outputs": [
        {
          "output_type": "stream",
          "text": [
            "0\n"
          ],
          "name": "stdout"
        },
        {
          "output_type": "display_data",
          "data": {
            "image/png": "[encoded data removed]",
            "text/plain": [
              "<Figure size 432x288 with 1 Axes>"
            ]
          },
          "metadata": {
            "tags": []
          }
        }
      ]
    },
    {
      "cell_type": "markdown",
      "metadata": {
        "id": "ip--KI1UhiSU",
        "colab_type": "text"
      },
      "source": [
        "### 图像预处理"
      ]
    },
    {
      "cell_type": "code",
      "metadata": {
        "id": "Fc578aa2UuZa",
        "colab_type": "code",
        "colab": {}
      },
      "source": [
        "#NUM_CLIENTS在实验的时候应该是K×C,375*0.2=75\n",
        "#NUM_CLIENTS = math.ceil(K*C)\n",
        "NUM_EPOCHS = 5\n",
        "BATCH_SIZE = 20\n",
        "SHUFFLE_BUFFER = 100\n",
        "PREFETCH_BUFFER = 10\n",
        "\n",
        "#预处理，将图片中的‘pixels'、‘label'分别表示成x和y\n",
        "#将28×28的图像展平成784个元素，打乱顺序\n",
        "def preprocess(dataset):\n",
        "  #内部函数将像素和标签转换成x和y，并将像素展平\n",
        "  def batch_format_fn(element):\n",
        "    return collections.OrderedDict(\n",
        "        #因为是灰度图所以通道数为1，如果是rgb图片则为3\n",
        "        #因为CNN卷积层接收一个4d向量\n",
        "        x = tf.reshape(element['pixels'], [-1,28,28,1]),\n",
        "        y = tf.reshape(element['label'], [-1,1])\n",
        "    )\n",
        "  \n",
        "  return dataset.repeat(NUM_EPOCHS).shuffle(SHUFFLE_BUFFER).batch(BATCH_SIZE).map(batch_format_fn).prefetch(PREFETCH_BUFFER)"
      ],
      "execution_count": 0,
      "outputs": []
    },
    {
      "cell_type": "code",
      "metadata": {
        "id": "mRqmbbzamP1e",
        "colab_type": "code",
        "colab": {}
      },
      "source": [
        "#为指定用户创建联邦数据,接收训练集和用户id\n",
        "def make_federated_data(client_data, client_ids):\n",
        "  return [\n",
        "      preprocess(client_data.create_tf_dataset_for_client(x))\n",
        "      for x in client_ids\n",
        "    ]\n"
      ],
      "execution_count": 0,
      "outputs": []
    },
    {
      "cell_type": "code",
      "metadata": {
        "id": "NDHJSC8OYaZj",
        "colab_type": "code",
        "outputId": "57dc4ee9-3ced-41fc-9400-da9ba8f36b47",
        "colab": {
          "base_uri": "https://localhost:8080/"
        }
      },
      "source": [
        "#这里改成随机获得NUM_CLIENTS个用户，模拟联邦学习每轮的随机选择用户\n",
        "# sample_clients = random.sample(emnist_train.client_ids, NUM_CLIENTS)\n",
        "# federated_train_data = make_federated_data(emnist_train, sample_clients)\n",
        "example_dataset = BAL1.create_tf_dataset_for_client(\n",
        "    BAL1.client_ids[0]\n",
        ")\n",
        "print(\"examle_dataset\",example_dataset)\n",
        "\n",
        "#BAL1数据集测试\n",
        "#sample_clients = random.sample(BAL1.client_ids, NUM_CLIENTS)\n",
        "sample_clients = BAL1.client_ids[0:NUM_CLIENTS]\n",
        "federated_train_data = make_federated_data(BAL1, sample_clients)\n",
        "\n",
        "#BAL2数据集测试\n",
        "sample_clients = BAL1.client_ids[0:NUM_CLIENTS]\n",
        "federated_train_data = make_federated_data(BAL1, sample_clients)"
      ],
      "execution_count": 0,
      "outputs": [
        {
          "output_type": "stream",
          "text": [
            "examle_dataset <TensorSliceDataset shapes: OrderedDict([(label, ()), (pixels, (28, 28))]), types: OrderedDict([(label, tf.int32), (pixels, tf.float32)])>\n"
          ],
          "name": "stdout"
        }
      ]
    },
    {
      "cell_type": "markdown",
      "metadata": {
        "id": "eZEcia5FltoP",
        "colab_type": "text"
      },
      "source": [
        "### 原使用class的模型部分"
      ]
    },
    {
      "cell_type": "code",
      "metadata": {
        "id": "l4MRt7FEh2gq",
        "colab_type": "code",
        "colab": {}
      },
      "source": [
        "'''\n",
        "#！自己添加代码中，正在想办法把训练模型改成CNN\n",
        "class CNN(tf.keras.Model):\n",
        "    def __init__(self):\n",
        "        super().__init__()\n",
        "        self.conv1 = tf.keras.layers.Conv2D(\n",
        "            filters=32,             # 卷积层神经元（卷积核）数目\n",
        "            kernel_size=[5, 5],     # 感受野大小\n",
        "            padding='same',         # padding策略（vaild 或 same）\n",
        "            activation=tf.nn.relu   # 激活函数\n",
        "        )\n",
        "        self.pool1 = tf.keras.layers.MaxPool2D(pool_size=[2, 2], strides=2)\n",
        "        self.conv2 = tf.keras.layers.Conv2D(\n",
        "            filters=64,\n",
        "            kernel_size=[5, 5],\n",
        "            padding='same',\n",
        "            activation=tf.nn.relu\n",
        "        )\n",
        "        #print(\"kernel:\",kernel_size)\n",
        "        self.pool2 = tf.keras.layers.MaxPool2D(pool_size=[2, 2], strides=2)\n",
        "        self.flatten = tf.keras.layers.Reshape(target_shape=(7 * 7 * 64,))\n",
        "        self.dense1 = tf.keras.layers.Dense(units=1024, activation=tf.nn.relu)\n",
        "        self.dense2 = tf.keras.layers.Dense(units=10)\n",
        " \n",
        "    def call(self, inputs):\n",
        "        x = self.conv1(inputs)                  # [batch_size, 28, 28, 32]\n",
        "        x = self.pool1(x)                       # [batch_size, 14, 14, 32]\n",
        "        x = self.conv2(x)                       # [batch_size, 14, 14, 64]\n",
        "        x = self.pool2(x)                       # [batch_size, 7, 7, 64]\n",
        "        x = self.flatten(x)                     # [batch_size, 7 * 7 * 64]\n",
        "        x = self.dense1(x)                      # [batch_size, 1024]\n",
        "        x = self.dense2(x)\n",
        "        #tf.nn.softmax()将原始输出归一化，且能凸显原始向量中最大的值                      # [batch_size, 10]\n",
        "        output = tf.nn.softmax(x)\n",
        "        return output\n",
        "        '''\n"
      ],
      "execution_count": 0,
      "outputs": []
    },
    {
      "cell_type": "markdown",
      "metadata": {
        "id": "pw419GpLlmz9",
        "colab_type": "text"
      },
      "source": [
        "### 模型定义部分\n"
      ]
    },
    {
      "cell_type": "code",
      "metadata": {
        "id": "HNo6O_5qSNSB",
        "colab_type": "code",
        "colab": {}
      },
      "source": [
        "#创建一个变量集合来表示所有变量,包括model(weights+bias)以及metrics(num_examples,loss_sum,accuracy_sum)\n",
        "MnistVariables = collections.namedtuple(\n",
        "    'MnistVariables','cnn_conv2d_kernel cnn_conv2d_bias cnn_conv2d_1_kernel cnn_conv2d_1_bias cnn_dense_kernel cnn_dense_bias cnn_dense_1_kernel cnn_dense_1_bias num_examples loss_sum accuracy_sum'\n",
        ")"
      ],
      "execution_count": 0,
      "outputs": []
    },
    {
      "cell_type": "code",
      "metadata": {
        "id": "hSEDLYxJTZ8y",
        "colab_type": "code",
        "colab": {}
      },
      "source": [
        "#创建变量并初始化\n",
        "def create_mnist_variables():\n",
        "  #核初始化函数，使用正态分布，先使用tf.XXX(初始参数)生成一个模型关键字C，再使用C(arg1)传参数进去\n",
        "  kernel_initalizer=tf.keras.initializers.TruncatedNormal(mean=0.0, stddev=0.05)\n",
        "  bias_initaializer=tf.keras.initializers.Constant(value=0.01)\n",
        "  return MnistVariables(\n",
        "      #第一层卷积在5×5的patch中算出32个特征，权重张量形状为[5,5,1,32]\n",
        "      #前两个维度是patch的大小，接着是输入的通道数，最后是输出的通道数目\n",
        "      #h_conv1.shape=[-1,28,28,32]，第一个pooling层将其变成[-1,14,14,32]     \n",
        "      cnn_conv2d_kernel=tf.Variable(\n",
        "          #权重初始化至关重要，不能全部初始化为0！！！\n",
        "          initial_value=kernel_initalizer(shape=(5,5,1,32), dtype=tf.float32),\n",
        "          name='cnn_conv2d_kernel',\n",
        "          trainable=True),\n",
        "      #32个输出通道，每个输出通道都有一个对应的偏置\n",
        "      cnn_conv2d_bias=tf.Variable(\n",
        "          #lambda: tf.zeros(dtype=tf.float32, shape=(32,)),\n",
        "          initial_value=bias_initaializer(shape=(32,), dtype=tf.float32),\n",
        "          name='cnn_conv2d_bias',\n",
        "          trainable=True),\n",
        "      #第二层卷积,64个过滤器，共享权重矩阵为32*5*5,h_conv2.shape=[-1,14,14,64]\n",
        "      #第二个pooling层将其变成[-1,7,7,64]\n",
        "      cnn_conv2d_1_kernel=tf.Variable(\n",
        "          initial_value=kernel_initalizer(shape=(5,5,32,64), dtype=tf.float32),\n",
        "          name='cnn_conv2d_1_kernel',\n",
        "          trainable=True),\n",
        "      #64个输出通道对应64个偏置\n",
        "      cnn_conv2d_1_bias=tf.Variable(\n",
        "          #lambda: tf.zeros(dtype=tf.float32, shape=(64,)),\n",
        "          initial_value=bias_initaializer(shape=(64,), dtype=tf.float32),\n",
        "          name='cnn_conv2d_1_bias',\n",
        "          trainable=True),\n",
        "      #全连接层，现在图片尺寸减小到7×7，加入一个有1024个神经元的全连接层用于处理整个图片\n",
        "      #将池化层输出的张量reshape成一些7*7*64的向量，乘上权重加上偏置然后使用ReLU\n",
        "      cnn_dense_kernel=tf.Variable(\n",
        "          initial_value=kernel_initalizer(shape=(7*7*64,1024), dtype=tf.float32),\n",
        "          name='cnn_dense_kernel',\n",
        "          trainable=True),\n",
        "      cnn_dense_bias=tf.Variable(\n",
        "          #lambda: tf.zeros(dtype=tf.float32, shape=(1024,)),\n",
        "          initial_value=bias_initaializer(shape=(1024,), dtype=tf.float32),\n",
        "          name='cnn_dense_bias',\n",
        "          trainable=True),\n",
        "      #这里以后可以加一个Dropout\n",
        "      cnn_dense_1_kernel=tf.Variable(\n",
        "          initial_value=kernel_initalizer(shape=(1024,10), dtype=tf.float32),\n",
        "          name='cnn_dense_1_kernel',\n",
        "          trainable=True),\n",
        "      cnn_dense_1_bias=tf.Variable(\n",
        "          #lambda: tf.zeros(dtype=tf.float32, shape=(10,)),\n",
        "          initial_value=bias_initaializer(shape=(10,), dtype=tf.float32),\n",
        "          name='cnn_dense_1_bias',\n",
        "          trainable=True),\n",
        "      num_examples=tf.Variable(0.0, name='num_examples', trainable=False),\n",
        "      loss_sum=tf.Variable(0.0, name='loss_sum', trainable=False),\n",
        "      accuracy_sum=tf.Variable(0.0, name='accuracy_sum', trainable=False)\n",
        "  )"
      ],
      "execution_count": 0,
      "outputs": []
    },
    {
      "cell_type": "code",
      "metadata": {
        "id": "Ib6kQLwtUh5j",
        "colab_type": "code",
        "colab": {}
      },
      "source": [
        "#自定义前向传播函数\n",
        "def mnist_forward_pass(variables, batch):\n",
        "  _input_ = batch['x']  #取训练图片\n",
        "\n",
        "  #神经网络\n",
        "  #第一层卷积\n",
        "  conv = tf.nn.conv2d(_input_, variables.cnn_conv2d_kernel, strides=[1,1,1,1], padding='SAME')                  # [batch_size, 28, 28, 32]\n",
        "  pre_activation = tf.nn.bias_add(conv, variables.cnn_conv2d_bias)\n",
        "  conv1 = tf.nn.relu(pre_activation, name='conv1')\n",
        "\n",
        "  #第一层卷积层的池化\n",
        "  pool1 = tf.nn.max_pool2d(conv1, ksize=[2, 2], strides=2, padding='SAME')\n",
        "\n",
        "  #第二层卷积\n",
        "  conv = tf.nn.conv2d(pool1, variables.cnn_conv2d_1_kernel, strides=[1,1,1,1], padding='SAME')\n",
        "  pre_activation = tf.nn.bias_add(conv, variables.cnn_conv2d_1_bias)\n",
        "  conv2 = tf.nn.relu(pre_activation, name='conv2')\n",
        "\n",
        "  #第二层卷积的池化\n",
        "  pool2 = tf.nn.max_pool2d(conv2, ksize=[2,2], strides=2, padding='SAME')\n",
        "  print(\"pool2\",pool2)\n",
        "  \n",
        "  #flatten\n",
        "  flatten = tf.reshape(pool2, shape=(-1,7*7*64))\n",
        "  print(\"flatten over\")\n",
        "\n",
        "  #全连接层1\n",
        "  dense1 = tf.nn.relu(tf.matmul(flatten, variables.cnn_dense_kernel) + variables.cnn_dense_bias)\n",
        "  print(\"dense1 over\")\n",
        "\n",
        "  #添加一个Dropout防止过拟合\n",
        "  #keep_drop = tf.placeholder(tf.float32)\n",
        "  #drop_dense1 = tf.nn.tropout(dense1, variables.keep_drop)\n",
        "\n",
        "  #全连接层2\n",
        "  dense2 = tf.matmul(dense1, variables.cnn_dense_1_kernel) + variables.cnn_dense_1_bias\n",
        "  print(\"dense2 over\")\n",
        "\n",
        "  y_pred = tf.nn.softmax(dense2)\n",
        "  print(\"y_pred\",y_pred)\n",
        "\n",
        "  #计算损失\n",
        "  flat_labels = tf.reshape(batch['y'], [-1])\n",
        "  loss = -tf.reduce_mean(\n",
        "      tf.reduce_sum(tf.one_hot(flat_labels, 10) * tf.math.log(y_pred), axis=[1]))\n",
        "  \n",
        "  \n",
        "  #计算准确率\n",
        "  predictions = tf.cast(tf.argmax(y_pred,1), tf.int32)\n",
        "  accuracy = tf.reduce_mean(\n",
        "      tf.cast(tf.equal(predictions, flat_labels), tf.float32))\n",
        "  \n",
        "  #样本数\n",
        "  num_examples = tf.cast(tf.size(batch['y']), tf.float32)\n",
        "\n",
        "  #更新样本数、损失和、精度和,每一批都考虑了自己的权重\n",
        "  variables.num_examples.assign_add(num_examples)\n",
        "  variables.loss_sum.assign_add(loss * num_examples)\n",
        "  variables.accuracy_sum.assign_add(accuracy * num_examples)\n",
        "\n",
        "  \n",
        "  return loss, predictions"
      ],
      "execution_count": 0,
      "outputs": []
    },
    {
      "cell_type": "code",
      "metadata": {
        "id": "7mcpE0twbxz-",
        "colab_type": "code",
        "colab": {}
      },
      "source": [
        "#计算本地用户的metrics度量\n",
        "def get_local_mnist_metrics(variables):\n",
        "  return collections.OrderedDict(\n",
        "      num_examples=variables.num_examples,\n",
        "      loss=variables.loss_sum / variables.num_examples,\n",
        "      accuracy=variables.accuracy_sum / variables.num_examples\n",
        "  )"
      ],
      "execution_count": 0,
      "outputs": []
    },
    {
      "cell_type": "code",
      "metadata": {
        "id": "kv_a5zrVch3i",
        "colab_type": "code",
        "colab": {}
      },
      "source": [
        "#集合每个设备发出的本地度量\n",
        "@tff.federated_computation\n",
        "def aggregate_mnist_metrics_across_clients(metrics):\n",
        "  return collections.OrderedDict(\n",
        "      num_examples=tff.federated_sum(metrics.num_examples),\n",
        "      loss=tff.federated_mean(metrics.loss, metrics.num_examples),\n",
        "      accuracy=tff.federated_mean(metrics.accuracy, metrics.num_examples)\n",
        "  )"
      ],
      "execution_count": 0,
      "outputs": []
    },
    {
      "cell_type": "code",
      "metadata": {
        "id": "BE3FpcO5dNr-",
        "colab_type": "code",
        "colab": {}
      },
      "source": [
        "#自定义模型，创建tff.learning.model实例\n",
        "class MnistModel(tff.learning.Model):\n",
        "\n",
        "  def __init__(self):\n",
        "    self._variables = create_mnist_variables()\n",
        "\n",
        "  #所有的“tf.Variables”都应该在“__init__”中引入\n",
        "  @property\n",
        "  def trainable_variables(self):\n",
        "    #return [self._variables.weights, self._variables.bias]\n",
        "    return [self._variables.cnn_conv2d_kernel,\n",
        "        self._variables.cnn_conv2d_bias,\n",
        "        self._variables.cnn_conv2d_1_kernel,\n",
        "        self._variables.cnn_conv2d_1_bias,\n",
        "        self._variables.cnn_dense_kernel,\n",
        "        self._variables.cnn_dense_bias,\n",
        "        self._variables.cnn_dense_1_kernel,\n",
        "        self._variables.cnn_dense_1_bias\n",
        "        ]\n",
        "  \n",
        "  @property\n",
        "  def non_trainable_variables(self):\n",
        "    return []\n",
        "  \n",
        "  @property\n",
        "  def local_variables(self):\n",
        "    return [self._variables.num_examples, self._variables.loss_sum,\n",
        "         self._variables.accuracy_sum]\n",
        "  \n",
        "  @property\n",
        "  def input_spec(self):\n",
        "    return collections.OrderedDict(\n",
        "        x=tf.TensorSpec([None, 28,28,1], tf.float32),\n",
        "        y=tf.TensorSpec([None, 1], tf.int32)\n",
        "    )\n",
        "\n",
        "  @tf.function\n",
        "  def forward_pass(self, batch, training=True):\n",
        "    del training\n",
        "    loss, predictions = mnist_forward_pass(self._variables, batch)\n",
        "    #取出样本数\n",
        "    num_examples = tf.shape(batch['x'])[0]\n",
        "    return tff.learning.BatchOutput(\n",
        "        loss=loss, predictions=predictions, num_examples=num_examples)\n",
        "    \n",
        "  @tf.function\n",
        "  def report_local_outputs(self):\n",
        "    return get_local_mnist_metrics(self._variables)\n",
        "  \n",
        "  @property\n",
        "  def federated_output_computation(self):\n",
        "    return aggregate_mnist_metrics_across_clients"
      ],
      "execution_count": 0,
      "outputs": []
    },
    {
      "cell_type": "code",
      "metadata": {
        "id": "nfqC79A4hVfw",
        "colab_type": "code",
        "outputId": "c939117e-0810-43d6-fad0-e3cc417f6527",
        "colab": {
          "base_uri": "https://localhost:8080/"
        }
      },
      "source": [
        "#创建迭代器执行联合平均的迭代过程\n",
        "iterative_process = tff.learning.build_federated_averaging_process(\n",
        "    MnistModel,\n",
        "    client_optimizer_fn=lambda: tf.keras.optimizers.SGD(learning_rate=0.001)\n",
        ")"
      ],
      "execution_count": 0,
      "outputs": [
        {
          "output_type": "stream",
          "text": [
            "WARNING:tensorflow:From /usr/local/lib/python3.6/dist-packages/tensorflow_core/python/ops/resource_variable_ops.py:1635: calling BaseResourceVariable.__init__ (from tensorflow.python.ops.resource_variable_ops) with constraint is deprecated and will be removed in a future version.\n",
            "Instructions for updating:\n",
            "If using Keras pass *_constraint arguments to layers.\n"
          ],
          "name": "stdout"
        },
        {
          "output_type": "stream",
          "text": [
            "WARNING:tensorflow:From /usr/local/lib/python3.6/dist-packages/tensorflow_core/python/ops/resource_variable_ops.py:1635: calling BaseResourceVariable.__init__ (from tensorflow.python.ops.resource_variable_ops) with constraint is deprecated and will be removed in a future version.\n",
            "Instructions for updating:\n",
            "If using Keras pass *_constraint arguments to layers.\n"
          ],
          "name": "stderr"
        },
        {
          "output_type": "stream",
          "text": [
            "pool2 Tensor(\"MaxPool2d_1:0\", shape=(None, 7, 7, 64), dtype=float32)\n",
            "flatten over\n",
            "dense1 over\n",
            "dense2 over\n",
            "y_pred Tensor(\"Softmax:0\", shape=(None, 10), dtype=float32)\n"
          ],
          "name": "stdout"
        }
      ]
    },
    {
      "cell_type": "markdown",
      "metadata": {
        "id": "77pwbgWvcIPH",
        "colab_type": "text"
      },
      "source": [
        "### 模型训练部分"
      ]
    },
    {
      "cell_type": "code",
      "metadata": {
        "id": "kzJXeJNSlGpe",
        "colab_type": "code",
        "colab": {}
      },
      "source": [
        "#获得初始状态\n",
        "state = iterative_process.initialize()"
      ],
      "execution_count": 0,
      "outputs": []
    },
    {
      "cell_type": "code",
      "metadata": {
        "id": "RpUydYwQnfHd",
        "colab_type": "code",
        "outputId": "78021503-41de-4881-a3a4-c6e2d10aaf56",
        "colab": {
          "base_uri": "https://localhost:8080/",
          "height": 35
        }
      },
      "source": [
        "#NUM_CLIENTS_PER_ROUND = math.ceil(K * C)\n",
        "NUM_CLIENTS = 50\n",
        "NUM_CLIENTS_PER_ROUND = 5\n",
        "#查看第一轮训练\n",
        "# sample_clients = random.sample(emnist_train.client_ids, NUM_CLIENTS)\n",
        "# federated_train_data = make_federated_data(emnist_train, sample_clients)\n",
        "#BAL1数据集测试\n",
        "#sample_clients = random.sample(BAL1.client_ids, NUM_CLIENTS_PER_ROUND)\n",
        "# sample_clients = BAL1.client_ids[0:NUM_CLIENTS_PER_ROUND]\n",
        "# federated_train_data = make_federated_data(BAL1, sample_clients)\n",
        "\n",
        "#BAL2数据集测试\n",
        "# sample_clients = random.sample(BAL2.client_ids, NUM_CLIENTS_PER_ROUND)\n",
        "# sample_clients = BAL2.client_ids[0:NUM_CLIENTS_PER_ROUND]\n",
        "# federated_train_data = make_federated_data(BAL2, sample_clients)\n",
        "\n",
        "# #BAL3数据集测试\n",
        "# sample_clients = random.sample(BAL3.client_ids, NUM_CLIENTS_PER_ROUND)\n",
        "# sample_clients = BAL3.client_ids[0:5]\n",
        "# federated_train_data = make_federated_data(BAL3, sample_clients)\n",
        "\n",
        "\n",
        "#BAL4数据集测试\n",
        "# sample_clients = random.sample(BAL4.client_ids, NUM_CLIENTS_PER_ROUND)\n",
        "sample_clients = BAL4.client_ids[0:5]\n",
        "federated_train_data = make_federated_data(BAL4, sample_clients)\n",
        "\n",
        "state, metrics = iterative_process.next(state, federated_train_data)\n",
        "print('round 1, metrics={}'.format(metrics))"
      ],
      "execution_count": 0,
      "outputs": [
        {
          "output_type": "stream",
          "text": [
            "round 1, metrics=<num_examples=14000.0,loss=0.012825774028897285,accuracy=0.9966428279876709>\n"
          ],
          "name": "stdout"
        }
      ]
    },
    {
      "cell_type": "code",
      "metadata": {
        "id": "lkoGLYGLyYkC",
        "colab_type": "code",
        "outputId": "edaa4a6f-acc3-44d9-b9c3-d973f7d950f7",
        "colab": {
          "base_uri": "https://localhost:8080/"
        }
      },
      "source": [
        "#计算更多轮\n",
        "NUM_ROUNDS = 20\n",
        "NUM_CLIENTS = 100\n",
        "NUM_CLIENTS_PER_ROUND = 5\n",
        "for round_num in range(NUM_ROUNDS):\n",
        "  #随机选择NUM_CLIENTS个用户\n",
        "  # sample_clients = random.sample(emnist_train.client_ids, NUM_CLIENTS_PER_ROUND)\n",
        "  # federated_train_data = make_federated_data(emnist_train, sample_clients)\n",
        "  \n",
        "  # #BAL1数据集测试:先使用使用轮询的方式，不使用随机数\n",
        "  # sample_clients = random.sample(BAL1.client_ids, NUM_CLIENTS_PER_ROUND)\n",
        "  # sample_clients = BAL1.client_ids[NUM_CLIENTS_PER_ROUND*round_num:NUM_CLIENTS_PER_ROUND*(round_num+1)]\n",
        "  # federated_train_data = make_federated_data(BAL1, sample_clients)\n",
        "\n",
        "  # #BAL2数据集测试\n",
        "  # sample_clients = random.sample(BAL2.client_ids, NUM_CLIENTS_PER_ROUND)\n",
        "  # sample_clients = BAL2.client_ids[NUM_CLIENTS_PER_ROUND*round_num:NUM_CLIENTS_PER_ROUND*(round_num+1)]\n",
        "  # federated_train_data = make_federated_data(BAL2, sample_clients)\n",
        "\n",
        "  # #BAL3数据集测试\n",
        "  # sample_clients = random.sample(BAL3.client_ids, NUM_CLIENTS_PER_ROUND)\n",
        "  sample_clients = BAL3.client_ids[NUM_CLIENTS_PER_ROUND*round_num:NUM_CLIENTS_PER_ROUND*(round_num+1)]\n",
        "  federated_train_data = make_federated_data(BAL3, sample_clients)\n",
        "\n",
        "  #BAL4数据集测试\n",
        "  # sample_clients = random.sample(BAL4.client_ids, NUM_CLIENTS_PER_ROUND)\n",
        "  # sample_clients = BAL4.client_ids[NUM_CLIENTS_PER_ROUND*round_num:NUM_CLIENTS_PER_ROUND*(round_num+1)]\n",
        "  # federated_train_data = make_federated_data(BAL4, sample_clients)\n",
        "\n",
        "  state, metrics = iterative_process.next(state, federated_train_data)\n",
        "  print('round {:2d}, metrics={}'.format(round_num+1, metrics))"
      ],
      "execution_count": 0,
      "outputs": [
        {
          "output_type": "stream",
          "text": [
            "round  1, metrics=<num_examples=3700.0,loss=2.284456729888916,accuracy=0.1691891849040985>\n",
            "round  2, metrics=<num_examples=7095.0,loss=2.2083303928375244,accuracy=0.2507399618625641>\n",
            "round  3, metrics=<num_examples=8315.0,loss=2.0977985858917236,accuracy=0.4244137108325958>\n",
            "round  4, metrics=<num_examples=13465.0,loss=1.8999532461166382,accuracy=0.6046788096427917>\n",
            "round  5, metrics=<num_examples=13940.0,loss=1.521445393562317,accuracy=0.7321377396583557>\n",
            "round  6, metrics=<num_examples=21010.0,loss=0.952709436416626,accuracy=0.8167539238929749>\n",
            "round  7, metrics=<num_examples=19800.0,loss=0.6018399596214294,accuracy=0.8547979593276978>\n",
            "round  8, metrics=<num_examples=26925.0,loss=0.4321686327457428,accuracy=0.8918848633766174>\n",
            "round  9, metrics=<num_examples=28340.0,loss=0.36708709597587585,accuracy=0.8986238241195679>\n",
            "round 10, metrics=<num_examples=23475.0,loss=0.30237212777137756,accuracy=0.916719913482666>\n",
            "round 11, metrics=<num_examples=28920.0,loss=0.31739184260368347,accuracy=0.9098893404006958>\n",
            "round 12, metrics=<num_examples=20765.0,loss=0.25882914662361145,accuracy=0.9294486045837402>\n",
            "round 13, metrics=<num_examples=22795.0,loss=0.25755953788757324,accuracy=0.9296336770057678>\n",
            "round 14, metrics=<num_examples=15650.0,loss=0.21166867017745972,accuracy=0.9402555823326111>\n",
            "round 15, metrics=<num_examples=14955.0,loss=0.24410097301006317,accuracy=0.929254412651062>\n",
            "round 16, metrics=<num_examples=10245.0,loss=0.2230270951986313,accuracy=0.9361639618873596>\n",
            "round 17, metrics=<num_examples=8580.0,loss=0.21338659524917603,accuracy=0.9334498643875122>\n",
            "round 18, metrics=<num_examples=5535.0,loss=0.21943414211273193,accuracy=0.9340559840202332>\n",
            "round 19, metrics=<num_examples=4230.0,loss=0.21762464940547943,accuracy=0.9349882006645203>\n",
            "round 20, metrics=<num_examples=2260.0,loss=0.15197399258613586,accuracy=0.9584071040153503>\n"
          ],
          "name": "stdout"
        }
      ]
    },
    {
      "cell_type": "markdown",
      "metadata": {
        "id": "i_EV-vx8b93f",
        "colab_type": "text"
      },
      "source": [
        "### 使用TensorBoard可视化"
      ]
    },
    {
      "cell_type": "code",
      "metadata": {
        "id": "VKKb6c6h0AMF",
        "colab_type": "code",
        "colab": {}
      },
      "source": [
        "'''\n",
        "#使用tensorboard可视化\n",
        "#使用Tensorboard可视化这些联邦计算的度量\n",
        "#创建目录和相应的摘要编写器\n",
        "#@test {\"skip\": true}\n",
        "logdir = \"/tmp/logs/scalars/training/\"\n",
        "summary_writer = tf.summary.create_file_writer(logdir)\n",
        "state = iterative_process.initialize()\n",
        "\n",
        "#!!!太坑了，我以为@test是无关紧要的东西，emmm，就省略了，没想到就凉凉\n",
        "#@test {\"skip\": true}\n",
        "with summary_writer.as_default():\n",
        "  for round_num in range(1, NUM_ROUNDS):\n",
        "    #随机选择用户\n",
        "    sample_clients = random.sample(emnist_train.client_ids, NUM_CLIENTS)\n",
        "    federated_train_data = make_federated_data(emnist_train, sample_clients)\n",
        "\n",
        "    state, metrics = iterative_process.next(state, federated_train_data)\n",
        "\n",
        "    print('round {:2d}, metrics={}'.format(round_num, metrics))\n",
        "\n",
        "    for name, value in metrics._asdict().items():\n",
        "      tf.summary.scalar(name, value, step=round_num)\n",
        "'''"
      ],
      "execution_count": 0,
      "outputs": []
    },
    {
      "cell_type": "code",
      "metadata": {
        "id": "Pn70ix21PgDn",
        "colab_type": "code",
        "outputId": "117f75c1-645d-482c-c8f0-e7c1188cf29b",
        "colab": {
          "base_uri": "https://localhost:8080/",
          "height": 555
        }
      },
      "source": [
        "'''\n",
        "#这个tensorBoard像有猫病一样，昨天还可以今天来突然就不行了\n",
        "#@test {\"skip\":true}\n",
        "%load_ext tensorboard\n",
        "%tensorboard --logdir /tmp/logs/scalars/ --port=0\n",
        "'''"
      ],
      "execution_count": 0,
      "outputs": [
        {
          "output_type": "stream",
          "text": [
            "The tensorboard extension is already loaded. To reload it, use:\n",
            "  %reload_ext tensorboard\n"
          ],
          "name": "stdout"
        },
        {
          "output_type": "display_data",
          "data": {
            "text/plain": [
              "ERROR: Failed to launch TensorBoard (exited with 1).\n",
              "Contents of stderr:\n",
              "2020-04-06 08:24:12.865933: W tensorflow/stream_executor/platform/default/dso_loader.cc:55] Could not load dynamic library 'libnvinfer.so.6'; dlerror: libnvinfer.so.6: cannot open shared object file: No such file or directory; LD_LIBRARY_PATH: /usr/local/nvidia/lib:/usr/local/nvidia/lib64\n",
              "2020-04-06 08:24:12.866088: W tensorflow/stream_executor/platform/default/dso_loader.cc:55] Could not load dynamic library 'libnvinfer_plugin.so.6'; dlerror: libnvinfer_plugin.so.6: cannot open shared object file: No such file or directory; LD_LIBRARY_PATH: /usr/local/nvidia/lib:/usr/local/nvidia/lib64\n",
              "2020-04-06 08:24:12.866105: W tensorflow/compiler/tf2tensorrt/utils/py_utils.cc:30] Cannot dlopen some TensorRT libraries. If you would like to use Nvidia GPU with TensorRT, please make sure the missing libraries mentioned above are installed properly.\n",
              "Traceback (most recent call last):\n",
              "  File \"/usr/local/bin/tensorboard\", line 8, in <module>\n",
              "    sys.exit(run_main())\n",
              "  File \"/usr/local/lib/python3.6/dist-packages/tensorboard/main.py\", line 66, in run_main\n",
              "    app.run(tensorboard.main, flags_parser=tensorboard.configure)\n",
              "  File \"/usr/local/lib/python3.6/dist-packages/absl/app.py\", line 299, in run\n",
              "    _run_main(main, args)\n",
              "  File \"/usr/local/lib/python3.6/dist-packages/absl/app.py\", line 250, in _run_main\n",
              "    sys.exit(main(argv))\n",
              "  File \"/usr/local/lib/python3.6/dist-packages/tensorboard/program.py\", line 268, in main\n",
              "    return runner(self.flags) or 0\n",
              "  File \"/usr/local/lib/python3.6/dist-packages/tensorboard/program.py\", line 282, in _run_serve_subcommand\n",
              "    server = self._make_server()\n",
              "  File \"/usr/local/lib/python3.6/dist-packages/tensorboard/program.py\", line 361, in _make_server\n",
              "    self.assets_zip_provider)\n",
              "  File \"/usr/local/lib/python3.6/dist-packages/tensorboard/backend/application.py\", line 165, in standard_tensorboard_wsgi\n",
              "    flags, plugin_loaders, data_provider, assets_zip_provider, multiplexer)\n",
              "  File \"/usr/local/lib/python3.6/dist-packages/tensorboard/backend/application.py\", line 234, in TensorBoardWSGIApp\n",
              "    return TensorBoardWSGI(tbplugins, flags.path_prefix)\n",
              "  File \"/usr/local/lib/python3.6/dist-packages/tensorboard/backend/application.py\", line 286, in __init__\n",
              "    raise ValueError('Duplicate plugins for name %s' % plugin.plugin_name)\n",
              "ValueError: Duplicate plugins for name whatif"
            ]
          },
          "metadata": {
            "tags": []
          }
        }
      ]
    },
    {
      "cell_type": "markdown",
      "metadata": {
        "id": "dHsGUj-3b07z",
        "colab_type": "text"
      },
      "source": [
        "### 在测试集上评估"
      ]
    },
    {
      "cell_type": "code",
      "metadata": {
        "id": "HBGzrtDgP8hn",
        "colab_type": "code",
        "outputId": "854694fd-3c6d-41e9-fe71-c1dec3bf263a",
        "colab": {
          "base_uri": "https://localhost:8080/",
          "height": 106
        }
      },
      "source": [
        "#在测试集上进行测试\n",
        "#求值传递MnistModel就足够了，不执行梯度下降，也不需要构造优化器，MnistTModel就是前面定义的那个class\n",
        "evaluation = tff.learning.build_federated_evaluation(MnistModel)"
      ],
      "execution_count": 0,
      "outputs": [
        {
          "output_type": "stream",
          "text": [
            "pool2 Tensor(\"MaxPool2d_1:0\", shape=(None, 7, 7, 64), dtype=float32)\n",
            "flatten over\n",
            "dense1 over\n",
            "dense2 over\n",
            "y_pred Tensor(\"Softmax:0\", shape=(None, 10), dtype=float32)\n"
          ],
          "name": "stdout"
        }
      ]
    },
    {
      "cell_type": "code",
      "metadata": {
        "id": "lQjEUho65VGX",
        "colab_type": "code",
        "colab": {}
      },
      "source": [
        "#评估一下在训练中得到的最新状态，为了从服务器状态中提取最新的训练模型，只需访问.model成员\n",
        "#和上面说的形式一样，它接收model和联邦数据并返回训练的metrics\n",
        "#这里是在评估模型的最新状态，为了从服务器状态中提取最新的训练模型，只需访问.model成员\n",
        "#train_metrics = evaluation(state.model, federated_train_data)"
      ],
      "execution_count": 0,
      "outputs": []
    },
    {
      "cell_type": "code",
      "metadata": {
        "id": "0M5UwerU5V6R",
        "colab_type": "code",
        "outputId": "a6af2547-685f-4ac4-9b0f-5aadabfbae3f",
        "colab": {
          "base_uri": "https://localhost:8080/",
          "height": 73
        }
      },
      "source": [
        "#编译联邦数据的测试样本，并对测试数据重新运行求值。同样也是随机选择NUM_CLIENTS个用户。\n",
        "# sample_clients = random.sample(emnist_train.client_ids, NUM_CLIENTS_PER_ROUND)\n",
        "# federated_test_data = make_federated_data(emnist_test, sample_clients)\n",
        "NUM_TEST_CLIENTS = len(test.client_ids)\n",
        "\n",
        "#测试集测试精度\n",
        "# sample_clients = random.sample(BAL4_test.client_ids, NUM_CLIENTS_PER_ROUND)\n",
        "sample_clients = test.client_ids[0:NUM_TEST_CLIENTS]\n",
        "federated_test_data = make_federated_data(test, sample_clients)\n",
        "len(federated_test_data), federated_test_data[0]"
      ],
      "execution_count": 0,
      "outputs": [
        {
          "output_type": "execute_result",
          "data": {
            "text/plain": [
              "(50,\n",
              " <PrefetchDataset shapes: OrderedDict([(x, (None, 28, 28, 1)), (y, (None, 1))]), types: OrderedDict([(x, tf.float32), (y, tf.int32)])>)"
            ]
          },
          "metadata": {
            "tags": []
          },
          "execution_count": 119
        }
      ]
    },
    {
      "cell_type": "code",
      "metadata": {
        "id": "1a_F78e05cKM",
        "colab_type": "code",
        "outputId": "52078579-2da2-42de-db96-5303456372a6",
        "colab": {
          "base_uri": "https://localhost:8080/",
          "height": 35
        }
      },
      "source": [
        "#使用EMNIST，客户端随机选择10个，初始精度在0.8898\n",
        "#使用BAL1，K=20,客户端随机选了5个作为测试集测试，训练30轮，精度在0.9616666436195374\n",
        "\n",
        "# #使用BAL1，K=100，轮询训练20轮，测试精度0.9793000221252441\n",
        "# test_metrics = evaluation(state.model, federated_test_data)\n",
        "\n",
        "\n",
        "# 使用BAL2，K=100，碎片型，轮询训练20轮，测试精度0.950124979019165\n",
        "# test_metrics = evaluation(state.model, federated_test_data)\n",
        "\n",
        "\n",
        "#使用BAL3，K=100，客户端样本数呈正态分布，学习率0.02,轮询20轮，测试精度0.9304500222206116\n",
        "# test_metrics = evaluation(state.model, federated_test_data)\n",
        "\n",
        "#BAL3和BAL4使用了同一个客户端样本数\n",
        "#使用BAL4，K=100，样本类别数呈正态分布，客户端样本数呈正态分布，轮询训练20轮，测试精度0.9043499827384949\n",
        "test_metrics = evaluation(state.model, federated_test_data)\n",
        "\n",
        "str(test_metrics)"
      ],
      "execution_count": 0,
      "outputs": [
        {
          "output_type": "execute_result",
          "data": {
            "text/plain": [
              "'<num_examples=200000.0,loss=0.23156365752220154,accuracy=0.9304500222206116>'"
            ]
          },
          "metadata": {
            "tags": []
          },
          "execution_count": 120
        }
      ]
    }
  ]
}