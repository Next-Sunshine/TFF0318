{
  "nbformat": 4,
  "nbformat_minor": 0,
  "metadata": {
    "colab": {
      "name": "TestForTFFCopy.ipynb",
      "provenance": [],
      "collapsed_sections": [
        "V1rl-timDodS",
        "EgLe3GZ8s_rw",
        "ip--KI1UhiSU",
        "eZEcia5FltoP",
        "pw419GpLlmz9",
        "i_EV-vx8b93f"
      ],
      "toc_visible": true,
      "mount_file_id": "1HHvrBP1nyz3yhScCntl6UsTGN-l3FJSl",
      "authorship_tag": "ABX9TyMXI9EHS3UV69Jp8tx6yryf",
      "include_colab_link": true
    },
    "kernelspec": {
      "name": "python3",
      "display_name": "Python 3"
    },
    "accelerator": "GPU"
  },
  "cells": [
    {
      "cell_type": "markdown",
      "metadata": {
        "id": "view-in-github",
        "colab_type": "text"
      },
      "source": [
        "<a href=\"https://colab.research.google.com/github/Next-Sunshine/TFF0318/blob/master/TestForTFFCopy.ipynb\" target=\"_parent\"><img src=\"https://colab.research.google.com/assets/colab-badge.svg\" alt=\"Open In Colab\"/></a>"
      ]
    },
    {
      "cell_type": "markdown",
      "metadata": {
        "id": "aJVghqEic-bV",
        "colab_type": "text"
      },
      "source": [
        "### 导包"
      ]
    },
    {
      "cell_type": "code",
      "metadata": {
        "id": "P9pTTi0lPh1w",
        "colab_type": "code",
        "outputId": "4b462560-671c-46e9-9db5-b70015b93553",
        "colab": {
          "base_uri": "https://localhost:8080/",
          "height": 251
        }
      },
      "source": [
        "#环境测试\n",
        "#@test {\"skip\":true}\n",
        "!pip install --quiet --upgrade tensorflow_federated\n",
        "%load_ext tensorboard"
      ],
      "execution_count": 0,
      "outputs": [
        {
          "output_type": "stream",
          "text": [
            "\u001b[K     |████████████████████████████████| 430kB 4.8MB/s \n",
            "\u001b[K     |████████████████████████████████| 2.8MB 15.9MB/s \n",
            "\u001b[K     |████████████████████████████████| 2.2MB 40.6MB/s \n",
            "\u001b[K     |████████████████████████████████| 421.8MB 41kB/s \n",
            "\u001b[K     |████████████████████████████████| 102kB 11.5MB/s \n",
            "\u001b[K     |████████████████████████████████| 296kB 56.6MB/s \n",
            "\u001b[K     |████████████████████████████████| 20.0MB 160kB/s \n",
            "\u001b[K     |████████████████████████████████| 450kB 54.9MB/s \n",
            "\u001b[K     |████████████████████████████████| 3.9MB 58.7MB/s \n",
            "\u001b[?25h  Building wheel for gast (setup.py) ... \u001b[?25l\u001b[?25hdone\n",
            "\u001b[31mERROR: datascience 0.10.6 has requirement folium==0.2.1, but you'll have folium 0.8.3 which is incompatible.\u001b[0m\n",
            "\u001b[31mERROR: albumentations 0.1.12 has requirement imgaug<0.2.7,>=0.2.5, but you'll have imgaug 0.2.9 which is incompatible.\u001b[0m\n"
          ],
          "name": "stdout"
        }
      ]
    },
    {
      "cell_type": "code",
      "metadata": {
        "id": "ITkxSUMiRa01",
        "colab_type": "code",
        "outputId": "16acfb56-ac4f-4264-f0e0-3ecadae069ab",
        "colab": {
          "base_uri": "https://localhost:8080/",
          "height": 35
        }
      },
      "source": [
        "import collections\n",
        "\n",
        "import numpy as np\n",
        "import tensorflow as tf\n",
        "import tensorflow_federated as tff\n",
        "import h5py\n",
        "import random\n",
        "import math\n",
        "import gc\n",
        "\n",
        "tf.compat.v1.enable_v2_behavior()\n",
        "\n",
        "np.random.seed(0)\n",
        "\n",
        "tff.federated_computation(lambda: 'Hello, world!')()"
      ],
      "execution_count": 0,
      "outputs": [
        {
          "output_type": "execute_result",
          "data": {
            "text/plain": [
              "b'Hello, world!'"
            ]
          },
          "metadata": {
            "tags": []
          },
          "execution_count": 3
        }
      ]
    },
    {
      "cell_type": "code",
      "metadata": {
        "id": "tRJgOTiAR3T4",
        "colab_type": "code",
        "outputId": "0ba0e441-695b-4c13-daaa-40600aafe574",
        "colab": {
          "base_uri": "https://localhost:8080/",
          "height": 88
        }
      },
      "source": [
        "#装载数据集，实验使用EMNIST数据集\n",
        "emnist_train, emnist_test = tff.simulation.datasets.emnist.load_data()\n",
        "#装载mnist数据集\n",
        "mnist_train, mnist_test = tf.keras.datasets.mnist.load_data()"
      ],
      "execution_count": 0,
      "outputs": [
        {
          "output_type": "stream",
          "text": [
            "Downloading data from https://storage.googleapis.com/tff-datasets-public/fed_emnist_digitsonly.tar.bz2\n",
            "97402880/97398400 [==============================] - 1s 0us/step\n",
            "Downloading data from https://storage.googleapis.com/tensorflow/tf-keras-datasets/mnist.npz\n",
            "11493376/11490434 [==============================] - 0s 0us/step\n"
          ],
          "name": "stdout"
        }
      ]
    },
    {
      "cell_type": "markdown",
      "metadata": {
        "id": "uJDaikpThuc-",
        "colab_type": "text"
      },
      "source": [
        "### 加载EMNIST-digit数据集"
      ]
    },
    {
      "cell_type": "code",
      "metadata": {
        "id": "7BSFZgIdhz3-",
        "colab_type": "code",
        "colab": {}
      },
      "source": [
        "#读取EMNIST数据集的Digit\n",
        "# 引入必要的库函数:要把那四个gz文档上传上来\n",
        "from tensorflow.python.keras.utils.data_utils import get_file\n",
        "from tensorflow.python.util.tf_export import tf_export\n",
        "import gzip\n",
        "\n",
        "# 读取本地gz文档，并转换为numpy矩阵的函数\n",
        "def load_localData():\n",
        "  #files = ['emnist-digits-train-labels-idx1-ubyte.gz', 'emnist-digits-train-images-idx3-ubyte.gz', 'emnist-digits-test-labels-idx1-ubyte.gz', 'emnist-digits-test-images-idx3-ubyte.gz']\n",
        "  path = ['/content/drive/My Drive/Colab Notebooks/emnist-digits-train-labels-idx1-ubyte.gz', \n",
        "        '/content/drive/My Drive/Colab Notebooks/emnist-digits-train-images-idx3-ubyte.gz', \n",
        "        '/content/drive/My Drive/Colab Notebooks/emnist-digits-test-labels-idx1-ubyte.gz', \n",
        "        '/content/drive/My Drive/Colab Notebooks/emnist-digits-test-images-idx3-ubyte.gz']\n",
        "\n",
        "  with gzip.open(path[0], 'rb') as lpath:\n",
        "    y_train = np.frombuffer(lpath.read(), np.uint8, offset=8)\n",
        "  with gzip.open(path[1], 'rb') as imgpath:\n",
        "    x_train = np.frombuffer(imgpath.read(), np.uint8, offset=16).reshape(len(y_train), 28, 28)\n",
        "  with gzip.open(path[2], 'rb') as lpath:\n",
        "    y_test = np.frombuffer(lpath.read(), np.uint8, offset=8)\n",
        "  with gzip.open(path[3], 'rb') as imgpath:\n",
        "    x_test = np.frombuffer(imgpath.read(), np.uint8, offset=16).reshape(len(y_test), 28, 28)\n",
        "  return x_train, y_train, x_test, y_test"
      ],
      "execution_count": 0,
      "outputs": []
    },
    {
      "cell_type": "code",
      "metadata": {
        "id": "eFDFjrxyh_Ki",
        "colab_type": "code",
        "colab": {}
      },
      "source": [
        "x_train_emnist_digits, y_train_emnist_digits, x_test_emnist_digits, y_test_emnist_digits = load_localData()"
      ],
      "execution_count": 0,
      "outputs": []
    },
    {
      "cell_type": "code",
      "metadata": {
        "id": "ltgy5kIgtMdJ",
        "colab_type": "code",
        "colab": {}
      },
      "source": [
        "#查看某个客户端每个类别分别有多少\n",
        "def num_per_class(label):\n",
        "  num = np.zeros(shape=(10), dtype='int32')\n",
        "  for i in range (len(label)):\n",
        "    l = label[i]\n",
        "    num[l] = num[l] + 1\n",
        "  return num"
      ],
      "execution_count": 0,
      "outputs": []
    },
    {
      "cell_type": "code",
      "metadata": {
        "id": "8p1XDcJPi_M-",
        "colab_type": "code",
        "colab": {}
      },
      "source": [
        "#从mnist_train中读60000张图片放入一个数组中以备用\n",
        "class_ = [[]for i in range(10)]\n",
        "for i in range(len(x_train_emnist_digits)):\n",
        "  label = y_train_emnist_digits[i]\n",
        "  class_[label].append(x_train_emnist_digits[i])  #在对应的label中放入图片"
      ],
      "execution_count": 0,
      "outputs": []
    },
    {
      "cell_type": "code",
      "metadata": {
        "id": "XvcMRZlTzTj2",
        "colab_type": "code",
        "outputId": "0ac14ea6-cc21-40a9-ba60-d70d36135df8",
        "colab": {
          "base_uri": "https://localhost:8080/",
          "height": 1000
        }
      },
      "source": [
        "#查看提取出来的图片，以1为例,看看是否有误:没有错误\n",
        "from matplotlib import pyplot as plt\n",
        "#print(class_[0][i])\n",
        "for i in range(10):\n",
        "  plt.imshow(class_[0][i], cmap='gray', aspect='equal')\n",
        "  plt.grid(False)\n",
        "  _=plt.show()"
      ],
      "execution_count": 0,
      "outputs": [
        {
          "output_type": "display_data",
          "data": {
            "image/png": "[encoded data removed]",
            "text/plain": [
              "<Figure size 432x288 with 1 Axes>"
            ]
          },
          "metadata": {
            "tags": []
          }
        },
        {
          "output_type": "display_data",
          "data": {
            "image/png": "[encoded data removed]",
            "text/plain": [
              "<Figure size 432x288 with 1 Axes>"
            ]
          },
          "metadata": {
            "tags": []
          }
        },
        {
          "output_type": "display_data",
          "data": {
            "image/png": "[encoded data removed]",
            "text/plain": [
              "<Figure size 432x288 with 1 Axes>"
            ]
          },
          "metadata": {
            "tags": []
          }
        },
        {
          "output_type": "display_data",
          "data": {
            "image/png": "[encoded data removed]",
            "text/plain": [
              "<Figure size 432x288 with 1 Axes>"
            ]
          },
          "metadata": {
            "tags": []
          }
        },
        {
          "output_type": "display_data",
          "data": {
            "image/png": "[encoded data removed]",
            "text/plain": [
              "<Figure size 432x288 with 1 Axes>"
            ]
          },
          "metadata": {
            "tags": []
          }
        },
        {
          "output_type": "display_data",
          "data": {
            "image/png": "[encoded data removed]",
            "text/plain": [
              "<Figure size 432x288 with 1 Axes>"
            ]
          },
          "metadata": {
            "tags": []
          }
        },
        {
          "output_type": "display_data",
          "data": {
            "image/png": "[encoded data removed]",
            "text/plain": [
              "<Figure size 432x288 with 1 Axes>"
            ]
          },
          "metadata": {
            "tags": []
          }
        },
        {
          "output_type": "display_data",
          "data": {
            "image/png": "[encoded data removed]",
            "text/plain": [
              "<Figure size 432x288 with 1 Axes>"
            ]
          },
          "metadata": {
            "tags": []
          }
        },
        {
          "output_type": "display_data",
          "data": {
            "image/png": "[encoded data removed]",
            "text/plain": [
              "<Figure size 432x288 with 1 Axes>"
            ]
          },
          "metadata": {
            "tags": []
          }
        },
        {
          "output_type": "display_data",
          "data": {
            "image/png": "[encoded data removed]",
            "text/plain": [
              "<Figure size 432x288 with 1 Axes>"
            ]
          },
          "metadata": {
            "tags": []
          }
        }
      ]
    },
    {
      "cell_type": "markdown",
      "metadata": {
        "id": "LYSqan74iQn0",
        "colab_type": "text"
      },
      "source": [
        "### 构造平衡的测试集"
      ]
    },
    {
      "cell_type": "code",
      "metadata": {
        "id": "2z7co-o6iT3s",
        "colab_type": "code",
        "colab": {}
      },
      "source": [
        "'''\n",
        "emnist中的数字测试集是平衡的，可以直接拿来用，共40000张图片，平均分给50个客户端\n",
        "'''"
      ],
      "execution_count": 0,
      "outputs": []
    },
    {
      "cell_type": "code",
      "metadata": {
        "id": "6VCZ3b4Lia7z",
        "colab_type": "code",
        "colab": {}
      },
      "source": [
        "#删除一个h5py文件\n",
        "f_t.flush()\n",
        "f_t.clear()"
      ],
      "execution_count": 0,
      "outputs": []
    },
    {
      "cell_type": "code",
      "metadata": {
        "id": "4ugiwETVixny",
        "colab_type": "code",
        "colab": {}
      },
      "source": [
        "#创建文件\n",
        "f_t = h5py.File(\"/content/drive/My Drive/Colab Notebooks/test.hdf5\",\"w\")\n",
        "top_group = f_t.create_group(\"examples\")"
      ],
      "execution_count": 0,
      "outputs": []
    },
    {
      "cell_type": "code",
      "metadata": {
        "id": "pTjFnO_li1K9",
        "colab_type": "code",
        "colab": {}
      },
      "source": [
        "#将10个类别平均放到50个客户端中，每个客户端每个类别放80个\n",
        "import random\n",
        "NUM_CLIENTS = 50  #写的时候最初用50，用500时间太长\n",
        "NUM_PER_CLASS = 80\n",
        "NUM_CLASS = 10\n",
        "\n",
        "pixels = [[]for i in range(NUM_CLIENTS)]\n",
        "label = [[]for i in range(NUM_CLIENTS)]\n",
        "client_ids = []\n",
        "for i in range(len(y_test_emnist_digits)):\n",
        "  #随机产生一个客户端的下标然后将该图片给放进去\n",
        "    random_client_id = random.randint(0, NUM_CLIENTS-1)\n",
        "    pixels[random_client_id].append(x_test_emnist_digits[i]/255.0)\n",
        "    label[random_client_id].append(y_test_emnist_digits[i])\n",
        "    \n",
        "#将pixels和label加入对应client的group中\n",
        "for i in range(NUM_CLIENTS):\n",
        "  client_ids.append(\"f00_\" + str(i))\n",
        "  temp_group = top_group.create_group(name=\"f00_\" + str(i))\n",
        "  label_ds = temp_group.create_dataset(name=\"label\", data=np.array(label[i], dtype='int32'))\n",
        "  pixels_ds = temp_group.create_dataset(name=\"pixels\", data=np.array(pixels[i], dtype='float32'))\n",
        "  print(num_per_class(label[i]))\n"
      ],
      "execution_count": 0,
      "outputs": []
    },
    {
      "cell_type": "code",
      "metadata": {
        "id": "t9yVRVML28M9",
        "colab_type": "code",
        "outputId": "a5881e53-a052-41fc-9aae-475fb452d6b6",
        "colab": {
          "base_uri": "https://localhost:8080/",
          "height": 1000
        }
      },
      "source": [
        "#查看数量是否有误\n",
        "# num1 = 0\n",
        "# num2 = 0\n",
        "# for j in range(NUM_CLIENTS):\n",
        "#   #print(\"pixels\",len(pixels[j]))\n",
        "#   num1 = num1 + len(pixels[j])\n",
        "#   num2 = num2 + len(label[j])\n",
        "#   #print(\"label\",label[j])\n",
        "# print(num1)\n",
        "# print(num2)\n",
        "# print(len(y_test_emnist_gidits))\n",
        "\n",
        "#随机画图看是否有误:无误\n",
        "#把图片画出来看一看\n",
        "for i in range(10):\n",
        "  print(f_t[\"examples\"][client_ids[3]][\"label\"].value[i])\n",
        "  plt.imshow(f_t[\"examples\"][client_ids[3]][\"pixels\"].value[i],cmap='gray')\n",
        "  plt.grid(False)\n",
        "  plt.show()"
      ],
      "execution_count": 0,
      "outputs": [
        {
          "output_type": "stream",
          "text": [
            "2\n"
          ],
          "name": "stdout"
        },
        {
          "output_type": "display_data",
          "data": {
            "image/png": "[encoded data removed]",
            "text/plain": [
              "<Figure size 432x288 with 1 Axes>"
            ]
          },
          "metadata": {
            "tags": []
          }
        },
        {
          "output_type": "stream",
          "text": [
            "8\n"
          ],
          "name": "stdout"
        },
        {
          "output_type": "display_data",
          "data": {
            "image/png": "[encoded data removed]",
            "text/plain": [
              "<Figure size 432x288 with 1 Axes>"
            ]
          },
          "metadata": {
            "tags": []
          }
        },
        {
          "output_type": "stream",
          "text": [
            "0\n"
          ],
          "name": "stdout"
        },
        {
          "output_type": "display_data",
          "data": {
            "image/png": "[encoded data removed]",
            "text/plain": [
              "<Figure size 432x288 with 1 Axes>"
            ]
          },
          "metadata": {
            "tags": []
          }
        },
        {
          "output_type": "stream",
          "text": [
            "9\n"
          ],
          "name": "stdout"
        },
        {
          "output_type": "display_data",
          "data": {
            "image/png": "[encoded data removed]",
            "text/plain": [
              "<Figure size 432x288 with 1 Axes>"
            ]
          },
          "metadata": {
            "tags": []
          }
        },
        {
          "output_type": "stream",
          "text": [
            "3\n"
          ],
          "name": "stdout"
        },
        {
          "output_type": "display_data",
          "data": {
            "image/png": "[encoded data removed]",
            "text/plain": [
              "<Figure size 432x288 with 1 Axes>"
            ]
          },
          "metadata": {
            "tags": []
          }
        },
        {
          "output_type": "stream",
          "text": [
            "8\n"
          ],
          "name": "stdout"
        },
        {
          "output_type": "display_data",
          "data": {
            "image/png": "[encoded data removed]",
            "text/plain": [
              "<Figure size 432x288 with 1 Axes>"
            ]
          },
          "metadata": {
            "tags": []
          }
        },
        {
          "output_type": "stream",
          "text": [
            "4\n"
          ],
          "name": "stdout"
        },
        {
          "output_type": "display_data",
          "data": {
            "image/png": "[encoded data removed]",
            "text/plain": [
              "<Figure size 432x288 with 1 Axes>"
            ]
          },
          "metadata": {
            "tags": []
          }
        },
        {
          "output_type": "stream",
          "text": [
            "4\n"
          ],
          "name": "stdout"
        },
        {
          "output_type": "display_data",
          "data": {
            "image/png": "[encoded data removed]",
            "text/plain": [
              "<Figure size 432x288 with 1 Axes>"
            ]
          },
          "metadata": {
            "tags": []
          }
        },
        {
          "output_type": "stream",
          "text": [
            "6\n"
          ],
          "name": "stdout"
        },
        {
          "output_type": "display_data",
          "data": {
            "image/png": "[encoded data removed]",
            "text/plain": [
              "<Figure size 432x288 with 1 Axes>"
            ]
          },
          "metadata": {
            "tags": []
          }
        },
        {
          "output_type": "stream",
          "text": [
            "7\n"
          ],
          "name": "stdout"
        },
        {
          "output_type": "display_data",
          "data": {
            "image/png": "[encoded data removed]",
            "text/plain": [
              "<Figure size 432x288 with 1 Axes>"
            ]
          },
          "metadata": {
            "tags": []
          }
        }
      ]
    },
    {
      "cell_type": "code",
      "metadata": {
        "id": "bAxwPVuSi7ry",
        "colab_type": "code",
        "outputId": "f481b225-022e-40e6-b679-d4c4404c1b94",
        "colab": {
          "base_uri": "https://localhost:8080/",
          "height": 35
        }
      },
      "source": [
        "#f_t.close()\n",
        "del pixels[:]\n",
        "del label[:]\n",
        "gc.collect()"
      ],
      "execution_count": 0,
      "outputs": [
        {
          "output_type": "execute_result",
          "data": {
            "text/plain": [
              "25758"
            ]
          },
          "metadata": {
            "tags": []
          },
          "execution_count": 15
        }
      ]
    },
    {
      "cell_type": "markdown",
      "metadata": {
        "id": "Vy0gLL26EOv7",
        "colab_type": "text"
      },
      "source": [
        "### 构造BAL1数据集，标量平衡，全局平衡，局部IID"
      ]
    },
    {
      "cell_type": "code",
      "metadata": {
        "id": "j8FCUZGxCwft",
        "colab_type": "code",
        "colab": {}
      },
      "source": [
        "'''\n",
        "K=100，每个客户端600张图片，每一类50张图片\n",
        "'''"
      ],
      "execution_count": 0,
      "outputs": []
    },
    {
      "cell_type": "code",
      "metadata": {
        "id": "6a39F3CRqX9n",
        "colab_type": "code",
        "colab": {}
      },
      "source": [
        "#当创建数据集需要修改的时候就要用这里，先清空再重新创建\n",
        "f1.flush()\n",
        "f1.clear()"
      ],
      "execution_count": 0,
      "outputs": []
    },
    {
      "cell_type": "code",
      "metadata": {
        "id": "iz2h0TU23dsp",
        "colab_type": "code",
        "colab": {}
      },
      "source": [
        "#设置各个不平衡的数据集，首先弄一个BAL1:10个类别，每个类别数目相等，每个用户都含有10个类别且每类数目相等\n",
        "#我调查的结果是每个label数目在5000-6000张之间，于是分给500个客户端差不多每个客户端均10个\n",
        "#创建自己的数据集首先是BAL1：全平衡，使用了mnist数据集来分配，60000张图片平均分给500个客户端，每个客户端分得10类，每类10张，供100张图片\n",
        "f1 = h5py.File(\"/content/drive/My Drive/Colab Notebooks/BAL1.hdf5\",\"a\")\n",
        "top_group = f1.create_group(\"examples\")   #创建顶层group名为examples"
      ],
      "execution_count": 0,
      "outputs": []
    },
    {
      "cell_type": "code",
      "metadata": {
        "id": "5uOJHo1b_yD8",
        "colab_type": "code",
        "colab": {}
      },
      "source": [
        "bal1_balance_class = [[]for i in range(10)]  \n",
        "for i in range(0,10):\n",
        "  bal1_balance_class[i] = class_[i][0:6000]"
      ],
      "execution_count": 0,
      "outputs": []
    },
    {
      "cell_type": "code",
      "metadata": {
        "id": "lkNHRXhikc8p",
        "colab_type": "code",
        "outputId": "7b902a17-21f6-4f0c-a06b-9e646c233b97",
        "colab": {
          "base_uri": "https://localhost:8080/",
          "height": 1000
        }
      },
      "source": [
        "MY_NUM_CLIENTS = 100  #写的时候最初用50，用500时间太长，试过500，磁盘会从30G飙升到60G且还运行不完，不知道后面500个客户端的时候怎么办\n",
        "NUM_PER_CLASS = 60  #每个客户端每类的图片数量\n",
        "NUM_CLASS = 10\n",
        "#Collections.Orderdict->TensorSliceDataset+client_id->hdf5->HDF5ClientData\n",
        "#<TensorSliceDataset shapes: OrderedDict([(label, ()), (pixels, (28, 28))]), types: OrderedDict([(label, tf.int32), (pixels, tf.float32)])>\n",
        "\n",
        "pixels = []\n",
        "label=[]\n",
        "client_ids = []\n",
        "for i in range(MY_NUM_CLIENTS):  #i客户端数量\n",
        "  for j in range(10):  #j是类别数\n",
        "    for k in range(NUM_PER_CLASS): #k控制每一类图片放多少张在客户端\n",
        "      pixels.append(bal1_balance_class[j][i*NUM_PER_CLASS+k]/255.0) #转成0-1之内的数字再加入pixels，class_[j]存放的是第j类数\n",
        "      label.append(j)  #加入label\n",
        "  \n",
        "  client_ids.append(\"f00_\" + str(i))\n",
        "  temp_group = top_group.create_group(name=\"f00_\" + str(i))  #创建以client_id为名字的group\n",
        "  label_ds = temp_group.create_dataset(name=\"label\", data=np.array(label, dtype='int32'))  #向group中写入label\n",
        "  pixels_ds = temp_group.create_dataset(name=\"pixels\", data=np.array(pixels, dtype='float32'))  #向group中写入pixels\n",
        "  \n",
        "  print(num_per_class(label))\n",
        "  #清空上一个pixels数组和label数组中存放的上一个客户端的数据信息,否则会有灾难！！！\n",
        "  pixels.clear()\n",
        "  label.clear()\n"
      ],
      "execution_count": 0,
      "outputs": [
        {
          "output_type": "stream",
          "text": [
            "[60 60 60 60 60 60 60 60 60 60]\n",
            "[60 60 60 60 60 60 60 60 60 60]\n",
            "[60 60 60 60 60 60 60 60 60 60]\n",
            "[60 60 60 60 60 60 60 60 60 60]\n",
            "[60 60 60 60 60 60 60 60 60 60]\n",
            "[60 60 60 60 60 60 60 60 60 60]\n",
            "[60 60 60 60 60 60 60 60 60 60]\n",
            "[60 60 60 60 60 60 60 60 60 60]\n",
            "[60 60 60 60 60 60 60 60 60 60]\n",
            "[60 60 60 60 60 60 60 60 60 60]\n",
            "[60 60 60 60 60 60 60 60 60 60]\n",
            "[60 60 60 60 60 60 60 60 60 60]\n",
            "[60 60 60 60 60 60 60 60 60 60]\n",
            "[60 60 60 60 60 60 60 60 60 60]\n",
            "[60 60 60 60 60 60 60 60 60 60]\n",
            "[60 60 60 60 60 60 60 60 60 60]\n",
            "[60 60 60 60 60 60 60 60 60 60]\n",
            "[60 60 60 60 60 60 60 60 60 60]\n",
            "[60 60 60 60 60 60 60 60 60 60]\n",
            "[60 60 60 60 60 60 60 60 60 60]\n",
            "[60 60 60 60 60 60 60 60 60 60]\n",
            "[60 60 60 60 60 60 60 60 60 60]\n",
            "[60 60 60 60 60 60 60 60 60 60]\n",
            "[60 60 60 60 60 60 60 60 60 60]\n",
            "[60 60 60 60 60 60 60 60 60 60]\n",
            "[60 60 60 60 60 60 60 60 60 60]\n",
            "[60 60 60 60 60 60 60 60 60 60]\n",
            "[60 60 60 60 60 60 60 60 60 60]\n",
            "[60 60 60 60 60 60 60 60 60 60]\n",
            "[60 60 60 60 60 60 60 60 60 60]\n",
            "[60 60 60 60 60 60 60 60 60 60]\n",
            "[60 60 60 60 60 60 60 60 60 60]\n",
            "[60 60 60 60 60 60 60 60 60 60]\n",
            "[60 60 60 60 60 60 60 60 60 60]\n",
            "[60 60 60 60 60 60 60 60 60 60]\n",
            "[60 60 60 60 60 60 60 60 60 60]\n",
            "[60 60 60 60 60 60 60 60 60 60]\n",
            "[60 60 60 60 60 60 60 60 60 60]\n",
            "[60 60 60 60 60 60 60 60 60 60]\n",
            "[60 60 60 60 60 60 60 60 60 60]\n",
            "[60 60 60 60 60 60 60 60 60 60]\n",
            "[60 60 60 60 60 60 60 60 60 60]\n",
            "[60 60 60 60 60 60 60 60 60 60]\n",
            "[60 60 60 60 60 60 60 60 60 60]\n",
            "[60 60 60 60 60 60 60 60 60 60]\n",
            "[60 60 60 60 60 60 60 60 60 60]\n",
            "[60 60 60 60 60 60 60 60 60 60]\n",
            "[60 60 60 60 60 60 60 60 60 60]\n",
            "[60 60 60 60 60 60 60 60 60 60]\n",
            "[60 60 60 60 60 60 60 60 60 60]\n",
            "[60 60 60 60 60 60 60 60 60 60]\n",
            "[60 60 60 60 60 60 60 60 60 60]\n",
            "[60 60 60 60 60 60 60 60 60 60]\n",
            "[60 60 60 60 60 60 60 60 60 60]\n",
            "[60 60 60 60 60 60 60 60 60 60]\n",
            "[60 60 60 60 60 60 60 60 60 60]\n",
            "[60 60 60 60 60 60 60 60 60 60]\n",
            "[60 60 60 60 60 60 60 60 60 60]\n",
            "[60 60 60 60 60 60 60 60 60 60]\n",
            "[60 60 60 60 60 60 60 60 60 60]\n",
            "[60 60 60 60 60 60 60 60 60 60]\n",
            "[60 60 60 60 60 60 60 60 60 60]\n",
            "[60 60 60 60 60 60 60 60 60 60]\n",
            "[60 60 60 60 60 60 60 60 60 60]\n",
            "[60 60 60 60 60 60 60 60 60 60]\n",
            "[60 60 60 60 60 60 60 60 60 60]\n",
            "[60 60 60 60 60 60 60 60 60 60]\n",
            "[60 60 60 60 60 60 60 60 60 60]\n",
            "[60 60 60 60 60 60 60 60 60 60]\n",
            "[60 60 60 60 60 60 60 60 60 60]\n",
            "[60 60 60 60 60 60 60 60 60 60]\n",
            "[60 60 60 60 60 60 60 60 60 60]\n",
            "[60 60 60 60 60 60 60 60 60 60]\n",
            "[60 60 60 60 60 60 60 60 60 60]\n",
            "[60 60 60 60 60 60 60 60 60 60]\n",
            "[60 60 60 60 60 60 60 60 60 60]\n",
            "[60 60 60 60 60 60 60 60 60 60]\n",
            "[60 60 60 60 60 60 60 60 60 60]\n",
            "[60 60 60 60 60 60 60 60 60 60]\n",
            "[60 60 60 60 60 60 60 60 60 60]\n",
            "[60 60 60 60 60 60 60 60 60 60]\n",
            "[60 60 60 60 60 60 60 60 60 60]\n",
            "[60 60 60 60 60 60 60 60 60 60]\n",
            "[60 60 60 60 60 60 60 60 60 60]\n",
            "[60 60 60 60 60 60 60 60 60 60]\n",
            "[60 60 60 60 60 60 60 60 60 60]\n",
            "[60 60 60 60 60 60 60 60 60 60]\n",
            "[60 60 60 60 60 60 60 60 60 60]\n",
            "[60 60 60 60 60 60 60 60 60 60]\n",
            "[60 60 60 60 60 60 60 60 60 60]\n",
            "[60 60 60 60 60 60 60 60 60 60]\n",
            "[60 60 60 60 60 60 60 60 60 60]\n",
            "[60 60 60 60 60 60 60 60 60 60]\n",
            "[60 60 60 60 60 60 60 60 60 60]\n",
            "[60 60 60 60 60 60 60 60 60 60]\n",
            "[60 60 60 60 60 60 60 60 60 60]\n",
            "[60 60 60 60 60 60 60 60 60 60]\n",
            "[60 60 60 60 60 60 60 60 60 60]\n",
            "[60 60 60 60 60 60 60 60 60 60]\n",
            "[60 60 60 60 60 60 60 60 60 60]\n"
          ],
          "name": "stdout"
        }
      ]
    },
    {
      "cell_type": "code",
      "metadata": {
        "id": "bIiJcLMF5rw6",
        "colab_type": "code",
        "outputId": "12cab498-1c2b-49d8-ca58-3a4704adf309",
        "colab": {
          "base_uri": "https://localhost:8080/",
          "height": 1000
        }
      },
      "source": [
        "#查看数量是否有误\n",
        "\n",
        "\n",
        "\n",
        "#随机画图看是否有误:无误\n",
        "#把图片画出来看一看\n",
        "for i in range(100,110):\n",
        "  print(f1[\"examples\"][client_ids[3]][\"label\"].value[i])\n",
        "  plt.imshow(f1[\"examples\"][client_ids[3]][\"pixels\"].value[i],cmap='gray')\n",
        "  plt.grid(False)\n",
        "  plt.show()"
      ],
      "execution_count": 0,
      "outputs": [
        {
          "output_type": "stream",
          "text": [
            "1\n"
          ],
          "name": "stdout"
        },
        {
          "output_type": "display_data",
          "data": {
            "image/png": "[encoded data removed]",
            "text/plain": [
              "<Figure size 432x288 with 1 Axes>"
            ]
          },
          "metadata": {
            "tags": []
          }
        },
        {
          "output_type": "stream",
          "text": [
            "1\n"
          ],
          "name": "stdout"
        },
        {
          "output_type": "display_data",
          "data": {
            "image/png": "[encoded data removed]",
            "text/plain": [
              "<Figure size 432x288 with 1 Axes>"
            ]
          },
          "metadata": {
            "tags": []
          }
        },
        {
          "output_type": "stream",
          "text": [
            "1\n"
          ],
          "name": "stdout"
        },
        {
          "output_type": "display_data",
          "data": {
            "image/png": "[encoded data removed]",
            "text/plain": [
              "<Figure size 432x288 with 1 Axes>"
            ]
          },
          "metadata": {
            "tags": []
          }
        },
        {
          "output_type": "stream",
          "text": [
            "1\n"
          ],
          "name": "stdout"
        },
        {
          "output_type": "display_data",
          "data": {
            "image/png": "[encoded data removed]",
            "text/plain": [
              "<Figure size 432x288 with 1 Axes>"
            ]
          },
          "metadata": {
            "tags": []
          }
        },
        {
          "output_type": "stream",
          "text": [
            "1\n"
          ],
          "name": "stdout"
        },
        {
          "output_type": "display_data",
          "data": {
            "image/png": "[encoded data removed]",
            "text/plain": [
              "<Figure size 432x288 with 1 Axes>"
            ]
          },
          "metadata": {
            "tags": []
          }
        },
        {
          "output_type": "stream",
          "text": [
            "1\n"
          ],
          "name": "stdout"
        },
        {
          "output_type": "display_data",
          "data": {
            "image/png": "[encoded data removed]",
            "text/plain": [
              "<Figure size 432x288 with 1 Axes>"
            ]
          },
          "metadata": {
            "tags": []
          }
        },
        {
          "output_type": "stream",
          "text": [
            "1\n"
          ],
          "name": "stdout"
        },
        {
          "output_type": "display_data",
          "data": {
            "image/png": "[encoded data removed]",
            "text/plain": [
              "<Figure size 432x288 with 1 Axes>"
            ]
          },
          "metadata": {
            "tags": []
          }
        },
        {
          "output_type": "stream",
          "text": [
            "1\n"
          ],
          "name": "stdout"
        },
        {
          "output_type": "display_data",
          "data": {
            "image/png": "[encoded data removed]",
            "text/plain": [
              "<Figure size 432x288 with 1 Axes>"
            ]
          },
          "metadata": {
            "tags": []
          }
        },
        {
          "output_type": "stream",
          "text": [
            "1\n"
          ],
          "name": "stdout"
        },
        {
          "output_type": "display_data",
          "data": {
            "image/png": "[encoded data removed]",
            "text/plain": [
              "<Figure size 432x288 with 1 Axes>"
            ]
          },
          "metadata": {
            "tags": []
          }
        },
        {
          "output_type": "stream",
          "text": [
            "1\n"
          ],
          "name": "stdout"
        },
        {
          "output_type": "display_data",
          "data": {
            "image/png": "[encoded data removed]",
            "text/plain": [
              "<Figure size 432x288 with 1 Axes>"
            ]
          },
          "metadata": {
            "tags": []
          }
        }
      ]
    },
    {
      "cell_type": "code",
      "metadata": {
        "id": "4sTtobq61DNi",
        "colab_type": "code",
        "outputId": "6d6cbd41-96ba-4592-a742-a344fe39efb6",
        "colab": {
          "base_uri": "https://localhost:8080/",
          "height": 35
        }
      },
      "source": [
        "#数据集构造完了以后，调用内存清理操作\n",
        "#f1.close()\n",
        "del pixels[:]\n",
        "del label[:]\n",
        "del bal1_balance_class[:]\n",
        "gc.collect()"
      ],
      "execution_count": 0,
      "outputs": [
        {
          "output_type": "execute_result",
          "data": {
            "text/plain": [
              "23310"
            ]
          },
          "metadata": {
            "tags": []
          },
          "execution_count": 31
        }
      ]
    },
    {
      "cell_type": "markdown",
      "metadata": {
        "id": "V1rl-timDodS",
        "colab_type": "text"
      },
      "source": [
        "### 构造BAL2数据集：标量平衡且全局平衡，局部Non-IID"
      ]
    },
    {
      "cell_type": "code",
      "metadata": {
        "id": "Mk85zh4PEBah",
        "colab_type": "code",
        "outputId": "3120c44e-2706-4591-b096-a03e6c2e58ec",
        "colab": {
          "base_uri": "https://localhost:8080/",
          "height": 35
        }
      },
      "source": [
        "#构造BAL2\n",
        "'''\n",
        "标量平衡:每个本地600张\n",
        "全局平衡：共10个类，每个类6000张\n",
        "局部平衡：随机\n",
        "num_clients = 100\n",
        "'''"
      ],
      "execution_count": 0,
      "outputs": [
        {
          "output_type": "execute_result",
          "data": {
            "text/plain": [
              "'\\n标量平衡:每个本地100张\\n全局平衡：共10个类，每个类10张\\n局部平衡：随机\\nnum_clients = 500\\n'"
            ]
          },
          "metadata": {
            "tags": []
          },
          "execution_count": 8
        }
      ]
    },
    {
      "cell_type": "code",
      "metadata": {
        "id": "e4BSk6uLEqZW",
        "colab_type": "code",
        "colab": {}
      },
      "source": [
        "#构造绝对平衡图片集,10张*10类*500个客户端\n",
        "#因为后面构造数据集的时候对bal2_balance_class进行了删除操作，因此每次生成数据集都要重新生成bal2_balance_class\n",
        "bal2_balance_class = [[]for i in range(10)]  \n",
        "for i in range(0,10):\n",
        "  bal2_balance_class[i] = class_[i][0:6000]"
      ],
      "execution_count": 0,
      "outputs": []
    },
    {
      "cell_type": "code",
      "metadata": {
        "id": "fbEk8BCPEx4L",
        "colab_type": "code",
        "colab": {}
      },
      "source": [
        "#删除一个h5py文件\n",
        "f2.flush()\n",
        "f2.clear()"
      ],
      "execution_count": 0,
      "outputs": []
    },
    {
      "cell_type": "code",
      "metadata": {
        "id": "iLhuN4Z8E1wD",
        "colab_type": "code",
        "colab": {}
      },
      "source": [
        "#创建hdf5文件\n",
        "f2 = h5py.File(\"/content/drive/My Drive/Colab Notebooks/BAL2.hdf5\",\"a\")\n",
        "#创建顶层group\n",
        "top_group = f2.create_group(\"examples\")"
      ],
      "execution_count": 0,
      "outputs": []
    },
    {
      "cell_type": "code",
      "metadata": {
        "id": "bODwz4MPE-gO",
        "colab_type": "code",
        "outputId": "4532a30a-231c-4e93-ff7c-c62ce6d51bf6",
        "colab": {
          "base_uri": "https://localhost:8080/"
        }
      },
      "source": [
        "#创建BAL2:使用了洗牌算法(弃了，Non-IID性不够)\n",
        "#另外的方法：按label划分以后每300张为一个碎片，每个用户随机分配两个碎片\n",
        "#将10个类别平均放到500个客户端中，每个客户端每个类别放12个\n",
        "import random\n",
        "NUM_CLIENTS = 100  #写的时候最初用50，用500时间太长\n",
        "NUM_CLASS = 10\n",
        "NUM_PER_CLASS = 60\n",
        "CHIP_SIZE = 300\n",
        "NUM_CHIP = NUM_CLASS * NUM_PER_CLASS // CHIP_SIZE\n",
        "\n",
        "\n",
        "pixels = []\n",
        "label=[]\n",
        "client_ids = []\n",
        "\n",
        "for i in range(NUM_CLIENTS):  #i客户端数量 \n",
        "  j = 0\n",
        "  #j是每个客户端控制取多少张图片\n",
        "  #使用while循环方便控制当选到label是i但是i已经被之前的客户端选择完了的情况，增设j控制\n",
        "  while(j<NUM_CHIP):\n",
        "    index_label = random.randint(0, NUM_CLASS-1) #随机产生一个label下标\n",
        "    num_remain_pixels = len(bal2_balance_class[index_label])\n",
        "    if(num_remain_pixels>0):\n",
        "      for k in range(CHIP_SIZE):\n",
        "        pixels.append(bal2_balance_class[index_label][k]/255.0)\n",
        "        label.append(index_label)  #加入label\n",
        "      del bal2_balance_class[index_label][0:CHIP_SIZE]\n",
        "      j = j+1\n",
        "  \n",
        "  client_ids.append(\"f00_\" + str(i))\n",
        "  temp_group = top_group.create_group(name=\"f00_\" + str(i))\n",
        "  label_ds = temp_group.create_dataset(name=\"label\", data=np.array(label, dtype='int32'))\n",
        "  pixels_ds = temp_group.create_dataset(name=\"pixels\", data=np.array(pixels, dtype='float32'))\n",
        "\n",
        "  print(len(label))\n",
        "  print(num_per_class(label))\n",
        "  pixels.clear()\n",
        "  label.clear()"
      ],
      "execution_count": 0,
      "outputs": [
        {
          "output_type": "stream",
          "text": [
            "600\n",
            "[  0   0 300   0   0   0   0   0 300   0]\n",
            "600\n",
            "[  0   0   0   0   0 300   0   0   0 300]\n",
            "600\n",
            "[  0 300   0   0   0   0   0 300   0   0]\n",
            "600\n",
            "[600   0   0   0   0   0   0   0   0   0]\n",
            "600\n",
            "[  0   0   0   0 300   0   0 300   0   0]\n",
            "600\n",
            "[300   0   0   0   0   0   0 300   0   0]\n",
            "600\n",
            "[  0   0   0   0   0 300 300   0   0   0]\n",
            "600\n",
            "[  0 300   0   0   0   0   0   0 300   0]\n",
            "600\n",
            "[  0   0   0   0   0   0 600   0   0   0]\n",
            "600\n",
            "[  0   0 300   0   0 300   0   0   0   0]\n",
            "600\n",
            "[  0   0   0 300   0   0   0   0   0 300]\n",
            "600\n",
            "[  0   0   0 300   0 300   0   0   0   0]\n",
            "600\n",
            "[  0   0   0   0 300 300   0   0   0   0]\n",
            "600\n",
            "[300   0 300   0   0   0   0   0   0   0]\n",
            "600\n",
            "[  0 600   0   0   0   0   0   0   0   0]\n",
            "600\n",
            "[  0   0   0   0   0   0   0 300 300   0]\n",
            "600\n",
            "[  0   0 300   0 300   0   0   0   0   0]\n",
            "600\n",
            "[  0 300   0   0   0   0   0   0   0 300]\n",
            "600\n",
            "[  0   0   0 300   0   0   0   0   0 300]\n",
            "600\n",
            "[  0   0   0   0   0   0   0   0 300 300]\n",
            "600\n",
            "[300   0   0   0   0   0   0   0   0 300]\n",
            "600\n",
            "[  0   0   0   0   0   0   0   0   0 600]\n",
            "600\n",
            "[  0   0   0 300   0   0   0 300   0   0]\n",
            "600\n",
            "[  0   0   0 300   0   0   0   0   0 300]\n",
            "600\n",
            "[  0   0   0   0   0 300 300   0   0   0]\n",
            "600\n",
            "[300   0   0   0   0   0   0   0 300   0]\n",
            "600\n",
            "[  0   0   0   0 300   0   0   0   0 300]\n",
            "600\n",
            "[  0   0   0   0 300   0   0   0 300   0]\n",
            "600\n",
            "[  0 300 300   0   0   0   0   0   0   0]\n",
            "600\n",
            "[  0   0   0 300   0   0   0 300   0   0]\n",
            "600\n",
            "[300   0   0   0 300   0   0   0   0   0]\n",
            "600\n",
            "[  0   0   0   0   0 300 300   0   0   0]\n",
            "600\n",
            "[  0   0   0   0 300   0   0   0   0 300]\n",
            "600\n",
            "[  0   0   0   0   0   0 300   0 300   0]\n",
            "600\n",
            "[  0   0   0   0 300   0 300   0   0   0]\n",
            "600\n",
            "[  0 300 300   0   0   0   0   0   0   0]\n",
            "600\n",
            "[  0 300   0   0   0 300   0   0   0   0]\n",
            "600\n",
            "[  0 300   0   0   0   0 300   0   0   0]\n",
            "600\n",
            "[  0   0   0   0   0   0 300 300   0   0]\n",
            "600\n",
            "[300   0   0   0   0 300   0   0   0   0]\n",
            "600\n",
            "[  0   0   0   0   0 300   0   0   0 300]\n",
            "600\n",
            "[  0   0   0   0   0 300   0   0   0 300]\n",
            "600\n",
            "[  0   0   0   0   0   0   0 300 300   0]\n",
            "600\n",
            "[  0   0   0   0 300   0   0   0 300   0]\n",
            "600\n",
            "[300   0   0   0 300   0   0   0   0   0]\n",
            "600\n",
            "[  0   0   0   0   0   0 300   0   0 300]\n",
            "600\n",
            "[  0 300   0 300   0   0   0   0   0   0]\n",
            "600\n",
            "[  0   0   0   0   0 300 300   0   0   0]\n",
            "600\n",
            "[  0   0   0   0   0   0   0   0   0 600]\n",
            "600\n",
            "[  0 300   0   0   0   0 300   0   0   0]\n",
            "600\n",
            "[  0 300   0   0   0   0   0 300   0   0]\n",
            "600\n",
            "[  0   0   0   0 300   0 300   0   0   0]\n",
            "600\n",
            "[  0   0 300 300   0   0   0   0   0   0]\n",
            "600\n",
            "[  0 300   0   0   0 300   0   0   0   0]\n",
            "600\n",
            "[300   0 300   0   0   0   0   0   0   0]\n",
            "600\n",
            "[  0   0   0 300   0   0   0   0 300   0]\n",
            "600\n",
            "[  0 300   0 300   0   0   0   0   0   0]\n",
            "600\n",
            "[  0 300 300   0   0   0   0   0   0   0]\n",
            "600\n",
            "[  0   0   0 300   0   0   0   0   0 300]\n",
            "600\n",
            "[300   0   0   0   0   0   0 300   0   0]\n",
            "600\n",
            "[  0   0 300   0   0   0   0 300   0   0]\n",
            "600\n",
            "[300   0   0 300   0   0   0   0   0   0]\n",
            "600\n",
            "[300   0   0   0   0   0   0 300   0   0]\n",
            "600\n",
            "[  0   0   0   0   0 300   0 300   0   0]\n",
            "600\n",
            "[  0 600   0   0   0   0   0   0   0   0]\n",
            "600\n",
            "[  0 300   0   0   0 300   0   0   0   0]\n",
            "600\n",
            "[  0   0   0 300   0   0   0   0 300   0]\n",
            "600\n",
            "[  0   0   0 300   0   0   0   0 300   0]\n",
            "600\n",
            "[  0   0 300   0 300   0   0   0   0   0]\n",
            "600\n",
            "[  0   0   0   0   0   0 300   0 300   0]\n",
            "600\n",
            "[  0   0   0   0   0   0   0   0 300 300]\n",
            "600\n",
            "[  0   0   0   0   0 300 300   0   0   0]\n",
            "600\n",
            "[  0 300   0   0   0   0 300   0   0   0]\n",
            "600\n",
            "[  0   0   0   0   0   0 300   0 300   0]\n",
            "600\n",
            "[  0   0 300 300   0   0   0   0   0   0]\n",
            "600\n",
            "[  0   0   0 300   0 300   0   0   0   0]\n",
            "600\n",
            "[  0   0   0   0   0   0   0 300   0 300]\n",
            "600\n",
            "[  0   0   0 300 300   0   0   0   0   0]\n",
            "600\n",
            "[  0 300   0   0   0   0   0   0   0 300]\n",
            "600\n",
            "[300   0   0   0   0   0   0   0 300   0]\n",
            "600\n",
            "[  0   0   0   0   0 300 300   0   0   0]\n",
            "600\n",
            "[  0   0   0   0 300   0   0 300   0   0]\n",
            "600\n",
            "[  0   0   0   0 300   0 300   0   0   0]\n",
            "600\n",
            "[  0   0   0 300   0   0   0 300   0   0]\n",
            "600\n",
            "[  0   0   0   0 300   0   0 300   0   0]\n",
            "600\n",
            "[300   0   0   0   0 300   0   0   0   0]\n",
            "600\n",
            "[  0   0   0   0   0   0 300   0 300   0]\n",
            "600\n",
            "[  0   0 300   0   0   0   0   0 300   0]\n",
            "600\n",
            "[  0   0   0   0 600   0   0   0   0   0]\n",
            "600\n",
            "[  0   0 300   0 300   0   0   0   0   0]\n",
            "600\n",
            "[  0   0   0   0 300 300   0   0   0   0]\n",
            "600\n",
            "[300   0   0 300   0   0   0   0   0   0]\n",
            "600\n",
            "[  0   0 300 300   0   0   0   0   0   0]\n",
            "600\n",
            "[  0   0   0   0   0   0   0 600   0   0]\n",
            "600\n",
            "[  0   0 300   0   0   0   0 300   0   0]\n",
            "600\n",
            "[300   0 300   0   0   0   0   0   0   0]\n",
            "600\n",
            "[300   0 300   0   0   0   0   0   0   0]\n",
            "600\n",
            "[300   0   0   0   0   0   0   0 300   0]\n",
            "600\n",
            "[  0   0 600   0   0   0   0   0   0   0]\n",
            "600\n",
            "[300   0   0   0   0   0   0   0 300   0]\n"
          ],
          "name": "stdout"
        }
      ]
    },
    {
      "cell_type": "code",
      "metadata": {
        "id": "gGfpMtDH8rhZ",
        "colab_type": "code",
        "outputId": "2d998edb-4ae8-429a-d66f-893cd1513343",
        "colab": {
          "base_uri": "https://localhost:8080/"
        }
      },
      "source": [
        "#查看数量是否有误\n",
        "# num1 = 0\n",
        "# num2 = 0\n",
        "# for j in range(NUM_CLIENTS):\n",
        "#   #print(\"pixels\",len(pixels[j]))\n",
        "#   num1 = num1 + len(pixels[j])\n",
        "#   num2 = num2 + len(label[j])\n",
        "#   #print(\"label\",label[j])\n",
        "# print(num1)\n",
        "# print(num2)\n",
        "\n",
        "#查看某个客户端每个类别分别有多少\n",
        "def num_per_class(label):\n",
        "  num = np.zeros(shape=(10), dtype='int32')\n",
        "  for i in range (len(label)):\n",
        "    l = label[i]\n",
        "    num[l] = num[l] + 1\n",
        "  return num\n",
        "\n",
        "# for i in range(NUM_CLIENTS):\n",
        "#   print(num_per_label(label[i]))\n",
        "\n",
        "#print(num)\n",
        "\n",
        "\n",
        "#随机画图看是否有误:无误\n",
        "#把图片画出来看一看\n",
        "a = 9\n",
        "for i in range(10):\n",
        "  print(f2[\"examples\"][client_ids[a]][\"label\"].value[i])\n",
        "  plt.imshow(f2[\"examples\"][client_ids[a]][\"pixels\"].value[i],cmap='gray')\n",
        "  plt.grid(False)\n",
        "  plt.show()"
      ],
      "execution_count": 0,
      "outputs": [
        {
          "output_type": "stream",
          "text": [
            "2\n"
          ],
          "name": "stdout"
        },
        {
          "output_type": "display_data",
          "data": {
            "image/png": "[encoded data removed]",
            "text/plain": [
              "<Figure size 432x288 with 1 Axes>"
            ]
          },
          "metadata": {
            "tags": []
          }
        },
        {
          "output_type": "stream",
          "text": [
            "2\n"
          ],
          "name": "stdout"
        },
        {
          "output_type": "display_data",
          "data": {
            "image/png": "[encoded data removed]",
            "text/plain": [
              "<Figure size 432x288 with 1 Axes>"
            ]
          },
          "metadata": {
            "tags": []
          }
        },
        {
          "output_type": "stream",
          "text": [
            "2\n"
          ],
          "name": "stdout"
        },
        {
          "output_type": "display_data",
          "data": {
            "image/png": "[encoded data removed]",
            "text/plain": [
              "<Figure size 432x288 with 1 Axes>"
            ]
          },
          "metadata": {
            "tags": []
          }
        },
        {
          "output_type": "stream",
          "text": [
            "2\n"
          ],
          "name": "stdout"
        },
        {
          "output_type": "display_data",
          "data": {
            "image/png": "[encoded data removed]",
            "text/plain": [
              "<Figure size 432x288 with 1 Axes>"
            ]
          },
          "metadata": {
            "tags": []
          }
        },
        {
          "output_type": "stream",
          "text": [
            "2\n"
          ],
          "name": "stdout"
        },
        {
          "output_type": "display_data",
          "data": {
            "image/png": "[encoded data removed]",
            "text/plain": [
              "<Figure size 432x288 with 1 Axes>"
            ]
          },
          "metadata": {
            "tags": []
          }
        },
        {
          "output_type": "stream",
          "text": [
            "2\n"
          ],
          "name": "stdout"
        },
        {
          "output_type": "display_data",
          "data": {
            "image/png": "[encoded data removed]",
            "text/plain": [
              "<Figure size 432x288 with 1 Axes>"
            ]
          },
          "metadata": {
            "tags": []
          }
        },
        {
          "output_type": "stream",
          "text": [
            "2\n"
          ],
          "name": "stdout"
        },
        {
          "output_type": "display_data",
          "data": {
            "image/png": "[encoded data removed]",
            "text/plain": [
              "<Figure size 432x288 with 1 Axes>"
            ]
          },
          "metadata": {
            "tags": []
          }
        },
        {
          "output_type": "stream",
          "text": [
            "2\n"
          ],
          "name": "stdout"
        },
        {
          "output_type": "display_data",
          "data": {
            "image/png": "[encoded data removed]",
            "text/plain": [
              "<Figure size 432x288 with 1 Axes>"
            ]
          },
          "metadata": {
            "tags": []
          }
        },
        {
          "output_type": "stream",
          "text": [
            "2\n"
          ],
          "name": "stdout"
        },
        {
          "output_type": "display_data",
          "data": {
            "image/png": "[encoded data removed]",
            "text/plain": [
              "<Figure size 432x288 with 1 Axes>"
            ]
          },
          "metadata": {
            "tags": []
          }
        },
        {
          "output_type": "stream",
          "text": [
            "2\n"
          ],
          "name": "stdout"
        },
        {
          "output_type": "display_data",
          "data": {
            "image/png": "[encoded data removed]",
            "text/plain": [
              "<Figure size 432x288 with 1 Axes>"
            ]
          },
          "metadata": {
            "tags": []
          }
        }
      ]
    },
    {
      "cell_type": "code",
      "metadata": {
        "id": "lDhERs0e1a2y",
        "colab_type": "code",
        "outputId": "3952ee05-70f9-4acf-a68a-853526bed303",
        "colab": {
          "base_uri": "https://localhost:8080/"
        }
      },
      "source": [
        "#数据集构造完成以后，调用内存清理操作\n",
        "del bal2_balance_class[:]\n",
        "del pixels[:]\n",
        "del label[:]\n",
        "gc.collect()"
      ],
      "execution_count": 0,
      "outputs": [
        {
          "output_type": "execute_result",
          "data": {
            "text/plain": [
              "0"
            ]
          },
          "metadata": {
            "tags": []
          },
          "execution_count": 178
        }
      ]
    },
    {
      "cell_type": "markdown",
      "metadata": {
        "id": "F0kylMRgyWG_",
        "colab_type": "text"
      },
      "source": [
        "### 构造BAL3数据集：全局平衡，标量不平衡，局部Non-IID"
      ]
    },
    {
      "cell_type": "code",
      "metadata": {
        "id": "DzfySSTPyovy",
        "colab_type": "code",
        "colab": {}
      },
      "source": [
        "'''\n",
        "构造BAL3数据集\n",
        "全局平衡：10个label，每个label6000张图片\n",
        "标量不平衡，局部Non-IID\n",
        "客户端：100，C=0.02\n",
        "60000张图片随机分给100个用户:感觉有点平衡\n",
        "最后采用碎片式，按照label分成很多个碎片，CHIP_SIZE控制碎片大小\n",
        "'''"
      ],
      "execution_count": 0,
      "outputs": []
    },
    {
      "cell_type": "code",
      "metadata": {
        "id": "KqUJ4M8uzr-V",
        "colab_type": "code",
        "colab": {}
      },
      "source": [
        "#获得全局绝对平衡数据集\n",
        "bal3_balance_class = [[]for i in range(10)]  \n",
        "for i in range(0,10):\n",
        "  bal3_balance_class[i] = class_[i][0:6000]"
      ],
      "execution_count": 0,
      "outputs": []
    },
    {
      "cell_type": "code",
      "metadata": {
        "id": "OUSHrgG9zvH4",
        "colab_type": "code",
        "colab": {}
      },
      "source": [
        "#删除一个h5py文件\n",
        "f3.flush()\n",
        "f3.clear()"
      ],
      "execution_count": 0,
      "outputs": []
    },
    {
      "cell_type": "code",
      "metadata": {
        "id": "dPmY8-G3zxnV",
        "colab_type": "code",
        "colab": {}
      },
      "source": [
        "#创建hdf5文件\n",
        "f3 = h5py.File(\"/content/drive/My Drive/Colab Notebooks/BAL3.hdf5\",\"a\")\n",
        "#f3 = h5py.File(\"BAL3.hdf5\",\"a\")\n",
        "#创建顶层group\n",
        "top_group = f3.create_group(\"examples\")"
      ],
      "execution_count": 0,
      "outputs": []
    },
    {
      "cell_type": "code",
      "metadata": {
        "id": "gt6u9CLTz3Wl",
        "colab_type": "code",
        "outputId": "03064c12-67e6-4cb5-9778-881abe685d80",
        "colab": {
          "base_uri": "https://localhost:8080/",
          "height": 1000
        }
      },
      "source": [
        "#创建BAL3\n",
        "#将60000张图片随机分给100个客户端\n",
        "\n",
        "NUM_CLIENTS = 100  \n",
        "NUM_CLASS = 10\n",
        "NUM_PER_CLASS = 600\n",
        "CHIP_SIZE = 100\n",
        "NUM_CHIP = NUM_CLASS * NUM_PER_CLASS // CHIP_SIZE\n",
        "\n",
        "#pixels[i]存放的是第i个客户端的图片，label[i]以此类推\n",
        "pixels = [[]for i in range(NUM_CLIENTS)]\n",
        "label = [[]for i in range(NUM_CLIENTS)]\n",
        "client_ids = []\n",
        "for i in range(NUM_CLASS):  #外层循环控制类别\n",
        "  for j in range(NUM_CHIP):  #每个类循环碎片个数次\n",
        "    #随机选择一个客户端并把本次的碎片放进去\n",
        "    random_client_id = random.randint(0, NUM_CLIENTS-1)\n",
        "    #本次碎片的开始下标，从该下标开始往后最多CHIP_SIZE个样本为本次碎片\n",
        "    start = j*CHIP_SIZE\n",
        "    for k in range(min(CHIP_SIZE, len(bal3_balance_class[i])-start)):\n",
        "      pixels[random_client_id].append(bal3_balance_class[i][start+k]/255.0)\n",
        "      label[random_client_id].append(i)\n",
        "    \n",
        "#将pixels和label加入对应client的group中\n",
        "for i in range(NUM_CLIENTS):\n",
        "  client_ids.append(\"f00_\" + str(i))\n",
        "  temp_group = top_group.create_group(name=\"f00_\" + str(i))\n",
        "  label_ds = temp_group.create_dataset(name=\"label\", data=np.array(label[i], dtype='int32'))\n",
        "  pixels_ds = temp_group.create_dataset(name=\"pixels\", data=np.array(pixels[i], dtype='float32'))\n",
        "  print(len(label[i]))\n",
        "  print(num_per_class(label[i]))"
      ],
      "execution_count": 0,
      "outputs": [
        {
          "output_type": "stream",
          "text": [
            "200\n",
            "[200   0   0   0   0   0   0   0   0   0]\n",
            "400\n",
            "[  0 200   0   0   0   0   0 200   0   0]\n",
            "900\n",
            "[200 100   0 200 100 100 100 100   0   0]\n",
            "800\n",
            "[100   0 100 100 300   0 100   0   0 100]\n",
            "700\n",
            "[100 100 100 100 100   0   0 100   0 100]\n",
            "600\n",
            "[  0 100   0   0   0 300 100   0 100   0]\n",
            "600\n",
            "[100   0 100 200   0   0 100 100   0   0]\n",
            "1000\n",
            "[100 200 100   0   0 100 100 100 100 200]\n",
            "800\n",
            "[  0   0 200 100   0 200   0 100 200   0]\n",
            "600\n",
            "[100 100   0   0 100 100 100   0   0 100]\n",
            "600\n",
            "[  0   0 200   0 100   0 100   0 100 100]\n",
            "400\n",
            "[  0   0 100 200   0   0 100   0   0   0]\n",
            "700\n",
            "[100   0 100   0   0   0 100 300 100   0]\n",
            "1000\n",
            "[  0 100 100   0 300   0 200   0 100 200]\n",
            "600\n",
            "[  0 100   0   0 100 100   0   0 200 100]\n",
            "400\n",
            "[  0 200   0   0 100   0 100   0   0   0]\n",
            "500\n",
            "[100   0 100 100 100   0   0   0 100   0]\n",
            "900\n",
            "[200 100 400   0   0   0   0   0 100 100]\n",
            "600\n",
            "[  0 100 100   0   0   0   0 100 100 200]\n",
            "400\n",
            "[  0 100   0 100   0   0   0   0 200   0]\n",
            "500\n",
            "[100   0   0   0 200   0 100 100   0   0]\n",
            "600\n",
            "[  0 200 100 100   0 100 100   0   0   0]\n",
            "600\n",
            "[  0   0   0 100 100 200   0 100 100   0]\n",
            "500\n",
            "[100   0   0   0 200 100 100   0   0   0]\n",
            "900\n",
            "[300 100   0   0   0   0   0 300 100 100]\n",
            "300\n",
            "[100   0   0   0   0   0 100   0   0 100]\n",
            "300\n",
            "[  0 100   0 100   0   0   0 100   0   0]\n",
            "800\n",
            "[  0 300   0   0 200   0 200   0   0 100]\n",
            "200\n",
            "[100   0   0 100   0   0   0   0   0   0]\n",
            "700\n",
            "[100 100   0   0 300 200   0   0   0   0]\n",
            "600\n",
            "[100 100 100   0 200   0   0   0   0 100]\n",
            "700\n",
            "[  0   0   0 100 100 200 100 200   0   0]\n",
            "600\n",
            "[  0   0 100   0   0 100 100 100   0 200]\n",
            "800\n",
            "[  0   0 200 100   0   0 100 100 200 100]\n",
            "300\n",
            "[200   0   0 100   0   0   0   0   0   0]\n",
            "500\n",
            "[100 100   0   0   0   0   0   0 300   0]\n",
            "600\n",
            "[  0 100 200 100 100   0   0 100   0   0]\n",
            "600\n",
            "[  0   0   0 200   0 100   0 100 200   0]\n",
            "700\n",
            "[  0 100 100   0   0   0 100   0 300 100]\n",
            "700\n",
            "[  0 100   0 100 100 100   0 100 200   0]\n",
            "800\n",
            "[  0 300   0   0 100   0   0 200   0 200]\n",
            "600\n",
            "[100 100 100   0   0 200   0 100   0   0]\n",
            "500\n",
            "[100   0 100   0 100   0   0 100   0 100]\n",
            "300\n",
            "[  0   0 100   0 100   0   0   0 100   0]\n",
            "600\n",
            "[200 100   0   0   0 100   0 100 100   0]\n",
            "500\n",
            "[  0   0   0 100 100   0 200   0   0 100]\n",
            "400\n",
            "[  0 100   0   0   0   0   0 200 100   0]\n",
            "300\n",
            "[  0   0   0   0   0   0   0 100 100 100]\n",
            "400\n",
            "[  0   0   0 100 100   0 100   0   0 100]\n",
            "400\n",
            "[  0   0 100   0 100 100   0 100   0   0]\n",
            "600\n",
            "[100 200 100 100   0   0   0   0 100   0]\n",
            "1100\n",
            "[  0 100   0   0 100 200 100 100 200 300]\n",
            "600\n",
            "[200   0 100   0   0 200   0   0 100   0]\n",
            "700\n",
            "[100 100 100   0   0   0 200   0   0 200]\n",
            "300\n",
            "[100 100   0 100   0   0   0   0   0   0]\n",
            "600\n",
            "[  0 100   0   0 200   0 100 100 100   0]\n",
            "1000\n",
            "[200   0 100   0 100 200   0 300   0 100]\n",
            "300\n",
            "[  0 100   0   0 200   0   0   0   0   0]\n",
            "800\n",
            "[200 100 100 100 100   0   0 200   0   0]\n",
            "900\n",
            "[200   0 100 200   0 100 200   0   0 100]\n",
            "800\n",
            "[  0   0 300 100 200 100   0   0   0 100]\n",
            "500\n",
            "[  0   0   0 200   0 100 100   0 100   0]\n",
            "800\n",
            "[  0 100 100 200   0   0 100 200 100   0]\n",
            "700\n",
            "[100   0 100   0   0 100 200 200   0   0]\n",
            "500\n",
            "[  0 100   0   0 100   0   0 200 100   0]\n",
            "500\n",
            "[100   0 200 100   0   0   0   0   0 100]\n",
            "300\n",
            "[100   0   0   0   0 100   0 100   0   0]\n",
            "400\n",
            "[100   0 100   0   0   0   0   0 100 100]\n",
            "500\n",
            "[  0   0 100 100 100   0   0 100   0 100]\n",
            "1000\n",
            "[100 100 100   0 100   0 400   0 100 100]\n",
            "1400\n",
            "[100 200   0   0 400 300   0   0 200 200]\n",
            "700\n",
            "[  0   0 100 100 100 100 300   0   0   0]\n",
            "300\n",
            "[  0 100   0 100   0   0   0   0   0 100]\n",
            "800\n",
            "[100   0 200 100 100 200   0   0   0 100]\n",
            "200\n",
            "[  0   0   0   0   0 100   0   0 100   0]\n",
            "400\n",
            "[  0   0 200 100   0   0   0   0   0 100]\n",
            "500\n",
            "[  0   0   0 100 100   0 100   0 200   0]\n",
            "600\n",
            "[200   0   0   0 100 100 100   0 100   0]\n",
            "800\n",
            "[100 100 200 100 100   0   0   0 100 100]\n",
            "500\n",
            "[100   0 200   0   0 100 100   0   0   0]\n",
            "400\n",
            "[  0 100   0 100   0 100   0   0   0 100]\n",
            "400\n",
            "[  0   0   0   0   0 100 200 100   0   0]\n",
            "1000\n",
            "[100 200   0 400 100 200   0   0   0   0]\n",
            "500\n",
            "[  0   0   0   0   0   0 100 100 200 100]\n",
            "600\n",
            "[  0 100 100   0   0   0   0 300 100   0]\n",
            "600\n",
            "[100   0   0 100   0 200 100   0   0 100]\n",
            "600\n",
            "[100 100 100 100   0   0 100   0   0 100]\n",
            "700\n",
            "[  0   0 100 100   0 100 100 100 100 100]\n",
            "200\n",
            "[100   0   0   0   0   0 100   0   0   0]\n",
            "500\n",
            "[  0 100   0   0 100   0   0 200   0 100]\n",
            "600\n",
            "[  0   0   0 200   0 100   0   0   0 300]\n",
            "600\n",
            "[100 100 100 100   0   0 100   0 100   0]\n",
            "400\n",
            "[  0   0   0 100   0 100 100   0 100   0]\n",
            "700\n",
            "[  0   0   0 100 100 300 100   0   0 100]\n",
            "700\n",
            "[  0 100   0 200   0   0 100 200 100   0]\n",
            "1000\n",
            "[100 100   0 200 100 100 200   0 100 100]\n",
            "600\n",
            "[100 100 100   0   0 100   0 100 100   0]\n",
            "600\n",
            "[  0 100   0   0 100   0 100   0 100 200]\n",
            "800\n",
            "[  0   0 100 100   0 200 100   0 100 200]\n",
            "400\n",
            "[200   0   0   0   0   0   0 100   0 100]\n"
          ],
          "name": "stdout"
        }
      ]
    },
    {
      "cell_type": "code",
      "metadata": {
        "id": "1poxDT9b9cOU",
        "colab_type": "code",
        "outputId": "a1580b9d-7469-44c5-9693-dea8524aa158",
        "colab": {
          "base_uri": "https://localhost:8080/",
          "height": 1000
        }
      },
      "source": [
        "# #查看总的数量是否有误:无误\n",
        "# num1 = 0\n",
        "# num2 = 0\n",
        "# for j in range(5):\n",
        "#   #print(\"pixels\",len(pixels[j]))\n",
        "#   num1 = num1 + len(pixels[j])\n",
        "#   num2 = num2 + len(label[j])\n",
        "#   #print(\"label\",label[j])\n",
        "# print(num1)\n",
        "# print(num2)\n",
        "\n",
        "len(f3[\"examples\"][client_ids[2]][\"label\"].value)\n",
        "# print(f3[\"examples\"][client_ids[3]][\"label\"].value[699])\n",
        "# plt.imshow(f3[\"examples\"][client_ids[3]][\"pixels\"].value[699], cmap='gray', aspect='equal')\n",
        "# plt.grid(False)\n",
        "# #这里这个画应该是一种很随意的，因为不想再用所以命名就是_\n",
        "# #plt.imshow（）负责对图像进行处理并调整其格式但是不能显示，必须在其后跟着plt.show()才能成功显示出来\n",
        "# _=plt.show()\n",
        "\n",
        "#随机画图看是否有误:无误\n",
        "#把图片画出来看一看\n",
        "for i in range(10):\n",
        "  print(f3[\"examples\"][client_ids[3]][\"label\"].value[i])\n",
        "  plt.imshow(f3[\"examples\"][client_ids[3]][\"pixels\"].value[i],cmap='gray')\n",
        "  plt.grid(False)\n",
        "  plt.show()"
      ],
      "execution_count": 0,
      "outputs": [
        {
          "output_type": "stream",
          "text": [
            "0\n"
          ],
          "name": "stdout"
        },
        {
          "output_type": "display_data",
          "data": {
            "image/png": "[encoded data removed]",
            "text/plain": [
              "<Figure size 432x288 with 1 Axes>"
            ]
          },
          "metadata": {
            "tags": []
          }
        },
        {
          "output_type": "stream",
          "text": [
            "0\n"
          ],
          "name": "stdout"
        },
        {
          "output_type": "display_data",
          "data": {
            "image/png": "[encoded data removed]",
            "text/plain": [
              "<Figure size 432x288 with 1 Axes>"
            ]
          },
          "metadata": {
            "tags": []
          }
        },
        {
          "output_type": "stream",
          "text": [
            "0\n"
          ],
          "name": "stdout"
        },
        {
          "output_type": "display_data",
          "data": {
            "image/png": "[encoded data removed]",
            "text/plain": [
              "<Figure size 432x288 with 1 Axes>"
            ]
          },
          "metadata": {
            "tags": []
          }
        },
        {
          "output_type": "stream",
          "text": [
            "0\n"
          ],
          "name": "stdout"
        },
        {
          "output_type": "display_data",
          "data": {
            "image/png": "[encoded data removed]",
            "text/plain": [
              "<Figure size 432x288 with 1 Axes>"
            ]
          },
          "metadata": {
            "tags": []
          }
        },
        {
          "output_type": "stream",
          "text": [
            "0\n"
          ],
          "name": "stdout"
        },
        {
          "output_type": "display_data",
          "data": {
            "image/png": "[encoded data removed]",
            "text/plain": [
              "<Figure size 432x288 with 1 Axes>"
            ]
          },
          "metadata": {
            "tags": []
          }
        },
        {
          "output_type": "stream",
          "text": [
            "0\n"
          ],
          "name": "stdout"
        },
        {
          "output_type": "display_data",
          "data": {
            "image/png": "[encoded data removed]",
            "text/plain": [
              "<Figure size 432x288 with 1 Axes>"
            ]
          },
          "metadata": {
            "tags": []
          }
        },
        {
          "output_type": "stream",
          "text": [
            "0\n"
          ],
          "name": "stdout"
        },
        {
          "output_type": "display_data",
          "data": {
            "image/png": "[encoded data removed]",
            "text/plain": [
              "<Figure size 432x288 with 1 Axes>"
            ]
          },
          "metadata": {
            "tags": []
          }
        },
        {
          "output_type": "stream",
          "text": [
            "0\n"
          ],
          "name": "stdout"
        },
        {
          "output_type": "display_data",
          "data": {
            "image/png": "[encoded data removed]",
            "text/plain": [
              "<Figure size 432x288 with 1 Axes>"
            ]
          },
          "metadata": {
            "tags": []
          }
        },
        {
          "output_type": "stream",
          "text": [
            "0\n"
          ],
          "name": "stdout"
        },
        {
          "output_type": "display_data",
          "data": {
            "image/png": "[encoded data removed]",
            "text/plain": [
              "<Figure size 432x288 with 1 Axes>"
            ]
          },
          "metadata": {
            "tags": []
          }
        },
        {
          "output_type": "stream",
          "text": [
            "0\n"
          ],
          "name": "stdout"
        },
        {
          "output_type": "display_data",
          "data": {
            "image/png": "[encoded data removed]",
            "text/plain": [
              "<Figure size 432x288 with 1 Axes>"
            ]
          },
          "metadata": {
            "tags": []
          }
        }
      ]
    },
    {
      "cell_type": "code",
      "metadata": {
        "id": "ZFssf18G1qka",
        "colab_type": "code",
        "outputId": "35dc5460-337b-4780-a680-01f912ca2641",
        "colab": {
          "base_uri": "https://localhost:8080/",
          "height": 35
        }
      },
      "source": [
        "#数据集构造完成以后，调用内存清理操作\n",
        "del pixels[:]\n",
        "del label[:]\n",
        "del bal3_balance_class[:]\n",
        "gc.collect()"
      ],
      "execution_count": 0,
      "outputs": [
        {
          "output_type": "execute_result",
          "data": {
            "text/plain": [
              "23374"
            ]
          },
          "metadata": {
            "tags": []
          },
          "execution_count": 208
        }
      ]
    },
    {
      "cell_type": "markdown",
      "metadata": {
        "id": "pEoCrfZQg6Qf",
        "colab_type": "text"
      },
      "source": [
        "### 构造BAL4数据集，全局不平衡，标量不平衡，局部Non-IID"
      ]
    },
    {
      "cell_type": "code",
      "metadata": {
        "id": "L66Q84ZZhXYX",
        "colab_type": "code",
        "colab": {}
      },
      "source": [
        "'''\n",
        "BAL4：标量不平衡，全局不平衡，局部不平衡\n",
        "使用原始的mnist\n",
        "60000张图片随机分给100个客户端，每个客户端数目不固定\n",
        "整体设置为病态不平衡，标量从40-220不等，局部Non-IID也非常病态\n",
        "由CHIP控制不平衡程度，全局不平衡比例由人为：\n",
        "10:10:5:5:2:8:7:3:4:6\n",
        "'''"
      ],
      "execution_count": 0,
      "outputs": []
    },
    {
      "cell_type": "code",
      "metadata": {
        "id": "SjWO678VhbGB",
        "colab_type": "code",
        "colab": {}
      },
      "source": [
        "#获取总的数据集：最开始使用了洗牌算法，后来发现随机的还是有点平衡，最后改用认为控制类别比例\n",
        "#因为需要使用删除操作所以不能直接使用=赋值\n",
        "\n",
        "# copy_y_train = []\n",
        "# copy_x_train = []\n",
        "# x_class = []\n",
        "# y_class = []\n",
        "# for i in range(len(x_train_emnist_digits)):\n",
        "#   copy_y_train.append(y_train_emnist_digits[i])\n",
        "#   copy_x_train.append(x_train_emnist_digits[i])\n",
        "\n",
        "# for i in range(60000):\n",
        "#   #因为只使用一个随机数产生的还是有点均匀，我决定去网上寻找非均匀的分布\n",
        "#   start = random.randint(0,len(copy_y_train)//2)\n",
        "#   #随机产生一个下标\n",
        "#   random_index = random.randint(0,len(copy_y_train)-1)\n",
        "#   label_val = copy_y_train[random_index]\n",
        "  \n",
        "#   x_class.append(copy_x_train[random_index])\n",
        "#   y_class.append(label_val)\n",
        "  \n",
        "#   del copy_y_train[random_index]\n",
        "#   del copy_x_train[random_index]\n",
        "\n",
        "#获得全局不平衡数据集，各个类别之间的比例由我指定，以免随机分配太平衡\n",
        "ratio = [10,10,5,5,2,8,7,3,4,6]\n",
        "bal4_imbalance_class = [[]for i in range(10)]  \n",
        "for i in range(0,10):\n",
        "  end = tf.cast(ratio[i]/sum(ratio) * 60000, tf.int32)\n",
        "  \n",
        "  bal4_imbalance_class[i] = class_[i][0:end]"
      ],
      "execution_count": 0,
      "outputs": []
    },
    {
      "cell_type": "code",
      "metadata": {
        "id": "X2I34xEbAQpS",
        "colab_type": "code",
        "outputId": "a958535b-2032-4b83-893b-63e69b6877e7",
        "colab": {
          "base_uri": "https://localhost:8080/"
        }
      },
      "source": [
        "#因为构造的数据集有误，所以需要看总的图片是否有误\n",
        "#第一次查看：有误.第二次查看：有误\n",
        "\n",
        "# for i in range(10,20):\n",
        "#   print(y_class[i])\n",
        "#   plt.imshow(x_class[i], cmap='gray', aspect='equal')\n",
        "#   plt.grid(False)\n",
        "#   _=plt.show()\n",
        "#统计每个类别有多少张图片:[5926 5953 5999 6027 5935 6089 5980 5885 6088 6118]:太均匀了\n",
        "#新产生的每个类别图片数：[10000, 10000, 5000, 5000, 2000, 8000, 7000, 3000, 4000, 6000]\n",
        "\n",
        "print([len(bal4_imbalance_class[i]) for i in range(10)])\n"
      ],
      "execution_count": 0,
      "outputs": [
        {
          "output_type": "stream",
          "text": [
            "[10000, 10000, 5000, 5000, 2000, 8000, 7000, 3000, 4000, 6000]\n"
          ],
          "name": "stdout"
        }
      ]
    },
    {
      "cell_type": "code",
      "metadata": {
        "id": "AoCoTfYphdkM",
        "colab_type": "code",
        "colab": {}
      },
      "source": [
        "#删除一个h5py文件\n",
        "f4.flush()\n",
        "f4.clear()"
      ],
      "execution_count": 0,
      "outputs": []
    },
    {
      "cell_type": "code",
      "metadata": {
        "id": "nLVp8IHMhgDs",
        "colab_type": "code",
        "colab": {}
      },
      "source": [
        "#创建hdf5文件\n",
        "f4 = h5py.File(\"/content/drive/My Drive/Colab Notebooks/BAL4.hdf5\",\"a\")\n",
        "#创建顶层group\n",
        "top_group = f4.create_group(\"examples\")"
      ],
      "execution_count": 0,
      "outputs": []
    },
    {
      "cell_type": "code",
      "metadata": {
        "id": "Gd-XISWIhjB3",
        "colab_type": "code",
        "outputId": "29dfe345-f828-4875-daf4-42ec313515b2",
        "colab": {
          "base_uri": "https://localhost:8080/"
        }
      },
      "source": [
        "#创建BAL4\n",
        "#将60000张图片随机分给100个客户端，为了达到病态的效果，以CHIP_SIZE张图片为一个碎片，将碎片随机分给100个客户端\n",
        "\n",
        "NUM_CLIENTS = 100 \n",
        "NUM_CLASS = 10\n",
        "#NUM_PER_CLASS = 600\n",
        "CHIP_SIZE = 100\n",
        "NUM_CHIP = NUM_CLASS * NUM_PER_CLASS // CHIP_SIZE\n",
        "\n",
        "pixels = [[]for i in range(NUM_CLIENTS)]\n",
        "label = [[]for i in range(NUM_CLIENTS)]\n",
        "client_ids = []\n",
        "for i in range(NUM_CLASS):  #循环10*6000\n",
        "  for j in range(len(bal4_imbalance_class[i])//CHIP_SIZE):\n",
        "    random_client_id = random.randint(0, NUM_CLIENTS-1)\n",
        "    start = j*CHIP_SIZE\n",
        "    for k in range(min(CHIP_SIZE, len(bal4_imbalance_class[i])-start)):\n",
        "      pixels[random_client_id].append(bal4_imbalance_class[i][start+k]/255.0)\n",
        "      label[random_client_id].append(i)\n",
        "    \n",
        "#将pixels和label加入对应client的group中\n",
        "num = 0\n",
        "for i in range(NUM_CLIENTS):\n",
        "  client_ids.append(\"f00_\" + str(i))\n",
        "  temp_group = top_group.create_group(name=\"f00_\" + str(i))\n",
        "  label_ds = temp_group.create_dataset(name=\"label\", data=np.array(label[i], dtype='int32'))\n",
        "  pixels_ds = temp_group.create_dataset(name=\"pixels\", data=np.array(pixels[i], dtype='float32'))\n",
        "  print(len(label[i]))\n",
        "  print(num_per_class(label[i]))\n",
        "  num = num + len(label[i])\n",
        "#统计最终分给100个客户端的样本总数是多少  \n",
        "print(num)"
      ],
      "execution_count": 0,
      "outputs": [
        {
          "output_type": "stream",
          "text": [
            "600\n",
            "[  0 100 100   0   0   0 200 100   0 100]\n",
            "300\n",
            "[  0   0   0   0   0 100   0   0 100 100]\n",
            "900\n",
            "[300 100 100   0   0 100 100 100   0 100]\n",
            "500\n",
            "[  0   0 100 100   0   0   0 200   0 100]\n",
            "700\n",
            "[200 300   0   0   0 100   0   0   0 100]\n",
            "400\n",
            "[100   0   0 100   0   0 100 100   0   0]\n",
            "500\n",
            "[  0   0 100 100   0 200   0   0   0 100]\n",
            "800\n",
            "[  0 200   0 100   0 100 100   0 100 200]\n",
            "900\n",
            "[300 200   0 100   0 100   0   0   0 200]\n",
            "800\n",
            "[100   0 100 200   0 100 100   0   0 200]\n",
            "300\n",
            "[  0 100   0   0   0 100 100   0   0   0]\n",
            "600\n",
            "[100 200 200   0   0 100   0   0   0   0]\n",
            "1000\n",
            "[100 300   0   0   0 100 200 100   0 200]\n",
            "400\n",
            "[100 100   0 100   0   0 100   0   0   0]\n",
            "400\n",
            "[  0 100 100   0   0   0 200   0   0   0]\n",
            "900\n",
            "[100 300   0 100   0 100   0   0 100 200]\n",
            "900\n",
            "[100   0 100   0 100 100 300 200   0   0]\n",
            "800\n",
            "[100 100 100   0   0 100   0 200 100 100]\n",
            "600\n",
            "[300   0   0   0   0   0 100 100 100   0]\n",
            "700\n",
            "[100 200   0   0 200 100 100   0   0   0]\n",
            "700\n",
            "[100 100   0 100   0   0 300   0 100   0]\n",
            "900\n",
            "[500 100   0   0 100 100   0   0 100   0]\n",
            "900\n",
            "[200 200   0   0   0 100 100   0 200 100]\n",
            "600\n",
            "[100   0 100   0   0   0 100   0 300   0]\n",
            "800\n",
            "[200 300   0   0   0   0 100 100   0 100]\n",
            "600\n",
            "[  0 300   0 100   0   0   0 100 100   0]\n",
            "400\n",
            "[100 100 100   0   0   0   0   0   0 100]\n",
            "400\n",
            "[  0 100 100 100   0   0   0   0 100   0]\n",
            "800\n",
            "[300   0   0 100   0 100   0   0 200 100]\n",
            "400\n",
            "[100 100 100   0   0 100   0   0   0   0]\n",
            "700\n",
            "[200 100 100   0   0 100   0   0 100 100]\n",
            "500\n",
            "[  0 100   0 100   0 200 100   0   0   0]\n",
            "600\n",
            "[  0   0   0 100   0 100 100   0 100 200]\n",
            "700\n",
            "[200 100   0 100   0 100 100 100   0   0]\n",
            "400\n",
            "[100   0 100   0   0 100   0   0   0 100]\n",
            "700\n",
            "[  0 200 200   0   0 200 100   0   0   0]\n",
            "400\n",
            "[  0   0 100   0   0 200   0   0   0 100]\n",
            "700\n",
            "[200   0   0 100   0 300   0   0 100   0]\n",
            "400\n",
            "[  0 100   0 100   0 100   0 100   0   0]\n",
            "1100\n",
            "[100 100 100   0   0 400 300   0 100   0]\n",
            "700\n",
            "[100 200 100   0   0 200   0   0   0 100]\n",
            "800\n",
            "[200 200   0   0   0   0 100 200   0 100]\n",
            "600\n",
            "[100   0 100   0   0 100 200 100   0   0]\n",
            "300\n",
            "[  0   0 200   0   0 100   0   0   0   0]\n",
            "400\n",
            "[100   0 100   0   0 100   0   0   0 100]\n",
            "300\n",
            "[100   0   0   0   0 100   0   0   0 100]\n",
            "500\n",
            "[100   0 200   0   0   0 100   0   0 100]\n",
            "600\n",
            "[100 100   0   0   0 100   0   0 100 200]\n",
            "400\n",
            "[100 100   0   0 100   0 100   0   0   0]\n",
            "800\n",
            "[  0 300   0 100   0 200 100   0   0 100]\n",
            "200\n",
            "[  0 200   0   0   0   0   0   0   0   0]\n",
            "400\n",
            "[  0   0   0   0   0 200 100   0   0 100]\n",
            "1100\n",
            "[200 200   0 300   0 200 100 100   0   0]\n",
            "600\n",
            "[200   0 200   0   0 100   0 100   0   0]\n",
            "500\n",
            "[  0 200   0   0   0   0 100   0 100 100]\n",
            "1000\n",
            "[100 100 100 200   0 100 200 100 100   0]\n",
            "600\n",
            "[100   0 100   0   0 200 100   0   0 100]\n",
            "600\n",
            "[100 100 100 100   0   0   0   0 100 100]\n",
            "500\n",
            "[100   0   0   0   0   0 200   0   0 200]\n",
            "700\n",
            "[100 100 200   0   0   0   0 100 100 100]\n",
            "600\n",
            "[100   0 100 100   0 200   0   0 100   0]\n",
            "600\n",
            "[100   0 100 100   0 100 100   0   0 100]\n",
            "600\n",
            "[400   0   0 100   0   0   0   0   0 100]\n",
            "900\n",
            "[  0 300   0   0 100 200 100   0   0 200]\n",
            "600\n",
            "[  0 300   0   0   0   0 200   0 100   0]\n",
            "500\n",
            "[  0   0   0 100   0   0 100 100 200   0]\n",
            "900\n",
            "[100 200 100 200   0 200   0   0 100   0]\n",
            "900\n",
            "[300   0   0 100   0 300   0 100   0 100]\n",
            "400\n",
            "[  0   0 100 100 100   0   0 100   0   0]\n",
            "1000\n",
            "[200 100   0   0   0 100 300   0 100 200]\n",
            "500\n",
            "[200   0   0   0 100   0   0 100 100   0]\n",
            "400\n",
            "[200   0   0 100   0   0   0   0 100   0]\n",
            "300\n",
            "[  0 100   0   0   0 100   0   0 100   0]\n",
            "600\n",
            "[100 100 100   0   0   0 200   0   0 100]\n",
            "500\n",
            "[100   0   0 300   0   0   0   0   0 100]\n",
            "600\n",
            "[  0   0 200 100   0 100 200   0   0   0]\n",
            "400\n",
            "[  0 200   0 100   0 100   0   0   0   0]\n",
            "700\n",
            "[  0 100   0 100 200   0   0 100 100 100]\n",
            "900\n",
            "[  0 100 100 200 200   0   0 100 100 100]\n",
            "500\n",
            "[200 100   0 100   0   0   0   0 100   0]\n",
            "400\n",
            "[  0   0   0 100 100 200   0   0   0   0]\n",
            "400\n",
            "[100 100   0   0 100 100   0   0   0   0]\n",
            "500\n",
            "[  0 100   0   0 200 100   0   0 100   0]\n",
            "400\n",
            "[100 200   0   0   0   0   0   0   0 100]\n",
            "400\n",
            "[100   0   0 100   0 100   0   0   0 100]\n",
            "400\n",
            "[  0 200 100   0 100   0   0   0   0   0]\n",
            "300\n",
            "[100   0   0   0 100   0 100   0   0   0]\n",
            "700\n",
            "[100 200 100   0   0 100 100   0   0 100]\n",
            "300\n",
            "[100   0   0   0   0   0 100 100   0   0]\n",
            "500\n",
            "[100   0   0   0 100   0 100 100 100   0]\n",
            "700\n",
            "[200 200   0   0   0 100   0   0   0 200]\n",
            "600\n",
            "[100 100 100 100   0 100 100   0   0   0]\n",
            "900\n",
            "[100 300 100 100 100   0 100   0   0 100]\n",
            "700\n",
            "[300 300   0   0   0   0 100   0   0   0]\n",
            "500\n",
            "[100 100   0 100   0 100 100   0   0   0]\n",
            "700\n",
            "[  0 200 100   0   0 200   0   0 100 100]\n",
            "500\n",
            "[  0 100 100   0   0   0 300   0   0   0]\n",
            "400\n",
            "[100   0 100 100   0   0   0   0   0 100]\n",
            "200\n",
            "[100   0   0   0   0   0 100   0   0   0]\n",
            "800\n",
            "[100 200 100 100   0 100 200   0   0   0]\n",
            "60000\n"
          ],
          "name": "stdout"
        }
      ]
    },
    {
      "cell_type": "code",
      "metadata": {
        "id": "UTiJPo5Y-_ea",
        "colab_type": "code",
        "outputId": "98d9640e-077d-4bcf-9a27-246c5f2c2486",
        "colab": {
          "base_uri": "https://localhost:8080/"
        }
      },
      "source": [
        "#查看数量是否有误\n",
        "num1 = 0\n",
        "num2 = 0\n",
        "for j in range(5):\n",
        "  #print(\"pixels\",len(pixels[j]))\n",
        "  num1 = num1 + len(pixels[j])\n",
        "  num2 = num2 + len(label[j])\n",
        "  #print(\"label\",label[j])\n",
        "print(num1)\n",
        "# # print(num2)\n",
        "\n",
        "#随机画图看是否有误:第一次有误，label和图片对不上\n",
        "#把图片画出来看一看\n",
        "# for i in range(10):\n",
        "#   print(f3[\"examples\"][client_ids[3]][\"label\"].value[i])\n",
        "#   plt.imshow(f3[\"examples\"][client_ids[3]][\"pixels\"].value[i],cmap='gray')\n",
        "#   plt.grid(False)\n",
        "#   plt.show()"
      ],
      "execution_count": 0,
      "outputs": [
        {
          "output_type": "stream",
          "text": [
            "3000\n"
          ],
          "name": "stdout"
        }
      ]
    },
    {
      "cell_type": "code",
      "metadata": {
        "id": "hN78Iq1mhoWJ",
        "colab_type": "code",
        "outputId": "6d72138c-dec8-4a84-b6fe-ee6dbbf6b1ea",
        "colab": {
          "base_uri": "https://localhost:8080/"
        }
      },
      "source": [
        "#数据集构造完成以后，调用内存清理操作\n",
        "del pixels[:]\n",
        "del label[:]\n",
        "del bal4_imbalance_class[:]\n",
        "gc.collect()"
      ],
      "execution_count": 0,
      "outputs": [
        {
          "output_type": "execute_result",
          "data": {
            "text/plain": [
              "165"
            ]
          },
          "metadata": {
            "tags": []
          },
          "execution_count": 43
        }
      ]
    },
    {
      "cell_type": "markdown",
      "metadata": {
        "id": "EgLe3GZ8s_rw",
        "colab_type": "text"
      },
      "source": [
        "### 关闭文件操作"
      ]
    },
    {
      "cell_type": "code",
      "metadata": {
        "id": "Pwux3ldMtGml",
        "colab_type": "code",
        "colab": {}
      },
      "source": [
        "f_t.close()\n",
        "f1.close()\n",
        "f2.close()\n",
        "f3.close()\n",
        "f4.close()"
      ],
      "execution_count": 0,
      "outputs": []
    },
    {
      "cell_type": "markdown",
      "metadata": {
        "id": "IFa-6jkwEmYA",
        "colab_type": "text"
      },
      "source": [
        "### 各个数据集实例化"
      ]
    },
    {
      "cell_type": "code",
      "metadata": {
        "id": "Ckb9MoXRpqkA",
        "colab_type": "code",
        "outputId": "2bcc88fc-0506-455d-c968-c73061e939fd",
        "colab": {
          "base_uri": "https://localhost:8080/",
          "height": 35
        }
      },
      "source": [
        "#实例化构造的数据集:test\n",
        "test = tff.simulation.hdf5_client_data.HDF5ClientData(\"/content/drive/My Drive/Colab Notebooks/test.hdf5\")\n",
        "num_clients_test = len(test.client_ids)\n",
        "print(num_clients_test)"
      ],
      "execution_count": 0,
      "outputs": [
        {
          "output_type": "stream",
          "text": [
            "50\n"
          ],
          "name": "stdout"
        }
      ]
    },
    {
      "cell_type": "code",
      "metadata": {
        "id": "tLcRrX6pk41S",
        "colab_type": "code",
        "outputId": "6eddd6b3-ab51-419a-f863-34004f822909",
        "colab": {
          "base_uri": "https://localhost:8080/",
          "height": 35
        }
      },
      "source": [
        "#实例化构造的数据集：BAL1\n",
        "BAL1 = tff.simulation.hdf5_client_data.HDF5ClientData(\"/content/drive/My Drive/Colab Notebooks/BAL1.hdf5\")\n",
        "num_clients_BAL1 = len(BAL1.client_ids)\n",
        "print(num_clients_BAL1)\n",
        "#留出总客户端的4分之一做测试集\n",
        "#BAL1_train, BAL1_test = BAL1.train_test_client_split(client_data=BAL1, num_test_clients= num_clients_BAL1//4)"
      ],
      "execution_count": 0,
      "outputs": [
        {
          "output_type": "stream",
          "text": [
            "100\n"
          ],
          "name": "stdout"
        }
      ]
    },
    {
      "cell_type": "code",
      "metadata": {
        "id": "WTobUHpCFcHm",
        "colab_type": "code",
        "outputId": "3f60298b-28ff-4f9d-ca57-5142475e54d9",
        "colab": {
          "base_uri": "https://localhost:8080/",
          "height": 35
        }
      },
      "source": [
        "#实例化构造的数据集：BAL2\n",
        "BAL2 = tff.simulation.hdf5_client_data.HDF5ClientData(\"/content/drive/My Drive/Colab Notebooks/BAL2.hdf5\")\n",
        "num_clients_BAL2 = len(BAL2.client_ids)\n",
        "print(num_clients_BAL2)\n",
        "#留出总客户端的4分之一做测试集\n",
        "#BAL2_train, BAL2_test = BAL2.train_test_client_split(client_data=BAL2, num_test_clients= num_clients_BAL2//4)"
      ],
      "execution_count": 218,
      "outputs": [
        {
          "output_type": "stream",
          "text": [
            "100\n"
          ],
          "name": "stdout"
        }
      ]
    },
    {
      "cell_type": "code",
      "metadata": {
        "id": "eeyvo_YQ2fBo",
        "colab_type": "code",
        "outputId": "f2f4cdf2-203e-453b-f9c1-4cbd118f8a23",
        "colab": {
          "base_uri": "https://localhost:8080/",
          "height": 339
        }
      },
      "source": [
        "#实例化构造的数据集：BAL3\n",
        "BAL3 = tff.simulation.hdf5_client_data.HDF5ClientData(\"/content/drive/My Drive/Colab Notebooks/BAL3.hdf5\")\n",
        "num_clients_BAL3 = len(BAL3.client_ids)\n",
        "#print(num_clients_BAL3)\n",
        "\n",
        "#使用了迭代器发现确实BAL3里面的客户端样本数和分配给它的不一样\n",
        "example_dataset = BAL3.create_tf_dataset_for_client(\n",
        "    BAL3.client_ids[2]\n",
        ")\n",
        "example_element = next(iter(example_dataset))\n",
        "\n",
        "print(BAL3.client_ids[0:20])\n",
        "\n",
        "#调查，第2个客户端只分配了300个样本，但是用迭代器迭代出来了600个样本,全部都可以实例化\n",
        "#第3个客户端分配了700个样本，迭代器迭代出来了600个\n",
        "n = 0\n",
        "l = []\n",
        "iter_ = iter(example_dataset)\n",
        "while(n < 600):\n",
        "  example_element = next(iter_)\n",
        "  n = n+1\n",
        "  l.append(example_element['label'].numpy() )\n",
        "  #print(n)\n",
        "\n",
        "print(num_per_class(l))\n",
        "print(example_element['label'].numpy() )\n",
        "plt.imshow(example_element['pixels'].numpy(), cmap='gray', aspect='equal')\n",
        "plt.grid(False)\n",
        "#这里这个画应该是一种很随意的，因为不想再用所以命名就是_\n",
        "#plt.imshow（）负责对图像进行处理并调整其格式但是不能显示，必须在其后跟着plt.show()才能成功显示出来\n",
        "_=plt.show()"
      ],
      "execution_count": 0,
      "outputs": [
        {
          "output_type": "stream",
          "text": [
            "['f00_0', 'f00_1', 'f00_10', 'f00_11', 'f00_12', 'f00_13', 'f00_14', 'f00_15', 'f00_16', 'f00_17', 'f00_18', 'f00_19', 'f00_2', 'f00_20', 'f00_21', 'f00_22', 'f00_23', 'f00_24', 'f00_25', 'f00_26']\n",
            "[  0   0 200   0 100   0 100   0 100 100]\n",
            "9\n"
          ],
          "name": "stdout"
        },
        {
          "output_type": "display_data",
          "data": {
            "image/png": "[encoded data removed]",
            "text/plain": [
              "<Figure size 432x288 with 1 Axes>"
            ]
          },
          "metadata": {
            "tags": []
          }
        }
      ]
    },
    {
      "cell_type": "code",
      "metadata": {
        "id": "GGl0f9fVwy4p",
        "colab_type": "code",
        "outputId": "cc8c6be1-91ad-4548-c4ca-ff39b0aaf59d",
        "colab": {
          "base_uri": "https://localhost:8080/",
          "height": 91
        }
      },
      "source": [
        "#实例化构造的数据集：BAL4\n",
        "BAL4 = tff.simulation.hdf5_client_data.HDF5ClientData(\"/content/drive/My Drive/Colab Notebooks/BAL4.hdf5\")\n",
        "num_clients_BAL4 = len(BAL4.client_ids)\n",
        "print(num_clients_BAL4)\n",
        "example_dataset = BAL4.create_tf_dataset_for_client(\n",
        "    BAL4.client_ids[4]\n",
        ")\n",
        "example_element = next(iter(example_dataset))\n",
        "\n",
        "print(BAL4.client_ids[0:20])\n",
        "\n",
        "#调查，第2个客户端只分配了300个样本，但是用迭代器迭代出来了600个样本,全部都可以实例化\n",
        "#第3个客户端分配了700个样本，迭代器迭代出来了600个\n",
        "n = 0\n",
        "l = []\n",
        "iter_ = iter(example_dataset)\n",
        "#计算有多少个样本\n",
        "while(n < 1000):\n",
        "  example_element = next(iter_)\n",
        "  n = n+1\n",
        "  l.append(example_element['label'].numpy() )\n",
        "  #print(n)\n",
        "# #计算样本分布\n",
        "# while(iter_):\n",
        "#   example_element = next(iter_)\n",
        "#   n = n+1\n",
        "#   l.append(example_element['label'].numpy() )\n",
        "#   print(n)\n",
        "print(num_per_class(l))\n",
        "# print(example_element['label'].numpy() )\n",
        "# plt.imshow(example_element['pixels'].numpy(), cmap='gray', aspect='equal')\n",
        "# plt.grid(False)\n",
        "# #这里这个画应该是一种很随意的，因为不想再用所以命名就是_\n",
        "# #plt.imshow（）负责对图像进行处理并调整其格式但是不能显示，必须在其后跟着plt.show()才能成功显示出来\n",
        "# _=plt.show()"
      ],
      "execution_count": 0,
      "outputs": [
        {
          "output_type": "stream",
          "text": [
            "100\n",
            "['f00_0', 'f00_1', 'f00_10', 'f00_11', 'f00_12', 'f00_13', 'f00_14', 'f00_15', 'f00_16', 'f00_17', 'f00_18', 'f00_19', 'f00_2', 'f00_20', 'f00_21', 'f00_22', 'f00_23', 'f00_24', 'f00_25', 'f00_26']\n",
            "[100 300   0   0   0 100 200 100   0 200]\n"
          ],
          "name": "stdout"
        }
      ]
    },
    {
      "cell_type": "code",
      "metadata": {
        "id": "wKth4b_uidw3",
        "colab_type": "code",
        "outputId": "4b7d7104-b9ac-4d69-aeab-a50129c890cd",
        "colab": {
          "base_uri": "https://localhost:8080/",
          "height": 35
        }
      },
      "source": [
        "print(len(test.client_ids))"
      ],
      "execution_count": 0,
      "outputs": [
        {
          "output_type": "stream",
          "text": [
            "50\n"
          ],
          "name": "stdout"
        }
      ]
    },
    {
      "cell_type": "code",
      "metadata": {
        "id": "RPD6BU2unLwo",
        "colab_type": "code",
        "outputId": "480d0d30-a794-4ea7-f906-82072969255d",
        "colab": {
          "base_uri": "https://localhost:8080/",
          "height": 53
        }
      },
      "source": [
        "#BAL1.client_ids\n",
        "#这里面的每一个打印出来都是和example_dataset类型一样的\n",
        "x = tf.data.Dataset.from_tensor_slices(\n",
        "        collections.OrderedDict((name, ds.value) for name, ds in sorted(\n",
        "            f1[\"examples\"][BAL1.client_ids[0]].items())))\n",
        "print(x)\n",
        "example_dataset = emnist_train.create_tf_dataset_for_client(\n",
        "    emnist_train.client_ids[0]\n",
        ")\n",
        "print(example_dataset)"
      ],
      "execution_count": 0,
      "outputs": [
        {
          "output_type": "stream",
          "text": [
            "<TensorSliceDataset shapes: OrderedDict([(label, ()), (pixels, (28, 28))]), types: OrderedDict([(label, tf.int32), (pixels, tf.float32)])>\n",
            "<TensorSliceDataset shapes: OrderedDict([(label, ()), (pixels, (28, 28))]), types: OrderedDict([(label, tf.int32), (pixels, tf.float32)])>\n"
          ],
          "name": "stdout"
        }
      ]
    },
    {
      "cell_type": "code",
      "metadata": {
        "id": "DHXBNT_UxIWo",
        "colab_type": "code",
        "outputId": "a234c1c7-85da-4ce0-f7bf-4e8dab10d3af",
        "colab": {
          "base_uri": "https://localhost:8080/",
          "height": 35
        }
      },
      "source": [
        "#此处得到客户端的总数K，因为每一轮随机选择C×K的向上取整\n",
        "#根据FedAvg做的研究C取0.2可获得较好的性能，为了简化模型K这里取固定的数\n",
        "# K = len(emnist_train.client_ids)\n",
        "#BAL1数据集\n",
        "K = len(BAL4.client_ids)\n",
        "C = 0.02\n",
        "math.ceil(K*C)"
      ],
      "execution_count": 0,
      "outputs": [
        {
          "output_type": "execute_result",
          "data": {
            "text/plain": [
              "8"
            ]
          },
          "metadata": {
            "tags": []
          },
          "execution_count": 17
        }
      ]
    },
    {
      "cell_type": "code",
      "metadata": {
        "id": "RaO3Jj0e8Pwb",
        "colab_type": "code",
        "outputId": "06688db3-d0f3-48c6-8794-912c0ed132ce",
        "colab": {
          "base_uri": "https://localhost:8080/",
          "height": 283
        }
      },
      "source": [
        "#这个单元格在看数据集里面的图片是否正常\n",
        "#第一次：test的label和图片匹配不上\n",
        "example_dataset = BAL1.create_tf_dataset_for_client(\n",
        "    BAL1.client_ids[3]\n",
        ")\n",
        "\n",
        "example_element = next(iter(example_dataset))\n",
        "print(example_element['label'].numpy())  #加了.numpy（）是在取numpy()属性的值，就是用.取属性值的意思\n",
        "\n",
        "from matplotlib import pyplot as plt\n",
        "plt.imshow(example_element['pixels'].numpy(), cmap='gray', aspect='equal')\n",
        "plt.grid(False)\n",
        "_=plt.show()"
      ],
      "execution_count": 0,
      "outputs": [
        {
          "output_type": "stream",
          "text": [
            "0\n"
          ],
          "name": "stdout"
        },
        {
          "output_type": "display_data",
          "data": {
            "image/png": "[encoded data removed]",
            "text/plain": [
              "<Figure size 432x288 with 1 Axes>"
            ]
          },
          "metadata": {
            "tags": []
          }
        }
      ]
    },
    {
      "cell_type": "markdown",
      "metadata": {
        "id": "ip--KI1UhiSU",
        "colab_type": "text"
      },
      "source": [
        "### 图像预处理"
      ]
    },
    {
      "cell_type": "code",
      "metadata": {
        "id": "Fc578aa2UuZa",
        "colab_type": "code",
        "colab": {}
      },
      "source": [
        "#NUM_CLIENTS在实验的时候应该是K×C,375*0.2=75\n",
        "#NUM_CLIENTS = math.ceil(K*C)\n",
        "NUM_EPOCHS = 5\n",
        "BATCH_SIZE = 20\n",
        "SHUFFLE_BUFFER = 100\n",
        "PREFETCH_BUFFER = 10\n",
        "\n",
        "#预处理，将图片中的‘pixels'、‘label'分别表示成x和y\n",
        "#将28×28的图像展平成784个元素，打乱顺序\n",
        "def preprocess(dataset):\n",
        "  #内部函数将像素和标签转换成x和y，并将像素展平\n",
        "  def batch_format_fn(element):\n",
        "    return collections.OrderedDict(\n",
        "        #因为是灰度图所以通道数为1，如果是rgb图片则为3\n",
        "        #因为CNN卷积层接收一个4d向量\n",
        "        x = tf.reshape(element['pixels'], [-1,28,28,1]),\n",
        "        y = tf.reshape(element['label'], [-1,1])\n",
        "    )\n",
        "  \n",
        "  return dataset.repeat(NUM_EPOCHS).shuffle(SHUFFLE_BUFFER).batch(BATCH_SIZE).map(batch_format_fn).prefetch(PREFETCH_BUFFER)"
      ],
      "execution_count": 0,
      "outputs": []
    },
    {
      "cell_type": "code",
      "metadata": {
        "id": "mRqmbbzamP1e",
        "colab_type": "code",
        "colab": {}
      },
      "source": [
        "#为指定用户创建联邦数据,接收训练集和用户id\n",
        "def make_federated_data(client_data, client_ids):\n",
        "  return [\n",
        "      preprocess(client_data.create_tf_dataset_for_client(x))\n",
        "      for x in client_ids\n",
        "    ]\n"
      ],
      "execution_count": 0,
      "outputs": []
    },
    {
      "cell_type": "code",
      "metadata": {
        "id": "NDHJSC8OYaZj",
        "colab_type": "code",
        "outputId": "e19d5863-4e33-4b4f-db57-f1baf4a185d5",
        "colab": {
          "base_uri": "https://localhost:8080/"
        }
      },
      "source": [
        "#这里改成随机获得NUM_CLIENTS个用户，模拟联邦学习每轮的随机选择用户\n",
        "# sample_clients = random.sample(emnist_train.client_ids, NUM_CLIENTS)\n",
        "# federated_train_data = make_federated_data(emnist_train, sample_clients)\n",
        "example_dataset = BAL1.create_tf_dataset_for_client(\n",
        "    BAL1.client_ids[0]\n",
        ")\n",
        "print(\"examle_dataset\",example_dataset)\n",
        "\n",
        "#BAL1数据集测试\n",
        "#sample_clients = random.sample(BAL1.client_ids, NUM_CLIENTS)\n",
        "sample_clients = BAL1.client_ids[0:NUM_CLIENTS]\n",
        "federated_train_data = make_federated_data(BAL1, sample_clients)\n",
        "\n",
        "#BAL2数据集测试\n",
        "sample_clients = BAL1.client_ids[0:NUM_CLIENTS]\n",
        "federated_train_data = make_federated_data(BAL1, sample_clients)"
      ],
      "execution_count": 0,
      "outputs": [
        {
          "output_type": "stream",
          "text": [
            "examle_dataset <TensorSliceDataset shapes: OrderedDict([(label, ()), (pixels, (28, 28))]), types: OrderedDict([(label, tf.int32), (pixels, tf.float32)])>\n"
          ],
          "name": "stdout"
        }
      ]
    },
    {
      "cell_type": "markdown",
      "metadata": {
        "id": "eZEcia5FltoP",
        "colab_type": "text"
      },
      "source": [
        "### 原使用class的模型部分"
      ]
    },
    {
      "cell_type": "code",
      "metadata": {
        "id": "l4MRt7FEh2gq",
        "colab_type": "code",
        "colab": {}
      },
      "source": [
        "'''\n",
        "#！自己添加代码中，正在想办法把训练模型改成CNN\n",
        "class CNN(tf.keras.Model):\n",
        "    def __init__(self):\n",
        "        super().__init__()\n",
        "        self.conv1 = tf.keras.layers.Conv2D(\n",
        "            filters=32,             # 卷积层神经元（卷积核）数目\n",
        "            kernel_size=[5, 5],     # 感受野大小\n",
        "            padding='same',         # padding策略（vaild 或 same）\n",
        "            activation=tf.nn.relu   # 激活函数\n",
        "        )\n",
        "        self.pool1 = tf.keras.layers.MaxPool2D(pool_size=[2, 2], strides=2)\n",
        "        self.conv2 = tf.keras.layers.Conv2D(\n",
        "            filters=64,\n",
        "            kernel_size=[5, 5],\n",
        "            padding='same',\n",
        "            activation=tf.nn.relu\n",
        "        )\n",
        "        #print(\"kernel:\",kernel_size)\n",
        "        self.pool2 = tf.keras.layers.MaxPool2D(pool_size=[2, 2], strides=2)\n",
        "        self.flatten = tf.keras.layers.Reshape(target_shape=(7 * 7 * 64,))\n",
        "        self.dense1 = tf.keras.layers.Dense(units=1024, activation=tf.nn.relu)\n",
        "        self.dense2 = tf.keras.layers.Dense(units=10)\n",
        " \n",
        "    def call(self, inputs):\n",
        "        x = self.conv1(inputs)                  # [batch_size, 28, 28, 32]\n",
        "        x = self.pool1(x)                       # [batch_size, 14, 14, 32]\n",
        "        x = self.conv2(x)                       # [batch_size, 14, 14, 64]\n",
        "        x = self.pool2(x)                       # [batch_size, 7, 7, 64]\n",
        "        x = self.flatten(x)                     # [batch_size, 7 * 7 * 64]\n",
        "        x = self.dense1(x)                      # [batch_size, 1024]\n",
        "        x = self.dense2(x)\n",
        "        #tf.nn.softmax()将原始输出归一化，且能凸显原始向量中最大的值                      # [batch_size, 10]\n",
        "        output = tf.nn.softmax(x)\n",
        "        return output\n",
        "        '''\n"
      ],
      "execution_count": 0,
      "outputs": []
    },
    {
      "cell_type": "markdown",
      "metadata": {
        "id": "pw419GpLlmz9",
        "colab_type": "text"
      },
      "source": [
        "### 模型定义部分\n"
      ]
    },
    {
      "cell_type": "code",
      "metadata": {
        "id": "HNo6O_5qSNSB",
        "colab_type": "code",
        "colab": {}
      },
      "source": [
        "#创建一个变量集合来表示所有变量,包括model(weights+bias)以及metrics(num_examples,loss_sum,accuracy_sum)\n",
        "MnistVariables = collections.namedtuple(\n",
        "    'MnistVariables','cnn_conv2d_kernel cnn_conv2d_bias cnn_conv2d_1_kernel cnn_conv2d_1_bias cnn_dense_kernel cnn_dense_bias cnn_dense_1_kernel cnn_dense_1_bias num_examples loss_sum accuracy_sum'\n",
        ")"
      ],
      "execution_count": 0,
      "outputs": []
    },
    {
      "cell_type": "code",
      "metadata": {
        "id": "hSEDLYxJTZ8y",
        "colab_type": "code",
        "colab": {}
      },
      "source": [
        "#创建变量并初始化\n",
        "def create_mnist_variables():\n",
        "  #核初始化函数，使用正态分布，先使用tf.XXX(初始参数)生成一个模型关键字C，再使用C(arg1)传参数进去\n",
        "  kernel_initalizer=tf.keras.initializers.TruncatedNormal(mean=0.0, stddev=0.05)\n",
        "  return MnistVariables(\n",
        "      #第一层卷积在5×5的patch中算出32个特征，权重张量形状为[5,5,1,32]\n",
        "      #前两个维度是patch的大小，接着是输入的通道数，最后是输出的通道数目\n",
        "      #h_conv1.shape=[-1,28,28,32]，第一个pooling层将其变成[-1,14,14,32]     \n",
        "      cnn_conv2d_kernel=tf.Variable(\n",
        "          #权重初始化至关重要，不能全部初始化为0！！！\n",
        "          initial_value=kernel_initalizer(shape=(5,5,1,32), dtype=tf.float32),\n",
        "          name='cnn_conv2d_kernel',\n",
        "          trainable=True),\n",
        "      #32个输出通道，每个输出通道都有一个对应的偏置\n",
        "      cnn_conv2d_bias=tf.Variable(\n",
        "          lambda: tf.zeros(dtype=tf.float32, shape=(32,)),\n",
        "          name='cnn_conv2d_bias',\n",
        "          trainable=True),\n",
        "      #第二层卷积,64个过滤器，共享权重矩阵为32*5*5,h_conv2.shape=[-1,14,14,64]\n",
        "      #第二个pooling层将其变成[-1,7,7,64]\n",
        "      cnn_conv2d_1_kernel=tf.Variable(\n",
        "          initial_value=kernel_initalizer(shape=(5,5,32,64), dtype=tf.float32),\n",
        "          name='cnn_conv2d_1_kernel',\n",
        "          trainable=True),\n",
        "      #64个输出通道对应64个偏置\n",
        "      cnn_conv2d_1_bias=tf.Variable(\n",
        "          lambda: tf.zeros(dtype=tf.float32, shape=(64,)),\n",
        "          name='cnn_conv2d_1_bias',\n",
        "          trainable=True),\n",
        "      #全连接层，现在图片尺寸减小到7×7，加入一个有1024个神经元的全连接层用于处理整个图片\n",
        "      #将池化层输出的张量reshape成一些7*7*64的向量，乘上权重加上偏置然后使用ReLU\n",
        "      cnn_dense_kernel=tf.Variable(\n",
        "          initial_value=kernel_initalizer(shape=(7*7*64,1024), dtype=tf.float32),\n",
        "          name='cnn_dense_kernel',\n",
        "          trainable=True),\n",
        "      cnn_dense_bias=tf.Variable(\n",
        "          lambda: tf.zeros(dtype=tf.float32, shape=(1024,)),\n",
        "          name='cnn_dense_bias',\n",
        "          trainable=True),\n",
        "      #这里以后可以加一个Dropout\n",
        "      cnn_dense_1_kernel=tf.Variable(\n",
        "          initial_value=kernel_initalizer(shape=(1024,10), dtype=tf.float32),\n",
        "          name='cnn_dense_1_kernel',\n",
        "          trainable=True),\n",
        "      cnn_dense_1_bias=tf.Variable(\n",
        "          lambda: tf.zeros(dtype=tf.float32, shape=(10,)),\n",
        "          name='cnn_dense_1_bias',\n",
        "          trainable=True),\n",
        "      num_examples=tf.Variable(0.0, name='num_examples', trainable=False),\n",
        "      loss_sum=tf.Variable(0.0, name='loss_sum', trainable=False),\n",
        "      accuracy_sum=tf.Variable(0.0, name='accuracy_sum', trainable=False)\n",
        "  )"
      ],
      "execution_count": 0,
      "outputs": []
    },
    {
      "cell_type": "code",
      "metadata": {
        "id": "Ib6kQLwtUh5j",
        "colab_type": "code",
        "colab": {}
      },
      "source": [
        "#自定义前向传播函数\n",
        "def mnist_forward_pass(variables, batch):\n",
        "  _input_ = batch['x']  #取训练图片\n",
        "\n",
        "  #神经网络\n",
        "  #第一层卷积\n",
        "  conv = tf.nn.conv2d(_input_, variables.cnn_conv2d_kernel, strides=[1,1,1,1], padding='SAME')                  # [batch_size, 28, 28, 32]\n",
        "  pre_activation = tf.nn.bias_add(conv, variables.cnn_conv2d_bias)\n",
        "  conv1 = tf.nn.relu(pre_activation, name='conv1')\n",
        "\n",
        "  #第一层卷积层的池化\n",
        "  pool1 = tf.nn.max_pool2d(conv1, ksize=[2, 2], strides=2, padding='SAME')\n",
        "\n",
        "  #第二层卷积\n",
        "  conv = tf.nn.conv2d(pool1, variables.cnn_conv2d_1_kernel, strides=[1,1,1,1], padding='SAME')\n",
        "  pre_activation = tf.nn.bias_add(conv, variables.cnn_conv2d_1_bias)\n",
        "  conv2 = tf.nn.relu(pre_activation, name='conv2')\n",
        "\n",
        "  #第二层卷积的池化\n",
        "  pool2 = tf.nn.max_pool2d(conv2, ksize=[2,2], strides=2, padding='SAME')\n",
        "  print(\"pool2\",pool2)\n",
        "  \n",
        "  #flatten\n",
        "  flatten = tf.reshape(pool2, shape=(-1,7*7*64))\n",
        "  print(\"flatten over\")\n",
        "\n",
        "  #全连接层1\n",
        "  dense1 = tf.nn.relu(tf.matmul(flatten, variables.cnn_dense_kernel) + variables.cnn_dense_bias)\n",
        "  print(\"dense1 over\")\n",
        "\n",
        "  #添加一个Dropout防止过拟合\n",
        "  #keep_drop = tf.placeholder(tf.float32)\n",
        "  #drop_dense1 = tf.nn.tropout(dense1, variables.keep_drop)\n",
        "\n",
        "  #全连接层2\n",
        "  dense2 = tf.matmul(dense1, variables.cnn_dense_1_kernel) + variables.cnn_dense_1_bias\n",
        "  print(\"dense2 over\")\n",
        "\n",
        "  y_pred = tf.nn.softmax(dense2)\n",
        "  print(\"y_pred\",y_pred)\n",
        "\n",
        "  #计算损失\n",
        "  flat_labels = tf.reshape(batch['y'], [-1])\n",
        "  loss = -tf.reduce_mean(\n",
        "      tf.reduce_sum(tf.one_hot(flat_labels, 10) * tf.math.log(y_pred), axis=[1]))\n",
        "  \n",
        "  \n",
        "  #计算准确率\n",
        "  predictions = tf.cast(tf.argmax(y_pred,1), tf.int32)\n",
        "  accuracy = tf.reduce_mean(\n",
        "      tf.cast(tf.equal(predictions, flat_labels), tf.float32))\n",
        "  \n",
        "  #样本数\n",
        "  num_examples = tf.cast(tf.size(batch['y']), tf.float32)\n",
        "\n",
        "  #更新样本数、损失和、精度和,每一批都考虑了自己的权重\n",
        "  variables.num_examples.assign_add(num_examples)\n",
        "  variables.loss_sum.assign_add(loss * num_examples)\n",
        "  variables.accuracy_sum.assign_add(accuracy * num_examples)\n",
        "\n",
        "  \n",
        "  return loss, predictions"
      ],
      "execution_count": 0,
      "outputs": []
    },
    {
      "cell_type": "code",
      "metadata": {
        "id": "7mcpE0twbxz-",
        "colab_type": "code",
        "colab": {}
      },
      "source": [
        "#计算本地用户的metrics度量\n",
        "def get_local_mnist_metrics(variables):\n",
        "  return collections.OrderedDict(\n",
        "      num_examples=variables.num_examples,\n",
        "      loss=variables.loss_sum / variables.num_examples,\n",
        "      accuracy=variables.accuracy_sum / variables.num_examples\n",
        "  )"
      ],
      "execution_count": 0,
      "outputs": []
    },
    {
      "cell_type": "code",
      "metadata": {
        "id": "kv_a5zrVch3i",
        "colab_type": "code",
        "colab": {}
      },
      "source": [
        "#集合每个设备发出的本地度量\n",
        "@tff.federated_computation\n",
        "def aggregate_mnist_metrics_across_clients(metrics):\n",
        "  return collections.OrderedDict(\n",
        "      num_examples=tff.federated_sum(metrics.num_examples),\n",
        "      loss=tff.federated_mean(metrics.loss, metrics.num_examples),\n",
        "      accuracy=tff.federated_mean(metrics.accuracy, metrics.num_examples)\n",
        "  )"
      ],
      "execution_count": 0,
      "outputs": []
    },
    {
      "cell_type": "code",
      "metadata": {
        "id": "BE3FpcO5dNr-",
        "colab_type": "code",
        "colab": {}
      },
      "source": [
        "#自定义模型，创建tff.learning.model实例\n",
        "class MnistModel(tff.learning.Model):\n",
        "\n",
        "  def __init__(self):\n",
        "    self._variables = create_mnist_variables()\n",
        "\n",
        "  #所有的“tf.Variables”都应该在“__init__”中引入\n",
        "  @property\n",
        "  def trainable_variables(self):\n",
        "    #return [self._variables.weights, self._variables.bias]\n",
        "    return [self._variables.cnn_conv2d_kernel,\n",
        "        self._variables.cnn_conv2d_bias,\n",
        "        self._variables.cnn_conv2d_1_kernel,\n",
        "        self._variables.cnn_conv2d_1_bias,\n",
        "        self._variables.cnn_dense_kernel,\n",
        "        self._variables.cnn_dense_bias,\n",
        "        self._variables.cnn_dense_1_kernel,\n",
        "        self._variables.cnn_dense_1_bias\n",
        "        ]\n",
        "  \n",
        "  @property\n",
        "  def non_trainable_variables(self):\n",
        "    return []\n",
        "  \n",
        "  @property\n",
        "  def local_variables(self):\n",
        "    return [self._variables.num_examples, self._variables.loss_sum,\n",
        "         self._variables.accuracy_sum]\n",
        "  \n",
        "  @property\n",
        "  def input_spec(self):\n",
        "    return collections.OrderedDict(\n",
        "        x=tf.TensorSpec([None, 28,28,1], tf.float32),\n",
        "        y=tf.TensorSpec([None, 1], tf.int32)\n",
        "    )\n",
        "\n",
        "  @tf.function\n",
        "  def forward_pass(self, batch, training=True):\n",
        "    del training\n",
        "    loss, predictions = mnist_forward_pass(self._variables, batch)\n",
        "    #取出样本数\n",
        "    num_examples = tf.shape(batch['x'])[0]\n",
        "    return tff.learning.BatchOutput(\n",
        "        loss=loss, predictions=predictions, num_examples=num_examples)\n",
        "    \n",
        "  @tf.function\n",
        "  def report_local_outputs(self):\n",
        "    return get_local_mnist_metrics(self._variables)\n",
        "  \n",
        "  @property\n",
        "  def federated_output_computation(self):\n",
        "    return aggregate_mnist_metrics_across_clients"
      ],
      "execution_count": 0,
      "outputs": []
    },
    {
      "cell_type": "code",
      "metadata": {
        "id": "nfqC79A4hVfw",
        "colab_type": "code",
        "colab": {}
      },
      "source": [
        "#创建迭代器执行联合平均的迭代过程\n",
        "iterative_process = tff.learning.build_federated_averaging_process(\n",
        "    MnistModel,\n",
        "    client_optimizer_fn=lambda: tf.keras.optimizers.SGD(learning_rate=0.02)\n",
        ")"
      ],
      "execution_count": 0,
      "outputs": []
    },
    {
      "cell_type": "markdown",
      "metadata": {
        "id": "77pwbgWvcIPH",
        "colab_type": "text"
      },
      "source": [
        "### 模型训练部分"
      ]
    },
    {
      "cell_type": "code",
      "metadata": {
        "id": "kzJXeJNSlGpe",
        "colab_type": "code",
        "colab": {}
      },
      "source": [
        "#获得初始状态\n",
        "state = iterative_process.initialize()"
      ],
      "execution_count": 0,
      "outputs": []
    },
    {
      "cell_type": "code",
      "metadata": {
        "id": "RpUydYwQnfHd",
        "colab_type": "code",
        "outputId": "78021503-41de-4881-a3a4-c6e2d10aaf56",
        "colab": {
          "base_uri": "https://localhost:8080/",
          "height": 35
        }
      },
      "source": [
        "#NUM_CLIENTS_PER_ROUND = math.ceil(K * C)\n",
        "NUM_CLIENTS = 50\n",
        "NUM_CLIENTS_PER_ROUND = 5\n",
        "#查看第一轮训练\n",
        "# sample_clients = random.sample(emnist_train.client_ids, NUM_CLIENTS)\n",
        "# federated_train_data = make_federated_data(emnist_train, sample_clients)\n",
        "#BAL1数据集测试\n",
        "#sample_clients = random.sample(BAL1.client_ids, NUM_CLIENTS_PER_ROUND)\n",
        "# sample_clients = BAL1.client_ids[0:NUM_CLIENTS_PER_ROUND]\n",
        "# federated_train_data = make_federated_data(BAL1, sample_clients)\n",
        "\n",
        "#BAL2数据集测试\n",
        "# sample_clients = random.sample(BAL2.client_ids, NUM_CLIENTS_PER_ROUND)\n",
        "# sample_clients = BAL2.client_ids[0:NUM_CLIENTS_PER_ROUND]\n",
        "# federated_train_data = make_federated_data(BAL2, sample_clients)\n",
        "\n",
        "# #BAL3数据集测试\n",
        "# sample_clients = random.sample(BAL3.client_ids, NUM_CLIENTS_PER_ROUND)\n",
        "# sample_clients = BAL3.client_ids[0:5]\n",
        "# federated_train_data = make_federated_data(BAL3, sample_clients)\n",
        "\n",
        "\n",
        "#BAL4数据集测试\n",
        "# sample_clients = random.sample(BAL4.client_ids, NUM_CLIENTS_PER_ROUND)\n",
        "sample_clients = BAL4.client_ids[0:5]\n",
        "federated_train_data = make_federated_data(BAL4, sample_clients)\n",
        "\n",
        "state, metrics = iterative_process.next(state, federated_train_data)\n",
        "print('round 1, metrics={}'.format(metrics))"
      ],
      "execution_count": 0,
      "outputs": [
        {
          "output_type": "stream",
          "text": [
            "round 1, metrics=<num_examples=14000.0,loss=0.012825774028897285,accuracy=0.9966428279876709>\n"
          ],
          "name": "stdout"
        }
      ]
    },
    {
      "cell_type": "code",
      "metadata": {
        "id": "tArDK_PFLG42",
        "colab_type": "code",
        "colab": {}
      },
      "source": [
        "from google.colab import drive\n",
        "drive.mount('/content/drive')"
      ],
      "execution_count": 0,
      "outputs": []
    },
    {
      "cell_type": "code",
      "metadata": {
        "id": "lkoGLYGLyYkC",
        "colab_type": "code",
        "outputId": "82d6b782-6893-42e3-9c13-039b26533242",
        "colab": {
          "base_uri": "https://localhost:8080/",
          "height": 374
        }
      },
      "source": [
        "#计算更多轮\n",
        "NUM_ROUNDS = 20\n",
        "NUM_CLIENTS = 100\n",
        "NUM_CLIENTS_PER_ROUND = 5\n",
        "for round_num in range(NUM_ROUNDS):\n",
        "  #随机选择NUM_CLIENTS个用户\n",
        "  # sample_clients = random.sample(emnist_train.client_ids, NUM_CLIENTS_PER_ROUND)\n",
        "  # federated_train_data = make_federated_data(emnist_train, sample_clients)\n",
        "  \n",
        "  # #BAL1数据集测试:先使用使用轮询的方式，不使用随机数\n",
        "  # sample_clients = random.sample(BAL1.client_ids, NUM_CLIENTS_PER_ROUND)\n",
        "  # sample_clients = BAL1.client_ids[NUM_CLIENTS_PER_ROUND*round_num:NUM_CLIENTS_PER_ROUND*(round_num+1)]\n",
        "  # federated_train_data = make_federated_data(BAL1, sample_clients)\n",
        "\n",
        "  # #BAL2数据集测试\n",
        "  # sample_clients = random.sample(BAL2.client_ids, NUM_CLIENTS_PER_ROUND)\n",
        "  # sample_clients = BAL2.client_ids[NUM_CLIENTS_PER_ROUND*round_num:NUM_CLIENTS_PER_ROUND*(round_num+1)]\n",
        "  # federated_train_data = make_federated_data(BAL2, sample_clients)\n",
        "\n",
        "  # #BAL3数据集测试\n",
        "  # sample_clients = random.sample(BAL3.client_ids, NUM_CLIENTS_PER_ROUND)\n",
        "  sample_clients = BAL3.client_ids[NUM_CLIENTS_PER_ROUND*round_num:NUM_CLIENTS_PER_ROUND*(round_num+1)]\n",
        "  federated_train_data = make_federated_data(BAL3, sample_clients)\n",
        "\n",
        "  #BAL4数据集测试\n",
        "  # sample_clients = random.sample(BAL4.client_ids, NUM_CLIENTS_PER_ROUND)\n",
        "  # sample_clients = BAL4.client_ids[NUM_CLIENTS_PER_ROUND*round_num:NUM_CLIENTS_PER_ROUND*(round_num+1)]\n",
        "  # federated_train_data = make_federated_data(BAL4, sample_clients)\n",
        "\n",
        "  state, metrics = iterative_process.next(state, federated_train_data)\n",
        "  print('round {:2d}, metrics={}'.format(round_num+1, metrics))"
      ],
      "execution_count": 220,
      "outputs": [
        {
          "output_type": "stream",
          "text": [
            "round  1, metrics=<num_examples=11500.0,loss=0.36519351601600647,accuracy=0.8882608413696289>\n",
            "round  2, metrics=<num_examples=17000.0,loss=0.25333237648010254,accuracy=0.9268823266029358>\n",
            "round  3, metrics=<num_examples=15000.0,loss=0.15479391813278198,accuracy=0.956933319568634>\n",
            "round  4, metrics=<num_examples=13000.0,loss=0.09372705966234207,accuracy=0.9715384840965271>\n",
            "round  5, metrics=<num_examples=15500.0,loss=0.08884578198194504,accuracy=0.9732258319854736>\n",
            "round  6, metrics=<num_examples=14500.0,loss=0.06892509013414383,accuracy=0.9795172214508057>\n",
            "round  7, metrics=<num_examples=16500.0,loss=0.08760654926300049,accuracy=0.9747272729873657>\n",
            "round  8, metrics=<num_examples=14000.0,loss=0.05005074292421341,accuracy=0.9837142825126648>\n",
            "round  9, metrics=<num_examples=10000.0,loss=0.05268795043230057,accuracy=0.9830999970436096>\n",
            "round 10, metrics=<num_examples=18000.0,loss=0.05652870610356331,accuracy=0.9847777485847473>\n",
            "round 11, metrics=<num_examples=15000.0,loss=0.03424808382987976,accuracy=0.9902666807174683>\n",
            "round 12, metrics=<num_examples=18000.0,loss=0.050229910761117935,accuracy=0.9837777614593506>\n",
            "round 13, metrics=<num_examples=12000.0,loss=0.027077311649918556,accuracy=0.9923333525657654>\n",
            "round 14, metrics=<num_examples=23000.0,loss=0.0434933677315712,accuracy=0.9879130721092224>\n",
            "round 15, metrics=<num_examples=11000.0,loss=0.03618297353386879,accuracy=0.9896363615989685>\n",
            "round 16, metrics=<num_examples=15500.0,loss=0.04273093864321709,accuracy=0.9872258305549622>\n",
            "round 17, metrics=<num_examples=15500.0,loss=0.025697069242596626,accuracy=0.9925806522369385>\n",
            "round 18, metrics=<num_examples=13000.0,loss=0.060869764536619186,accuracy=0.9846153855323792>\n",
            "round 19, metrics=<num_examples=15000.0,loss=0.030694369226694107,accuracy=0.9911333322525024>\n",
            "round 20, metrics=<num_examples=17000.0,loss=0.03578721359372139,accuracy=0.9902940988540649>\n"
          ],
          "name": "stdout"
        }
      ]
    },
    {
      "cell_type": "markdown",
      "metadata": {
        "id": "i_EV-vx8b93f",
        "colab_type": "text"
      },
      "source": [
        "### 使用TensorBoard可视化"
      ]
    },
    {
      "cell_type": "code",
      "metadata": {
        "id": "VKKb6c6h0AMF",
        "colab_type": "code",
        "colab": {}
      },
      "source": [
        "'''\n",
        "#使用tensorboard可视化\n",
        "#使用Tensorboard可视化这些联邦计算的度量\n",
        "#创建目录和相应的摘要编写器\n",
        "#@test {\"skip\": true}\n",
        "logdir = \"/tmp/logs/scalars/training/\"\n",
        "summary_writer = tf.summary.create_file_writer(logdir)\n",
        "state = iterative_process.initialize()\n",
        "\n",
        "#!!!太坑了，我以为@test是无关紧要的东西，emmm，就省略了，没想到就凉凉\n",
        "#@test {\"skip\": true}\n",
        "with summary_writer.as_default():\n",
        "  for round_num in range(1, NUM_ROUNDS):\n",
        "    #随机选择用户\n",
        "    sample_clients = random.sample(emnist_train.client_ids, NUM_CLIENTS)\n",
        "    federated_train_data = make_federated_data(emnist_train, sample_clients)\n",
        "\n",
        "    state, metrics = iterative_process.next(state, federated_train_data)\n",
        "\n",
        "    print('round {:2d}, metrics={}'.format(round_num, metrics))\n",
        "\n",
        "    for name, value in metrics._asdict().items():\n",
        "      tf.summary.scalar(name, value, step=round_num)\n",
        "'''"
      ],
      "execution_count": 0,
      "outputs": []
    },
    {
      "cell_type": "code",
      "metadata": {
        "id": "Pn70ix21PgDn",
        "colab_type": "code",
        "outputId": "117f75c1-645d-482c-c8f0-e7c1188cf29b",
        "colab": {
          "base_uri": "https://localhost:8080/",
          "height": 555
        }
      },
      "source": [
        "'''\n",
        "#这个tensorBoard像有猫病一样，昨天还可以今天来突然就不行了\n",
        "#@test {\"skip\":true}\n",
        "%load_ext tensorboard\n",
        "%tensorboard --logdir /tmp/logs/scalars/ --port=0\n",
        "'''"
      ],
      "execution_count": 0,
      "outputs": [
        {
          "output_type": "stream",
          "text": [
            "The tensorboard extension is already loaded. To reload it, use:\n",
            "  %reload_ext tensorboard\n"
          ],
          "name": "stdout"
        },
        {
          "output_type": "display_data",
          "data": {
            "text/plain": [
              "ERROR: Failed to launch TensorBoard (exited with 1).\n",
              "Contents of stderr:\n",
              "2020-04-06 08:24:12.865933: W tensorflow/stream_executor/platform/default/dso_loader.cc:55] Could not load dynamic library 'libnvinfer.so.6'; dlerror: libnvinfer.so.6: cannot open shared object file: No such file or directory; LD_LIBRARY_PATH: /usr/local/nvidia/lib:/usr/local/nvidia/lib64\n",
              "2020-04-06 08:24:12.866088: W tensorflow/stream_executor/platform/default/dso_loader.cc:55] Could not load dynamic library 'libnvinfer_plugin.so.6'; dlerror: libnvinfer_plugin.so.6: cannot open shared object file: No such file or directory; LD_LIBRARY_PATH: /usr/local/nvidia/lib:/usr/local/nvidia/lib64\n",
              "2020-04-06 08:24:12.866105: W tensorflow/compiler/tf2tensorrt/utils/py_utils.cc:30] Cannot dlopen some TensorRT libraries. If you would like to use Nvidia GPU with TensorRT, please make sure the missing libraries mentioned above are installed properly.\n",
              "Traceback (most recent call last):\n",
              "  File \"/usr/local/bin/tensorboard\", line 8, in <module>\n",
              "    sys.exit(run_main())\n",
              "  File \"/usr/local/lib/python3.6/dist-packages/tensorboard/main.py\", line 66, in run_main\n",
              "    app.run(tensorboard.main, flags_parser=tensorboard.configure)\n",
              "  File \"/usr/local/lib/python3.6/dist-packages/absl/app.py\", line 299, in run\n",
              "    _run_main(main, args)\n",
              "  File \"/usr/local/lib/python3.6/dist-packages/absl/app.py\", line 250, in _run_main\n",
              "    sys.exit(main(argv))\n",
              "  File \"/usr/local/lib/python3.6/dist-packages/tensorboard/program.py\", line 268, in main\n",
              "    return runner(self.flags) or 0\n",
              "  File \"/usr/local/lib/python3.6/dist-packages/tensorboard/program.py\", line 282, in _run_serve_subcommand\n",
              "    server = self._make_server()\n",
              "  File \"/usr/local/lib/python3.6/dist-packages/tensorboard/program.py\", line 361, in _make_server\n",
              "    self.assets_zip_provider)\n",
              "  File \"/usr/local/lib/python3.6/dist-packages/tensorboard/backend/application.py\", line 165, in standard_tensorboard_wsgi\n",
              "    flags, plugin_loaders, data_provider, assets_zip_provider, multiplexer)\n",
              "  File \"/usr/local/lib/python3.6/dist-packages/tensorboard/backend/application.py\", line 234, in TensorBoardWSGIApp\n",
              "    return TensorBoardWSGI(tbplugins, flags.path_prefix)\n",
              "  File \"/usr/local/lib/python3.6/dist-packages/tensorboard/backend/application.py\", line 286, in __init__\n",
              "    raise ValueError('Duplicate plugins for name %s' % plugin.plugin_name)\n",
              "ValueError: Duplicate plugins for name whatif"
            ]
          },
          "metadata": {
            "tags": []
          }
        }
      ]
    },
    {
      "cell_type": "markdown",
      "metadata": {
        "id": "dHsGUj-3b07z",
        "colab_type": "text"
      },
      "source": [
        "### 在测试集上评估"
      ]
    },
    {
      "cell_type": "code",
      "metadata": {
        "id": "HBGzrtDgP8hn",
        "colab_type": "code",
        "outputId": "88446148-8af1-43dc-cfec-7fbe63939b8f",
        "colab": {
          "base_uri": "https://localhost:8080/",
          "height": 106
        }
      },
      "source": [
        "#在测试集上进行测试\n",
        "#求值传递MnistModel就足够了，不执行梯度下降，也不需要构造优化器，MnistTModel就是前面定义的那个class\n",
        "evaluation = tff.learning.build_federated_evaluation(MnistModel)"
      ],
      "execution_count": 221,
      "outputs": [
        {
          "output_type": "stream",
          "text": [
            "pool2 Tensor(\"MaxPool2d_1:0\", shape=(None, 7, 7, 64), dtype=float32)\n",
            "flatten over\n",
            "dense1 over\n",
            "dense2 over\n",
            "y_pred Tensor(\"Softmax:0\", shape=(None, 10), dtype=float32)\n"
          ],
          "name": "stdout"
        }
      ]
    },
    {
      "cell_type": "code",
      "metadata": {
        "id": "lQjEUho65VGX",
        "colab_type": "code",
        "colab": {}
      },
      "source": [
        "#评估一下在训练中得到的最新状态，为了从服务器状态中提取最新的训练模型，只需访问.model成员\n",
        "#和上面说的形式一样，它接收model和联邦数据并返回训练的metrics\n",
        "#这里是在评估模型的最新状态，为了从服务器状态中提取最新的训练模型，只需访问.model成员\n",
        "#train_metrics = evaluation(state.model, federated_train_data)"
      ],
      "execution_count": 0,
      "outputs": []
    },
    {
      "cell_type": "code",
      "metadata": {
        "id": "0M5UwerU5V6R",
        "colab_type": "code",
        "outputId": "2ef93e0d-68f1-4f35-d9cb-a25def75caba",
        "colab": {
          "base_uri": "https://localhost:8080/",
          "height": 73
        }
      },
      "source": [
        "#编译联邦数据的测试样本，并对测试数据重新运行求值。同样也是随机选择NUM_CLIENTS个用户。\n",
        "# sample_clients = random.sample(emnist_train.client_ids, NUM_CLIENTS_PER_ROUND)\n",
        "# federated_test_data = make_federated_data(emnist_test, sample_clients)\n",
        "NUM_TEST_CLIENTS = len(test.client_ids)\n",
        "\n",
        "#测试集测试精度\n",
        "# sample_clients = random.sample(BAL4_test.client_ids, NUM_CLIENTS_PER_ROUND)\n",
        "sample_clients = test.client_ids[0:NUM_TEST_CLIENTS]\n",
        "federated_test_data = make_federated_data(test, sample_clients)\n",
        "len(federated_test_data), federated_test_data[0]"
      ],
      "execution_count": 222,
      "outputs": [
        {
          "output_type": "execute_result",
          "data": {
            "text/plain": [
              "(50,\n",
              " <PrefetchDataset shapes: OrderedDict([(x, (None, 28, 28, 1)), (y, (None, 1))]), types: OrderedDict([(x, tf.float32), (y, tf.int32)])>)"
            ]
          },
          "metadata": {
            "tags": []
          },
          "execution_count": 222
        }
      ]
    },
    {
      "cell_type": "code",
      "metadata": {
        "id": "1a_F78e05cKM",
        "colab_type": "code",
        "outputId": "01b66a84-49dd-4748-a328-ecd5eec11b27",
        "colab": {
          "base_uri": "https://localhost:8080/",
          "height": 35
        }
      },
      "source": [
        "#使用EMNIST，客户端随机选择10个，初始精度在0.8898\n",
        "#使用BAL1，K=20,客户端随机选了5个作为测试集测试，训练30轮，精度在0.9616666436195374\n",
        "\n",
        "# #使用BAL1，K=100，轮询训练20轮，测试精度0.9793000221252441\n",
        "# test_metrics = evaluation(state.model, federated_test_data)\n",
        "\n",
        "\n",
        "# 使用BAL2，K=100，碎片型，轮询训练30轮，测试精度0.6741250157356262（可能是出错了）\n",
        "# 轮询训练30轮，测试精度0.950124979019165\n",
        "# test_metrics = evaluation(state.model, federated_test_data)\n",
        "\n",
        "# #使用BAL3，K=100，训练30轮，测试精度0.9642750024795532\n",
        "# 使用BAL3，K=100，轮询训练30轮，测试精度0.9559500217437744\n",
        "#使用BAL3，K=100，轮询训练30轮，测试精度0.9506250023841858\n",
        "# test_metrics = evaluation(state.model, federated_test_data)\n",
        "\n",
        "#使用BAL4，K=100，轮询训练30轮，测试精度0.926675021648407\n",
        "test_metrics = evaluation(state.model, federated_test_data)\n",
        "\n",
        "str(test_metrics)"
      ],
      "execution_count": 223,
      "outputs": [
        {
          "output_type": "execute_result",
          "data": {
            "text/plain": [
              "'<num_examples=200000.0,loss=0.15285247564315796,accuracy=0.950124979019165>'"
            ]
          },
          "metadata": {
            "tags": []
          },
          "execution_count": 223
        }
      ]
    }
  ]
}