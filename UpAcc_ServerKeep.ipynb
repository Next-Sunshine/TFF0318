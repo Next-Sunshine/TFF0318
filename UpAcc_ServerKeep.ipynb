{
  "nbformat": 4,
  "nbformat_minor": 0,
  "metadata": {
    "colab": {
      "name": "UpAcc_ServerKeep",
      "provenance": [],
      "collapsed_sections": [
        "uJDaikpThuc-",
        "LYSqan74iQn0",
        "Vy0gLL26EOv7",
        "V1rl-timDodS",
        "0ZE1XKjGDZvW",
        "EgLe3GZ8s_rw",
        "ip--KI1UhiSU",
        "eZEcia5FltoP",
        "pw419GpLlmz9",
        "i_EV-vx8b93f"
      ],
      "toc_visible": true,
      "machine_shape": "hm",
      "mount_file_id": "1lz8A7ByW4aeQoB9Gm05JyyfHGZs3mw7d",
      "authorship_tag": "ABX9TyPixy2DoVdWyrdTvbhlcFSK",
      "include_colab_link": true
    },
    "kernelspec": {
      "name": "python3",
      "display_name": "Python 3"
    },
    "accelerator": "GPU"
  },
  "cells": [
    {
      "cell_type": "markdown",
      "metadata": {
        "id": "view-in-github",
        "colab_type": "text"
      },
      "source": [
        "<a href=\"https://colab.research.google.com/github/Next-Sunshine/TFF0318/blob/master/UpAcc_ServerKeep.ipynb\" target=\"_parent\"><img src=\"https://colab.research.google.com/assets/colab-badge.svg\" alt=\"Open In Colab\"/></a>"
      ]
    },
    {
      "cell_type": "markdown",
      "metadata": {
        "id": "aJVghqEic-bV",
        "colab_type": "text"
      },
      "source": [
        "### 导包"
      ]
    },
    {
      "cell_type": "code",
      "metadata": {
        "id": "tArDK_PFLG42",
        "colab_type": "code",
        "colab": {}
      },
      "source": [
        "from google.colab import drive\n",
        "drive.mount('/content/drive')"
      ],
      "execution_count": 0,
      "outputs": []
    },
    {
      "cell_type": "code",
      "metadata": {
        "id": "P9pTTi0lPh1w",
        "colab_type": "code",
        "outputId": "2d4091f3-5d1e-4f63-9d20-13436dc090cc",
        "colab": {
          "base_uri": "https://localhost:8080/",
          "height": 288
        }
      },
      "source": [
        "#环境测试\n",
        "#@test {\"skip\":true}\n",
        "!pip install --quiet --upgrade tensorflow_federated\n",
        "%load_ext tensorboard"
      ],
      "execution_count": 1,
      "outputs": [
        {
          "output_type": "stream",
          "text": [
            "\u001b[K     |████████████████████████████████| 430kB 1.9MB/s \n",
            "\u001b[K     |████████████████████████████████| 421.8MB 34kB/s \n",
            "\u001b[K     |████████████████████████████████| 2.8MB 59.0MB/s \n",
            "\u001b[33mWARNING: Retrying (Retry(total=4, connect=None, read=None, redirect=None, status=None)) after connection broken by 'ProtocolError('Connection aborted.', ConnectionResetError(104, 'Connection reset by peer'))': /simple/numpy/\u001b[0m\n",
            "\u001b[K     |████████████████████████████████| 20.0MB 1.2MB/s \n",
            "\u001b[K     |████████████████████████████████| 102kB 15.3MB/s \n",
            "\u001b[K     |████████████████████████████████| 296kB 74.4MB/s \n",
            "\u001b[K     |████████████████████████████████| 2.2MB 68.4MB/s \n",
            "\u001b[K     |████████████████████████████████| 450kB 72.2MB/s \n",
            "\u001b[K     |████████████████████████████████| 3.9MB 62.6MB/s \n",
            "\u001b[?25h  Building wheel for gast (setup.py) ... \u001b[?25l\u001b[?25hdone\n",
            "\u001b[31mERROR: tensorflow-probability 0.10.0rc0 has requirement gast>=0.3.2, but you'll have gast 0.2.2 which is incompatible.\u001b[0m\n",
            "\u001b[31mERROR: datascience 0.10.6 has requirement folium==0.2.1, but you'll have folium 0.8.3 which is incompatible.\u001b[0m\n",
            "\u001b[31mERROR: albumentations 0.1.12 has requirement imgaug<0.2.7,>=0.2.5, but you'll have imgaug 0.2.9 which is incompatible.\u001b[0m\n"
          ],
          "name": "stdout"
        }
      ]
    },
    {
      "cell_type": "code",
      "metadata": {
        "id": "ITkxSUMiRa01",
        "colab_type": "code",
        "outputId": "b1fb5693-f005-447c-b8b7-bb1dba69b486",
        "colab": {
          "base_uri": "https://localhost:8080/",
          "height": 35
        }
      },
      "source": [
        "import collections\n",
        "\n",
        "import numpy as np\n",
        "import tensorflow as tf\n",
        "import tensorflow_federated as tff\n",
        "from matplotlib import pyplot as plt\n",
        "import h5py\n",
        "import random\n",
        "import math\n",
        "import gc\n",
        "\n",
        "tf.compat.v1.enable_v2_behavior()\n",
        "\n",
        "np.random.seed(0)\n",
        "\n",
        "tff.federated_computation(lambda: 'Hello, world!')()"
      ],
      "execution_count": 2,
      "outputs": [
        {
          "output_type": "execute_result",
          "data": {
            "text/plain": [
              "b'Hello, world!'"
            ]
          },
          "metadata": {
            "tags": []
          },
          "execution_count": 2
        }
      ]
    },
    {
      "cell_type": "code",
      "metadata": {
        "id": "tRJgOTiAR3T4",
        "colab_type": "code",
        "outputId": "1228b09f-9428-4a93-9786-7b02faf112c8",
        "colab": {
          "base_uri": "https://localhost:8080/",
          "height": 88
        }
      },
      "source": [
        "#装载数据集，实验使用EMNIST数据集\n",
        "emnist_train, emnist_test = tff.simulation.datasets.emnist.load_data()\n",
        "#装载mnist数据集\n",
        "mnist_train, mnist_test = tf.keras.datasets.mnist.load_data()"
      ],
      "execution_count": 0,
      "outputs": [
        {
          "output_type": "stream",
          "text": [
            "Downloading data from https://storage.googleapis.com/tff-datasets-public/fed_emnist_digitsonly.tar.bz2\n",
            "97402880/97398400 [==============================] - 3s 0us/step\n",
            "Downloading data from https://storage.googleapis.com/tensorflow/tf-keras-datasets/mnist.npz\n",
            "11493376/11490434 [==============================] - 0s 0us/step\n"
          ],
          "name": "stdout"
        }
      ]
    },
    {
      "cell_type": "markdown",
      "metadata": {
        "id": "uJDaikpThuc-",
        "colab_type": "text"
      },
      "source": [
        "### 加载EMNIST-digit数据集"
      ]
    },
    {
      "cell_type": "code",
      "metadata": {
        "id": "7BSFZgIdhz3-",
        "colab_type": "code",
        "colab": {}
      },
      "source": [
        "#读取EMNIST数据集的Digit\n",
        "# 引入必要的库函数:要把那四个gz文档上传上来\n",
        "from tensorflow.python.keras.utils.data_utils import get_file\n",
        "from tensorflow.python.util.tf_export import tf_export\n",
        "import gzip\n",
        "\n",
        "# 读取本地gz文档，并转换为numpy矩阵的函数\n",
        "def load_localData():\n",
        "  #files = ['emnist-digits-train-labels-idx1-ubyte.gz', 'emnist-digits-train-images-idx3-ubyte.gz', 'emnist-digits-test-labels-idx1-ubyte.gz', 'emnist-digits-test-images-idx3-ubyte.gz']\n",
        "  path = ['/content/drive/My Drive/Colab Notebooks/emnist-digits-train-labels-idx1-ubyte.gz', \n",
        "        '/content/drive/My Drive/Colab Notebooks/emnist-digits-train-images-idx3-ubyte.gz', \n",
        "        '/content/drive/My Drive/Colab Notebooks/emnist-digits-test-labels-idx1-ubyte.gz', \n",
        "        '/content/drive/My Drive/Colab Notebooks/emnist-digits-test-images-idx3-ubyte.gz']\n",
        "\n",
        "  with gzip.open(path[0], 'rb') as lpath:\n",
        "    y_train = np.frombuffer(lpath.read(), np.uint8, offset=8)\n",
        "  with gzip.open(path[1], 'rb') as imgpath:\n",
        "    x_train = np.frombuffer(imgpath.read(), np.uint8, offset=16).reshape(len(y_train), 28, 28)\n",
        "  with gzip.open(path[2], 'rb') as lpath:\n",
        "    y_test = np.frombuffer(lpath.read(), np.uint8, offset=8)\n",
        "  with gzip.open(path[3], 'rb') as imgpath:\n",
        "    x_test = np.frombuffer(imgpath.read(), np.uint8, offset=16).reshape(len(y_test), 28, 28)\n",
        "  return x_train, y_train, x_test, y_test"
      ],
      "execution_count": 0,
      "outputs": []
    },
    {
      "cell_type": "code",
      "metadata": {
        "id": "eFDFjrxyh_Ki",
        "colab_type": "code",
        "colab": {}
      },
      "source": [
        "x_train_emnist_digits, y_train_emnist_digits, x_test_emnist_digits, y_test_emnist_digits = load_localData()"
      ],
      "execution_count": 0,
      "outputs": []
    },
    {
      "cell_type": "code",
      "metadata": {
        "id": "ltgy5kIgtMdJ",
        "colab_type": "code",
        "colab": {}
      },
      "source": [
        "#查看某个客户端每个类别分别有多少\n",
        "def num_per_class(label):\n",
        "  num = np.zeros(shape=(10), dtype='int32')\n",
        "  for i in range (len(label)):\n",
        "    l = label[i]\n",
        "    num[l] = num[l] + 1\n",
        "  return num"
      ],
      "execution_count": 0,
      "outputs": []
    },
    {
      "cell_type": "code",
      "metadata": {
        "id": "8p1XDcJPi_M-",
        "colab_type": "code",
        "colab": {}
      },
      "source": [
        "#从mnist_train中读60000张图片放入一个数组中以备用\n",
        "class_ = [[]for i in range(10)]\n",
        "for i in range(len(x_train_emnist_digits)):\n",
        "  label = y_train_emnist_digits[i]\n",
        "  class_[label].append(x_train_emnist_digits[i])  #在对应的label中放入图片"
      ],
      "execution_count": 0,
      "outputs": []
    },
    {
      "cell_type": "code",
      "metadata": {
        "id": "XvcMRZlTzTj2",
        "colab_type": "code",
        "outputId": "09833707-db96-4514-a65a-9d9b46469c93",
        "colab": {
          "base_uri": "https://localhost:8080/",
          "height": 1000
        }
      },
      "source": [
        "#查看提取出来的图片，以1为例,看看是否有误:没有错误\n",
        "from matplotlib import pyplot as plt\n",
        "#print(class_[0][i])\n",
        "for i in range(10):\n",
        "  plt.imshow(class_[0][i], cmap='gray', aspect='equal')\n",
        "  plt.grid(False)\n",
        "  _=plt.show()"
      ],
      "execution_count": 0,
      "outputs": [
        {
          "output_type": "display_data",
          "data": {
            "image/png": "[encoded data removed]",
            "text/plain": [
              "<Figure size 432x288 with 1 Axes>"
            ]
          },
          "metadata": {
            "tags": [],
            "needs_background": "light"
          }
        },
        {
          "output_type": "display_data",
          "data": {
            "image/png": "[encoded data removed]",
            "text/plain": [
              "<Figure size 432x288 with 1 Axes>"
            ]
          },
          "metadata": {
            "tags": [],
            "needs_background": "light"
          }
        },
        {
          "output_type": "display_data",
          "data": {
            "image/png": "[encoded data removed]",
            "text/plain": [
              "<Figure size 432x288 with 1 Axes>"
            ]
          },
          "metadata": {
            "tags": [],
            "needs_background": "light"
          }
        },
        {
          "output_type": "display_data",
          "data": {
            "image/png": "[encoded data removed]",
            "text/plain": [
              "<Figure size 432x288 with 1 Axes>"
            ]
          },
          "metadata": {
            "tags": [],
            "needs_background": "light"
          }
        },
        {
          "output_type": "display_data",
          "data": {
            "image/png": "[encoded data removed]",
            "text/plain": [
              "<Figure size 432x288 with 1 Axes>"
            ]
          },
          "metadata": {
            "tags": [],
            "needs_background": "light"
          }
        },
        {
          "output_type": "display_data",
          "data": {
            "image/png": "[encoded data removed]",
            "text/plain": [
              "<Figure size 432x288 with 1 Axes>"
            ]
          },
          "metadata": {
            "tags": [],
            "needs_background": "light"
          }
        },
        {
          "output_type": "display_data",
          "data": {
            "image/png": "[encoded data removed]",
            "text/plain": [
              "<Figure size 432x288 with 1 Axes>"
            ]
          },
          "metadata": {
            "tags": [],
            "needs_background": "light"
          }
        },
        {
          "output_type": "display_data",
          "data": {
            "image/png": "[encoded data removed]",
            "text/plain": [
              "<Figure size 432x288 with 1 Axes>"
            ]
          },
          "metadata": {
            "tags": [],
            "needs_background": "light"
          }
        },
        {
          "output_type": "display_data",
          "data": {
            "image/png": "[encoded data removed]",
            "text/plain": [
              "<Figure size 432x288 with 1 Axes>"
            ]
          },
          "metadata": {
            "tags": [],
            "needs_background": "light"
          }
        },
        {
          "output_type": "display_data",
          "data": {
            "image/png": "[encoded data removed]",
            "text/plain": [
              "<Figure size 432x288 with 1 Axes>"
            ]
          },
          "metadata": {
            "tags": [],
            "needs_background": "light"
          }
        }
      ]
    },
    {
      "cell_type": "markdown",
      "metadata": {
        "id": "LYSqan74iQn0",
        "colab_type": "text"
      },
      "source": [
        "### 构造平衡的测试集"
      ]
    },
    {
      "cell_type": "code",
      "metadata": {
        "id": "2z7co-o6iT3s",
        "colab_type": "code",
        "colab": {}
      },
      "source": [
        "'''\n",
        "emnist中的数字测试集是平衡的，可以直接拿来用，共40000张图片，平均分给50个客户端\n",
        "'''"
      ],
      "execution_count": 0,
      "outputs": []
    },
    {
      "cell_type": "code",
      "metadata": {
        "id": "6VCZ3b4Lia7z",
        "colab_type": "code",
        "colab": {}
      },
      "source": [
        "#删除一个h5py文件\n",
        "f_t.flush()\n",
        "f_t.clear()"
      ],
      "execution_count": 0,
      "outputs": []
    },
    {
      "cell_type": "code",
      "metadata": {
        "id": "4ugiwETVixny",
        "colab_type": "code",
        "colab": {}
      },
      "source": [
        "#创建文件\n",
        "f_t = h5py.File(\"/content/drive/My Drive/Colab Notebooks/TEST.hdf5\",\"w\")\n",
        "top_group = f_t.create_group(\"examples\")"
      ],
      "execution_count": 0,
      "outputs": []
    },
    {
      "cell_type": "code",
      "metadata": {
        "id": "pTjFnO_li1K9",
        "colab_type": "code",
        "outputId": "ba36a8ad-76ba-4f4f-af97-dbdb899b8932",
        "colab": {
          "base_uri": "https://localhost:8080/"
        }
      },
      "source": [
        "#将10个类别平均放到50个客户端中，每个客户端每个类别放80个\n",
        "import random\n",
        "NUM_CLIENTS = 50  #写的时候最初用50，用500时间太长\n",
        "NUM_PER_CLASS = 80\n",
        "NUM_CLASS = 10\n",
        "\n",
        "pixels = [[]for i in range(NUM_CLIENTS)]\n",
        "label = [[]for i in range(NUM_CLIENTS)]\n",
        "client_ids = []\n",
        "\n",
        "for i in range(len(y_test_emnist_digits)):\n",
        "  #随机产生一个客户端的下标然后将该图片给放进去\n",
        "    random_client_id = random.randint(0, NUM_CLIENTS-1)\n",
        "    pixels[random_client_id].append(x_test_emnist_digits[i]/255.0)\n",
        "    label[random_client_id].append(y_test_emnist_digits[i])\n",
        "    \n",
        "#将pixels和label加入对应client的group中\n",
        "for i in range(NUM_CLIENTS):\n",
        "  client_ids.append(\"f00_\" + str(i))\n",
        "  temp_group = top_group.create_group(name=\"f00_\" + str(i))\n",
        "  label_ds = temp_group.create_dataset(name=\"label\", data=np.array(label[i], dtype='int32'))\n",
        "  pixels_ds = temp_group.create_dataset(name=\"pixels\", data=np.array(pixels[i], dtype='float32'))\n",
        "  print(num_per_class(label[i]))\n"
      ],
      "execution_count": 0,
      "outputs": [
        {
          "output_type": "stream",
          "text": [
            "[84 88 68 89 59 92 80 74 94 72]\n",
            "[94 99 87 79 90 90 75 84 82 79]\n",
            "[92 83 85 85 59 67 59 86 79 86]\n",
            "[88 74 71 99 77 80 86 74 77 79]\n",
            "[81 87 85 66 86 83 88 75 73 74]\n",
            "[75 85 89 75 74 86 76 79 86 80]\n",
            "[77 94 84 74 94 82 83 91 89 89]\n",
            "[99 71 91 80 76 91 97 75 65 84]\n",
            "[75 82 74 72 83 86 65 80 85 67]\n",
            "[72 84 73 80 79 86 76 75 79 75]\n",
            "[77 75 84 66 80 89 70 89 77 68]\n",
            "[73 76 78 76 83 61 74 82 81 85]\n",
            "[ 68  88  98  91 101  81  77  75  76  82]\n",
            "[78 77 82 75 78 89 99 94 62 75]\n",
            "[80 75 81 80 92 72 70 94 77 94]\n",
            "[89 66 83 76 78 94 86 79 92 83]\n",
            "[86 84 77 88 74 78 87 91 83 81]\n",
            "[83 87 92 83 83 77 85 81 75 90]\n",
            "[ 80  79  88  72  78  88  86  82  72 104]\n",
            "[ 67  80  94  75 102  75  85  61  91  72]\n",
            "[77 86 81 85 83 67 85 73 76 87]\n",
            "[86 92 69 93 86 72 83 84 83 80]\n",
            "[82 78 67 77 64 75 77 85 80 82]\n",
            "[81 77 78 79 74 92 75 69 81 82]\n",
            "[101  72  72  80  80  87  79  80  88  77]\n",
            "[80 81 78 68 76 86 86 85 73 90]\n",
            "[79 80 64 75 86 66 79 71 73 86]\n",
            "[85 82 85 87 91 77 82 74 84 71]\n",
            "[69 88 73 83 64 76 71 94 77 91]\n",
            "[78 78 78 86 78 78 63 79 72 85]\n",
            "[91 70 85 78 95 72 83 89 79 84]\n",
            "[60 69 83 83 88 75 91 83 88 78]\n",
            "[92 73 79 65 59 78 89 88 81 70]\n",
            "[90 74 97 70 74 99 76 77 79 77]\n",
            "[79 81 77 77 74 75 74 77 88 59]\n",
            "[86 78 77 77 82 86 65 82 88 93]\n",
            "[66 70 87 88 63 86 84 71 87 80]\n",
            "[74 84 84 90 77 71 88 80 78 79]\n",
            "[84 84 88 79 73 57 84 81 80 72]\n",
            "[68 61 85 86 87 93 81 62 84 78]\n",
            "[73 69 81 89 78 85 78 89 89 74]\n",
            "[101  63  84  88  73  68  77  67  69  88]\n",
            "[75 87 86 90 81 83 74 80 66 75]\n",
            "[ 91 115  68  81  82  96  90  74  88  84]\n",
            "[78 70 73 82 91 73 79 81 84 71]\n",
            "[59 70 66 82 76 88 85 79 69 80]\n",
            "[87 88 69 77 94 76 92 77 78 71]\n",
            "[83 80 83 76 76 75 77 90 77 92]\n",
            "[67 79 62 78 92 64 72 75 79 75]\n",
            "[60 87 77 70 77 77 77 83 87 70]\n"
          ],
          "name": "stdout"
        }
      ]
    },
    {
      "cell_type": "code",
      "metadata": {
        "id": "t9yVRVML28M9",
        "colab_type": "code",
        "colab": {}
      },
      "source": [
        "#查看数量是否有误\n",
        "# num1 = 0\n",
        "# num2 = 0\n",
        "# for j in range(NUM_CLIENTS):\n",
        "#   #print(\"pixels\",len(pixels[j]))\n",
        "#   num1 = num1 + len(pixels[j])\n",
        "#   num2 = num2 + len(label[j])\n",
        "#   #print(\"label\",label[j])\n",
        "# print(num1)\n",
        "# print(num2)\n",
        "# print(len(y_test_emnist_gidits))\n",
        "\n",
        "#随机画图看是否有误:无误\n",
        "#把图片画出来看一看\n",
        "for i in range(10):\n",
        "  print(f_t[\"examples\"][client_ids[3]][\"label\"].value[i])\n",
        "  plt.imshow(f_t[\"examples\"][client_ids[3]][\"pixels\"].value[i],cmap='gray')\n",
        "  plt.grid(False)\n",
        "  plt.show()"
      ],
      "execution_count": 0,
      "outputs": []
    },
    {
      "cell_type": "code",
      "metadata": {
        "id": "bAxwPVuSi7ry",
        "colab_type": "code",
        "outputId": "1db0ceeb-af3a-4048-b203-9474731d78ae",
        "colab": {
          "base_uri": "https://localhost:8080/"
        }
      },
      "source": [
        "f_t.close()\n",
        "del pixels[:]\n",
        "del label[:]\n",
        "gc.collect()"
      ],
      "execution_count": 0,
      "outputs": [
        {
          "output_type": "stream",
          "text": [
            "ERROR:asyncio:Task was destroyed but it is pending!\n",
            "task: <Task pending coro=<trace.<locals>.async_trace() running at /usr/local/lib/python3.6/dist-packages/tensorflow_federated/python/common_libs/tracing.py:281> wait_for=<Future pending cb=[_chain_future.<locals>._call_check_cancel() at /usr/lib/python3.6/asyncio/futures.py:403, <TaskWakeupMethWrapper object at 0x7fc71b1f6d08>()]> cb=[<TaskWakeupMethWrapper object at 0x7fc75494a2e8>()]>\n"
          ],
          "name": "stderr"
        },
        {
          "output_type": "execute_result",
          "data": {
            "text/plain": [
              "26972"
            ]
          },
          "metadata": {
            "tags": []
          },
          "execution_count": 131
        }
      ]
    },
    {
      "cell_type": "markdown",
      "metadata": {
        "id": "Vy0gLL26EOv7",
        "colab_type": "text"
      },
      "source": [
        "### 构造BAL1数据集，标量平衡，全局平衡，局部IID"
      ]
    },
    {
      "cell_type": "code",
      "metadata": {
        "id": "j8FCUZGxCwft",
        "colab_type": "code",
        "colab": {}
      },
      "source": [
        "'''\n",
        "K=100，每个客户端600张图片，每一类50张图片\n",
        "'''"
      ],
      "execution_count": 0,
      "outputs": []
    },
    {
      "cell_type": "code",
      "metadata": {
        "id": "6a39F3CRqX9n",
        "colab_type": "code",
        "colab": {}
      },
      "source": [
        "#当创建数据集需要修改的时候就要用这里，先清空再重新创建\n",
        "f1.flush()\n",
        "f1.clear()"
      ],
      "execution_count": 0,
      "outputs": []
    },
    {
      "cell_type": "code",
      "metadata": {
        "id": "iz2h0TU23dsp",
        "colab_type": "code",
        "colab": {}
      },
      "source": [
        "#设置各个不平衡的数据集，首先弄一个BAL1:10个类别，每个类别数目相等，每个用户都含有10个类别且每类数目相等\n",
        "#我调查的结果是每个label数目在5000-6000张之间，于是分给500个客户端差不多每个客户端均10个\n",
        "#创建自己的数据集首先是BAL1：全平衡，使用了mnist数据集来分配，60000张图片平均分给500个客户端，每个客户端分得10类，每类10张，供100张图片\n",
        "f1 = h5py.File(\"/content/drive/My Drive/Colab Notebooks/BAL1.hdf5\",\"a\")\n",
        "top_group = f1.create_group(\"examples\")   #创建顶层group名为examples"
      ],
      "execution_count": 0,
      "outputs": []
    },
    {
      "cell_type": "code",
      "metadata": {
        "id": "5uOJHo1b_yD8",
        "colab_type": "code",
        "colab": {}
      },
      "source": [
        "bal1_balance_class = [[]for i in range(10)]  \n",
        "for i in range(0,10):\n",
        "  bal1_balance_class[i] = class_[i][0:6000]"
      ],
      "execution_count": 0,
      "outputs": []
    },
    {
      "cell_type": "code",
      "metadata": {
        "id": "lkNHRXhikc8p",
        "colab_type": "code",
        "colab": {}
      },
      "source": [
        "MY_NUM_CLIENTS = 100  #写的时候最初用50，用500时间太长，试过500，磁盘会从30G飙升到60G且还运行不完，不知道后面500个客户端的时候怎么办\n",
        "NUM_PER_CLASS = 60  #每个客户端每类的图片数量\n",
        "NUM_CLASS = 10\n",
        "#Collections.Orderdict->TensorSliceDataset+client_id->hdf5->HDF5ClientData\n",
        "#<TensorSliceDataset shapes: OrderedDict([(label, ()), (pixels, (28, 28))]), types: OrderedDict([(label, tf.int32), (pixels, tf.float32)])>\n",
        "\n",
        "pixels = []\n",
        "label=[]\n",
        "client_ids = []\n",
        "for i in range(MY_NUM_CLIENTS):  #i客户端数量\n",
        "  for j in range(10):  #j是类别数\n",
        "    for k in range(NUM_PER_CLASS): #k控制每一类图片放多少张在客户端\n",
        "      pixels.append(bal1_balance_class[j][i*NUM_PER_CLASS+k]/255.0) #转成0-1之内的数字再加入pixels，class_[j]存放的是第j类数\n",
        "      label.append(j)  #加入label\n",
        "  \n",
        "  client_ids.append(\"f00_\" + str(i))\n",
        "  temp_group = top_group.create_group(name=\"f00_\" + str(i))  #创建以client_id为名字的group\n",
        "  label_ds = temp_group.create_dataset(name=\"label\", data=np.array(label, dtype='int32'))  #向group中写入label\n",
        "  pixels_ds = temp_group.create_dataset(name=\"pixels\", data=np.array(pixels, dtype='float32'))  #向group中写入pixels\n",
        "  \n",
        "  print(num_per_class(label))\n",
        "  #清空上一个pixels数组和label数组中存放的上一个客户端的数据信息,否则会有灾难！！！\n",
        "  pixels.clear()\n",
        "  label.clear()\n"
      ],
      "execution_count": 0,
      "outputs": []
    },
    {
      "cell_type": "code",
      "metadata": {
        "id": "bIiJcLMF5rw6",
        "colab_type": "code",
        "outputId": "822f4425-f607-4cf9-cbac-e2273880f9f1",
        "colab": {
          "base_uri": "https://localhost:8080/",
          "height": 1000
        }
      },
      "source": [
        "#查看数量是否有误\n",
        "\n",
        "\n",
        "\n",
        "#随机画图看是否有误:无误\n",
        "#把图片画出来看一看\n",
        "for i in range(100,110):\n",
        "  print(f1[\"examples\"][client_ids[3]][\"label\"].value[i])\n",
        "  plt.imshow(f1[\"examples\"][client_ids[3]][\"pixels\"].value[i],cmap='gray')\n",
        "  plt.grid(False)\n",
        "  plt.show()"
      ],
      "execution_count": 0,
      "outputs": [
        {
          "output_type": "stream",
          "text": [
            "1\n"
          ],
          "name": "stdout"
        },
        {
          "output_type": "display_data",
          "data": {
            "image/png": "[encoded data removed]",
            "text/plain": [
              "<Figure size 432x288 with 1 Axes>"
            ]
          },
          "metadata": {
            "tags": [],
            "needs_background": "light"
          }
        },
        {
          "output_type": "stream",
          "text": [
            "1\n"
          ],
          "name": "stdout"
        },
        {
          "output_type": "display_data",
          "data": {
            "image/png": "[encoded data removed]",
            "text/plain": [
              "<Figure size 432x288 with 1 Axes>"
            ]
          },
          "metadata": {
            "tags": [],
            "needs_background": "light"
          }
        },
        {
          "output_type": "stream",
          "text": [
            "1\n"
          ],
          "name": "stdout"
        },
        {
          "output_type": "display_data",
          "data": {
            "image/png": "[encoded data removed]",
            "text/plain": [
              "<Figure size 432x288 with 1 Axes>"
            ]
          },
          "metadata": {
            "tags": [],
            "needs_background": "light"
          }
        },
        {
          "output_type": "stream",
          "text": [
            "1\n"
          ],
          "name": "stdout"
        },
        {
          "output_type": "display_data",
          "data": {
            "image/png": "[encoded data removed]",
            "text/plain": [
              "<Figure size 432x288 with 1 Axes>"
            ]
          },
          "metadata": {
            "tags": [],
            "needs_background": "light"
          }
        },
        {
          "output_type": "stream",
          "text": [
            "1\n"
          ],
          "name": "stdout"
        },
        {
          "output_type": "display_data",
          "data": {
            "image/png": "[encoded data removed]",
            "text/plain": [
              "<Figure size 432x288 with 1 Axes>"
            ]
          },
          "metadata": {
            "tags": [],
            "needs_background": "light"
          }
        },
        {
          "output_type": "stream",
          "text": [
            "1\n"
          ],
          "name": "stdout"
        },
        {
          "output_type": "display_data",
          "data": {
            "image/png": "[encoded data removed]",
            "text/plain": [
              "<Figure size 432x288 with 1 Axes>"
            ]
          },
          "metadata": {
            "tags": [],
            "needs_background": "light"
          }
        },
        {
          "output_type": "stream",
          "text": [
            "1\n"
          ],
          "name": "stdout"
        },
        {
          "output_type": "display_data",
          "data": {
            "image/png": "[encoded data removed]",
            "text/plain": [
              "<Figure size 432x288 with 1 Axes>"
            ]
          },
          "metadata": {
            "tags": [],
            "needs_background": "light"
          }
        },
        {
          "output_type": "stream",
          "text": [
            "1\n"
          ],
          "name": "stdout"
        },
        {
          "output_type": "display_data",
          "data": {
            "image/png": "[encoded data removed]",
            "text/plain": [
              "<Figure size 432x288 with 1 Axes>"
            ]
          },
          "metadata": {
            "tags": [],
            "needs_background": "light"
          }
        },
        {
          "output_type": "stream",
          "text": [
            "1\n"
          ],
          "name": "stdout"
        },
        {
          "output_type": "display_data",
          "data": {
            "image/png": "[encoded data removed]",
            "text/plain": [
              "<Figure size 432x288 with 1 Axes>"
            ]
          },
          "metadata": {
            "tags": [],
            "needs_background": "light"
          }
        },
        {
          "output_type": "stream",
          "text": [
            "1\n"
          ],
          "name": "stdout"
        },
        {
          "output_type": "display_data",
          "data": {
            "image/png": "[encoded data removed]",
            "text/plain": [
              "<Figure size 432x288 with 1 Axes>"
            ]
          },
          "metadata": {
            "tags": [],
            "needs_background": "light"
          }
        }
      ]
    },
    {
      "cell_type": "code",
      "metadata": {
        "id": "4sTtobq61DNi",
        "colab_type": "code",
        "outputId": "e521c825-a20a-41b2-b517-e5575262a6f3",
        "colab": {
          "base_uri": "https://localhost:8080/",
          "height": 35
        }
      },
      "source": [
        "#数据集构造完了以后，调用内存清理操作\n",
        "f1.close()\n",
        "del pixels[:]\n",
        "del label[:]\n",
        "del bal1_balance_class[:]\n",
        "gc.collect()"
      ],
      "execution_count": 0,
      "outputs": [
        {
          "output_type": "execute_result",
          "data": {
            "text/plain": [
              "0"
            ]
          },
          "metadata": {
            "tags": []
          },
          "execution_count": 20
        }
      ]
    },
    {
      "cell_type": "markdown",
      "metadata": {
        "id": "V1rl-timDodS",
        "colab_type": "text"
      },
      "source": [
        "### 构造BAL2数据集：标量平衡且全局平衡，局部Non-IID"
      ]
    },
    {
      "cell_type": "code",
      "metadata": {
        "id": "Mk85zh4PEBah",
        "colab_type": "code",
        "outputId": "3120c44e-2706-4591-b096-a03e6c2e58ec",
        "colab": {
          "base_uri": "https://localhost:8080/",
          "height": 35
        }
      },
      "source": [
        "#构造BAL2\n",
        "'''\n",
        "标量平衡:每个本地600张\n",
        "全局平衡：共10个类，每个类6000张\n",
        "局部平衡：随机\n",
        "num_clients = 100\n",
        "'''"
      ],
      "execution_count": 0,
      "outputs": [
        {
          "output_type": "execute_result",
          "data": {
            "text/plain": [
              "'\\n标量平衡:每个本地100张\\n全局平衡：共10个类，每个类10张\\n局部平衡：随机\\nnum_clients = 500\\n'"
            ]
          },
          "metadata": {
            "tags": []
          },
          "execution_count": 8
        }
      ]
    },
    {
      "cell_type": "code",
      "metadata": {
        "id": "e4BSk6uLEqZW",
        "colab_type": "code",
        "colab": {}
      },
      "source": [
        "#构造绝对平衡图片集,10张*10类*500个客户端\n",
        "#因为后面构造数据集的时候对bal2_balance_class进行了删除操作，因此每次生成数据集都要重新生成bal2_balance_class\n",
        "bal2_balance_class = [[]for i in range(10)]  \n",
        "for i in range(0,10):\n",
        "  bal2_balance_class[i] = class_[i][0:6000]"
      ],
      "execution_count": 0,
      "outputs": []
    },
    {
      "cell_type": "code",
      "metadata": {
        "id": "fbEk8BCPEx4L",
        "colab_type": "code",
        "colab": {}
      },
      "source": [
        "#删除一个h5py文件\n",
        "f2.flush()\n",
        "f2.clear()"
      ],
      "execution_count": 0,
      "outputs": []
    },
    {
      "cell_type": "code",
      "metadata": {
        "id": "iLhuN4Z8E1wD",
        "colab_type": "code",
        "colab": {}
      },
      "source": [
        "#创建hdf5文件\n",
        "f2 = h5py.File(\"/content/drive/My Drive/Colab Notebooks/BAL2-20.hdf5\",\"a\")\n",
        "#创建顶层group\n",
        "top_group = f2.create_group(\"examples\")"
      ],
      "execution_count": 0,
      "outputs": []
    },
    {
      "cell_type": "code",
      "metadata": {
        "id": "bODwz4MPE-gO",
        "colab_type": "code",
        "outputId": "257ff09a-3f00-44d2-bb9a-2267a1ec23ac",
        "colab": {
          "base_uri": "https://localhost:8080/"
        }
      },
      "source": [
        "#创建BAL2:使用了洗牌算法(弃了，Non-IID性不够)\n",
        "#另外的方法：按label划分以后每300张为一个碎片，每个用户随机分配两个碎片\n",
        "#将10个类别平均放到500个客户端中，每个客户端每个类别放12个\n",
        "import random\n",
        "NUM_CLIENTS = 100  #写的时候最初用50，用500时间太长\n",
        "NUM_CLASS = 10\n",
        "NUM_PER_CLASS = 60\n",
        "CHIP_SIZE = 20\n",
        "NUM_CHIP = NUM_CLASS * NUM_PER_CLASS // CHIP_SIZE\n",
        "\n",
        "\n",
        "pixels = []\n",
        "label=[]\n",
        "client_ids = []\n",
        "\n",
        "for i in range(NUM_CLIENTS):  #i客户端数量 \n",
        "  j = 0\n",
        "  #j是每个客户端控制取多少张图片\n",
        "  #使用while循环方便控制当选到label是i但是i已经被之前的客户端选择完了的情况，增设j控制\n",
        "  while(j<NUM_CHIP):\n",
        "    index_label = random.randint(0, NUM_CLASS-1) #随机产生一个label下标\n",
        "    num_remain_pixels = len(bal2_balance_class[index_label])\n",
        "    if(num_remain_pixels>0):\n",
        "      for k in range(CHIP_SIZE):\n",
        "        pixels.append(bal2_balance_class[index_label][k]/255.0)\n",
        "        label.append(index_label)  #加入label\n",
        "      del bal2_balance_class[index_label][0:CHIP_SIZE]\n",
        "      j = j+1\n",
        "  \n",
        "  client_ids.append(\"f00_\" + str(i))\n",
        "  temp_group = top_group.create_group(name=\"f00_\" + str(i))\n",
        "  label_ds = temp_group.create_dataset(name=\"label\", data=np.array(label, dtype='int32'))\n",
        "  pixels_ds = temp_group.create_dataset(name=\"pixels\", data=np.array(pixels, dtype='float32'))\n",
        "\n",
        "  print(len(label))\n",
        "  print(num_per_class(label))\n",
        "  pixels.clear()\n",
        "  label.clear()"
      ],
      "execution_count": 0,
      "outputs": [
        {
          "output_type": "stream",
          "text": [
            "600\n",
            "[ 80 140  40 140  40  20  20  20  60  40]\n",
            "600\n",
            "[80 60 80 80 60 40 60 20 40 80]\n",
            "600\n",
            "[100 100  40  40   0  60 100  60  40  60]\n",
            "600\n",
            "[ 80  60 100  20  20  40  60 120  60  40]\n",
            "600\n",
            "[ 80  80  20  20  60  80 120  40  40  60]\n",
            "600\n",
            "[ 40  40 100  20 120  60  80  40  40  60]\n",
            "600\n",
            "[ 40  40 100 120  80  40  40  60  60  20]\n",
            "600\n",
            "[100  80 140  20  80  40  60  40  20  20]\n",
            "600\n",
            "[100  20  60  60  60  80  40  40  80  60]\n",
            "600\n",
            "[ 60  60  60  20 100  60  80  80  20  60]\n",
            "600\n",
            "[ 60  40  20 100 120  20  40  20  60 120]\n",
            "600\n",
            "[ 20  60  80 120  20  40  60  20  80 100]\n",
            "600\n",
            "[100  80  20   0  80  40  60 100  40  80]\n",
            "600\n",
            "[100  40  80  60 100  40  20  40  80  40]\n",
            "600\n",
            "[ 20  60  20  80  80  40  20  40  80 160]\n",
            "600\n",
            "[ 60 120  40  40   0  80  40  40 100  80]\n",
            "600\n",
            "[ 40 100 100  60  40 100  20  60  80   0]\n",
            "600\n",
            "[ 20  60  80  60  40  80  40  80  40 100]\n",
            "600\n",
            "[ 20 100  20 120  60  40  40  60  40 100]\n",
            "600\n",
            "[ 20  80  40  80  40  60  80  20  60 120]\n",
            "600\n",
            "[ 60 100  40 140  60  20 100  80   0   0]\n",
            "600\n",
            "[ 60  20  60 100 100   0  80  40 100  40]\n",
            "600\n",
            "[ 80  20  20 120  80  20 140  20  40  60]\n",
            "600\n",
            "[120  60  40  60  40  60  40  80  60  40]\n",
            "600\n",
            "[100  80  60  40  60  40  60  40  80  40]\n",
            "600\n",
            "[ 20  60  60  60 100  40  40 100  60  60]\n",
            "600\n",
            "[ 60  20  60  60  40 120  20 100  60  60]\n",
            "600\n",
            "[ 60  80  60 100  60  20  40  60  40  80]\n",
            "600\n",
            "[120  80  60 100   0   0 100   0  80  60]\n",
            "600\n",
            "[ 20  20  40  60 100  80  60 100  40  80]\n",
            "600\n",
            "[ 20  60  80  80  40  60   0 100 100  60]\n",
            "600\n",
            "[ 40  80  20  80  60  40 120  40  60  60]\n",
            "600\n",
            "[ 40  80  40  80  60  80 100  40  40  40]\n",
            "600\n",
            "[100  20  80 100  40  40  80  40  20  80]\n",
            "600\n",
            "[ 60 120  20  60  20 120  60  20  40  80]\n",
            "600\n",
            "[ 20 100  80  80  20  40  60  60  20 120]\n",
            "600\n",
            "[ 20  20  40 100 100  40  40  60 100  80]\n",
            "600\n",
            "[140  20  80  40  20  20  60 100  60  60]\n",
            "600\n",
            "[ 80  40 100  20  60  40  20 120  40  80]\n",
            "600\n",
            "[ 40  40  80  60  20  60  80  60  60 100]\n",
            "600\n",
            "[ 40  40  80 100  20  60  60  40 120  40]\n",
            "600\n",
            "[100  20  80  60  20  80  60  40 100  40]\n",
            "600\n",
            "[80 60 80 60 60  0 80 60 40 80]\n",
            "600\n",
            "[ 60  20  20 100  40 100  40  80  80  60]\n",
            "600\n",
            "[100  60  80  60  60  60  40  80  60   0]\n",
            "600\n",
            "[120  80  40  80  80  40  20  20  60  60]\n",
            "600\n",
            "[140  60 100   0  40  80  80  60  20  20]\n",
            "600\n",
            "[100  20  60  20  60  80   0 100  80  80]\n",
            "600\n",
            "[ 20  40  20  60 160  20 100  20  60 100]\n",
            "600\n",
            "[60 40 60 60  0 80 80 60 80 80]\n",
            "600\n",
            "[ 60  40  40  60  40  40  60 100   0 160]\n",
            "600\n",
            "[100  80  40  80  20  40   0  60  40 140]\n",
            "600\n",
            "[ 40  80  40  20  60  80 120  80  40  40]\n",
            "600\n",
            "[ 80  60  20  60  40  40 100  40  80  80]\n",
            "600\n",
            "[ 40  40  40  80 140  80  60  40  60  20]\n",
            "600\n",
            "[ 60 100  60 100  20  20 120  40  80   0]\n",
            "600\n",
            "[ 40  60 100  80  60  60   0  80  60  60]\n",
            "600\n",
            "[ 60  40  40   0  80  60  40 140  80  60]\n",
            "600\n",
            "[120  40  20   0  60 100  40  80 100  40]\n",
            "600\n",
            "[ 80  60 100  60  40 100  20  40  40  60]\n",
            "600\n",
            "[ 80  40  60   0  60  40 120  20  80 100]\n",
            "600\n",
            "[ 80  40 140   0  60  20  40  80   0 140]\n",
            "600\n",
            "[ 60  20 160  40 100  20  60  60  20  60]\n",
            "600\n",
            "[100  40  60 160  40  20  40  80   0  60]\n",
            "600\n",
            "[ 40 100  20  20  80 120  40  60 100  20]\n",
            "600\n",
            "[ 80  80  60   0  20 120 100  60  20  60]\n",
            "600\n",
            "[100  40 100  20  40  40 100  40   0 120]\n",
            "600\n",
            "[140  20 100  60  40  60  20  80  40  40]\n",
            "600\n",
            "[  0  20 140  80 100  60  40  40  80  40]\n",
            "600\n",
            "[  0  60  40  80  60  80 100  20  80  80]\n",
            "600\n",
            "[ 60  20  20  60 100 100  60  60  60  60]\n",
            "600\n",
            "[ 80  40   0  60  80  60 120  40 120   0]\n",
            "600\n",
            "[ 20  60  60  80 120  80  20  20  60  80]\n",
            "600\n",
            "[100  80  60  20  60  80 140   0  20  40]\n",
            "600\n",
            "[ 40  60 120  40  40  80  40  60  60  60]\n",
            "600\n",
            "[ 40  40  60 100 140  80  40  20   0  80]\n",
            "600\n",
            "[ 60  60  40  40 140  60  60  20  60  60]\n",
            "600\n",
            "[ 60  60  40 120  60  40  60  20  40 100]\n",
            "600\n",
            "[ 80   0 200  80  40   0  60   0  60  80]\n",
            "600\n",
            "[ 40 120  60  40 120  60  60  40  20  40]\n",
            "600\n",
            "[ 60  60  20  40  80  60  40 100 100  40]\n",
            "600\n",
            "[ 80  80 120  60  20  40  60   0  60  80]\n",
            "600\n",
            "[40 80 40 60 80 60 60 40 60 80]\n",
            "600\n",
            "[60 60 40 60 80 60 80  0 80 80]\n",
            "600\n",
            "[ 80  40  20  60  20  60  60 100  40 120]\n",
            "600\n",
            "[ 60  40  80  40  60  40  80  60  40 100]\n",
            "600\n",
            "[100  80  40  40  40  40 100  40  60  60]\n",
            "600\n",
            "[ 80  60  40  60  40  80  40  60 140   0]\n",
            "600\n",
            "[ 20  60  20  60  60 100  80  80  60  60]\n",
            "600\n",
            "[40 60 80 80 60 60 60 80 40 40]\n",
            "600\n",
            "[ 20  80  20 120  80  40  80 100  60   0]\n",
            "600\n",
            "[40 60 40 80 60 80 80 60 60 40]\n",
            "600\n",
            "[ 60 100  20   0  80 100  80  60  60  40]\n",
            "600\n",
            "[ 20  60  60   0  60 120 100 100  60  20]\n",
            "600\n",
            "[  0  40  80  60 100 100  80  60  80   0]\n",
            "600\n",
            "[  0 100   0  60  60 120  80 120  40  20]\n",
            "600\n",
            "[  0  40  80  80 120 160  20  60  40   0]\n",
            "600\n",
            "[  0 120 140   0  20 120   0 140  60   0]\n",
            "600\n",
            "[  0 140  40   0   0 120   0 160 140   0]\n",
            "600\n",
            "[  0  60   0   0   0   0   0 240 300   0]\n"
          ],
          "name": "stdout"
        }
      ]
    },
    {
      "cell_type": "code",
      "metadata": {
        "id": "gGfpMtDH8rhZ",
        "colab_type": "code",
        "colab": {}
      },
      "source": [
        "#查看数量是否有误\n",
        "# num1 = 0\n",
        "# num2 = 0\n",
        "# for j in range(NUM_CLIENTS):\n",
        "#   #print(\"pixels\",len(pixels[j]))\n",
        "#   num1 = num1 + len(pixels[j])\n",
        "#   num2 = num2 + len(label[j])\n",
        "#   #print(\"label\",label[j])\n",
        "# print(num1)\n",
        "# print(num2)\n",
        "\n",
        "#查看某个客户端每个类别分别有多少\n",
        "def num_per_class(label):\n",
        "  num = np.zeros(shape=(10), dtype='int32')\n",
        "  for i in range (len(label)):\n",
        "    l = label[i]\n",
        "    num[l] = num[l] + 1\n",
        "  return num\n",
        "\n",
        "# for i in range(NUM_CLIENTS):\n",
        "#   print(num_per_label(label[i]))\n",
        "\n",
        "#print(num)\n",
        "\n",
        "\n",
        "#随机画图看是否有误:无误\n",
        "#把图片画出来看一看\n",
        "a = 9\n",
        "for i in range(10):\n",
        "  print(f2[\"examples\"][client_ids[a]][\"label\"].value[i])\n",
        "  plt.imshow(f2[\"examples\"][client_ids[a]][\"pixels\"].value[i],cmap='gray')\n",
        "  plt.grid(False)\n",
        "  plt.show()"
      ],
      "execution_count": 0,
      "outputs": []
    },
    {
      "cell_type": "code",
      "metadata": {
        "id": "lDhERs0e1a2y",
        "colab_type": "code",
        "outputId": "ba21f074-c099-4b9d-ce61-dd357ad87911",
        "colab": {
          "base_uri": "https://localhost:8080/"
        }
      },
      "source": [
        "#数据集构造完成以后，调用内存清理操作\n",
        "f2.close()\n",
        "del bal2_balance_class[:]\n",
        "del pixels[:]\n",
        "del label[:]\n",
        "gc.collect()"
      ],
      "execution_count": 0,
      "outputs": [
        {
          "output_type": "execute_result",
          "data": {
            "text/plain": [
              "1609"
            ]
          },
          "metadata": {
            "tags": []
          },
          "execution_count": 146
        }
      ]
    },
    {
      "cell_type": "markdown",
      "metadata": {
        "id": "F0kylMRgyWG_",
        "colab_type": "text"
      },
      "source": [
        "### 构造BAL3数据集：全局平衡，标量不平衡，局部Non-IID"
      ]
    },
    {
      "cell_type": "code",
      "metadata": {
        "id": "DzfySSTPyovy",
        "colab_type": "code",
        "colab": {}
      },
      "source": [
        "'''\n",
        "构造BAL3数据集\n",
        "全局平衡：10个label，每个label6000张图片\n",
        "标量不平衡，局部Non-IID\n",
        "客户端：100，C=0.02\n",
        "60000张图片随机分给100个用户\n",
        "客户端样本数分布：\n",
        "[  58   74   87   87  107  111  131  141  174  181  186  222  203  242\n",
        "  287  284  316  352  351  388  390  470  450  519  519  550  661  617\n",
        "  661  678  761  691  777  866  915  897  969  939 1011 1037  977  998\n",
        " 1041 1105 1083 1181 1131 1174 1143 1149 1187 1201 1103 1179 1091 1150\n",
        " 1145 1084 1099  994 1012 1076 1038  949  961  926  865  837  777  763\n",
        "  753  715  651  617  600  529  564  499  483  470  420  426  375  329\n",
        "  325  269  248  252  241  213  176  184  143  152  128   92  101   95\n",
        "   99   72]\n",
        "'''"
      ],
      "execution_count": 0,
      "outputs": []
    },
    {
      "cell_type": "code",
      "metadata": {
        "id": "rVUPvefO4X9o",
        "colab_type": "code",
        "outputId": "66676702-7d7d-4d9a-d81b-f090e49a0f85",
        "colab": {
          "base_uri": "https://localhost:8080/"
        }
      },
      "source": [
        "#定义呈正态分布的客户端数量\n",
        "NUM_CLIENTS = 100\n",
        "miu = 0\n",
        "sigma = 35\n",
        "num_clients = np.zeros(shape=(NUM_CLIENTS),dtype=int)\n",
        "for _ in range(110000):\n",
        "  nor = random.normalvariate(miu,sigma)\n",
        "  if(nor>=0 and nor<=100):\n",
        "    index = math.floor(nor)\n",
        "    num_clients[index] = num_clients[index] + 1\n",
        "_n_ = 60000 - sum(num_clients)\n",
        "for _ in range(_n_):\n",
        "  r_id =  random.randint(0,NUM_CLIENTS-1)\n",
        "  num_clients[r_id] = num_clients[r_id] + 1\n",
        "\n",
        "print(_n_)\n",
        "print(num_clients)\n",
        "print(sum(num_clients))"
      ],
      "execution_count": 0,
      "outputs": [
        {
          "output_type": "stream",
          "text": [
            "5263\n",
            "[1319 1339 1321 1273 1247 1276 1280 1364 1216 1217 1233 1192 1233 1189\n",
            " 1204 1224 1231 1152 1143 1111 1082 1087 1072 1079 1051  994  960  967\n",
            "  952  867  937  958  894  844  839  802  789  729  731  705  631  638\n",
            "  689  646  601  571  550  578  542  503  540  534  483  411  443  435\n",
            "  406  368  379  332  330  304  287  290  284  281  297  257  229  238\n",
            "  212  226  216  217  200  186  163  154  145  151  114  128  138  116\n",
            "  120  115   99   94   95   92  109   96   87   73   86   78   69   72\n",
            "   82   87]\n",
            "60000\n"
          ],
          "name": "stdout"
        }
      ]
    },
    {
      "cell_type": "code",
      "metadata": {
        "id": "kwwaDLPEbQtx",
        "colab_type": "code",
        "outputId": "966a6b41-e0f0-4c9c-fe32-f66b0ac86458",
        "colab": {
          "base_uri": "https://localhost:8080/"
        }
      },
      "source": [
        "print(num_clients)"
      ],
      "execution_count": 0,
      "outputs": [
        {
          "output_type": "stream",
          "text": [
            "[1319 1339 1321 1273 1247 1276 1280 1364 1216 1217 1233 1192 1233 1189\n",
            " 1204 1224 1231 1152 1143 1111 1082 1087 1072 1079 1051  994  960  967\n",
            "  952  867  937  958  894  844  839  802  789  729  731  705  631  638\n",
            "  689  646  601  571  550  578  542  503  540  534  483  411  443  435\n",
            "  406  368  379  332  330  304  287  290  284  281  297  257  229  238\n",
            "  212  226  216  217  200  186  163  154  145  151  114  128  138  116\n",
            "  120  115   99   94   95   92  109   96   87   73   86   78   69   72\n",
            "   82   87]\n"
          ],
          "name": "stdout"
        }
      ]
    },
    {
      "cell_type": "code",
      "metadata": {
        "id": "KqUJ4M8uzr-V",
        "colab_type": "code",
        "outputId": "8faf8b54-7847-4e78-bd5e-a1f529a7fc0b",
        "colab": {
          "base_uri": "https://localhost:8080/"
        }
      },
      "source": [
        "#获得全局绝对平衡数据集\n",
        "bal3_p = []\n",
        "bal3_l = [] \n",
        "for i in range(0,10):\n",
        "  for j in range(6000):\n",
        "    bal3_p.append(class_[i][j])\n",
        "    bal3_l.append(i)\n",
        "print(len(bal3_l))"
      ],
      "execution_count": 0,
      "outputs": [
        {
          "output_type": "stream",
          "text": [
            "60000\n"
          ],
          "name": "stdout"
        }
      ]
    },
    {
      "cell_type": "code",
      "metadata": {
        "id": "OUSHrgG9zvH4",
        "colab_type": "code",
        "colab": {}
      },
      "source": [
        "#删除一个h5py文件\n",
        "f3.flush()\n",
        "f3.clear()"
      ],
      "execution_count": 0,
      "outputs": []
    },
    {
      "cell_type": "code",
      "metadata": {
        "id": "dPmY8-G3zxnV",
        "colab_type": "code",
        "colab": {}
      },
      "source": [
        "#创建hdf5文件\n",
        "f3 = h5py.File(\"/content/drive/My Drive/Colab Notebooks/BAL3-3.hdf5\",\"a\")\n",
        "#创建顶层group\n",
        "top_group = f3.create_group(\"examples\")"
      ],
      "execution_count": 0,
      "outputs": []
    },
    {
      "cell_type": "code",
      "metadata": {
        "id": "gt6u9CLTz3Wl",
        "colab_type": "code",
        "outputId": "cdfe3e88-acd9-4a02-c64d-4dc46dde063f",
        "colab": {
          "base_uri": "https://localhost:8080/"
        }
      },
      "source": [
        "#创建BAL3\n",
        "#将60000张图片随机分给100个客户端:洗牌算法\n",
        "\n",
        "NUM_CLIENTS = 100  \n",
        "NUM_CLASS = 10\n",
        "NUM_PER_CLASS = 6000\n",
        "CHIP_SIZE = 100\n",
        "NUM_CHIP = NUM_CLASS * NUM_PER_CLASS // CHIP_SIZE\n",
        "\n",
        "#pixels[i]存放的是第i个客户端的图片，label[i]以此类推\n",
        "pixels = [[]for i in range(NUM_CLIENTS)]\n",
        "label = [[]for i in range(NUM_CLIENTS)]\n",
        "client_ids = []\n",
        "\n",
        "for i in range(NUM_CLIENTS):\n",
        "  for _ in range(num_clients[i]):\n",
        "    random_pid = random.randint(0, len(bal3_p)-1)\n",
        "    pixels[i].append(bal3_p[random_pid]/255.0)\n",
        "    label[i].append(bal3_l[random_pid])\n",
        "    del bal3_p[random_pid]\n",
        "    del bal3_l[random_pid]\n",
        "\n",
        "#将pixels和label加入对应client的group中\n",
        "num = 0\n",
        "for i in range(NUM_CLIENTS):\n",
        "  client_ids.append(\"f00_\" + str(i))\n",
        "  temp_group = top_group.create_group(name=\"f00_\" + str(i))\n",
        "  label_ds = temp_group.create_dataset(name=\"label\", data=np.array(label[i], dtype='int32'))\n",
        "  pixels_ds = temp_group.create_dataset(name=\"pixels\", data=np.array(pixels[i], dtype='float32'))\n",
        "  print(len(label[i]))\n",
        "  print(num_per_class(label[i]))"
      ],
      "execution_count": 0,
      "outputs": [
        {
          "output_type": "stream",
          "text": [
            "1319\n",
            "[120 131 114 124 142 133 127 144 148 136]\n",
            "1339\n",
            "[138 126 128 105 143 142 131 131 143 152]\n",
            "1321\n",
            "[128 123 116 154 130 127 132 138 128 145]\n",
            "1273\n",
            "[129 141 139 130 121 113 118 131 125 126]\n",
            "1247\n",
            "[141 144 147 117 124 110 117 110 124 113]\n",
            "1276\n",
            "[127 117 125 138 146 125 129 121 112 136]\n",
            "1280\n",
            "[113 135 116 131 118 132 144 138 122 131]\n",
            "1364\n",
            "[151 129 135 145 131 153 107 164 115 134]\n",
            "1216\n",
            "[102 109 137 133 113 145  97 114 136 130]\n",
            "1217\n",
            "[127 111 128 102 134 140 120 115 113 127]\n",
            "1233\n",
            "[130 123 124 131 117 110 130 125 127 116]\n",
            "1192\n",
            "[134 116 115 112 114 123 108 121 127 122]\n",
            "1233\n",
            "[117 132 125 116 127 122 130  99 141 124]\n",
            "1189\n",
            "[101 103 125 123 123 148 130 103 100 133]\n",
            "1204\n",
            "[126 120 115 121 111 127 109 133 123 119]\n",
            "1224\n",
            "[112 130 124 139 124 121 106 122 122 124]\n",
            "1231\n",
            "[109 138 129 119 129 119 124 133 114 117]\n",
            "1152\n",
            "[104 107 115 111  98 115 141 117 126 118]\n",
            "1143\n",
            "[129 114 108 107 127 106 120 119 108 105]\n",
            "1111\n",
            "[123 116 106 106 111 110 114 112 101 112]\n",
            "1082\n",
            "[115 111  95 108 104 118 111 111 117  92]\n",
            "1087\n",
            "[102  99 108  98 122 102 125 108 119 104]\n",
            "1072\n",
            "[ 97  93  94 104 112  97 121 113 120 121]\n",
            "1079\n",
            "[115  92 111 111  98 111 112 107 116 106]\n",
            "1051\n",
            "[101  80 114 127 100 108 113  84 124 100]\n",
            "994\n",
            "[105 116  99 102  88  91  96  91 105 101]\n",
            "960\n",
            "[100  98  95  98  86 101  85  93 112  92]\n",
            "967\n",
            "[ 97 105 110  73 106  80 105  92 113  86]\n",
            "952\n",
            "[ 99 105  83  94  90  92  97  98  93 101]\n",
            "867\n",
            "[100 101  90  92  85  73  71  83  82  90]\n",
            "937\n",
            "[ 87  95  94  89  86  93 106 101  85 101]\n",
            "958\n",
            "[ 87  85 106  95 110  95  97  93  98  92]\n",
            "894\n",
            "[ 98  87  87  95  71  88  98 102  68 100]\n",
            "844\n",
            "[80 83 77 86 86 90 97 80 87 78]\n",
            "839\n",
            "[92 83 78 85 94 83 79 71 83 91]\n",
            "802\n",
            "[86 84 86 71 84 79 87 78 80 67]\n",
            "789\n",
            "[76 71 87 83 70 78 78 88 81 77]\n",
            "729\n",
            "[74 87 79 70 71 75 84 74 59 56]\n",
            "731\n",
            "[65 86 72 69 71 75 64 78 86 65]\n",
            "705\n",
            "[81 71 55 65 71 77 75 76 72 62]\n",
            "631\n",
            "[73 62 59 63 59 51 66 72 69 57]\n",
            "638\n",
            "[60 52 52 65 70 73 62 61 70 73]\n",
            "689\n",
            "[77 73 75 76 71 63 62 67 55 70]\n",
            "646\n",
            "[59 59 56 44 64 68 65 79 77 75]\n",
            "601\n",
            "[67 59 60 61 76 45 54 50 65 64]\n",
            "571\n",
            "[53 55 64 61 59 52 64 60 49 54]\n",
            "550\n",
            "[63 47 55 48 66 52 70 47 48 54]\n",
            "578\n",
            "[58 59 56 63 61 56 54 55 60 56]\n",
            "542\n",
            "[58 45 61 51 51 55 47 61 54 59]\n",
            "503\n",
            "[44 47 44 59 56 54 52 41 49 57]\n",
            "540\n",
            "[40 54 68 55 61 56 57 46 50 53]\n",
            "534\n",
            "[61 66 46 57 52 37 56 62 35 62]\n",
            "483\n",
            "[50 48 48 56 43 48 53 49 50 38]\n",
            "411\n",
            "[46 44 44 42 48 35 36 33 46 37]\n",
            "443\n",
            "[46 42 48 51 41 43 40 44 42 46]\n",
            "435\n",
            "[41 39 45 53 36 46 48 40 39 48]\n",
            "406\n",
            "[35 50 44 40 34 41 39 42 42 39]\n",
            "368\n",
            "[38 26 23 42 40 43 49 34 37 36]\n",
            "379\n",
            "[42 37 50 43 35 40 32 35 31 34]\n",
            "332\n",
            "[44 39 28 31 22 27 38 39 37 27]\n",
            "330\n",
            "[30 32 30 29 42 38 37 24 34 34]\n",
            "304\n",
            "[26 32 41 25 32 33 23 34 29 29]\n",
            "287\n",
            "[28 36 36 24 23 21 25 30 26 38]\n",
            "290\n",
            "[26 28 31 26 32 31 35 29 23 29]\n",
            "284\n",
            "[30 41 29 32 24 24 21 33 24 26]\n",
            "281\n",
            "[34 24 32 33 25 26 26 30 25 26]\n",
            "297\n",
            "[21 37 27 33 27 31 35 27 37 22]\n",
            "257\n",
            "[26 24 26 27 25 31 23 21 25 29]\n",
            "229\n",
            "[19 28 23 17 25 19 24 23 28 23]\n",
            "238\n",
            "[19 30 28 24 24 21 15 26 26 25]\n",
            "212\n",
            "[24 24 17 22 21 21 23 17 16 27]\n",
            "226\n",
            "[20 25 31 17 17 27 26 15 19 29]\n",
            "216\n",
            "[18 21 19 18 22 26 16 37 19 20]\n",
            "217\n",
            "[18 17 20 26 28 24 15 26 18 25]\n",
            "200\n",
            "[16 20 15 25 20 25 20 18 29 12]\n",
            "186\n",
            "[21 17 12 22 17 12 18 27 16 24]\n",
            "163\n",
            "[21 18 14 18 18 20  7 18 14 15]\n",
            "154\n",
            "[22 21 13 21 11 13 12 14 13 14]\n",
            "145\n",
            "[13 14 11 20 11 14 16 16 12 18]\n",
            "151\n",
            "[19  9 18 16 18 20 19  8  9 15]\n",
            "114\n",
            "[ 9  8  8 14 15 14 13 15  7 11]\n",
            "128\n",
            "[14 14 13 12 12 12 13 10 18 10]\n",
            "138\n",
            "[12 16 15 13 17  9 17 10 13 16]\n",
            "116\n",
            "[ 6 10 14 16 15 13 12 10 13  7]\n",
            "120\n",
            "[10  8 14  8 15 21 13 11  8 12]\n",
            "115\n",
            "[ 9  8 11 13  9 10 16 13 12 14]\n",
            "99\n",
            "[13 14  6 11  8  8  8 10 10 11]\n",
            "94\n",
            "[11 11 11  8  5  9  9  9 13  8]\n",
            "95\n",
            "[ 5 11 14  9 11 10 12  4 11  8]\n",
            "92\n",
            "[11  9 13 12  6 12  7 10  7  5]\n",
            "109\n",
            "[15 17 18 10  8 10  8 10  5  8]\n",
            "96\n",
            "[ 5 12 11  5  9 14  7 13 13  7]\n",
            "87\n",
            "[ 8 10  7  7 16  7  7  5 12  8]\n",
            "73\n",
            "[ 3  9  6  4  7  9  8 10  7 10]\n",
            "86\n",
            "[ 7  8 12  8  7 13  6 12  6  7]\n",
            "78\n",
            "[ 8  6 12  9  8  8 10  6  5  6]\n",
            "69\n",
            "[ 5  6  4  9 12  5  7  5 10  6]\n",
            "72\n",
            "[ 9  9  7  5  5  4  4  9 12  8]\n",
            "82\n",
            "[ 5  5  6  5  9 13  5 15  9 10]\n",
            "87\n",
            "[11 11  8  7 11 10  3 12  7  7]\n"
          ],
          "name": "stdout"
        }
      ]
    },
    {
      "cell_type": "code",
      "metadata": {
        "id": "1poxDT9b9cOU",
        "colab_type": "code",
        "outputId": "c79e246a-9afa-4654-ec4c-d7ae5e1e1f42",
        "colab": {
          "base_uri": "https://localhost:8080/"
        }
      },
      "source": [
        "# #查看总的数量是否有误:无误\n",
        "# num1 = 0\n",
        "# num2 = 0\n",
        "# for j in range(5):\n",
        "#   #print(\"pixels\",len(pixels[j]))\n",
        "#   num1 = num1 + len(pixels[j])\n",
        "#   num2 = num2 + len(label[j])\n",
        "#   #print(\"label\",label[j])\n",
        "# print(num1)\n",
        "# print(num2)\n",
        "\n",
        "#len(f3[\"examples\"][client_ids[2]][\"label\"].value)\n",
        "# print(f3[\"examples\"][client_ids[3]][\"label\"].value[699])\n",
        "# plt.imshow(f3[\"examples\"][client_ids[3]][\"pixels\"].value[699], cmap='gray', aspect='equal')\n",
        "# plt.grid(False)\n",
        "# #这里这个画应该是一种很随意的，因为不想再用所以命名就是_\n",
        "# #plt.imshow（）负责对图像进行处理并调整其格式但是不能显示，必须在其后跟着plt.show()才能成功显示出来\n",
        "# _=plt.show()\n",
        "\n",
        "#随机画图看是否有误:无误\n",
        "#把图片画出来看一看\n",
        "for i in range(20,30):\n",
        "  print(f3[\"examples\"][client_ids[5]][\"label\"].value[i])\n",
        "  plt.imshow(f3[\"examples\"][client_ids[5]][\"pixels\"].value[i],cmap='gray')\n",
        "  plt.grid(False)\n",
        "  plt.show()"
      ],
      "execution_count": 0,
      "outputs": [
        {
          "output_type": "stream",
          "text": [
            "7\n"
          ],
          "name": "stdout"
        },
        {
          "output_type": "display_data",
          "data": {
            "image/png": "[encoded data removed]",
            "text/plain": [
              "<Figure size 432x288 with 1 Axes>"
            ]
          },
          "metadata": {
            "tags": [],
            "needs_background": "light"
          }
        },
        {
          "output_type": "stream",
          "text": [
            "3\n"
          ],
          "name": "stdout"
        },
        {
          "output_type": "display_data",
          "data": {
            "image/png": "[encoded data removed]",
            "text/plain": [
              "<Figure size 432x288 with 1 Axes>"
            ]
          },
          "metadata": {
            "tags": [],
            "needs_background": "light"
          }
        },
        {
          "output_type": "stream",
          "text": [
            "3\n"
          ],
          "name": "stdout"
        },
        {
          "output_type": "display_data",
          "data": {
            "image/png": "[encoded data removed]",
            "text/plain": [
              "<Figure size 432x288 with 1 Axes>"
            ]
          },
          "metadata": {
            "tags": [],
            "needs_background": "light"
          }
        },
        {
          "output_type": "stream",
          "text": [
            "3\n"
          ],
          "name": "stdout"
        },
        {
          "output_type": "display_data",
          "data": {
            "image/png": "[encoded data removed]",
            "text/plain": [
              "<Figure size 432x288 with 1 Axes>"
            ]
          },
          "metadata": {
            "tags": [],
            "needs_background": "light"
          }
        },
        {
          "output_type": "stream",
          "text": [
            "1\n"
          ],
          "name": "stdout"
        },
        {
          "output_type": "display_data",
          "data": {
            "image/png": "[encoded data removed]",
            "text/plain": [
              "<Figure size 432x288 with 1 Axes>"
            ]
          },
          "metadata": {
            "tags": [],
            "needs_background": "light"
          }
        },
        {
          "output_type": "stream",
          "text": [
            "0\n"
          ],
          "name": "stdout"
        },
        {
          "output_type": "display_data",
          "data": {
            "image/png": "[encoded data removed]",
            "text/plain": [
              "<Figure size 432x288 with 1 Axes>"
            ]
          },
          "metadata": {
            "tags": [],
            "needs_background": "light"
          }
        },
        {
          "output_type": "stream",
          "text": [
            "3\n"
          ],
          "name": "stdout"
        },
        {
          "output_type": "display_data",
          "data": {
            "image/png": "[encoded data removed]",
            "text/plain": [
              "<Figure size 432x288 with 1 Axes>"
            ]
          },
          "metadata": {
            "tags": [],
            "needs_background": "light"
          }
        },
        {
          "output_type": "stream",
          "text": [
            "6\n"
          ],
          "name": "stdout"
        },
        {
          "output_type": "display_data",
          "data": {
            "image/png": "[encoded data removed]",
            "text/plain": [
              "<Figure size 432x288 with 1 Axes>"
            ]
          },
          "metadata": {
            "tags": [],
            "needs_background": "light"
          }
        },
        {
          "output_type": "stream",
          "text": [
            "9\n"
          ],
          "name": "stdout"
        },
        {
          "output_type": "display_data",
          "data": {
            "image/png": "[encoded data removed]",
            "text/plain": [
              "<Figure size 432x288 with 1 Axes>"
            ]
          },
          "metadata": {
            "tags": [],
            "needs_background": "light"
          }
        },
        {
          "output_type": "stream",
          "text": [
            "8\n"
          ],
          "name": "stdout"
        },
        {
          "output_type": "display_data",
          "data": {
            "image/png": "[encoded data removed]",
            "text/plain": [
              "<Figure size 432x288 with 1 Axes>"
            ]
          },
          "metadata": {
            "tags": [],
            "needs_background": "light"
          }
        }
      ]
    },
    {
      "cell_type": "code",
      "metadata": {
        "id": "ZFssf18G1qka",
        "colab_type": "code",
        "outputId": "49a417a3-bbbb-4c6b-819f-d0a367e40da4",
        "colab": {
          "base_uri": "https://localhost:8080/",
          "height": 35
        }
      },
      "source": [
        "#数据集构造完成以后，调用内存清理操作\n",
        "f3.close()\n",
        "del pixels[:]\n",
        "del label[:]\n",
        "del bal3_balance_class[:]\n",
        "gc.collect()"
      ],
      "execution_count": 0,
      "outputs": [
        {
          "output_type": "execute_result",
          "data": {
            "text/plain": [
              "23441"
            ]
          },
          "metadata": {
            "tags": []
          },
          "execution_count": 114
        }
      ]
    },
    {
      "cell_type": "code",
      "metadata": {
        "id": "n8b8s9Sey6WC",
        "colab_type": "code",
        "colab": {}
      },
      "source": [
        "f3.close()"
      ],
      "execution_count": 0,
      "outputs": []
    },
    {
      "cell_type": "markdown",
      "metadata": {
        "id": "pEoCrfZQg6Qf",
        "colab_type": "text"
      },
      "source": [
        "### 构造BAL4数据集，全局不平衡，标量不平衡，局部Non-IID"
      ]
    },
    {
      "cell_type": "code",
      "metadata": {
        "id": "L66Q84ZZhXYX",
        "colab_type": "code",
        "colab": {}
      },
      "source": [
        "'''\n",
        "BAL4：标量不平衡，全局不平衡，局部不平衡\n",
        "使用原始的mnist\n",
        "60000张图片随机分给100个客户端，每个客户端数目不固定\n",
        "客户端样本分布见BAL3\n",
        "类别数量分布：\n",
        "[ 1166  2692  5548  9145 11536 11574  8958  5598  2731  1052]\n",
        "'''"
      ],
      "execution_count": 0,
      "outputs": []
    },
    {
      "cell_type": "code",
      "metadata": {
        "id": "zVQfEKnJAe0E",
        "colab_type": "code",
        "outputId": "9ec6ff30-4f45-4f46-b917-d44624fea5a4",
        "colab": {
          "base_uri": "https://localhost:8080/",
          "height": 196
        }
      },
      "source": [
        "#定义呈正态分布的客户端数量\n",
        "NUM_CLIENTS = 100\n",
        "miu = 50.5\n",
        "sigma = 21\n",
        "num_clients = np.zeros(shape=(NUM_CLIENTS),dtype=int)\n",
        "for _ in range(61000):\n",
        "  nor = random.normalvariate(miu,sigma)\n",
        "  if(nor>=0 and nor<=100):\n",
        "    index = math.floor(nor)\n",
        "    num_clients[index] = num_clients[index] + 1\n",
        "_n_ = 60000 - sum(num_clients)\n",
        "for _ in range(_n_):\n",
        "  r_id =  random.randint(0,NUM_CLIENTS-1)\n",
        "  num_clients[r_id] = num_clients[r_id] + 1\n",
        "\n",
        "print(_n_)\n",
        "print(num_clients)\n",
        "print(sum(num_clients))"
      ],
      "execution_count": 0,
      "outputs": [
        {
          "output_type": "stream",
          "text": [
            "1\n",
            "[  68   77   82  103  114  100  107  151  164  152  170  206  219  245\n",
            "  236  286  321  331  347  392  398  444  466  501  532  571  623  648\n",
            "  642  690  705  775  807  831  870  919  923 1008  910 1005 1055 1029\n",
            " 1074 1118 1109 1133 1121 1139 1124 1151 1165 1188 1116 1126 1249 1128\n",
            " 1111 1143 1153 1037 1020 1042  947  948  953  920  879  859  825  781\n",
            "  719  654  628  655  601  571  536  509  486  425  465  387  375  347\n",
            "  292  315  286  247  220  202  182  169  171  181  143  115   91   99\n",
            "   77   70]\n",
            "60000\n"
          ],
          "name": "stdout"
        }
      ]
    },
    {
      "cell_type": "code",
      "metadata": {
        "id": "FX4acH06BuzA",
        "colab_type": "code",
        "outputId": "c60e3002-cff2-46cb-8294-8e4dec978536",
        "colab": {
          "base_uri": "https://localhost:8080/"
        }
      },
      "source": [
        "#定义呈正态分布的各类别数量\n",
        "NUM_CLASS = 10\n",
        "miu_c = -0.1\n",
        "sigma_c = 3\n",
        "num_class = np.zeros(shape=(NUM_CLASS),dtype=int)\n",
        "for _ in range(120000):\n",
        "  nor = random.normalvariate(miu_c,sigma_c)\n",
        "  if(nor>=0 and nor<=10):\n",
        "    index = math.floor(nor)\n",
        "    num_class[index] = num_class[index] + 1\n",
        "_n_ = 60000 - sum(num_class)\n",
        "for _ in range(_n_):\n",
        "  r_id =  random.randint(0,NUM_CLASS-1)\n",
        "  num_class[r_id] = num_class[r_id] + 1\n",
        "\n",
        "print(_n_)\n",
        "print(num_class)\n",
        "print(sum(num_class))\n"
      ],
      "execution_count": 0,
      "outputs": [
        {
          "output_type": "stream",
          "text": [
            "1868\n",
            "[15836 13861 11049  7918  5186  2975  1621   822   456   276]\n",
            "60000\n"
          ],
          "name": "stdout"
        }
      ]
    },
    {
      "cell_type": "code",
      "metadata": {
        "id": "VsE-yhnbNlRL",
        "colab_type": "code",
        "outputId": "8bda114d-cdd6-425f-e026-758d4d619284",
        "colab": {
          "base_uri": "https://localhost:8080/"
        }
      },
      "source": [
        "print(num_clients)"
      ],
      "execution_count": 0,
      "outputs": [
        {
          "output_type": "stream",
          "text": [
            "[1319 1339 1321 1273 1247 1276 1280 1364 1216 1217 1233 1192 1233 1189\n",
            " 1204 1224 1231 1152 1143 1111 1082 1087 1072 1079 1051  994  960  967\n",
            "  952  867  937  958  894  844  839  802  789  729  731  705  631  638\n",
            "  689  646  601  571  550  578  542  503  540  534  483  411  443  435\n",
            "  406  368  379  332  330  304  287  290  284  281  297  257  229  238\n",
            "  212  226  216  217  200  186  163  154  145  151  114  128  138  116\n",
            "  120  115   99   94   95   92  109   96   87   73   86   78   69   72\n",
            "   82   87]\n"
          ],
          "name": "stdout"
        }
      ]
    },
    {
      "cell_type": "code",
      "metadata": {
        "id": "SjWO678VhbGB",
        "colab_type": "code",
        "outputId": "ac910fde-48cd-41a1-f60e-8984e359010a",
        "colab": {
          "base_uri": "https://localhost:8080/"
        }
      },
      "source": [
        "#获取总的数据集：最开始使用了洗牌算法，后来发现随机的还是有点平衡，最后改用认为控制类别比例\n",
        "#因为需要使用删除操作所以不能直接使用=赋值\n",
        "bal4_p = []\n",
        "bal4_l = []\n",
        "#获得全局不平衡数据集，各个类别之间的数量基本呈正态分布  \n",
        "for i in range(10):\n",
        "  end = num_class[i]\n",
        "  for k in range(end):\n",
        "    bal4_p.append(class_[i][k])\n",
        "    bal4_l.append(i)\n",
        "print(len(bal4_p))\n"
      ],
      "execution_count": 0,
      "outputs": [
        {
          "output_type": "stream",
          "text": [
            "60000\n"
          ],
          "name": "stdout"
        }
      ]
    },
    {
      "cell_type": "code",
      "metadata": {
        "id": "X2I34xEbAQpS",
        "colab_type": "code",
        "outputId": "8c4a09df-2701-45eb-a1c1-e8ef36c4d917",
        "colab": {
          "base_uri": "https://localhost:8080/",
          "height": 35
        }
      },
      "source": [
        "#因为构造的数据集有误，所以需要看总的图片是否有误\n",
        "#第一次查看：有误.第二次查看：有误\n",
        "\n",
        "# for i in range(10,20):\n",
        "#   print(y_class[i])\n",
        "#   plt.imshow(x_class[i], cmap='gray', aspect='equal')\n",
        "#   plt.grid(False)\n",
        "#   _=plt.show()\n"
      ],
      "execution_count": 0,
      "outputs": [
        {
          "output_type": "stream",
          "text": [
            "[1166, 2692, 5548, 9145, 11536, 11574, 8958, 5598, 2731, 1052]\n"
          ],
          "name": "stdout"
        }
      ]
    },
    {
      "cell_type": "code",
      "metadata": {
        "id": "AoCoTfYphdkM",
        "colab_type": "code",
        "colab": {}
      },
      "source": [
        "#删除一个h5py文件\n",
        "f4.flush()\n",
        "f4.clear()"
      ],
      "execution_count": 0,
      "outputs": []
    },
    {
      "cell_type": "code",
      "metadata": {
        "id": "nLVp8IHMhgDs",
        "colab_type": "code",
        "colab": {}
      },
      "source": [
        "#创建hdf5文件\n",
        "f4 = h5py.File(\"/content/drive/My Drive/Colab Notebooks/BAL4-3.hdf5\",\"a\")\n",
        "#创建顶层group\n",
        "top_group = f4.create_group(\"examples\")"
      ],
      "execution_count": 0,
      "outputs": []
    },
    {
      "cell_type": "code",
      "metadata": {
        "id": "Gd-XISWIhjB3",
        "colab_type": "code",
        "outputId": "d3fe3581-94c7-4c82-91ae-77fad9b2d440",
        "colab": {
          "base_uri": "https://localhost:8080/"
        }
      },
      "source": [
        "#创建BAL4\n",
        "#将60000张图片随机分给100个客户端，为了达到病态的效果，以CHIP_SIZE张图片为一个碎片，将碎片随机分给100个客户端\n",
        "\n",
        "NUM_CLIENTS = 100 \n",
        "NUM_CLASS = 10\n",
        "#NUM_PER_CLASS = 600\n",
        "CHIP_SIZE = 100\n",
        "NUM_CHIP = NUM_CLASS * NUM_PER_CLASS // CHIP_SIZE\n",
        "\n",
        "pixels = [[]for i in range(NUM_CLIENTS)]\n",
        "label = [[]for i in range(NUM_CLIENTS)]\n",
        "#client_ids = []\n",
        "#外层循环控制客户端数随机从样本中挑选num_clients[i]个样本\n",
        "#这里有一个问题就是数目越多的样本被选到的概率越大，而不是所有样本被选到的概率相同\n",
        "#由于在全局类别样本呈正态分布因此在每个客户端里面样本也是正态分布\n",
        "for i in range(NUM_CLIENTS):\n",
        "  for _ in range(num_clients[i]):\n",
        "    random_pid = random.randint(0, len(bal4_p)-1)\n",
        "    pixels[i].append(bal4_p[random_pid]/255.0)\n",
        "    label[i].append(bal4_l[random_pid])\n",
        "    del bal4_p[random_pid]\n",
        "    del bal4_l[random_pid]\n",
        "\n",
        "    \n",
        "#将pixels和label加入对应client的group中\n",
        "num = 0\n",
        "for i in range(NUM_CLIENTS):\n",
        "  # client_ids.append(\"f00_\" + str(i))\n",
        "  temp_group = top_group.create_group(name=\"f00_\" + str(i))\n",
        "  label_ds = temp_group.create_dataset(name=\"label\", data=np.array(label[i], dtype='int32'))\n",
        "  pixels_ds = temp_group.create_dataset(name=\"pixels\", data=np.array(pixels[i], dtype='float32'))\n",
        "  print(len(label[i]))\n",
        "  print(num_per_class(label[i]))\n",
        "  num = num + len(label[i])\n",
        "#统计最终分给100个客户端的样本总数是多少  \n",
        "print(num)"
      ],
      "execution_count": 0,
      "outputs": [
        {
          "output_type": "stream",
          "text": [
            "1319\n",
            "[361 297 232 166 129  70  30  17  11   6]\n",
            "1339\n",
            "[348 342 214 213 115  53  31  10   6   7]\n",
            "1321\n",
            "[354 285 263 167  94  74  47  24  10   3]\n",
            "1273\n",
            "[331 307 249 163 101  62  27  18  10   5]\n",
            "1247\n",
            "[356 291 225 137 112  54  40  16  11   5]\n",
            "1276\n",
            "[369 285 241 162  99  49  33  23  10   5]\n",
            "1280\n",
            "[349 295 216 173 114  66  33  19   8   7]\n",
            "1364\n",
            "[351 309 256 190 126  65  31  17  12   7]\n",
            "1216\n",
            "[294 263 250 165 106  72  33  19   7   7]\n",
            "1217\n",
            "[302 278 257 168 101  54  29  12  11   5]\n",
            "1233\n",
            "[330 273 208 167 121  58  43  17  11   5]\n",
            "1192\n",
            "[295 271 216 191  90  60  32  16  13   8]\n",
            "1233\n",
            "[342 271 248 152  98  52  35  15  14   6]\n",
            "1189\n",
            "[342 259 219 144 101  73  29  12   5   5]\n",
            "1204\n",
            "[321 284 213 146 103  74  29  21   5   8]\n",
            "1224\n",
            "[308 282 256 147 114  53  32  16  12   4]\n",
            "1231\n",
            "[289 287 231 168 121  64  36  26   4   5]\n",
            "1152\n",
            "[296 281 230 143  99  44  32  14   6   7]\n",
            "1143\n",
            "[294 262 205 142  95  77  26  25  12   5]\n",
            "1111\n",
            "[285 249 203 151  96  61  36  14  11   5]\n",
            "1082\n",
            "[285 255 193 137  82  68  34  13   8   7]\n",
            "1087\n",
            "[273 250 204 167  94  43  27  10  12   7]\n",
            "1072\n",
            "[292 247 174 155 107  51  22  12   8   4]\n",
            "1079\n",
            "[299 232 200 146  95  53  29  15   7   3]\n",
            "1051\n",
            "[294 240 197 128  75  55  28  18  12   4]\n",
            "994\n",
            "[250 236 185 139  71  60  26  18   6   3]\n",
            "960\n",
            "[219 227 169 137  90  51  31  17  12   7]\n",
            "967\n",
            "[281 215 187 115  66  47  30  18   5   3]\n",
            "952\n",
            "[256 219 175 135  91  41  17  12   4   2]\n",
            "867\n",
            "[220 209 156 115  71  50  22  15   4   5]\n",
            "937\n",
            "[249 196 166 140  90  43  25  11  12   5]\n",
            "958\n",
            "[248 212 181 125  75  51  37  16   5   8]\n",
            "894\n",
            "[245 200 173 110  76  41  31  10   3   5]\n",
            "844\n",
            "[200 202 155 123  82  38  23   8   7   6]\n",
            "839\n",
            "[235 191 147 104  83  37  24  14   1   3]\n",
            "802\n",
            "[213 195 153  94  62  44  23  10   5   3]\n",
            "789\n",
            "[213 202 129 102  64  41  21  12   3   2]\n",
            "729\n",
            "[182 179 132  90  64  39  22  14   3   4]\n",
            "731\n",
            "[195 157 152  94  67  24  19  13   7   3]\n",
            "705\n",
            "[179 179 136  88  59  27  22   9   5   1]\n",
            "631\n",
            "[163 146 117  97  48  32  17   4   5   2]\n",
            "638\n",
            "[147 155 138  74  57  35  18   6   5   3]\n",
            "689\n",
            "[187 157 106 100  57  37  21  14   6   4]\n",
            "646\n",
            "[157 157 110  89  60  36  18   8   9   2]\n",
            "601\n",
            "[149 133 132  74  59  28  12   5   4   5]\n",
            "571\n",
            "[151 121 103  71  61  25  21   6   9   3]\n",
            "550\n",
            "[129 135 100  82  44  28  18   6   6   2]\n",
            "578\n",
            "[152 124 110  77  54  33  15   8   3   2]\n",
            "542\n",
            "[138 123 100  78  48  23  17   9   3   3]\n",
            "503\n",
            "[129 110  91  79  48  17  18   4   5   2]\n",
            "540\n",
            "[139 120  90  73  58  35   8   8   6   3]\n",
            "534\n",
            "[164 126  85  65  51  23  13   3   1   3]\n",
            "483\n",
            "[131 114  97  56  40  19  16   6   2   2]\n",
            "411\n",
            "[116 105  67  59  32  19   8   2   2   1]\n",
            "443\n",
            "[126 108  76  61  26  23   8   7   4   4]\n",
            "435\n",
            "[107 106  91  57  37  21   7   4   2   3]\n",
            "406\n",
            "[110  96  77  46  32  21  11   5   5   3]\n",
            "368\n",
            "[107  90  56  56  26  18   8   4   2   1]\n",
            "379\n",
            "[106 102  59  46  41  12   9   3   0   1]\n",
            "332\n",
            "[87 83 48 46 30 21 12  3  2  0]\n",
            "330\n",
            "[115  63  64  33  31  12   6   4   1   1]\n",
            "304\n",
            "[78 65 65 37 25 19  8  3  4  0]\n",
            "287\n",
            "[79 65 47 37 30 19  4  2  3  1]\n",
            "290\n",
            "[71 67 49 32 28 25  8  7  2  1]\n",
            "284\n",
            "[67 70 47 43 27 16  7  4  2  1]\n",
            "281\n",
            "[71 66 51 33 28 16 11  2  1  2]\n",
            "297\n",
            "[65 68 62 49 27  9  7  8  1  1]\n",
            "257\n",
            "[61 67 44 40 14 13  7  6  3  2]\n",
            "229\n",
            "[73 55 31 29 13 11  9  1  5  2]\n",
            "238\n",
            "[58 46 44 41 26 10  6  3  3  1]\n",
            "212\n",
            "[53 50 44 24 24 10  1  3  2  1]\n",
            "226\n",
            "[71 59 39 23 16 10  3  4  0  1]\n",
            "216\n",
            "[65 44 36 27 21 12  8  0  3  0]\n",
            "217\n",
            "[68 47 42 22 15 11  5  3  1  3]\n",
            "200\n",
            "[50 52 39 19 16 12  6  6  0  0]\n",
            "186\n",
            "[49 41 36 25 18  8  6  0  2  1]\n",
            "163\n",
            "[36 49 32 18 11 10  6  1  0  0]\n",
            "154\n",
            "[33 39 32 18 15  7  4  3  2  1]\n",
            "145\n",
            "[39 30 26 24 11  8  3  3  0  1]\n",
            "151\n",
            "[41 32 25 17 20  3  8  1  4  0]\n",
            "114\n",
            "[37 28 16 12  9  5  3  2  1  1]\n",
            "128\n",
            "[36 36 15 15 15  5  2  2  2  0]\n",
            "138\n",
            "[44 32 27 17  9  6  1  2  0  0]\n",
            "116\n",
            "[39 16 28 15  9  3  5  0  1  0]\n",
            "120\n",
            "[33 30 22 14 11  5  1  3  1  0]\n",
            "115\n",
            "[30 28 23 14  9  6  3  2  0  0]\n",
            "99\n",
            "[29 16 19 16  8  5  3  3  0  0]\n",
            "94\n",
            "[24 22 19 10  9  5  3  0  0  2]\n",
            "95\n",
            "[22 26 16 17  7  2  3  1  1  0]\n",
            "92\n",
            "[25 23 18 11  6  5  4  0  0  0]\n",
            "109\n",
            "[30 31 21  9  9  5  0  3  1  0]\n",
            "96\n",
            "[29 21 14 12  9  5  2  0  2  2]\n",
            "87\n",
            "[23 18 12 11  9  6  4  1  3  0]\n",
            "73\n",
            "[18 15 15  7  8  8  1  1  0  0]\n",
            "86\n",
            "[36 19 11  5  3  4  5  1  2  0]\n",
            "78\n",
            "[21 23 15  9  5  2  0  3  0  0]\n",
            "69\n",
            "[14 25 11 10  5  1  1  2  0  0]\n",
            "72\n",
            "[20 12 11 10  9  4  3  1  2  0]\n",
            "82\n",
            "[22 21 14 12  7  4  1  0  1  0]\n",
            "87\n",
            "[21 19 18 16  6  3  1  0  1  2]\n",
            "60000\n"
          ],
          "name": "stdout"
        }
      ]
    },
    {
      "cell_type": "code",
      "metadata": {
        "id": "UTiJPo5Y-_ea",
        "colab_type": "code",
        "outputId": "98d9640e-077d-4bcf-9a27-246c5f2c2486",
        "colab": {
          "base_uri": "https://localhost:8080/"
        }
      },
      "source": [
        "#查看数量是否有误\n",
        "num1 = 0\n",
        "num2 = 0\n",
        "for j in range(5):\n",
        "  #print(\"pixels\",len(pixels[j]))\n",
        "  num1 = num1 + len(pixels[j])\n",
        "  num2 = num2 + len(label[j])\n",
        "  #print(\"label\",label[j])\n",
        "print(num1)\n",
        "# # print(num2)\n",
        "\n",
        "#随机画图看是否有误:第一次有误，label和图片对不上\n",
        "#把图片画出来看一看\n",
        "# for i in range(10):\n",
        "#   print(f3[\"examples\"][client_ids[3]][\"label\"].value[i])\n",
        "#   plt.imshow(f3[\"examples\"][client_ids[3]][\"pixels\"].value[i],cmap='gray')\n",
        "#   plt.grid(False)\n",
        "#   plt.show()"
      ],
      "execution_count": 0,
      "outputs": [
        {
          "output_type": "stream",
          "text": [
            "3000\n"
          ],
          "name": "stdout"
        }
      ]
    },
    {
      "cell_type": "code",
      "metadata": {
        "id": "hN78Iq1mhoWJ",
        "colab_type": "code",
        "outputId": "af2ec5fb-9df8-4b13-a3b3-c618353356c3",
        "colab": {
          "base_uri": "https://localhost:8080/",
          "height": 35
        }
      },
      "source": [
        "#数据集构造完成以后，调用内存清理操作\n",
        "f4.close()\n",
        "del pixels[:]\n",
        "del label[:]\n",
        "del bal4_p[:]\n",
        "del bal4_l[:]\n",
        "#del bal4_imbalance_class[:]\n",
        "gc.collect()"
      ],
      "execution_count": 0,
      "outputs": [
        {
          "output_type": "execute_result",
          "data": {
            "text/plain": [
              "0"
            ]
          },
          "metadata": {
            "tags": []
          },
          "execution_count": 105
        }
      ]
    },
    {
      "cell_type": "markdown",
      "metadata": {
        "id": "0ZE1XKjGDZvW",
        "colab_type": "text"
      },
      "source": [
        "### 服务器端数据"
      ]
    },
    {
      "cell_type": "code",
      "metadata": {
        "id": "C2KvBjQ_DhlG",
        "colab_type": "code",
        "colab": {}
      },
      "source": [
        "#此数据用于服务器端：服务器端自行设置一个数据集"
      ],
      "execution_count": 0,
      "outputs": []
    },
    {
      "cell_type": "code",
      "metadata": {
        "id": "ZPQEvTyNFKOi",
        "colab_type": "code",
        "outputId": "9dcdb0a1-5d56-4b05-8ca7-2386277008f4",
        "colab": {
          "base_uri": "https://localhost:8080/",
          "height": 0
        }
      },
      "source": [
        "#数据准备,取不同于数据集的另外60000作为服务器的数据\n",
        "server_balance_class = [[]for i in range(10)]\n",
        "for i in range(10):\n",
        "  for j in range(6000,12000):\n",
        "    server_balance_class[i].append(class_[i][j]/255.0)  #将像素值处理到0-1之间\n",
        "len(server_balance_class[0])"
      ],
      "execution_count": 7,
      "outputs": [
        {
          "output_type": "execute_result",
          "data": {
            "text/plain": [
              "6000"
            ]
          },
          "metadata": {
            "tags": []
          },
          "execution_count": 7
        }
      ]
    },
    {
      "cell_type": "code",
      "metadata": {
        "id": "Nr39lCQKDtUi",
        "colab_type": "code",
        "colab": {}
      },
      "source": [
        "#删除一个h5py文件\n",
        "f_server.flush()\n",
        "f_server.clear()"
      ],
      "execution_count": 0,
      "outputs": []
    },
    {
      "cell_type": "code",
      "metadata": {
        "id": "gWTL2rnGEljP",
        "colab_type": "code",
        "colab": {}
      },
      "source": [
        "#创建文件\n",
        "f_server = h5py.File(\"/content/drive/My Drive/Colab Notebooks/SERVER.hdf5\",\"a\")\n",
        "top_group = f_server.create_group(\"examples\")"
      ],
      "execution_count": 0,
      "outputs": []
    },
    {
      "cell_type": "code",
      "metadata": {
        "id": "R5uunc0LEwex",
        "colab_type": "code",
        "outputId": "dc685998-0a1a-4f9c-f5f8-852a83069755",
        "colab": {
          "base_uri": "https://localhost:8080/"
        }
      },
      "source": [
        "MY_NUM_CLIENTS = 2  #写的时候最初用50，用500时间太长，试过500，磁盘会从30G飙升到60G且还运行不完，不知道后面500个客户端的时候怎么办\n",
        "NUM_PER_CLASS = 100  #每个客户端每类的图片数量\n",
        "NUM_CLASS = 10\n",
        "\n",
        "pixels = []\n",
        "label=[]\n",
        "client_ids = []\n",
        "for i in range(MY_NUM_CLIENTS):  #i客户端数量\n",
        "  for j in range(10):  #j是类别数\n",
        "    for k in range(NUM_PER_CLASS): #k控制每一类图片放多少张在客户端\n",
        "      pixels.append(server_balance_class[j][i*NUM_PER_CLASS+k]/255.0) #转成0-1之内的数字再加入pixels，class_[j]存放的是第j类数\n",
        "      label.append(j)  #加入label\n",
        "  \n",
        "  client_ids.append(\"f00_\" + str(i))\n",
        "  temp_group = top_group.create_group(name=\"f00_\" + str(i))  #创建以client_id为名字的group\n",
        "  label_ds = temp_group.create_dataset(name=\"label\", data=np.array(label, dtype='int32'))  #向group中写入label\n",
        "  pixels_ds = temp_group.create_dataset(name=\"pixels\", data=np.array(pixels, dtype='float32'))  #向group中写入pixels\n",
        "  \n",
        "  print(num_per_class(label))\n",
        "  #清空上一个pixels数组和label数组中存放的上一个客户端的数据信息,否则会有灾难！！！\n",
        "  pixels.clear()\n",
        "  label.clear()\n"
      ],
      "execution_count": 0,
      "outputs": [
        {
          "output_type": "stream",
          "text": [
            "[100 100 100 100 100 100 100 100 100 100]\n",
            "[100 100 100 100 100 100 100 100 100 100]\n"
          ],
          "name": "stdout"
        }
      ]
    },
    {
      "cell_type": "code",
      "metadata": {
        "id": "-S6CpWhrE9j6",
        "colab_type": "code",
        "colab": {}
      },
      "source": [
        "#查看数量是否有误\n",
        "# num1 = 0\n",
        "# num2 = 0\n",
        "# for j in range(NUM_CLIENTS):\n",
        "#   #print(\"pixels\",len(pixels[j]))\n",
        "#   num1 = num1 + len(pixels[j])\n",
        "#   num2 = num2 + len(label[j])\n",
        "#   #print(\"label\",label[j])\n",
        "# print(num1)\n",
        "# print(num2)\n",
        "# print(len(y_test_emnist_gidits))\n",
        "\n",
        "#随机画图看是否有误:无误\n",
        "#把图片画出来看一看\n",
        "for i in range(10):\n",
        "  print(f_server[\"examples\"][client_ids[3]][\"label\"].value[i])\n",
        "  plt.imshow(f_server[\"examples\"][client_ids[3]][\"pixels\"].value[i],cmap='gray')\n",
        "  plt.grid(False)\n",
        "  plt.show()"
      ],
      "execution_count": 0,
      "outputs": []
    },
    {
      "cell_type": "code",
      "metadata": {
        "id": "QX_nDrehFC19",
        "colab_type": "code",
        "outputId": "25328ed7-38d7-402d-e32a-029b99703fca",
        "colab": {
          "base_uri": "https://localhost:8080/",
          "height": 35
        }
      },
      "source": [
        "f_server.close()\n",
        "del server_balance_class[:]\n",
        "del pixels[:]\n",
        "del label[:]\n",
        "gc.collect()"
      ],
      "execution_count": 0,
      "outputs": [
        {
          "output_type": "execute_result",
          "data": {
            "text/plain": [
              "0"
            ]
          },
          "metadata": {
            "tags": []
          },
          "execution_count": 126
        }
      ]
    },
    {
      "cell_type": "code",
      "metadata": {
        "id": "5Tmkya3f3Ih5",
        "colab_type": "code",
        "colab": {}
      },
      "source": [
        "f_server.close()"
      ],
      "execution_count": 0,
      "outputs": []
    },
    {
      "cell_type": "markdown",
      "metadata": {
        "id": "EgLe3GZ8s_rw",
        "colab_type": "text"
      },
      "source": [
        "### 关闭文件操作"
      ]
    },
    {
      "cell_type": "code",
      "metadata": {
        "id": "Pwux3ldMtGml",
        "colab_type": "code",
        "colab": {}
      },
      "source": [
        "#f_t.close()\n",
        "# f1.close()\n",
        "# f2.close()\n",
        "f3.close()\n",
        "f4.close()"
      ],
      "execution_count": 0,
      "outputs": []
    },
    {
      "cell_type": "markdown",
      "metadata": {
        "id": "IFa-6jkwEmYA",
        "colab_type": "text"
      },
      "source": [
        "### 各个数据集实例化"
      ]
    },
    {
      "cell_type": "code",
      "metadata": {
        "id": "Ckb9MoXRpqkA",
        "colab_type": "code",
        "outputId": "e4d2c2e4-70cc-4525-c482-a04c833183f8",
        "colab": {
          "base_uri": "https://localhost:8080/",
          "height": 35
        }
      },
      "source": [
        "#实例化构造的数据集:test\n",
        "test = tff.simulation.hdf5_client_data.HDF5ClientData(\"/content/drive/My Drive/Colab Notebooks/test.hdf5\")\n",
        "num_clients_test = len(test.client_ids)\n",
        "print(num_clients_test)"
      ],
      "execution_count": 8,
      "outputs": [
        {
          "output_type": "stream",
          "text": [
            "50\n"
          ],
          "name": "stdout"
        }
      ]
    },
    {
      "cell_type": "code",
      "metadata": {
        "id": "J7O-UevqKMJ0",
        "colab_type": "code",
        "outputId": "32a1d42a-a8cb-4a7b-dccb-1453a0085f8c",
        "colab": {
          "base_uri": "https://localhost:8080/",
          "height": 35
        }
      },
      "source": [
        "#实例化服务器数据：server\n",
        "server = tff.simulation.hdf5_client_data.HDF5ClientData(\"/content/drive/My Drive/Colab Notebooks/SERVER.hdf5\")\n",
        "num_clients_server = len(server.client_ids)\n",
        "print(num_clients_server)"
      ],
      "execution_count": 9,
      "outputs": [
        {
          "output_type": "stream",
          "text": [
            "2\n"
          ],
          "name": "stdout"
        }
      ]
    },
    {
      "cell_type": "code",
      "metadata": {
        "id": "tLcRrX6pk41S",
        "colab_type": "code",
        "outputId": "31d685ae-dbbf-4901-e324-c5fb875c493a",
        "colab": {
          "base_uri": "https://localhost:8080/",
          "height": 35
        }
      },
      "source": [
        "#实例化构造的数据集：BAL1\n",
        "BAL1 = tff.simulation.hdf5_client_data.HDF5ClientData(\"/content/drive/My Drive/Colab Notebooks/BAL1.hdf5\")\n",
        "num_clients_BAL1 = len(BAL1.client_ids)\n",
        "print(num_clients_BAL1)\n",
        "#留出总客户端的4分之一做测试集\n",
        "#BAL1_train, BAL1_test = BAL1.train_test_client_split(client_data=BAL1, num_test_clients= num_clients_BAL1//4)"
      ],
      "execution_count": 10,
      "outputs": [
        {
          "output_type": "stream",
          "text": [
            "100\n"
          ],
          "name": "stdout"
        }
      ]
    },
    {
      "cell_type": "code",
      "metadata": {
        "id": "WTobUHpCFcHm",
        "colab_type": "code",
        "outputId": "c151f79c-cfbb-473b-d4bd-73225aec81b6",
        "colab": {
          "base_uri": "https://localhost:8080/",
          "height": 35
        }
      },
      "source": [
        "#实例化构造的数据集：BAL2\n",
        "BAL2 = tff.simulation.hdf5_client_data.HDF5ClientData(\"/content/drive/My Drive/Colab Notebooks/BAL2-1.hdf5\")\n",
        "num_clients_BAL2 = len(BAL2.client_ids)\n",
        "print(num_clients_BAL2)\n",
        "#留出总客户端的4分之一做测试集\n",
        "#BAL2_train, BAL2_test = BAL2.train_test_client_split(client_data=BAL2, num_test_clients= num_clients_BAL2//4)"
      ],
      "execution_count": 11,
      "outputs": [
        {
          "output_type": "stream",
          "text": [
            "100\n"
          ],
          "name": "stdout"
        }
      ]
    },
    {
      "cell_type": "code",
      "metadata": {
        "id": "eeyvo_YQ2fBo",
        "colab_type": "code",
        "outputId": "79c6e01f-1e3f-4d35-afe0-06d2670cc1ca",
        "colab": {
          "base_uri": "https://localhost:8080/",
          "height": 55
        }
      },
      "source": [
        "#实例化构造的数据集：BAL3.BAL3-1、BAL4-1、BAL4-2的客户端样本数分布是一样的，BAL4-2是一边倒类别分布\n",
        "#4-3和3-3都是使用的一边倒类别分布、一边倒客户端数量分布\n",
        "BAL3 = tff.simulation.hdf5_client_data.HDF5ClientData(\"/content/drive/My Drive/Colab Notebooks/BAL3-1.hdf5\")\n",
        "num_clients_BAL3 = len(BAL3.client_ids)\n",
        "#print(num_clients_BAL3)\n",
        "\n",
        "#使用了迭代器发现确实BAL3里面的客户端样本数和分配给它的不一样\n",
        "example_dataset = BAL3.create_tf_dataset_for_client(\n",
        "    BAL3.client_ids[2]\n",
        ")\n",
        "example_element = next(iter(example_dataset))\n",
        "\n",
        "print(BAL3.client_ids[0:20])\n",
        "\n",
        "# print(num_per_class(l))\n",
        "# print(example_element['label'].numpy() )\n",
        "# plt.imshow(example_element['pixels'].numpy(), cmap='gray', aspect='equal')\n",
        "# plt.grid(False)\n",
        "# #这里这个画应该是一种很随意的，因为不想再用所以命名就是_\n",
        "# #plt.imshow（）负责对图像进行处理并调整其格式但是不能显示，必须在其后跟着plt.show()才能成功显示出来\n",
        "# _=plt.show()"
      ],
      "execution_count": 12,
      "outputs": [
        {
          "output_type": "stream",
          "text": [
            "['f00_0', 'f00_1', 'f00_10', 'f00_11', 'f00_12', 'f00_13', 'f00_14', 'f00_15', 'f00_16', 'f00_17', 'f00_18', 'f00_19', 'f00_2', 'f00_20', 'f00_21', 'f00_22', 'f00_23', 'f00_24', 'f00_25', 'f00_26']\n"
          ],
          "name": "stdout"
        }
      ]
    },
    {
      "cell_type": "code",
      "metadata": {
        "id": "GGl0f9fVwy4p",
        "colab_type": "code",
        "outputId": "b308221a-0765-4db8-93bf-dc60c14245c0",
        "colab": {
          "base_uri": "https://localhost:8080/",
          "height": 73
        }
      },
      "source": [
        "#实例化构造的数据集：BAL4，BAL4-2是最终的一边倒类别正态分布数据集，BAL4-3是客户端数量、类别都一边倒\n",
        "BAL4 = tff.simulation.hdf5_client_data.HDF5ClientData(\"/content/drive/My Drive/Colab Notebooks/BAL4-2.hdf5\")\n",
        "num_clients_BAL4 = len(BAL4.client_ids)\n",
        "print(num_clients_BAL4)\n",
        "example_dataset = BAL4.create_tf_dataset_for_client(\n",
        "    BAL4.client_ids[4]\n",
        ")\n",
        "example_element = next(iter(example_dataset))\n",
        "\n",
        "print(BAL4.client_ids[0:20])\n",
        "\n",
        "#调查，第2个客户端只分配了300个样本，但是用迭代器迭代出来了600个样本,全部都可以实例化\n"
      ],
      "execution_count": 13,
      "outputs": [
        {
          "output_type": "stream",
          "text": [
            "100\n",
            "['f00_0', 'f00_1', 'f00_10', 'f00_11', 'f00_12', 'f00_13', 'f00_14', 'f00_15', 'f00_16', 'f00_17', 'f00_18', 'f00_19', 'f00_2', 'f00_20', 'f00_21', 'f00_22', 'f00_23', 'f00_24', 'f00_25', 'f00_26']\n"
          ],
          "name": "stdout"
        }
      ]
    },
    {
      "cell_type": "code",
      "metadata": {
        "id": "wKth4b_uidw3",
        "colab_type": "code",
        "outputId": "4b7d7104-b9ac-4d69-aeab-a50129c890cd",
        "colab": {
          "base_uri": "https://localhost:8080/",
          "height": 35
        }
      },
      "source": [
        "print(len(test.client_ids))"
      ],
      "execution_count": 0,
      "outputs": [
        {
          "output_type": "stream",
          "text": [
            "50\n"
          ],
          "name": "stdout"
        }
      ]
    },
    {
      "cell_type": "code",
      "metadata": {
        "id": "RPD6BU2unLwo",
        "colab_type": "code",
        "outputId": "480d0d30-a794-4ea7-f906-82072969255d",
        "colab": {
          "base_uri": "https://localhost:8080/",
          "height": 53
        }
      },
      "source": [
        "#BAL1.client_ids\n",
        "#这里面的每一个打印出来都是和example_dataset类型一样的\n",
        "x = tf.data.Dataset.from_tensor_slices(\n",
        "        collections.OrderedDict((name, ds.value) for name, ds in sorted(\n",
        "            f1[\"examples\"][BAL1.client_ids[0]].items())))\n",
        "print(x)\n",
        "example_dataset = emnist_train.create_tf_dataset_for_client(\n",
        "    emnist_train.client_ids[0]\n",
        ")\n",
        "print(example_dataset)"
      ],
      "execution_count": 0,
      "outputs": [
        {
          "output_type": "stream",
          "text": [
            "<TensorSliceDataset shapes: OrderedDict([(label, ()), (pixels, (28, 28))]), types: OrderedDict([(label, tf.int32), (pixels, tf.float32)])>\n",
            "<TensorSliceDataset shapes: OrderedDict([(label, ()), (pixels, (28, 28))]), types: OrderedDict([(label, tf.int32), (pixels, tf.float32)])>\n"
          ],
          "name": "stdout"
        }
      ]
    },
    {
      "cell_type": "code",
      "metadata": {
        "id": "DHXBNT_UxIWo",
        "colab_type": "code",
        "outputId": "a234c1c7-85da-4ce0-f7bf-4e8dab10d3af",
        "colab": {
          "base_uri": "https://localhost:8080/",
          "height": 35
        }
      },
      "source": [
        "#此处得到客户端的总数K，因为每一轮随机选择C×K的向上取整\n",
        "#根据FedAvg做的研究C取0.2可获得较好的性能，为了简化模型K这里取固定的数\n",
        "# K = len(emnist_train.client_ids)\n",
        "#BAL1数据集\n",
        "K = len(BAL4.client_ids)\n",
        "C = 0.02\n",
        "math.ceil(K*C)"
      ],
      "execution_count": 0,
      "outputs": [
        {
          "output_type": "execute_result",
          "data": {
            "text/plain": [
              "8"
            ]
          },
          "metadata": {
            "tags": []
          },
          "execution_count": 17
        }
      ]
    },
    {
      "cell_type": "code",
      "metadata": {
        "id": "RaO3Jj0e8Pwb",
        "colab_type": "code",
        "colab": {}
      },
      "source": [
        "#这个单元格在看数据集里面的图片是否正常\n",
        "#第一次：test的label和图片匹配不上\n",
        "example_dataset = BAL1.create_tf_dataset_for_client(\n",
        "    BAL1.client_ids[3]\n",
        ")\n",
        "\n",
        "example_element = next(iter(example_dataset))\n",
        "print(example_element['label'].numpy())  #加了.numpy（）是在取numpy()属性的值，就是用.取属性值的意思\n",
        "\n",
        "from matplotlib import pyplot as plt\n",
        "plt.imshow(example_element['pixels'].numpy(), cmap='gray', aspect='equal')\n",
        "plt.grid(False)\n",
        "_=plt.show()"
      ],
      "execution_count": 0,
      "outputs": []
    },
    {
      "cell_type": "markdown",
      "metadata": {
        "id": "ip--KI1UhiSU",
        "colab_type": "text"
      },
      "source": [
        "### 图像预处理"
      ]
    },
    {
      "cell_type": "code",
      "metadata": {
        "id": "W6ryJYHeE_vh",
        "colab_type": "code",
        "colab": {}
      },
      "source": [
        "#计算L中每个类别有多少个样本,L代表了数据集的numpy列表形式\n",
        "def num_per_class_in_list(L):\n",
        "  len_L = len(L)\n",
        "  num_class = np.zeros(shape=(10), dtype=\"int32\") \n",
        "  for i in range (len_L):\n",
        "    index = L[i][\"label\"]\n",
        "    num_class[index] = num_class[index] + 1\n",
        "  return num_class"
      ],
      "execution_count": 0,
      "outputs": []
    },
    {
      "cell_type": "code",
      "metadata": {
        "id": "UxQyH_MijbH-",
        "colab_type": "code",
        "colab": {}
      },
      "source": [
        "#将dataset中类别样本平衡到平均值\n",
        "def primary_balance(dataset):\n",
        "  l_ds = list(dataset.as_numpy_iterator())\n",
        "  l_ex = len(l_ds)\n",
        "  \n",
        "  #获得每个类别样本数\n",
        "  num_class = num_per_class_in_list(l_ds)\n",
        "  #获得样本类别\n",
        "  num_label = 0\n",
        "  for x in num_class:\n",
        "    if(x > 0):\n",
        "      num_label = num_label+1\n",
        "  #获得所有类样本平均数,这里应该将10改成样本类别个\n",
        "  avg = int(round(sum(num_class)/10))\n",
        "  # result = [round(avg/x) for x in num_class]\n",
        "\n",
        "  label_ = []\n",
        "  pixels_ = []\n",
        "  #将l_ds中的样本增强到avg那么多个\n",
        "  DAfunction = [\"tf.image.random_flip_left_right\",\"tf.image.random_flip_up_down\"]\n",
        "  for i in range (l_ex):\n",
        "    label_i = l_ds[i][\"label\"]\n",
        "    #样本数少于平均数则增强，现在就简单repeat\n",
        "    #样本数少于平均数并且和平均数差别很大的才repeat    \n",
        "    if(num_class[label_i] < avg and round(avg/num_class[label_i])>=2):\n",
        "    # if(num_class[label_i] < avg):\n",
        "      while(num_class[label_i] <= avg):\n",
        "        label_.append(label_i)\n",
        "        #使用数据增强\n",
        "        r = random.randint(0,1)\n",
        "        img = tf.reshape(l_ds[i][\"pixels\"],[-1,28,28,1])\n",
        "        img = eval(DAfunction[r])(img)\n",
        "        img = tf.reshape(img,[28,28])          \n",
        "        pixels_.append(img)\n",
        "        num_class[label_i] = num_class[label_i] + 1\n",
        "    else:\n",
        "      label_.append(label_i)\n",
        "      pixels_.append(l_ds[i][\"pixels\"])\n",
        "  #将repeat之后的l_ds转换成dataset类型并返回\n",
        "  return tf.data.Dataset.from_tensor_slices(collections.OrderedDict(\n",
        "      label=np.array(label_,dtype=\"int32\"),\n",
        "      pixels=np.array(pixels_,dtype=\"float32\")))\n",
        "  #return reslut\n"
      ],
      "execution_count": 0,
      "outputs": []
    },
    {
      "cell_type": "code",
      "metadata": {
        "id": "Fc578aa2UuZa",
        "colab_type": "code",
        "colab": {}
      },
      "source": [
        "#NUM_CLIENTS在实验的时候应该是K×C,375*0.2=75\n",
        "#NUM_CLIENTS = math.ceil(K*C)\n",
        "NUM_EPOCHS = 5  #\n",
        "BATCH_SIZE = 20\n",
        "SHUFFLE_BUFFER = 100\n",
        "PREFETCH_BUFFER = 10\n",
        "\n",
        "#预处理，将图片中的‘pixels'、‘label'分别表示成x和y\n",
        "def preprocess(dataset,avg):\n",
        "  #内部函数将像素和标签转换成x和y，并将像素展平\n",
        "  def batch_format_fn(element):\n",
        "    return collections.OrderedDict(\n",
        "        #因为是灰度图所以通道数为1，如果是rgb图片则为3\n",
        "        #因为CNN卷积层接收一个4d向量\n",
        "        x = tf.reshape(element['pixels'], [-1,28,28,1]),\n",
        "        y = tf.reshape(element['label'], [-1,1])\n",
        "    )\n",
        "\n",
        "  return dataset.repeat(NUM_EPOCHS).shuffle(SHUFFLE_BUFFER).batch(BATCH_SIZE).map(batch_format_fn).prefetch(PREFETCH_BUFFER)"
      ],
      "execution_count": 0,
      "outputs": []
    },
    {
      "cell_type": "code",
      "metadata": {
        "id": "8BpYTR9221Ar",
        "colab_type": "code",
        "colab": {}
      },
      "source": [
        "#为指定用户创建联邦数据,接收训练集和用户id\n",
        "def make_federated_data(client_data, client_ids):\n",
        "  return [\n",
        "      preprocess(client_data.create_tf_dataset_for_client(x),0)\n",
        "      for x in client_ids\n",
        "    ]\n"
      ],
      "execution_count": 0,
      "outputs": []
    },
    {
      "cell_type": "code",
      "metadata": {
        "id": "mRqmbbzamP1e",
        "colab_type": "code",
        "colab": {}
      },
      "source": [
        "#NUM_CLIENTS在实验的时候应该是K×C,375*0.2=75\n",
        "#NUM_CLIENTS = math.ceil(K*C)\n",
        "NUM_EPOCHS = 5  #\n",
        "BATCH_SIZE = 20\n",
        "SHUFFLE_BUFFER = 100\n",
        "PREFETCH_BUFFER = 10\n",
        "\n",
        "#预处理，将图片中的‘pixels'、‘label'分别表示成x和y\n",
        "def new_preprocess(dataset,avg):\n",
        "  #内部函数将像素和标签转换成x和y，并将像素展平\n",
        "  def batch_format_fn(element):\n",
        "    return collections.OrderedDict(\n",
        "        #因为是灰度图所以通道数为1，如果是rgb图片则为3\n",
        "        #因为CNN卷积层接收一个4d向量\n",
        "        x = tf.reshape(element['pixels'], [-1,28,28,1]),\n",
        "        y = tf.reshape(element['label'], [-1,1])\n",
        "    )\n",
        "  #简单repeat\n",
        "  #dataset = primary_balance(dataset)\n",
        "  #计算当前客户端应该自适应repeat多少次\n",
        "  num_self_epochs = round(avg/len(list(dataset.as_numpy_iterator())))\n",
        "  #print(\"num_self_epochs\",num_self_epochs)\n",
        "  if(num_self_epochs > 1):\n",
        "    dataset = dataset.repeat(num_self_epochs)\n",
        "\n",
        "  return dataset.repeat(NUM_EPOCHS).shuffle(SHUFFLE_BUFFER).batch(BATCH_SIZE).map(batch_format_fn).prefetch(PREFETCH_BUFFER)\n",
        "#为指定用户创建联邦数据,接收训练集和用户id\n",
        "def new_make_federated_data(client_data, client_ids):\n",
        "  #计算该批次客户端的平均样本数\n",
        "  def cal_avg_for_batch(datasets):\n",
        "    num = 0\n",
        "    for ds in datasets:\n",
        "      num = num + len(list(ds.as_numpy_iterator()))\n",
        "    return num/len(datasets)\n",
        "\n",
        "  #将每个客户端的样本类别数平衡到该客户端的平均值\n",
        "  datasets = []\n",
        "  for x in client_ids:\n",
        "    datasets.append(primary_balance(client_data.create_tf_dataset_for_client(x)))\n",
        "  \n",
        "  #获得该批次客户端平均样本数\n",
        "  avg_clients = cal_avg_for_batch(datasets)\n",
        "  #print(\"avg_clients\",avg_clients)\n",
        "\n",
        "  return [\n",
        "      new_preprocess(ds,avg_clients)\n",
        "      for ds in datasets\n",
        "    ]\n"
      ],
      "execution_count": 0,
      "outputs": []
    },
    {
      "cell_type": "code",
      "metadata": {
        "id": "NDHJSC8OYaZj",
        "colab_type": "code",
        "outputId": "88167703-b92e-4894-aa33-f78bfb423fc6",
        "colab": {
          "base_uri": "https://localhost:8080/",
          "height": 234
        }
      },
      "source": [
        "#这里改成随机获得NUM_CLIENTS个用户，模拟联邦学习每轮的随机选择用户\n",
        "# sample_clients = random.sample(emnist_train.client_ids, NUM_CLIENTS)\n",
        "# federated_train_data = make_federated_data(emnist_train, sample_clients)\n",
        "from keras.preprocessing.image import ImageDataGenerator\n",
        "from PIL import Image\n",
        "example_dataset = BAL4.create_tf_dataset_for_client(\n",
        "    BAL4.client_ids[0]\n",
        ")\n",
        "#OrderedDict([(label, ()), (pixels, (28, 28))]), types: OrderedDict([(label, tf.int32), (pixels, tf.float32)])>\n",
        "#然后再切片就变成了数据集\n",
        "print(\"examle_dataset\",example_dataset)\n",
        "example_element = next(iter(example_dataset))\n",
        "\n",
        "#dataset.repeat(NUM_EPOCH)中的dataset就是这些，所以得想办法把dataset玩清楚，怎么重复\n",
        "#我想了一种变换该数据集的数并使得方差最小\n",
        "#样本各观测值与平均数之差的平方和最小，所以将少的样本增强到平均数个，多的样本不处理\n",
        "#计算每个类别的平均数，这里取最接近该平均数的整数，然后进行样本增强\n",
        "\n",
        "l_ds = list(example_dataset.as_numpy_iterator())\n",
        "l_ex = len(l_ds)\n",
        "print(l_ex)\n",
        "#l_ds里面存的是OrderedDict(\"label\",\"pixels\")\n",
        "# print(\"l_ds:\",l_ds[0:2])\n",
        "\n",
        "print(l_ex)\n",
        "\n",
        "num_class = num_per_class_in_list(l_ds)\n",
        "print(num_class)\n",
        "#获得样本类别\n",
        "num_label = 0\n",
        "for x in num_class:\n",
        "  if(x > 0):\n",
        "    num_label = num_label+1\n",
        "#获得所有类样本平均数,这里应该将10该成样本类别个\n",
        "avg = int(round(sum(num_class)/num_label))\n",
        "print(avg)\n",
        "result = [round(avg/x) for x in num_class]\n",
        "\n",
        "print(result)\n",
        "result = np.trunc(result).astype(int).tolist()\n",
        "print(result)\n",
        "\n",
        "# example_dataset.repeat(result)\n",
        "\n",
        "#试验简单repeat到平均数\n",
        "\n",
        "\n",
        "label_ = []\n",
        "pixels_ = []\n",
        "DAfunction = [\"tf.image.random_flip_left_right\",\"tf.image.random_flip_up_down\"]\n",
        "#将l_ds中的样本增强到avg那么多个\n",
        "for i in range (l_ex):\n",
        "  label_i = l_ds[i][\"label\"]\n",
        "  #样本数少于平均数则增强，现在就简单repeat:简单的repeat对于精度提升一点作用也没有\n",
        "  if(num_class[label_i] < avg and round(avg/num_class[label_i])>=2):\n",
        "    # if(num_class[label_i] < avg):\n",
        "      while(num_class[label_i] <= avg):\n",
        "        label_.append(label_i)\n",
        "        #使用数据增强\n",
        "        r = random.randint(0,1)\n",
        "        img = tf.reshape(l_ds[i][\"pixels\"],[-1,28,28,1])\n",
        "        img = eval(DAfunction[r])(img)\n",
        "        img = tf.reshape(img,[28,28])          \n",
        "        pixels_.append(img)\n",
        "        num_class[label_i] = num_class[label_i] + 1\n",
        "  else:\n",
        "    label_.append(label_i)\n",
        "    pixels_.append(l_ds[i][\"pixels\"])\n",
        "#将repeat之后的l_ds转换成dataset类型的\n",
        "flag_l = l_ds[0:5]\n",
        "new_dataset = tf.data.Dataset.from_tensor_slices(collections.OrderedDict( label=np.array(label_,dtype=\"int32\"),\n",
        "                                      pixels=np.array(pixels_,dtype=\"float32\")))\n",
        "num2_class = num_per_class_in_list(list(new_dataset.as_numpy_iterator()))\n",
        "print(num2_class)\n",
        "print(sum(num2_class))\n",
        "\n",
        "\n",
        "sample_clients = BAL4.client_ids[0:5]\n",
        "federated_train_data = new_make_federated_data(BAL4, sample_clients)\n",
        "\n",
        "\n"
      ],
      "execution_count": 0,
      "outputs": [
        {
          "output_type": "stream",
          "text": [
            "Using TensorFlow backend.\n",
            "/usr/local/lib/python3.6/dist-packages/ipykernel_launcher.py:34: RuntimeWarning: divide by zero encountered in true_divide\n"
          ],
          "name": "stderr"
        },
        {
          "output_type": "stream",
          "text": [
            "examle_dataset <TensorSliceDataset shapes: OrderedDict([(label, ()), (pixels, (28, 28))]), types: OrderedDict([(label, tf.int32), (pixels, tf.float32)])>\n",
            "64\n",
            "64\n",
            "[19 15 15  4  6  2  2  0  1  0]\n",
            "8\n",
            "[0.0, 1.0, 1.0, 2.0, 1.0, 4.0, 4.0, inf, 8.0, inf]\n",
            "[0, 1, 1, 2, 1, 4, 4, -9223372036854775808, 8, -9223372036854775808]\n",
            "[19 15 15  8  6  8  8  0  8  0]\n",
            "87\n"
          ],
          "name": "stdout"
        }
      ]
    },
    {
      "cell_type": "markdown",
      "metadata": {
        "id": "wLebNP2QLcVX",
        "colab_type": "text"
      },
      "source": [
        "###服务器预留数据"
      ]
    },
    {
      "cell_type": "code",
      "metadata": {
        "id": "MmCust0ZRa04",
        "colab_type": "code",
        "colab": {}
      },
      "source": [
        "#计算L中每个类别有多少个样本,L代表了数据集的numpy列表形式\n",
        "def num_per_class_in_list(L):\n",
        "  len_L = len(L)\n",
        "  num_class = np.zeros(shape=(10), dtype=\"int32\") \n",
        "  for i in range (len_L):\n",
        "    index = L[i][\"label\"]\n",
        "    num_class[index] = num_class[index] + 1\n",
        "  return num_class"
      ],
      "execution_count": 0,
      "outputs": []
    },
    {
      "cell_type": "code",
      "metadata": {
        "id": "Hbd9_hiLLgif",
        "colab_type": "code",
        "colab": {}
      },
      "source": [
        "#NUM_CLIENTS在实验的时候应该是K×C,375*0.2=75\n",
        "#NUM_CLIENTS = math.ceil(K*C)\n",
        "NUM_EPOCHS = 5  #\n",
        "BATCH_SIZE = 20\n",
        "SHUFFLE_BUFFER = 100\n",
        "PREFETCH_BUFFER = 10\n",
        "\n",
        "#预处理，将图片中的‘pixels'、‘label'分别表示成x和y\n",
        "def serverKeep_preprocess(dataset):\n",
        "  #内部函数将像素和标签转换成x和y，并将像素展平\n",
        "  def batch_format_fn(element):\n",
        "    return collections.OrderedDict(\n",
        "        #因为是灰度图所以通道数为1，如果是rgb图片则为3\n",
        "        #因为CNN卷积层接收一个4d向量\n",
        "        x = tf.reshape(element['pixels'], [-1,28,28,1]),\n",
        "        y = tf.reshape(element['label'], [-1,1])\n",
        "    )\n",
        "\n",
        "  return dataset.repeat(NUM_EPOCHS).shuffle(SHUFFLE_BUFFER).batch(BATCH_SIZE).map(batch_format_fn).prefetch(PREFETCH_BUFFER)"
      ],
      "execution_count": 0,
      "outputs": []
    },
    {
      "cell_type": "code",
      "metadata": {
        "id": "q-h4p6OjN2Jn",
        "colab_type": "code",
        "colab": {}
      },
      "source": [
        "#计算客户端样本的每个类平均数 \n",
        "def get_average_num_for_class(dataset):\n",
        "  l_ds = list(dataset.as_numpy_iterator())\n",
        "  #获得每个类别样本数\n",
        "  num_class = num_per_class_in_list(l_ds)\n",
        "  #获得样本类别\n",
        "  num_label = 0\n",
        "  for x in num_class:\n",
        "    if(x > 0):\n",
        "      num_label = num_label+1\n",
        "  #获得所有类样本平均数,这里应该将10改成样本类别个\n",
        "  avg = int(round(sum(num_class)/num_label))\n",
        "\n",
        "  return avg"
      ],
      "execution_count": 0,
      "outputs": []
    },
    {
      "cell_type": "code",
      "metadata": {
        "id": "cldP_oDp_Ekw",
        "colab_type": "code",
        "colab": {}
      },
      "source": [
        "#本地平衡判断算法:avg为平均值，ds为数据集\n",
        "def local_balance_judge(avg, endure_rate, ds):\n",
        "  L = list(ds.as_numpy_iterator())\n",
        "  num_examples_per_class = num_per_class_in_list(L)\n",
        "\n",
        "  #计算总体方差\n",
        "  variance = np.var(num_examples_per_class)\n",
        "\n",
        "  #计算容忍值：即平均每个类最多与均值差的平方\n",
        "  endure_value = (avg * endure_rate) * (avg * endure_rate)\n",
        "\n",
        "  #如果返回值为true则说明是平衡的，为false则不是平衡的\n",
        "  return (variance - endure_value) <= 0"
      ],
      "execution_count": 0,
      "outputs": []
    },
    {
      "cell_type": "code",
      "metadata": {
        "id": "3veAkM94Lu7O",
        "colab_type": "code",
        "colab": {}
      },
      "source": [
        "#为指定用户创建联邦数据,接收训练集和用户id，并行\n",
        "def parallel_serverKeep_make_federated_data(client_data, client_ids):\n",
        "  #并行:服务器选择用户数据的平均值制作一个训练集参与更新\n",
        "  #制作用户个数据集\n",
        "  num_server_make = len(client_ids)\n",
        "  server_make = []\n",
        "\n",
        "    \n",
        "  for x in client_ids:\n",
        "    #首先将客户端的数据集加入数组\n",
        "    temp = client_data.create_tf_dataset_for_client(x)\n",
        "    server_make.append(temp)\n",
        "    #计算该客户端的类别平均值\n",
        "    avg = get_average_num_for_class(temp)\n",
        "    keep_value = round(avg*0.35)\n",
        "\n",
        "    '''\n",
        "    #如果is_need_server_cal =TRUE则运行下面的部分，否则就不运行,实验中就没有不平衡的部分所以默认全部平衡一次\n",
        "    # endure_rate = 0.1\n",
        "    # is_need_server_cal = local_balance_judge(avg, endure_rate, temp)\n",
        "    #服务器端数据集加入运算\n",
        "    r = random.randint(0,5000)\n",
        "    label_ = []\n",
        "    pixels_ = []\n",
        "\n",
        "    for i in range(10):\n",
        "      for k in range(keep_value):\n",
        "        label_.append(i)\n",
        "        pixels_.append(server_balance_class[i][r+keep_value])\n",
        "    server_make.append(\n",
        "        tf.data.Dataset.from_tensor_slices(collections.OrderedDict(\n",
        "      label=np.array(label_,dtype=\"int32\"),\n",
        "      pixels=np.array(pixels_,dtype=\"float32\")))\n",
        "    )\n",
        "  '''\n",
        "  #另一种方法：服务器每次都拿同一个数据集出去计算，假定每个类别300个样本\n",
        "  #如果每轮服务器参与n次\n",
        "  label_ = []\n",
        "  pixels_ = []\n",
        "  n=1\n",
        "  for _ in range(1):\n",
        "    for i in range(10):\n",
        "      for k in range(100):\n",
        "        label_.append(i)\n",
        "        pixels_.append(server_balance_class[i][k])\n",
        "  server_make.append(\n",
        "        tf.data.Dataset.from_tensor_slices(collections.OrderedDict(\n",
        "      label=np.array(label_,dtype=\"int32\"),\n",
        "      pixels=np.array(pixels_,dtype=\"float32\")))\n",
        "    )\n",
        "\n",
        "  #print(len(server_make))\n",
        "  return [\n",
        "      serverKeep_preprocess(ds)\n",
        "      for ds in server_make\n",
        "    ]\n"
      ],
      "execution_count": 0,
      "outputs": []
    },
    {
      "cell_type": "code",
      "metadata": {
        "id": "3t48Bca_T8ll",
        "colab_type": "code",
        "colab": {}
      },
      "source": [
        "#串行服务器保留数据\n",
        "def serial_serverKeep_make_federated_data(client_data, client_ids):\n",
        "  #串:服务器选择用户数据的平均值制作一个训练集参与更新\n",
        "  #制作用户个数据集\n",
        "  num_server_make = len(client_ids)\n",
        "  server_make = []\n",
        "  #server_make.append(SERVER.create_tf_dataset_for_client(SERVER.client_ids[0]))\n",
        "  #另一种方法：服务器每次都拿同一个数据集出去计算，假定每个类别100个样本\n",
        "  #如果每轮服务器参与n次\n",
        "  \n",
        "  label_ = []\n",
        "  pixels_ = []\n",
        "  n=1\n",
        "  for _ in range(1):\n",
        "    for i in range(10):\n",
        "      for k in range(100):\n",
        "        label_.append(i)\n",
        "        pixels_.append(server_balance_class[i][k])\n",
        "  server_make.append(\n",
        "        tf.data.Dataset.from_tensor_slices(collections.OrderedDict(\n",
        "      label=np.array(label_,dtype=\"int32\"),\n",
        "      pixels=np.array(pixels_,dtype=\"float32\")))\n",
        "    )\n",
        "  \n",
        "  return [\n",
        "      serverKeep_preprocess(ds)\n",
        "      for ds in server_make\n",
        "    ]"
      ],
      "execution_count": 0,
      "outputs": []
    },
    {
      "cell_type": "code",
      "metadata": {
        "id": "4Ty1-U31YcIy",
        "colab_type": "code",
        "outputId": "9edf6130-2a17-4866-aaab-696469694803",
        "colab": {
          "base_uri": "https://localhost:8080/",
          "height": 198
        }
      },
      "source": [
        "#小测试\n",
        "server_make = []\n",
        "temp = BAL4.create_tf_dataset_for_client(BAL4.client_ids[0])\n",
        "#server_make.append(temp)\n",
        "#计算该客户端的类别平均值\n",
        "avg = get_average_num_for_class(temp)\n",
        "print(avg)\n",
        "\n",
        "# from matplotlib import pyplot as plt\n",
        "# plt.imshow(server_balance_class[9][0], cmap='gray', aspect='equal')\n",
        "# plt.grid(False)\n",
        "# _=plt.show()\n",
        "#print(\"server_balance_class\",server_balance_class[9][0])\n",
        "\n",
        "for x in range(1):\n",
        "    #首先将客户端的数据集加入数组\n",
        "    temp = BAL4.create_tf_dataset_for_client(BAL4.client_ids[x])\n",
        "    server_make.append(temp)\n",
        "    #计算该客户端的类别平均值\n",
        "    avg = get_average_num_for_class(temp)\n",
        "    print(\"avg\",avg)\n",
        "\n",
        "    #服务器端数据集加入运算\n",
        "    r_label = random.randint(0,9)\n",
        "    r = random.randint(0,5000)\n",
        "    label_ = []\n",
        "    pixels_ = []\n",
        "    for i in range(10):\n",
        "      for k in range(avg):\n",
        "        label_.append(i)\n",
        "        pixels_.append(server_balance_class[i][r+k])\n",
        "    print(label_)\n",
        "    print(\"len(label_)\",len(label_))\n",
        "    server_make.append(\n",
        "        tf.data.Dataset.from_tensor_slices(collections.OrderedDict(\n",
        "      label=np.array(label_,dtype=\"int32\"),\n",
        "      pixels=np.array(pixels_,dtype=\"float32\")))\n",
        "    )\n",
        "print(len(server_make))\n",
        "list(server_make[0].as_numpy_iterator())[1][\"label\"]\n"
      ],
      "execution_count": 0,
      "outputs": [
        {
          "output_type": "stream",
          "text": [
            "6\n",
            "avg 6\n",
            "[0, 0, 0, 0, 0, 0, 1, 1, 1, 1, 1, 1, 2, 2, 2, 2, 2, 2, 3, 3, 3, 3, 3, 3, 4, 4, 4, 4, 4, 4, 5, 5, 5, 5, 5, 5, 6, 6, 6, 6, 6, 6, 7, 7, 7, 7, 7, 7, 8, 8, 8, 8, 8, 8, 9, 9, 9, 9, 9, 9]\n",
            "len(label_) 60\n",
            "avg 8\n",
            "[0, 0, 0, 0, 0, 0, 0, 0, 1, 1, 1, 1, 1, 1, 1, 1, 2, 2, 2, 2, 2, 2, 2, 2, 3, 3, 3, 3, 3, 3, 3, 3, 4, 4, 4, 4, 4, 4, 4, 4, 5, 5, 5, 5, 5, 5, 5, 5, 6, 6, 6, 6, 6, 6, 6, 6, 7, 7, 7, 7, 7, 7, 7, 7, 8, 8, 8, 8, 8, 8, 8, 8, 9, 9, 9, 9, 9, 9, 9, 9]\n",
            "len(label_) 80\n",
            "4\n"
          ],
          "name": "stdout"
        },
        {
          "output_type": "execute_result",
          "data": {
            "text/plain": [
              "3"
            ]
          },
          "metadata": {
            "tags": []
          },
          "execution_count": 111
        }
      ]
    },
    {
      "cell_type": "markdown",
      "metadata": {
        "id": "eZEcia5FltoP",
        "colab_type": "text"
      },
      "source": [
        "### 原使用class的模型部分"
      ]
    },
    {
      "cell_type": "code",
      "metadata": {
        "id": "l4MRt7FEh2gq",
        "colab_type": "code",
        "colab": {}
      },
      "source": [
        "'''\n",
        "#！自己添加代码中，正在想办法把训练模型改成CNN\n",
        "class CNN(tf.keras.Model):\n",
        "    def __init__(self):\n",
        "        super().__init__()\n",
        "        self.conv1 = tf.keras.layers.Conv2D(\n",
        "            filters=32,             # 卷积层神经元（卷积核）数目\n",
        "            kernel_size=[5, 5],     # 感受野大小\n",
        "            padding='same',         # padding策略（vaild 或 same）\n",
        "            activation=tf.nn.relu   # 激活函数\n",
        "        )\n",
        "        self.pool1 = tf.keras.layers.MaxPool2D(pool_size=[2, 2], strides=2)\n",
        "        self.conv2 = tf.keras.layers.Conv2D(\n",
        "            filters=64,\n",
        "            kernel_size=[5, 5],\n",
        "            padding='same',\n",
        "            activation=tf.nn.relu\n",
        "        )\n",
        "        #print(\"kernel:\",kernel_size)\n",
        "        self.pool2 = tf.keras.layers.MaxPool2D(pool_size=[2, 2], strides=2)\n",
        "        self.flatten = tf.keras.layers.Reshape(target_shape=(7 * 7 * 64,))\n",
        "        self.dense1 = tf.keras.layers.Dense(units=1024, activation=tf.nn.relu)\n",
        "        self.dense2 = tf.keras.layers.Dense(units=10)\n",
        " \n",
        "    def call(self, inputs):\n",
        "        x = self.conv1(inputs)                  # [batch_size, 28, 28, 32]\n",
        "        x = self.pool1(x)                       # [batch_size, 14, 14, 32]\n",
        "        x = self.conv2(x)                       # [batch_size, 14, 14, 64]\n",
        "        x = self.pool2(x)                       # [batch_size, 7, 7, 64]\n",
        "        x = self.flatten(x)                     # [batch_size, 7 * 7 * 64]\n",
        "        x = self.dense1(x)                      # [batch_size, 1024]\n",
        "        x = self.dense2(x)\n",
        "        #tf.nn.softmax()将原始输出归一化，且能凸显原始向量中最大的值                      # [batch_size, 10]\n",
        "        output = tf.nn.softmax(x)\n",
        "        return output\n",
        "        '''\n"
      ],
      "execution_count": 0,
      "outputs": []
    },
    {
      "cell_type": "markdown",
      "metadata": {
        "id": "pw419GpLlmz9",
        "colab_type": "text"
      },
      "source": [
        "### 模型定义部分\n"
      ]
    },
    {
      "cell_type": "code",
      "metadata": {
        "id": "HNo6O_5qSNSB",
        "colab_type": "code",
        "colab": {}
      },
      "source": [
        "#创建一个变量集合来表示所有变量,包括model(weights+bias)以及metrics(num_examples,loss_sum,accuracy_sum)\n",
        "MnistVariables = collections.namedtuple(\n",
        "    'MnistVariables','cnn_conv2d_kernel cnn_conv2d_bias cnn_conv2d_1_kernel cnn_conv2d_1_bias cnn_dense_kernel cnn_dense_bias cnn_dense_1_kernel cnn_dense_1_bias num_examples loss_sum accuracy_sum'\n",
        ")"
      ],
      "execution_count": 0,
      "outputs": []
    },
    {
      "cell_type": "code",
      "metadata": {
        "id": "hSEDLYxJTZ8y",
        "colab_type": "code",
        "colab": {}
      },
      "source": [
        "#创建变量并初始化\n",
        "def create_mnist_variables():\n",
        "  #核初始化函数，使用正态分布，先使用tf.XXX(初始参数)生成一个模型关键字C，再使用C(arg1)传参数进去\n",
        "  kernel_initalizer=tf.keras.initializers.TruncatedNormal(mean=0.0, stddev=0.05)\n",
        "  bias_initaializer=tf.keras.initializers.Constant(value=0.01)\n",
        "  return MnistVariables(\n",
        "      #第一层卷积在5×5的patch中算出32个特征，权重张量形状为[5,5,1,32]\n",
        "      #前两个维度是patch的大小，接着是输入的通道数，最后是输出的通道数目\n",
        "      #h_conv1.shape=[-1,28,28,32]，第一个pooling层将其变成[-1,14,14,32]     \n",
        "      cnn_conv2d_kernel=tf.Variable(\n",
        "          #权重初始化至关重要，不能全部初始化为0！！！\n",
        "          initial_value=kernel_initalizer(shape=(5,5,1,32), dtype=tf.float32),\n",
        "          name='cnn_conv2d_kernel',\n",
        "          trainable=True),\n",
        "      #32个输出通道，每个输出通道都有一个对应的偏置\n",
        "      cnn_conv2d_bias=tf.Variable(\n",
        "          #lambda: tf.zeros(dtype=tf.float32, shape=(32,)),\n",
        "          initial_value=bias_initaializer(shape=(32,), dtype=tf.float32),\n",
        "          name='cnn_conv2d_bias',\n",
        "          trainable=True),\n",
        "      #第二层卷积,64个过滤器，共享权重矩阵为32*5*5,h_conv2.shape=[-1,14,14,64]\n",
        "      #第二个pooling层将其变成[-1,7,7,64]\n",
        "      cnn_conv2d_1_kernel=tf.Variable(\n",
        "          initial_value=kernel_initalizer(shape=(5,5,32,64), dtype=tf.float32),\n",
        "          name='cnn_conv2d_1_kernel',\n",
        "          trainable=True),\n",
        "      #64个输出通道对应64个偏置\n",
        "      cnn_conv2d_1_bias=tf.Variable(\n",
        "          #lambda: tf.zeros(dtype=tf.float32, shape=(64,)),\n",
        "          initial_value=bias_initaializer(shape=(64,), dtype=tf.float32),\n",
        "          name='cnn_conv2d_1_bias',\n",
        "          trainable=True),\n",
        "      #全连接层，现在图片尺寸减小到7×7，加入一个有1024个神经元的全连接层用于处理整个图片\n",
        "      #将池化层输出的张量reshape成一些7*7*64的向量，乘上权重加上偏置然后使用ReLU\n",
        "      cnn_dense_kernel=tf.Variable(\n",
        "          initial_value=kernel_initalizer(shape=(7*7*64,1024), dtype=tf.float32),\n",
        "          name='cnn_dense_kernel',\n",
        "          trainable=True),\n",
        "      cnn_dense_bias=tf.Variable(\n",
        "          #lambda: tf.zeros(dtype=tf.float32, shape=(1024,)),\n",
        "          initial_value=bias_initaializer(shape=(1024,), dtype=tf.float32),\n",
        "          name='cnn_dense_bias',\n",
        "          trainable=True),\n",
        "      #这里以后可以加一个Dropout\n",
        "      cnn_dense_1_kernel=tf.Variable(\n",
        "          initial_value=kernel_initalizer(shape=(1024,10), dtype=tf.float32),\n",
        "          name='cnn_dense_1_kernel',\n",
        "          trainable=True),\n",
        "      cnn_dense_1_bias=tf.Variable(\n",
        "          #lambda: tf.zeros(dtype=tf.float32, shape=(10,)),\n",
        "          initial_value=bias_initaializer(shape=(10,), dtype=tf.float32),\n",
        "          name='cnn_dense_1_bias',\n",
        "          trainable=True),\n",
        "      num_examples=tf.Variable(0.0, name='num_examples', trainable=False),\n",
        "      loss_sum=tf.Variable(0.0, name='loss_sum', trainable=False),\n",
        "      accuracy_sum=tf.Variable(0.0, name='accuracy_sum', trainable=False)\n",
        "  )"
      ],
      "execution_count": 0,
      "outputs": []
    },
    {
      "cell_type": "code",
      "metadata": {
        "id": "Ib6kQLwtUh5j",
        "colab_type": "code",
        "colab": {}
      },
      "source": [
        "#自定义前向传播函数\n",
        "import time\n",
        "def mnist_forward_pass(variables, batch):\n",
        "  _input_ = batch['x']  #取训练图片\n",
        "  #获得初始时间\n",
        "  start = time.clock()\n",
        "\n",
        "  #神经网络\n",
        "  #第一层卷积\n",
        "  conv = tf.nn.conv2d(_input_, variables.cnn_conv2d_kernel, strides=[1,1,1,1], padding='SAME')                  # [batch_size, 28, 28, 32]\n",
        "  pre_activation = tf.nn.bias_add(conv, variables.cnn_conv2d_bias)\n",
        "  conv1 = tf.nn.relu(pre_activation, name='conv1')\n",
        "\n",
        "  #第一层卷积层的池化\n",
        "  pool1 = tf.nn.max_pool2d(conv1, ksize=[2, 2], strides=2, padding='SAME')\n",
        "\n",
        "  #第二层卷积\n",
        "  conv = tf.nn.conv2d(pool1, variables.cnn_conv2d_1_kernel, strides=[1,1,1,1], padding='SAME')\n",
        "  pre_activation = tf.nn.bias_add(conv, variables.cnn_conv2d_1_bias)\n",
        "  conv2 = tf.nn.relu(pre_activation, name='conv2')\n",
        "\n",
        "  #第二层卷积的池化\n",
        "  pool2 = tf.nn.max_pool2d(conv2, ksize=[2,2], strides=2, padding='SAME')\n",
        "  # print(\"pool2\",pool2)\n",
        "  \n",
        "  #flatten\n",
        "  flatten = tf.reshape(pool2, shape=(-1,7*7*64))\n",
        "  # print(\"flatten over\")\n",
        "\n",
        "  #全连接层1\n",
        "  dense1 = tf.nn.relu(tf.matmul(flatten, variables.cnn_dense_kernel) + variables.cnn_dense_bias)\n",
        "  # print(\"dense1 over\")\n",
        "\n",
        "  #添加一个Dropout防止过拟合\n",
        "  #keep_drop = tf.placeholder(tf.float32)\n",
        "  drop_dense1 = tf.nn.dropout(dense1, 0.5)\n",
        "\n",
        "  #全连接层2\n",
        "  dense2 = tf.matmul(drop_dense1, variables.cnn_dense_1_kernel) + variables.cnn_dense_1_bias\n",
        "  # print(\"dense2 over\")\n",
        "\n",
        "  y_pred = tf.nn.softmax(dense2)\n",
        "  # print(\"y_pred\",y_pred)\n",
        "\n",
        "  #计算损失\n",
        "  flat_labels = tf.reshape(batch['y'], [-1])\n",
        "  loss = -tf.reduce_mean(\n",
        "      tf.reduce_sum(tf.one_hot(flat_labels, 10) * tf.math.log(y_pred), axis=[1]))\n",
        "  \n",
        "  \n",
        "  #计算准确率\n",
        "  predictions = tf.cast(tf.argmax(y_pred,1), tf.int32)\n",
        "  accuracy = tf.reduce_mean(\n",
        "      tf.cast(tf.equal(predictions, flat_labels), tf.float32))\n",
        "  #计算结束时间\n",
        "  end = time.clock()\n",
        "  time_per_round = end - start\n",
        "  #样本数\n",
        "  num_examples = tf.cast(tf.size(batch['y']), tf.float32)\n",
        "\n",
        "  #更新样本数、损失和、精度和,每一批都考虑了自己的权重\n",
        "  variables.num_examples.assign_add(num_examples)\n",
        "  variables.loss_sum.assign_add(loss * num_examples)\n",
        "  variables.accuracy_sum.assign_add(accuracy * num_examples)\n",
        "  #variables.time_per_round.assign(end-start)\n",
        "\n",
        "  \n",
        "  return loss, predictions"
      ],
      "execution_count": 0,
      "outputs": []
    },
    {
      "cell_type": "code",
      "metadata": {
        "id": "7mcpE0twbxz-",
        "colab_type": "code",
        "colab": {}
      },
      "source": [
        "#计算本地用户的metrics度量\n",
        "def get_local_mnist_metrics(variables):\n",
        "  return collections.OrderedDict(\n",
        "      num_examples=variables.num_examples,\n",
        "      loss=variables.loss_sum / variables.num_examples,\n",
        "      accuracy=variables.accuracy_sum / variables.num_examples,\n",
        "      #time_per_round=variables.time_per_round\n",
        "  )"
      ],
      "execution_count": 0,
      "outputs": []
    },
    {
      "cell_type": "code",
      "metadata": {
        "id": "kv_a5zrVch3i",
        "colab_type": "code",
        "colab": {}
      },
      "source": [
        "#集合每个设备发出的本地度量\n",
        "@tff.federated_computation\n",
        "def aggregate_mnist_metrics_across_clients(metrics):\n",
        "  return collections.OrderedDict(\n",
        "      num_examples=tff.federated_sum(metrics.num_examples),\n",
        "      loss=tff.federated_mean(metrics.loss, metrics.num_examples),\n",
        "      accuracy=tff.federated_mean(metrics.accuracy, metrics.num_examples),\n",
        "      #time_per_round = variables.time_per_round\n",
        "  )"
      ],
      "execution_count": 0,
      "outputs": []
    },
    {
      "cell_type": "code",
      "metadata": {
        "id": "BE3FpcO5dNr-",
        "colab_type": "code",
        "colab": {}
      },
      "source": [
        "#自定义模型，创建tff.learning.model实例\n",
        "class MnistModel(tff.learning.Model):\n",
        "\n",
        "  def __init__(self):\n",
        "    self._variables = create_mnist_variables()\n",
        "\n",
        "  #所有的“tf.Variables”都应该在“__init__”中引入\n",
        "  @property\n",
        "  def trainable_variables(self):\n",
        "    #return [self._variables.weights, self._variables.bias]\n",
        "    return [self._variables.cnn_conv2d_kernel,\n",
        "        self._variables.cnn_conv2d_bias,\n",
        "        self._variables.cnn_conv2d_1_kernel,\n",
        "        self._variables.cnn_conv2d_1_bias,\n",
        "        self._variables.cnn_dense_kernel,\n",
        "        self._variables.cnn_dense_bias,\n",
        "        self._variables.cnn_dense_1_kernel,\n",
        "        self._variables.cnn_dense_1_bias\n",
        "        ]\n",
        "  \n",
        "  @property\n",
        "  def non_trainable_variables(self):\n",
        "    return []\n",
        "  \n",
        "  @property\n",
        "  def local_variables(self):\n",
        "    return [self._variables.num_examples, self._variables.loss_sum,\n",
        "         self._variables.accuracy_sum]\n",
        "  \n",
        "  @property\n",
        "  def input_spec(self):\n",
        "    return collections.OrderedDict(\n",
        "        x=tf.TensorSpec([None, 28,28,1], tf.float32),\n",
        "        y=tf.TensorSpec([None, 1], tf.int32)\n",
        "    )\n",
        "\n",
        "  @tf.function\n",
        "  def forward_pass(self, batch, training=True):\n",
        "    del training\n",
        "    loss, predictions = mnist_forward_pass(self._variables, batch)\n",
        "    #取出样本数\n",
        "    num_examples = tf.shape(batch['x'])[0]\n",
        "    return tff.learning.BatchOutput(\n",
        "        loss=loss, predictions=predictions, num_examples=num_examples)\n",
        "    \n",
        "  @tf.function\n",
        "  def report_local_outputs(self):\n",
        "    return get_local_mnist_metrics(self._variables)\n",
        "  \n",
        "  @property\n",
        "  def federated_output_computation(self):\n",
        "    return aggregate_mnist_metrics_across_clients"
      ],
      "execution_count": 0,
      "outputs": []
    },
    {
      "cell_type": "code",
      "metadata": {
        "id": "nfqC79A4hVfw",
        "colab_type": "code",
        "outputId": "8cd4c1dd-d638-4a36-944f-acfc899bc9a0",
        "colab": {
          "base_uri": "https://localhost:8080/",
          "height": 145
        }
      },
      "source": [
        "#创建迭代器执行联合平均的迭代过程\n",
        "iterative_process = tff.learning.build_federated_averaging_process(\n",
        "    MnistModel,\n",
        "    client_optimizer_fn=lambda: tf.keras.optimizers.SGD(learning_rate=0.02)\n",
        ")"
      ],
      "execution_count": 31,
      "outputs": [
        {
          "output_type": "stream",
          "text": [
            "WARNING:tensorflow:From /usr/local/lib/python3.6/dist-packages/tensorflow_core/python/ops/resource_variable_ops.py:1635: calling BaseResourceVariable.__init__ (from tensorflow.python.ops.resource_variable_ops) with constraint is deprecated and will be removed in a future version.\n",
            "Instructions for updating:\n",
            "If using Keras pass *_constraint arguments to layers.\n"
          ],
          "name": "stdout"
        },
        {
          "output_type": "stream",
          "text": [
            "WARNING:tensorflow:From /usr/local/lib/python3.6/dist-packages/tensorflow_core/python/ops/resource_variable_ops.py:1635: calling BaseResourceVariable.__init__ (from tensorflow.python.ops.resource_variable_ops) with constraint is deprecated and will be removed in a future version.\n",
            "Instructions for updating:\n",
            "If using Keras pass *_constraint arguments to layers.\n"
          ],
          "name": "stderr"
        }
      ]
    },
    {
      "cell_type": "markdown",
      "metadata": {
        "id": "77pwbgWvcIPH",
        "colab_type": "text"
      },
      "source": [
        "### 模型训练部分"
      ]
    },
    {
      "cell_type": "code",
      "metadata": {
        "id": "kzJXeJNSlGpe",
        "colab_type": "code",
        "colab": {}
      },
      "source": [
        "#获得初始状态\n",
        "state = iterative_process.initialize()"
      ],
      "execution_count": 0,
      "outputs": []
    },
    {
      "cell_type": "code",
      "metadata": {
        "id": "RpUydYwQnfHd",
        "colab_type": "code",
        "colab": {}
      },
      "source": [
        "#准备测试集，因为想每隔5轮看一下测试集精度\n",
        "NUM_TEST_CLIENTS = len(test.client_ids)\n",
        "\n",
        "#测试集测试精度\n",
        "# sample_clients = random.sample(BAL4_test.client_ids, NUM_CLIENTS_PER_ROUND)\n",
        "sample_clients = test.client_ids[0:NUM_TEST_CLIENTS]\n",
        "federated_test_data = make_federated_data(test, sample_clients)\n",
        "# evaluation = tff.learning.build_federated_evaluation(MnistModel)\n",
        "# test_metrics = evaluation(state.model, federated_test_data)\n",
        "# print('初始测试test-round {:2d}, metrics={}'.format(j+20, test_metrics))\n",
        "#len(federated_test_data), federated_test_data[0]"
      ],
      "execution_count": 0,
      "outputs": []
    },
    {
      "cell_type": "code",
      "metadata": {
        "id": "lkoGLYGLyYkC",
        "colab_type": "code",
        "outputId": "1bcb0105-7715-42e9-9190-a91f2d552352",
        "colab": {
          "base_uri": "https://localhost:8080/",
          "height": 1000
        }
      },
      "source": [
        "#计算更多轮:K=100,C=0.05\n",
        "NUM_ROUNDS = 81\n",
        "NUM_CLIENTS = 100\n",
        "NUM_CLIENTS_PER_ROUND = 5\n",
        "for round_num in range(NUM_ROUNDS):\n",
        "  if(round_num%2 == 0 or round_num==1):\n",
        "    evaluation = tff.learning.build_federated_evaluation(MnistModel)\n",
        "    test_metrics = evaluation(state.model, federated_test_data)\n",
        "    print('test-round {:2d}, metrics={}'.format(round_num, test_metrics))\n",
        "\n",
        "  #随机选择NUM_CLIENTS个用户运行\n",
        "  '''\n",
        "  sample_clients = random.sample(BAL4.client_ids, NUM_CLIENTS_PER_ROUND)\n",
        "  federated_train_data = make_federated_data(BAL4, sample_clients)\n",
        "\n",
        "  state, metrics = iterative_process.next(state, federated_train_data)\n",
        "  print('round {:2d}, metrics={}'.format(round_num+1, metrics))\n",
        "  # if(round_num%2 == 0):\n",
        "  #   federated_train_data = parallel_serverKeep_make_federated_data(BAL2, sample_clients)\n",
        "  # else:\n",
        "  #   federated_train_data = make_federated_data(BAL2, sample_clients)\n",
        " \n",
        "  '''\n",
        "\n",
        "  #BAL4数据集测试:使用串行的方式\n",
        "  sample_clients = random.sample(BAL4.client_ids, NUM_CLIENTS_PER_ROUND)\n",
        "  federated_train_data = make_federated_data(BAL4, sample_clients)\n",
        "  \n",
        "  state, metrics = iterative_process.next(state, federated_train_data)\n",
        "  print('round {:2d}, metrics={}'.format(round_num+1, metrics))\n",
        "'''\n",
        "  \n",
        "  federated_train_data = serial_serverKeep_make_federated_data(BAL2, sample_clients)\n",
        "  state, metrics = iterative_process.next(state, federated_train_data)\n",
        "  print('serial-round {:2d}, metrics={}'.format(round_num+1, metrics))\n",
        "  \n",
        "'''\n",
        "  "
      ],
      "execution_count": 38,
      "outputs": [
        {
          "output_type": "stream",
          "text": [
            "test-round  0, metrics=<num_examples=200000.0,loss=2.356394052505493,accuracy=0.09418000280857086>\n",
            "round  1, metrics=<num_examples=12080.0,loss=0.6781201958656311,accuracy=0.7944536209106445>\n",
            "test-round  1, metrics=<num_examples=200000.0,loss=1.296805500984192,accuracy=0.6490300297737122>\n",
            "round  2, metrics=<num_examples=4945.0,loss=0.22323399782180786,accuracy=0.9336704015731812>\n",
            "test-round  2, metrics=<num_examples=200000.0,loss=0.9506518244743347,accuracy=0.7192249894142151>\n",
            "round  3, metrics=<num_examples=10480.0,loss=0.16234426200389862,accuracy=0.9492366313934326>\n",
            "round  4, metrics=<num_examples=17965.0,loss=0.13789552450180054,accuracy=0.9592540860176086>\n",
            "test-round  4, metrics=<num_examples=200000.0,loss=0.5811148285865784,accuracy=0.8082900047302246>\n",
            "round  5, metrics=<num_examples=19985.0,loss=0.09989576041698456,accuracy=0.9692769646644592>\n",
            "round  6, metrics=<num_examples=15595.0,loss=0.08006808906793594,accuracy=0.9753125905990601>\n",
            "test-round  6, metrics=<num_examples=200000.0,loss=0.445748895406723,accuracy=0.8562600016593933>\n",
            "round  7, metrics=<num_examples=13175.0,loss=0.08333241194486618,accuracy=0.9768500924110413>\n",
            "round  8, metrics=<num_examples=18075.0,loss=0.07946338504552841,accuracy=0.9763762354850769>\n",
            "test-round  8, metrics=<num_examples=200000.0,loss=0.35796594619750977,accuracy=0.8847650289535522>\n",
            "round  9, metrics=<num_examples=9975.0,loss=0.058352839201688766,accuracy=0.9832581281661987>\n",
            "round 10, metrics=<num_examples=18030.0,loss=0.062044352293014526,accuracy=0.9819744825363159>\n",
            "test-round 10, metrics=<num_examples=200000.0,loss=0.2942703366279602,accuracy=0.9023849964141846>\n",
            "round 11, metrics=<num_examples=17945.0,loss=0.057334572076797485,accuracy=0.9832822680473328>\n",
            "round 12, metrics=<num_examples=6285.0,loss=0.04413948208093643,accuracy=0.9880668520927429>\n",
            "test-round 12, metrics=<num_examples=200000.0,loss=0.31972476840019226,accuracy=0.9009749889373779>\n",
            "round 13, metrics=<num_examples=6550.0,loss=0.04726528376340866,accuracy=0.9858015179634094>\n",
            "round 14, metrics=<num_examples=14820.0,loss=0.05359045788645744,accuracy=0.9825910925865173>\n",
            "test-round 14, metrics=<num_examples=200000.0,loss=0.2738000452518463,accuracy=0.9136000275611877>\n",
            "round 15, metrics=<num_examples=12685.0,loss=0.04216305539011955,accuracy=0.987465500831604>\n",
            "round 16, metrics=<num_examples=17890.0,loss=0.03822927176952362,accuracy=0.9883733987808228>\n",
            "test-round 16, metrics=<num_examples=200000.0,loss=0.23878547549247742,accuracy=0.9247350096702576>\n",
            "round 17, metrics=<num_examples=8755.0,loss=0.04465228691697121,accuracy=0.9864077568054199>\n",
            "round 18, metrics=<num_examples=10935.0,loss=0.03514131158590317,accuracy=0.9890260696411133>\n",
            "test-round 18, metrics=<num_examples=200000.0,loss=0.2509666085243225,accuracy=0.9209049940109253>\n",
            "round 19, metrics=<num_examples=19650.0,loss=0.03304554894566536,accuracy=0.9897201061248779>\n",
            "round 20, metrics=<num_examples=13390.0,loss=0.03980426490306854,accuracy=0.9878267645835876>\n",
            "test-round 20, metrics=<num_examples=200000.0,loss=0.2112673968076706,accuracy=0.9350900053977966>\n",
            "round 21, metrics=<num_examples=21845.0,loss=0.03030456230044365,accuracy=0.990981936454773>\n",
            "round 22, metrics=<num_examples=18950.0,loss=0.031419891864061356,accuracy=0.9909234642982483>\n",
            "test-round 22, metrics=<num_examples=200000.0,loss=0.23113290965557098,accuracy=0.9282600283622742>\n",
            "round 23, metrics=<num_examples=22460.0,loss=0.023533256724476814,accuracy=0.9931879043579102>\n",
            "round 24, metrics=<num_examples=21430.0,loss=0.026115424931049347,accuracy=0.992253839969635>\n",
            "test-round 24, metrics=<num_examples=200000.0,loss=0.196136936545372,accuracy=0.9399549961090088>\n",
            "round 25, metrics=<num_examples=13585.0,loss=0.01816273108124733,accuracy=0.9952152967453003>\n",
            "round 26, metrics=<num_examples=15145.0,loss=0.025312840938568115,accuracy=0.9926708340644836>\n",
            "test-round 26, metrics=<num_examples=200000.0,loss=0.24335137009620667,accuracy=0.9277600049972534>\n",
            "round 27, metrics=<num_examples=24580.0,loss=0.02344547025859356,accuracy=0.9930024147033691>\n",
            "round 28, metrics=<num_examples=8190.0,loss=0.020159471780061722,accuracy=0.9938949942588806>\n",
            "test-round 28, metrics=<num_examples=200000.0,loss=0.1814187914133072,accuracy=0.9459800124168396>\n",
            "round 29, metrics=<num_examples=13055.0,loss=0.02667265757918358,accuracy=0.991880476474762>\n",
            "round 30, metrics=<num_examples=16245.0,loss=0.021480076014995575,accuracy=0.9929208755493164>\n",
            "test-round 30, metrics=<num_examples=200000.0,loss=0.2023005336523056,accuracy=0.9406149983406067>\n",
            "round 31, metrics=<num_examples=13305.0,loss=0.01685910113155842,accuracy=0.9950394630432129>\n",
            "round 32, metrics=<num_examples=15920.0,loss=0.021405696868896484,accuracy=0.9934673309326172>\n",
            "test-round 32, metrics=<num_examples=200000.0,loss=0.1722734421491623,accuracy=0.9495999813079834>\n",
            "round 33, metrics=<num_examples=15470.0,loss=0.02908576838672161,accuracy=0.9906916618347168>\n",
            "round 34, metrics=<num_examples=19150.0,loss=0.022785590961575508,accuracy=0.992898166179657>\n",
            "test-round 34, metrics=<num_examples=200000.0,loss=0.16703368723392487,accuracy=0.9506850242614746>\n",
            "round 35, metrics=<num_examples=11240.0,loss=0.015426801517605782,accuracy=0.9956405758857727>\n",
            "round 36, metrics=<num_examples=13275.0,loss=0.02024104818701744,accuracy=0.9940489530563354>\n",
            "test-round 36, metrics=<num_examples=200000.0,loss=0.19162476062774658,accuracy=0.9441699981689453>\n",
            "round 37, metrics=<num_examples=9440.0,loss=0.013109216466546059,accuracy=0.9965042471885681>\n",
            "round 38, metrics=<num_examples=22410.0,loss=0.01982053928077221,accuracy=0.9943774938583374>\n",
            "test-round 38, metrics=<num_examples=200000.0,loss=0.17883367836475372,accuracy=0.9485399723052979>\n",
            "round 39, metrics=<num_examples=11590.0,loss=0.018421465530991554,accuracy=0.9949957132339478>\n",
            "round 40, metrics=<num_examples=16330.0,loss=0.016059933230280876,accuracy=0.9951622486114502>\n",
            "test-round 40, metrics=<num_examples=200000.0,loss=0.1784329116344452,accuracy=0.9490950107574463>\n",
            "round 41, metrics=<num_examples=13775.0,loss=0.019038239493966103,accuracy=0.9940471649169922>\n",
            "round 42, metrics=<num_examples=18875.0,loss=0.02631399966776371,accuracy=0.9924238324165344>\n",
            "test-round 42, metrics=<num_examples=200000.0,loss=0.17159207165241241,accuracy=0.9497050046920776>\n",
            "round 43, metrics=<num_examples=14700.0,loss=0.014884726144373417,accuracy=0.9955102205276489>\n",
            "round 44, metrics=<num_examples=15985.0,loss=0.023665033280849457,accuracy=0.9929934144020081>\n",
            "test-round 44, metrics=<num_examples=200000.0,loss=0.1479877084493637,accuracy=0.9567149877548218>\n",
            "round 45, metrics=<num_examples=18735.0,loss=0.01721213199198246,accuracy=0.9946624040603638>\n",
            "round 46, metrics=<num_examples=18545.0,loss=0.015544922091066837,accuracy=0.9963332414627075>\n",
            "test-round 46, metrics=<num_examples=200000.0,loss=0.17932318150997162,accuracy=0.9487749934196472>\n",
            "round 47, metrics=<num_examples=13370.0,loss=0.016506075859069824,accuracy=0.9960358738899231>\n",
            "round 48, metrics=<num_examples=18820.0,loss=0.013474082574248314,accuracy=0.9961211681365967>\n",
            "test-round 48, metrics=<num_examples=200000.0,loss=0.14863619208335876,accuracy=0.9576249718666077>\n",
            "round 49, metrics=<num_examples=10945.0,loss=0.013508172705769539,accuracy=0.9960712790489197>\n",
            "round 50, metrics=<num_examples=11335.0,loss=0.010445697233080864,accuracy=0.9966475367546082>\n",
            "test-round 50, metrics=<num_examples=200000.0,loss=0.16305597126483917,accuracy=0.9537550210952759>\n",
            "round 51, metrics=<num_examples=11020.0,loss=0.00960397720336914,accuracy=0.9972776770591736>\n",
            "round 52, metrics=<num_examples=19560.0,loss=0.016568033024668694,accuracy=0.9957055449485779>\n",
            "test-round 52, metrics=<num_examples=200000.0,loss=0.15536682307720184,accuracy=0.9558500051498413>\n",
            "round 53, metrics=<num_examples=15925.0,loss=0.016879549250006676,accuracy=0.9945368766784668>\n",
            "round 54, metrics=<num_examples=11420.0,loss=0.019023871049284935,accuracy=0.9946584701538086>\n",
            "test-round 54, metrics=<num_examples=200000.0,loss=0.1625717282295227,accuracy=0.9519150257110596>\n",
            "round 55, metrics=<num_examples=9180.0,loss=0.02727331779897213,accuracy=0.9941176176071167>\n",
            "round 56, metrics=<num_examples=24980.0,loss=0.013213759288191795,accuracy=0.9961569309234619>\n",
            "test-round 56, metrics=<num_examples=200000.0,loss=0.14180731773376465,accuracy=0.9585999846458435>\n",
            "round 57, metrics=<num_examples=17020.0,loss=0.011867762543261051,accuracy=0.9970034956932068>\n",
            "round 58, metrics=<num_examples=21130.0,loss=0.013580044731497765,accuracy=0.9961192607879639>\n",
            "test-round 58, metrics=<num_examples=200000.0,loss=0.15103581547737122,accuracy=0.955685019493103>\n",
            "round 59, metrics=<num_examples=14075.0,loss=0.01932806335389614,accuracy=0.9950976967811584>\n",
            "round 60, metrics=<num_examples=11260.0,loss=0.012507341802120209,accuracy=0.9961811900138855>\n",
            "test-round 60, metrics=<num_examples=200000.0,loss=0.17020176351070404,accuracy=0.9500700235366821>\n",
            "round 61, metrics=<num_examples=6655.0,loss=0.014571627601981163,accuracy=0.9951915740966797>\n",
            "round 62, metrics=<num_examples=12480.0,loss=0.016023704782128334,accuracy=0.995512843132019>\n",
            "test-round 62, metrics=<num_examples=200000.0,loss=0.13726544380187988,accuracy=0.9609699845314026>\n",
            "round 63, metrics=<num_examples=13470.0,loss=0.012900563888251781,accuracy=0.9958426356315613>\n",
            "round 64, metrics=<num_examples=12165.0,loss=0.010478918440639973,accuracy=0.9967941045761108>\n",
            "test-round 64, metrics=<num_examples=200000.0,loss=0.14919796586036682,accuracy=0.9589849710464478>\n",
            "round 65, metrics=<num_examples=15030.0,loss=0.016340231522917747,accuracy=0.994743824005127>\n",
            "round 66, metrics=<num_examples=20305.0,loss=0.01152290590107441,accuracy=0.9964540600776672>\n",
            "test-round 66, metrics=<num_examples=200000.0,loss=0.15491537749767303,accuracy=0.9567499756813049>\n",
            "round 67, metrics=<num_examples=21580.0,loss=0.016496192663908005,accuracy=0.9947636723518372>\n",
            "round 68, metrics=<num_examples=12795.0,loss=0.011196882463991642,accuracy=0.9965611696243286>\n",
            "test-round 68, metrics=<num_examples=200000.0,loss=0.13927577435970306,accuracy=0.9598550200462341>\n",
            "round 69, metrics=<num_examples=14115.0,loss=0.010072448290884495,accuracy=0.9966701865196228>\n",
            "round 70, metrics=<num_examples=11410.0,loss=0.011672264896333218,accuracy=0.9965819716453552>\n",
            "test-round 70, metrics=<num_examples=200000.0,loss=0.14013226330280304,accuracy=0.9601550102233887>\n",
            "round 71, metrics=<num_examples=22740.0,loss=0.012486007064580917,accuracy=0.9962181448936462>\n",
            "round 72, metrics=<num_examples=17460.0,loss=0.010936769656836987,accuracy=0.9966781139373779>\n",
            "test-round 72, metrics=<num_examples=200000.0,loss=0.1265690177679062,accuracy=0.9646949768066406>\n",
            "round 73, metrics=<num_examples=16665.0,loss=0.01334771141409874,accuracy=0.9966996908187866>\n",
            "round 74, metrics=<num_examples=12300.0,loss=0.007838117890059948,accuracy=0.9974796772003174>\n",
            "test-round 74, metrics=<num_examples=200000.0,loss=0.13958032429218292,accuracy=0.9608500003814697>\n",
            "round 75, metrics=<num_examples=17890.0,loss=0.01044374331831932,accuracy=0.9969815611839294>\n",
            "round 76, metrics=<num_examples=9610.0,loss=0.00907234288752079,accuracy=0.9973985552787781>\n",
            "test-round 76, metrics=<num_examples=200000.0,loss=0.12248756736516953,accuracy=0.9661350250244141>\n",
            "round 77, metrics=<num_examples=17935.0,loss=0.016451559960842133,accuracy=0.9955952167510986>\n",
            "round 78, metrics=<num_examples=21695.0,loss=0.011157947592437267,accuracy=0.9968195557594299>\n",
            "test-round 78, metrics=<num_examples=200000.0,loss=0.1320248693227768,accuracy=0.9630900025367737>\n",
            "round 79, metrics=<num_examples=21695.0,loss=0.00991516001522541,accuracy=0.9970499873161316>\n",
            "round 80, metrics=<num_examples=14705.0,loss=0.01110540796071291,accuracy=0.9963277578353882>\n",
            "test-round 80, metrics=<num_examples=200000.0,loss=0.1495187133550644,accuracy=0.9590499997138977>\n",
            "round 81, metrics=<num_examples=13215.0,loss=0.009387435391545296,accuracy=0.9974271655082703>\n"
          ],
          "name": "stdout"
        },
        {
          "output_type": "execute_result",
          "data": {
            "text/plain": [
              "\"\\n  \\n  federated_train_data = serial_serverKeep_make_federated_data(BAL2, sample_clients)\\n  state, metrics = iterative_process.next(state, federated_train_data)\\n  print('serial-round {:2d}, metrics={}'.format(round_num+1, metrics))\\n  \\n\""
            ]
          },
          "metadata": {
            "tags": []
          },
          "execution_count": 38
        }
      ]
    },
    {
      "cell_type": "code",
      "metadata": {
        "id": "yWUlfgWi6znq",
        "colab_type": "code",
        "outputId": "5a3dcc29-76e1-4706-9fe3-ca57b6314e04",
        "colab": {
          "base_uri": "https://localhost:8080/",
          "height": 555
        }
      },
      "source": [
        "#以20轮为底线，以后每2轮测一下测试集精度\n",
        "MORE_ROUNDS = 20\n",
        "for j in range(MORE_ROUNDS):\n",
        "  #打印测试信息\n",
        "  if(j%2 == 0):\n",
        "    evaluation = tff.learning.build_federated_evaluation(MnistModel)\n",
        "    test_metrics = evaluation(state.model, federated_test_data)\n",
        "    print('test-round {:2d}, metrics={}'.format(j+20, test_metrics))\n",
        "  #接着进行计算\n",
        "  sample_clients = random.sample(BAL4.client_ids, NUM_CLIENTS_PER_ROUND)\n",
        "  federated_train_data = parallel_serverKeep_make_federated_data(BAL4, sample_clients)\n",
        "  state, metrics = iterative_process.next(state, federated_train_data)\n",
        "  print('round {:2d}, metrics={}'.format(j+21, metrics))\n",
        "\n",
        "  '''\n",
        "  #串行计算添加部分\n",
        "  federated_train_data = serial_serverKeep_make_federated_data(BAL2, sample_clients)\n",
        "  state, metrics = iterative_process.next(state, federated_train_data)\n",
        "  print('serial-round {:2d}, metrics={}'.format(j+21, metrics))\n",
        "  '''\n"
      ],
      "execution_count": 35,
      "outputs": [
        {
          "output_type": "stream",
          "text": [
            "test-round 20, metrics=<num_examples=200000.0,loss=0.14472541213035583,accuracy=0.9574900269508362>\n",
            "round 21, metrics=<num_examples=18840.0,loss=0.023548290133476257,accuracy=0.9933121204376221>\n",
            "round 22, metrics=<num_examples=22565.0,loss=0.026171358302235603,accuracy=0.9918457865715027>\n",
            "test-round 22, metrics=<num_examples=200000.0,loss=0.1395234912633896,accuracy=0.9592750072479248>\n",
            "round 23, metrics=<num_examples=19325.0,loss=0.024186396971344948,accuracy=0.9931177496910095>\n",
            "round 24, metrics=<num_examples=15305.0,loss=0.023072855547070503,accuracy=0.993923544883728>\n",
            "test-round 24, metrics=<num_examples=200000.0,loss=0.12253604829311371,accuracy=0.9640600085258484>\n",
            "round 25, metrics=<num_examples=27330.0,loss=0.022665735334157944,accuracy=0.993450403213501>\n",
            "round 26, metrics=<num_examples=17930.0,loss=0.023702288046479225,accuracy=0.9926380515098572>\n",
            "test-round 26, metrics=<num_examples=200000.0,loss=0.1258419007062912,accuracy=0.9635949730873108>\n",
            "round 27, metrics=<num_examples=23070.0,loss=0.020958419889211655,accuracy=0.9945816993713379>\n",
            "round 28, metrics=<num_examples=15205.0,loss=0.01980777271091938,accuracy=0.9942781925201416>\n",
            "test-round 28, metrics=<num_examples=200000.0,loss=0.12470272183418274,accuracy=0.963919997215271>\n",
            "round 29, metrics=<num_examples=20820.0,loss=0.022506583482027054,accuracy=0.9943323731422424>\n",
            "round 30, metrics=<num_examples=15785.0,loss=0.012476983480155468,accuracy=0.9963256120681763>\n",
            "test-round 30, metrics=<num_examples=200000.0,loss=0.11866948008537292,accuracy=0.9661650061607361>\n",
            "round 31, metrics=<num_examples=20640.0,loss=0.018838198855519295,accuracy=0.9945251941680908>\n",
            "round 32, metrics=<num_examples=24165.0,loss=0.024350794032216072,accuracy=0.9921373724937439>\n",
            "test-round 32, metrics=<num_examples=200000.0,loss=0.13284672796726227,accuracy=0.9622799754142761>\n",
            "round 33, metrics=<num_examples=16350.0,loss=0.01415814459323883,accuracy=0.9964525699615479>\n",
            "round 34, metrics=<num_examples=15940.0,loss=0.016790900379419327,accuracy=0.9949184656143188>\n",
            "test-round 34, metrics=<num_examples=200000.0,loss=0.12532658874988556,accuracy=0.9641550183296204>\n",
            "round 35, metrics=<num_examples=20575.0,loss=0.018825368955731392,accuracy=0.9952855110168457>\n",
            "round 36, metrics=<num_examples=19025.0,loss=0.022226015105843544,accuracy=0.9945860505104065>\n",
            "test-round 36, metrics=<num_examples=200000.0,loss=0.12226524204015732,accuracy=0.9652100205421448>\n",
            "round 37, metrics=<num_examples=24370.0,loss=0.01200256310403347,accuracy=0.9965121150016785>\n",
            "round 38, metrics=<num_examples=17415.0,loss=0.01719399355351925,accuracy=0.9954062700271606>\n",
            "test-round 38, metrics=<num_examples=200000.0,loss=0.12011521309614182,accuracy=0.9662600159645081>\n",
            "round 39, metrics=<num_examples=27775.0,loss=0.015282019972801208,accuracy=0.9956075549125671>\n",
            "round 40, metrics=<num_examples=21020.0,loss=0.013501722365617752,accuracy=0.9960513710975647>\n"
          ],
          "name": "stdout"
        }
      ]
    },
    {
      "cell_type": "code",
      "metadata": {
        "id": "8I20NLOJHXJ4",
        "colab_type": "code",
        "colab": {
          "base_uri": "https://localhost:8080/",
          "height": 1000
        },
        "outputId": "7e20a703-9740-4ca1-c47c-192905e87d8e"
      },
      "source": [
        "#以20轮为底线，以后每2轮测一下测试集精度\n",
        "#再测40轮\n",
        "MORE_ROUNDS = 40\n",
        "for j in range(MORE_ROUNDS):\n",
        "  #打印测试信息\n",
        "  if(j%2 == 0):\n",
        "    evaluation = tff.learning.build_federated_evaluation(MnistModel)\n",
        "    test_metrics = evaluation(state.model, federated_test_data)\n",
        "    print('test-round {:2d}, metrics={}'.format(j+40, test_metrics))\n",
        "  #接着进行计算\n",
        "  sample_clients = random.sample(BAL4.client_ids, NUM_CLIENTS_PER_ROUND)\n",
        "  federated_train_data = parallel_serverKeep_make_federated_data(BAL4, sample_clients)\n",
        "  state, metrics = iterative_process.next(state, federated_train_data)\n",
        "  print('round {:2d}, metrics={}'.format(j+41, metrics))\n",
        "\n",
        "  '''\n",
        "  #串行计算添加部分\n",
        "  federated_train_data = serial_serverKeep_make_federated_data(BAL2, sample_clients)\n",
        "  state, metrics = iterative_process.next(state, federated_train_data)\n",
        "  print('serial-round {:2d}, metrics={}'.format(j+21, metrics))\n",
        "  '''\n"
      ],
      "execution_count": 36,
      "outputs": [
        {
          "output_type": "stream",
          "text": [
            "test-round 40, metrics=<num_examples=200000.0,loss=0.11610103398561478,accuracy=0.9675700068473816>\n",
            "round 41, metrics=<num_examples=25830.0,loss=0.013985997997224331,accuracy=0.9957413673400879>\n",
            "round 42, metrics=<num_examples=18015.0,loss=0.010071853175759315,accuracy=0.9971135258674622>\n",
            "test-round 42, metrics=<num_examples=200000.0,loss=0.11622611433267593,accuracy=0.967989981174469>\n",
            "round 43, metrics=<num_examples=26520.0,loss=0.017546970397233963,accuracy=0.9949849247932434>\n",
            "round 44, metrics=<num_examples=19205.0,loss=0.015348483808338642,accuracy=0.9959385395050049>\n",
            "test-round 44, metrics=<num_examples=200000.0,loss=0.11506078392267227,accuracy=0.9679449796676636>\n",
            "round 45, metrics=<num_examples=23130.0,loss=0.0114830257371068,accuracy=0.9964980483055115>\n",
            "round 46, metrics=<num_examples=11770.0,loss=0.011126290075480938,accuracy=0.9966865181922913>\n",
            "test-round 46, metrics=<num_examples=200000.0,loss=0.10669180750846863,accuracy=0.9705299735069275>\n",
            "round 47, metrics=<num_examples=17330.0,loss=0.01872442290186882,accuracy=0.995326042175293>\n",
            "round 48, metrics=<num_examples=13430.0,loss=0.011843356303870678,accuracy=0.997096061706543>\n",
            "test-round 48, metrics=<num_examples=200000.0,loss=0.10656619071960449,accuracy=0.9703249931335449>\n",
            "round 49, metrics=<num_examples=23690.0,loss=0.015150434337556362,accuracy=0.9956099390983582>\n",
            "round 50, metrics=<num_examples=19955.0,loss=0.013331656344234943,accuracy=0.9961914420127869>\n",
            "test-round 50, metrics=<num_examples=200000.0,loss=0.11393029242753983,accuracy=0.9682350158691406>\n",
            "round 51, metrics=<num_examples=18610.0,loss=0.01605728454887867,accuracy=0.9952713847160339>\n",
            "round 52, metrics=<num_examples=21445.0,loss=0.010896866209805012,accuracy=0.9971088767051697>\n",
            "test-round 52, metrics=<num_examples=200000.0,loss=0.11678008735179901,accuracy=0.9672899842262268>\n",
            "round 53, metrics=<num_examples=20845.0,loss=0.010248049162328243,accuracy=0.9970736503601074>\n",
            "round 54, metrics=<num_examples=19835.0,loss=0.010050268843770027,accuracy=0.9970758557319641>\n",
            "test-round 54, metrics=<num_examples=200000.0,loss=0.11181440204381943,accuracy=0.969444990158081>\n",
            "round 55, metrics=<num_examples=18610.0,loss=0.010599853470921516,accuracy=0.9973132610321045>\n",
            "round 56, metrics=<num_examples=23320.0,loss=0.011197983287274837,accuracy=0.9969125390052795>\n",
            "test-round 56, metrics=<num_examples=200000.0,loss=0.1107335239648819,accuracy=0.9695600271224976>\n",
            "round 57, metrics=<num_examples=15595.0,loss=0.010802955366671085,accuracy=0.9971785545349121>\n",
            "round 58, metrics=<num_examples=14860.0,loss=0.010237762704491615,accuracy=0.9973081946372986>\n",
            "test-round 58, metrics=<num_examples=200000.0,loss=0.10627084225416183,accuracy=0.9706199765205383>\n",
            "round 59, metrics=<num_examples=23140.0,loss=0.013303874060511589,accuracy=0.9965860247612>\n",
            "round 60, metrics=<num_examples=19360.0,loss=0.014158829115331173,accuracy=0.9956611394882202>\n",
            "test-round 60, metrics=<num_examples=200000.0,loss=0.10376046597957611,accuracy=0.9713199734687805>\n",
            "round 61, metrics=<num_examples=21345.0,loss=0.009581749327480793,accuracy=0.9970016479492188>\n",
            "round 62, metrics=<num_examples=16990.0,loss=0.011407673358917236,accuracy=0.9969982504844666>\n",
            "test-round 62, metrics=<num_examples=200000.0,loss=0.09889395534992218,accuracy=0.9728549718856812>\n",
            "round 63, metrics=<num_examples=20710.0,loss=0.008817624300718307,accuracy=0.9972959756851196>\n",
            "round 64, metrics=<num_examples=19540.0,loss=0.013530501164495945,accuracy=0.9962641000747681>\n",
            "test-round 64, metrics=<num_examples=200000.0,loss=0.10578610002994537,accuracy=0.9712100028991699>\n",
            "round 65, metrics=<num_examples=26885.0,loss=0.010272457264363766,accuracy=0.9969499707221985>\n",
            "round 66, metrics=<num_examples=23210.0,loss=0.007884562946856022,accuracy=0.9972856640815735>\n",
            "test-round 66, metrics=<num_examples=200000.0,loss=0.10733003914356232,accuracy=0.9713150262832642>\n",
            "round 67, metrics=<num_examples=20540.0,loss=0.013098577037453651,accuracy=0.9962999224662781>\n",
            "round 68, metrics=<num_examples=23930.0,loss=0.012286919169127941,accuracy=0.9967405200004578>\n",
            "test-round 68, metrics=<num_examples=200000.0,loss=0.10408196598291397,accuracy=0.9717850089073181>\n",
            "round 69, metrics=<num_examples=19705.0,loss=0.009032993577420712,accuracy=0.9976148009300232>\n",
            "round 70, metrics=<num_examples=13260.0,loss=0.008900295943021774,accuracy=0.9978883862495422>\n",
            "test-round 70, metrics=<num_examples=200000.0,loss=0.10273153334856033,accuracy=0.9726049900054932>\n",
            "round 71, metrics=<num_examples=14915.0,loss=0.013400759547948837,accuracy=0.9959772229194641>\n",
            "round 72, metrics=<num_examples=18175.0,loss=0.014306395314633846,accuracy=0.9963136315345764>\n",
            "test-round 72, metrics=<num_examples=200000.0,loss=0.09964143484830856,accuracy=0.9732249975204468>\n",
            "round 73, metrics=<num_examples=18395.0,loss=0.010207412764430046,accuracy=0.9973905682563782>\n",
            "round 74, metrics=<num_examples=21855.0,loss=0.008259167894721031,accuracy=0.997529149055481>\n",
            "test-round 74, metrics=<num_examples=200000.0,loss=0.10488861054182053,accuracy=0.9724149703979492>\n",
            "round 75, metrics=<num_examples=21655.0,loss=0.009283279068768024,accuracy=0.9974601864814758>\n",
            "round 76, metrics=<num_examples=13970.0,loss=0.009000278078019619,accuracy=0.9971367120742798>\n",
            "test-round 76, metrics=<num_examples=200000.0,loss=0.09729276597499847,accuracy=0.9740599989891052>\n",
            "round 77, metrics=<num_examples=27095.0,loss=0.00876682810485363,accuracy=0.9969736337661743>\n",
            "round 78, metrics=<num_examples=23655.0,loss=0.010711824521422386,accuracy=0.9968294501304626>\n",
            "test-round 78, metrics=<num_examples=200000.0,loss=0.0992332324385643,accuracy=0.9735599756240845>\n",
            "round 79, metrics=<num_examples=15135.0,loss=0.00424982188269496,accuracy=0.9989428520202637>\n"
          ],
          "name": "stdout"
        },
        {
          "output_type": "error",
          "ename": "KeyboardInterrupt",
          "evalue": "ignored",
          "traceback": [
            "\u001b[0;31m---------------------------------------------------------------------------\u001b[0m",
            "\u001b[0;31mKeyboardInterrupt\u001b[0m                         Traceback (most recent call last)",
            "\u001b[0;32m<ipython-input-36-6a0a511f080a>\u001b[0m in \u001b[0;36m<module>\u001b[0;34m()\u001b[0m\n\u001b[1;32m      9\u001b[0m   \u001b[0msample_clients\u001b[0m \u001b[0;34m=\u001b[0m \u001b[0mrandom\u001b[0m\u001b[0;34m.\u001b[0m\u001b[0msample\u001b[0m\u001b[0;34m(\u001b[0m\u001b[0mBAL4\u001b[0m\u001b[0;34m.\u001b[0m\u001b[0mclient_ids\u001b[0m\u001b[0;34m,\u001b[0m \u001b[0mNUM_CLIENTS_PER_ROUND\u001b[0m\u001b[0;34m)\u001b[0m\u001b[0;34m\u001b[0m\u001b[0;34m\u001b[0m\u001b[0m\n\u001b[1;32m     10\u001b[0m   \u001b[0mfederated_train_data\u001b[0m \u001b[0;34m=\u001b[0m \u001b[0mparallel_serverKeep_make_federated_data\u001b[0m\u001b[0;34m(\u001b[0m\u001b[0mBAL4\u001b[0m\u001b[0;34m,\u001b[0m \u001b[0msample_clients\u001b[0m\u001b[0;34m)\u001b[0m\u001b[0;34m\u001b[0m\u001b[0;34m\u001b[0m\u001b[0m\n\u001b[0;32m---> 11\u001b[0;31m   \u001b[0mstate\u001b[0m\u001b[0;34m,\u001b[0m \u001b[0mmetrics\u001b[0m \u001b[0;34m=\u001b[0m \u001b[0miterative_process\u001b[0m\u001b[0;34m.\u001b[0m\u001b[0mnext\u001b[0m\u001b[0;34m(\u001b[0m\u001b[0mstate\u001b[0m\u001b[0;34m,\u001b[0m \u001b[0mfederated_train_data\u001b[0m\u001b[0;34m)\u001b[0m\u001b[0;34m\u001b[0m\u001b[0;34m\u001b[0m\u001b[0m\n\u001b[0m\u001b[1;32m     12\u001b[0m   \u001b[0mprint\u001b[0m\u001b[0;34m(\u001b[0m\u001b[0;34m'round {:2d}, metrics={}'\u001b[0m\u001b[0;34m.\u001b[0m\u001b[0mformat\u001b[0m\u001b[0;34m(\u001b[0m\u001b[0mj\u001b[0m\u001b[0;34m+\u001b[0m\u001b[0;36m41\u001b[0m\u001b[0;34m,\u001b[0m \u001b[0mmetrics\u001b[0m\u001b[0;34m)\u001b[0m\u001b[0;34m)\u001b[0m\u001b[0;34m\u001b[0m\u001b[0;34m\u001b[0m\u001b[0m\n\u001b[1;32m     13\u001b[0m \u001b[0;34m\u001b[0m\u001b[0m\n",
            "\u001b[0;32m/usr/local/lib/python3.6/dist-packages/tensorflow_federated/python/core/impl/utils/function_utils.py\u001b[0m in \u001b[0;36m__call__\u001b[0;34m(self, *args, **kwargs)\u001b[0m\n\u001b[1;32m    559\u001b[0m     \u001b[0mcontext\u001b[0m \u001b[0;34m=\u001b[0m \u001b[0mself\u001b[0m\u001b[0;34m.\u001b[0m\u001b[0m_context_stack\u001b[0m\u001b[0;34m.\u001b[0m\u001b[0mcurrent\u001b[0m\u001b[0;34m\u001b[0m\u001b[0;34m\u001b[0m\u001b[0m\n\u001b[1;32m    560\u001b[0m     \u001b[0marg\u001b[0m \u001b[0;34m=\u001b[0m \u001b[0mpack_args\u001b[0m\u001b[0;34m(\u001b[0m\u001b[0mself\u001b[0m\u001b[0;34m.\u001b[0m\u001b[0m_type_signature\u001b[0m\u001b[0;34m.\u001b[0m\u001b[0mparameter\u001b[0m\u001b[0;34m,\u001b[0m \u001b[0margs\u001b[0m\u001b[0;34m,\u001b[0m \u001b[0mkwargs\u001b[0m\u001b[0;34m,\u001b[0m \u001b[0mcontext\u001b[0m\u001b[0;34m)\u001b[0m\u001b[0;34m\u001b[0m\u001b[0;34m\u001b[0m\u001b[0m\n\u001b[0;32m--> 561\u001b[0;31m     \u001b[0;32mreturn\u001b[0m \u001b[0mcontext\u001b[0m\u001b[0;34m.\u001b[0m\u001b[0minvoke\u001b[0m\u001b[0;34m(\u001b[0m\u001b[0mself\u001b[0m\u001b[0;34m,\u001b[0m \u001b[0marg\u001b[0m\u001b[0;34m)\u001b[0m\u001b[0;34m\u001b[0m\u001b[0;34m\u001b[0m\u001b[0m\n\u001b[0m\u001b[1;32m    562\u001b[0m \u001b[0;34m\u001b[0m\u001b[0m\n\u001b[1;32m    563\u001b[0m \u001b[0;34m\u001b[0m\u001b[0m\n",
            "\u001b[0;32m/usr/local/lib/python3.6/dist-packages/retrying.py\u001b[0m in \u001b[0;36mwrapped_f\u001b[0;34m(*args, **kw)\u001b[0m\n\u001b[1;32m     47\u001b[0m             \u001b[0;34m@\u001b[0m\u001b[0msix\u001b[0m\u001b[0;34m.\u001b[0m\u001b[0mwraps\u001b[0m\u001b[0;34m(\u001b[0m\u001b[0mf\u001b[0m\u001b[0;34m)\u001b[0m\u001b[0;34m\u001b[0m\u001b[0;34m\u001b[0m\u001b[0m\n\u001b[1;32m     48\u001b[0m             \u001b[0;32mdef\u001b[0m \u001b[0mwrapped_f\u001b[0m\u001b[0;34m(\u001b[0m\u001b[0;34m*\u001b[0m\u001b[0margs\u001b[0m\u001b[0;34m,\u001b[0m \u001b[0;34m**\u001b[0m\u001b[0mkw\u001b[0m\u001b[0;34m)\u001b[0m\u001b[0;34m:\u001b[0m\u001b[0;34m\u001b[0m\u001b[0;34m\u001b[0m\u001b[0m\n\u001b[0;32m---> 49\u001b[0;31m                 \u001b[0;32mreturn\u001b[0m \u001b[0mRetrying\u001b[0m\u001b[0;34m(\u001b[0m\u001b[0;34m*\u001b[0m\u001b[0mdargs\u001b[0m\u001b[0;34m,\u001b[0m \u001b[0;34m**\u001b[0m\u001b[0mdkw\u001b[0m\u001b[0;34m)\u001b[0m\u001b[0;34m.\u001b[0m\u001b[0mcall\u001b[0m\u001b[0;34m(\u001b[0m\u001b[0mf\u001b[0m\u001b[0;34m,\u001b[0m \u001b[0;34m*\u001b[0m\u001b[0margs\u001b[0m\u001b[0;34m,\u001b[0m \u001b[0;34m**\u001b[0m\u001b[0mkw\u001b[0m\u001b[0;34m)\u001b[0m\u001b[0;34m\u001b[0m\u001b[0;34m\u001b[0m\u001b[0m\n\u001b[0m\u001b[1;32m     50\u001b[0m \u001b[0;34m\u001b[0m\u001b[0m\n\u001b[1;32m     51\u001b[0m             \u001b[0;32mreturn\u001b[0m \u001b[0mwrapped_f\u001b[0m\u001b[0;34m\u001b[0m\u001b[0;34m\u001b[0m\u001b[0m\n",
            "\u001b[0;32m/usr/local/lib/python3.6/dist-packages/retrying.py\u001b[0m in \u001b[0;36mcall\u001b[0;34m(self, fn, *args, **kwargs)\u001b[0m\n\u001b[1;32m    204\u001b[0m \u001b[0;34m\u001b[0m\u001b[0m\n\u001b[1;32m    205\u001b[0m             \u001b[0;32mif\u001b[0m \u001b[0;32mnot\u001b[0m \u001b[0mself\u001b[0m\u001b[0;34m.\u001b[0m\u001b[0mshould_reject\u001b[0m\u001b[0;34m(\u001b[0m\u001b[0mattempt\u001b[0m\u001b[0;34m)\u001b[0m\u001b[0;34m:\u001b[0m\u001b[0;34m\u001b[0m\u001b[0;34m\u001b[0m\u001b[0m\n\u001b[0;32m--> 206\u001b[0;31m                 \u001b[0;32mreturn\u001b[0m \u001b[0mattempt\u001b[0m\u001b[0;34m.\u001b[0m\u001b[0mget\u001b[0m\u001b[0;34m(\u001b[0m\u001b[0mself\u001b[0m\u001b[0;34m.\u001b[0m\u001b[0m_wrap_exception\u001b[0m\u001b[0;34m)\u001b[0m\u001b[0;34m\u001b[0m\u001b[0;34m\u001b[0m\u001b[0m\n\u001b[0m\u001b[1;32m    207\u001b[0m \u001b[0;34m\u001b[0m\u001b[0m\n\u001b[1;32m    208\u001b[0m             \u001b[0mdelay_since_first_attempt_ms\u001b[0m \u001b[0;34m=\u001b[0m \u001b[0mint\u001b[0m\u001b[0;34m(\u001b[0m\u001b[0mround\u001b[0m\u001b[0;34m(\u001b[0m\u001b[0mtime\u001b[0m\u001b[0;34m.\u001b[0m\u001b[0mtime\u001b[0m\u001b[0;34m(\u001b[0m\u001b[0;34m)\u001b[0m \u001b[0;34m*\u001b[0m \u001b[0;36m1000\u001b[0m\u001b[0;34m)\u001b[0m\u001b[0;34m)\u001b[0m \u001b[0;34m-\u001b[0m \u001b[0mstart_time\u001b[0m\u001b[0;34m\u001b[0m\u001b[0;34m\u001b[0m\u001b[0m\n",
            "\u001b[0;32m/usr/local/lib/python3.6/dist-packages/retrying.py\u001b[0m in \u001b[0;36mget\u001b[0;34m(self, wrap_exception)\u001b[0m\n\u001b[1;32m    245\u001b[0m                 \u001b[0;32mraise\u001b[0m \u001b[0mRetryError\u001b[0m\u001b[0;34m(\u001b[0m\u001b[0mself\u001b[0m\u001b[0;34m)\u001b[0m\u001b[0;34m\u001b[0m\u001b[0;34m\u001b[0m\u001b[0m\n\u001b[1;32m    246\u001b[0m             \u001b[0;32melse\u001b[0m\u001b[0;34m:\u001b[0m\u001b[0;34m\u001b[0m\u001b[0;34m\u001b[0m\u001b[0m\n\u001b[0;32m--> 247\u001b[0;31m                 \u001b[0msix\u001b[0m\u001b[0;34m.\u001b[0m\u001b[0mreraise\u001b[0m\u001b[0;34m(\u001b[0m\u001b[0mself\u001b[0m\u001b[0;34m.\u001b[0m\u001b[0mvalue\u001b[0m\u001b[0;34m[\u001b[0m\u001b[0;36m0\u001b[0m\u001b[0;34m]\u001b[0m\u001b[0;34m,\u001b[0m \u001b[0mself\u001b[0m\u001b[0;34m.\u001b[0m\u001b[0mvalue\u001b[0m\u001b[0;34m[\u001b[0m\u001b[0;36m1\u001b[0m\u001b[0;34m]\u001b[0m\u001b[0;34m,\u001b[0m \u001b[0mself\u001b[0m\u001b[0;34m.\u001b[0m\u001b[0mvalue\u001b[0m\u001b[0;34m[\u001b[0m\u001b[0;36m2\u001b[0m\u001b[0;34m]\u001b[0m\u001b[0;34m)\u001b[0m\u001b[0;34m\u001b[0m\u001b[0;34m\u001b[0m\u001b[0m\n\u001b[0m\u001b[1;32m    248\u001b[0m         \u001b[0;32melse\u001b[0m\u001b[0;34m:\u001b[0m\u001b[0;34m\u001b[0m\u001b[0;34m\u001b[0m\u001b[0m\n\u001b[1;32m    249\u001b[0m             \u001b[0;32mreturn\u001b[0m \u001b[0mself\u001b[0m\u001b[0;34m.\u001b[0m\u001b[0mvalue\u001b[0m\u001b[0;34m\u001b[0m\u001b[0;34m\u001b[0m\u001b[0m\n",
            "\u001b[0;32m/usr/local/lib/python3.6/dist-packages/six.py\u001b[0m in \u001b[0;36mreraise\u001b[0;34m(tp, value, tb)\u001b[0m\n\u001b[1;32m    691\u001b[0m             \u001b[0;32mif\u001b[0m \u001b[0mvalue\u001b[0m\u001b[0;34m.\u001b[0m\u001b[0m__traceback__\u001b[0m \u001b[0;32mis\u001b[0m \u001b[0;32mnot\u001b[0m \u001b[0mtb\u001b[0m\u001b[0;34m:\u001b[0m\u001b[0;34m\u001b[0m\u001b[0;34m\u001b[0m\u001b[0m\n\u001b[1;32m    692\u001b[0m                 \u001b[0;32mraise\u001b[0m \u001b[0mvalue\u001b[0m\u001b[0;34m.\u001b[0m\u001b[0mwith_traceback\u001b[0m\u001b[0;34m(\u001b[0m\u001b[0mtb\u001b[0m\u001b[0;34m)\u001b[0m\u001b[0;34m\u001b[0m\u001b[0;34m\u001b[0m\u001b[0m\n\u001b[0;32m--> 693\u001b[0;31m             \u001b[0;32mraise\u001b[0m \u001b[0mvalue\u001b[0m\u001b[0;34m\u001b[0m\u001b[0;34m\u001b[0m\u001b[0m\n\u001b[0m\u001b[1;32m    694\u001b[0m         \u001b[0;32mfinally\u001b[0m\u001b[0;34m:\u001b[0m\u001b[0;34m\u001b[0m\u001b[0;34m\u001b[0m\u001b[0m\n\u001b[1;32m    695\u001b[0m             \u001b[0mvalue\u001b[0m \u001b[0;34m=\u001b[0m \u001b[0;32mNone\u001b[0m\u001b[0;34m\u001b[0m\u001b[0;34m\u001b[0m\u001b[0m\n",
            "\u001b[0;32m/usr/local/lib/python3.6/dist-packages/retrying.py\u001b[0m in \u001b[0;36mcall\u001b[0;34m(self, fn, *args, **kwargs)\u001b[0m\n\u001b[1;32m    198\u001b[0m         \u001b[0;32mwhile\u001b[0m \u001b[0;32mTrue\u001b[0m\u001b[0;34m:\u001b[0m\u001b[0;34m\u001b[0m\u001b[0;34m\u001b[0m\u001b[0m\n\u001b[1;32m    199\u001b[0m             \u001b[0;32mtry\u001b[0m\u001b[0;34m:\u001b[0m\u001b[0;34m\u001b[0m\u001b[0;34m\u001b[0m\u001b[0m\n\u001b[0;32m--> 200\u001b[0;31m                 \u001b[0mattempt\u001b[0m \u001b[0;34m=\u001b[0m \u001b[0mAttempt\u001b[0m\u001b[0;34m(\u001b[0m\u001b[0mfn\u001b[0m\u001b[0;34m(\u001b[0m\u001b[0;34m*\u001b[0m\u001b[0margs\u001b[0m\u001b[0;34m,\u001b[0m \u001b[0;34m**\u001b[0m\u001b[0mkwargs\u001b[0m\u001b[0;34m)\u001b[0m\u001b[0;34m,\u001b[0m \u001b[0mattempt_number\u001b[0m\u001b[0;34m,\u001b[0m \u001b[0;32mFalse\u001b[0m\u001b[0;34m)\u001b[0m\u001b[0;34m\u001b[0m\u001b[0;34m\u001b[0m\u001b[0m\n\u001b[0m\u001b[1;32m    201\u001b[0m             \u001b[0;32mexcept\u001b[0m\u001b[0;34m:\u001b[0m\u001b[0;34m\u001b[0m\u001b[0;34m\u001b[0m\u001b[0m\n\u001b[1;32m    202\u001b[0m                 \u001b[0mtb\u001b[0m \u001b[0;34m=\u001b[0m \u001b[0msys\u001b[0m\u001b[0;34m.\u001b[0m\u001b[0mexc_info\u001b[0m\u001b[0;34m(\u001b[0m\u001b[0;34m)\u001b[0m\u001b[0;34m\u001b[0m\u001b[0;34m\u001b[0m\u001b[0m\n",
            "\u001b[0;32m/usr/local/lib/python3.6/dist-packages/tensorflow_federated/python/core/impl/executors/execution_context.py\u001b[0m in \u001b[0;36minvoke\u001b[0;34m(self, comp, arg)\u001b[0m\n\u001b[1;32m    201\u001b[0m         return event_loop.run_until_complete(\n\u001b[1;32m    202\u001b[0m             tracing.run_coroutine_in_ambient_trace_context(\n\u001b[0;32m--> 203\u001b[0;31m                 _invoke(executor, comp, arg)))\n\u001b[0m",
            "\u001b[0;32m/usr/lib/python3.6/asyncio/base_events.py\u001b[0m in \u001b[0;36mrun_until_complete\u001b[0;34m(self, future)\u001b[0m\n\u001b[1;32m    469\u001b[0m         \u001b[0mfuture\u001b[0m\u001b[0;34m.\u001b[0m\u001b[0madd_done_callback\u001b[0m\u001b[0;34m(\u001b[0m\u001b[0m_run_until_complete_cb\u001b[0m\u001b[0;34m)\u001b[0m\u001b[0;34m\u001b[0m\u001b[0;34m\u001b[0m\u001b[0m\n\u001b[1;32m    470\u001b[0m         \u001b[0;32mtry\u001b[0m\u001b[0;34m:\u001b[0m\u001b[0;34m\u001b[0m\u001b[0;34m\u001b[0m\u001b[0m\n\u001b[0;32m--> 471\u001b[0;31m             \u001b[0mself\u001b[0m\u001b[0;34m.\u001b[0m\u001b[0mrun_forever\u001b[0m\u001b[0;34m(\u001b[0m\u001b[0;34m)\u001b[0m\u001b[0;34m\u001b[0m\u001b[0;34m\u001b[0m\u001b[0m\n\u001b[0m\u001b[1;32m    472\u001b[0m         \u001b[0;32mexcept\u001b[0m\u001b[0;34m:\u001b[0m\u001b[0;34m\u001b[0m\u001b[0;34m\u001b[0m\u001b[0m\n\u001b[1;32m    473\u001b[0m             \u001b[0;32mif\u001b[0m \u001b[0mnew_task\u001b[0m \u001b[0;32mand\u001b[0m \u001b[0mfuture\u001b[0m\u001b[0;34m.\u001b[0m\u001b[0mdone\u001b[0m\u001b[0;34m(\u001b[0m\u001b[0;34m)\u001b[0m \u001b[0;32mand\u001b[0m \u001b[0;32mnot\u001b[0m \u001b[0mfuture\u001b[0m\u001b[0;34m.\u001b[0m\u001b[0mcancelled\u001b[0m\u001b[0;34m(\u001b[0m\u001b[0;34m)\u001b[0m\u001b[0;34m:\u001b[0m\u001b[0;34m\u001b[0m\u001b[0;34m\u001b[0m\u001b[0m\n",
            "\u001b[0;32m/usr/lib/python3.6/asyncio/base_events.py\u001b[0m in \u001b[0;36mrun_forever\u001b[0;34m(self)\u001b[0m\n\u001b[1;32m    436\u001b[0m             \u001b[0mevents\u001b[0m\u001b[0;34m.\u001b[0m\u001b[0m_set_running_loop\u001b[0m\u001b[0;34m(\u001b[0m\u001b[0mself\u001b[0m\u001b[0;34m)\u001b[0m\u001b[0;34m\u001b[0m\u001b[0;34m\u001b[0m\u001b[0m\n\u001b[1;32m    437\u001b[0m             \u001b[0;32mwhile\u001b[0m \u001b[0;32mTrue\u001b[0m\u001b[0;34m:\u001b[0m\u001b[0;34m\u001b[0m\u001b[0;34m\u001b[0m\u001b[0m\n\u001b[0;32m--> 438\u001b[0;31m                 \u001b[0mself\u001b[0m\u001b[0;34m.\u001b[0m\u001b[0m_run_once\u001b[0m\u001b[0;34m(\u001b[0m\u001b[0;34m)\u001b[0m\u001b[0;34m\u001b[0m\u001b[0;34m\u001b[0m\u001b[0m\n\u001b[0m\u001b[1;32m    439\u001b[0m                 \u001b[0;32mif\u001b[0m \u001b[0mself\u001b[0m\u001b[0;34m.\u001b[0m\u001b[0m_stopping\u001b[0m\u001b[0;34m:\u001b[0m\u001b[0;34m\u001b[0m\u001b[0;34m\u001b[0m\u001b[0m\n\u001b[1;32m    440\u001b[0m                     \u001b[0;32mbreak\u001b[0m\u001b[0;34m\u001b[0m\u001b[0;34m\u001b[0m\u001b[0m\n",
            "\u001b[0;32m/usr/lib/python3.6/asyncio/base_events.py\u001b[0m in \u001b[0;36m_run_once\u001b[0;34m(self)\u001b[0m\n\u001b[1;32m   1413\u001b[0m                            timeout * 1e3, dt * 1e3)\n\u001b[1;32m   1414\u001b[0m         \u001b[0;32melse\u001b[0m\u001b[0;34m:\u001b[0m\u001b[0;34m\u001b[0m\u001b[0;34m\u001b[0m\u001b[0m\n\u001b[0;32m-> 1415\u001b[0;31m             \u001b[0mevent_list\u001b[0m \u001b[0;34m=\u001b[0m \u001b[0mself\u001b[0m\u001b[0;34m.\u001b[0m\u001b[0m_selector\u001b[0m\u001b[0;34m.\u001b[0m\u001b[0mselect\u001b[0m\u001b[0;34m(\u001b[0m\u001b[0mtimeout\u001b[0m\u001b[0;34m)\u001b[0m\u001b[0;34m\u001b[0m\u001b[0;34m\u001b[0m\u001b[0m\n\u001b[0m\u001b[1;32m   1416\u001b[0m         \u001b[0mself\u001b[0m\u001b[0;34m.\u001b[0m\u001b[0m_process_events\u001b[0m\u001b[0;34m(\u001b[0m\u001b[0mevent_list\u001b[0m\u001b[0;34m)\u001b[0m\u001b[0;34m\u001b[0m\u001b[0;34m\u001b[0m\u001b[0m\n\u001b[1;32m   1417\u001b[0m \u001b[0;34m\u001b[0m\u001b[0m\n",
            "\u001b[0;32m/usr/lib/python3.6/selectors.py\u001b[0m in \u001b[0;36mselect\u001b[0;34m(self, timeout)\u001b[0m\n\u001b[1;32m    443\u001b[0m             \u001b[0mready\u001b[0m \u001b[0;34m=\u001b[0m \u001b[0;34m[\u001b[0m\u001b[0;34m]\u001b[0m\u001b[0;34m\u001b[0m\u001b[0;34m\u001b[0m\u001b[0m\n\u001b[1;32m    444\u001b[0m             \u001b[0;32mtry\u001b[0m\u001b[0;34m:\u001b[0m\u001b[0;34m\u001b[0m\u001b[0;34m\u001b[0m\u001b[0m\n\u001b[0;32m--> 445\u001b[0;31m                 \u001b[0mfd_event_list\u001b[0m \u001b[0;34m=\u001b[0m \u001b[0mself\u001b[0m\u001b[0;34m.\u001b[0m\u001b[0m_epoll\u001b[0m\u001b[0;34m.\u001b[0m\u001b[0mpoll\u001b[0m\u001b[0;34m(\u001b[0m\u001b[0mtimeout\u001b[0m\u001b[0;34m,\u001b[0m \u001b[0mmax_ev\u001b[0m\u001b[0;34m)\u001b[0m\u001b[0;34m\u001b[0m\u001b[0;34m\u001b[0m\u001b[0m\n\u001b[0m\u001b[1;32m    446\u001b[0m             \u001b[0;32mexcept\u001b[0m \u001b[0mInterruptedError\u001b[0m\u001b[0;34m:\u001b[0m\u001b[0;34m\u001b[0m\u001b[0;34m\u001b[0m\u001b[0m\n\u001b[1;32m    447\u001b[0m                 \u001b[0;32mreturn\u001b[0m \u001b[0mready\u001b[0m\u001b[0;34m\u001b[0m\u001b[0;34m\u001b[0m\u001b[0m\n",
            "\u001b[0;31mKeyboardInterrupt\u001b[0m: "
          ]
        }
      ]
    },
    {
      "cell_type": "markdown",
      "metadata": {
        "id": "i_EV-vx8b93f",
        "colab_type": "text"
      },
      "source": [
        "### 使用TensorBoard可视化"
      ]
    },
    {
      "cell_type": "code",
      "metadata": {
        "id": "VKKb6c6h0AMF",
        "colab_type": "code",
        "colab": {}
      },
      "source": [
        "'''\n",
        "#使用tensorboard可视化\n",
        "#使用Tensorboard可视化这些联邦计算的度量\n",
        "#创建目录和相应的摘要编写器\n",
        "#@test {\"skip\": true}\n",
        "logdir = \"/tmp/logs/scalars/training/\"\n",
        "summary_writer = tf.summary.create_file_writer(logdir)\n",
        "state = iterative_process.initialize()\n",
        "\n",
        "#!!!太坑了，我以为@test是无关紧要的东西，emmm，就省略了，没想到就凉凉\n",
        "#@test {\"skip\": true}\n",
        "with summary_writer.as_default():\n",
        "  for round_num in range(1, NUM_ROUNDS):\n",
        "    #随机选择用户\n",
        "    sample_clients = random.sample(emnist_train.client_ids, NUM_CLIENTS)\n",
        "    federated_train_data = make_federated_data(emnist_train, sample_clients)\n",
        "\n",
        "    state, metrics = iterative_process.next(state, federated_train_data)\n",
        "\n",
        "    print('round {:2d}, metrics={}'.format(round_num, metrics))\n",
        "\n",
        "    for name, value in metrics._asdict().items():\n",
        "      tf.summary.scalar(name, value, step=round_num)\n",
        "'''"
      ],
      "execution_count": 0,
      "outputs": []
    },
    {
      "cell_type": "code",
      "metadata": {
        "id": "Pn70ix21PgDn",
        "colab_type": "code",
        "outputId": "117f75c1-645d-482c-c8f0-e7c1188cf29b",
        "colab": {
          "base_uri": "https://localhost:8080/",
          "height": 555
        }
      },
      "source": [
        "'''\n",
        "#这个tensorBoard像有猫病一样，昨天还可以今天来突然就不行了\n",
        "#@test {\"skip\":true}\n",
        "%load_ext tensorboard\n",
        "%tensorboard --logdir /tmp/logs/scalars/ --port=0\n",
        "'''"
      ],
      "execution_count": 0,
      "outputs": [
        {
          "output_type": "stream",
          "text": [
            "The tensorboard extension is already loaded. To reload it, use:\n",
            "  %reload_ext tensorboard\n"
          ],
          "name": "stdout"
        },
        {
          "output_type": "display_data",
          "data": {
            "text/plain": [
              "ERROR: Failed to launch TensorBoard (exited with 1).\n",
              "Contents of stderr:\n",
              "2020-04-06 08:24:12.865933: W tensorflow/stream_executor/platform/default/dso_loader.cc:55] Could not load dynamic library 'libnvinfer.so.6'; dlerror: libnvinfer.so.6: cannot open shared object file: No such file or directory; LD_LIBRARY_PATH: /usr/local/nvidia/lib:/usr/local/nvidia/lib64\n",
              "2020-04-06 08:24:12.866088: W tensorflow/stream_executor/platform/default/dso_loader.cc:55] Could not load dynamic library 'libnvinfer_plugin.so.6'; dlerror: libnvinfer_plugin.so.6: cannot open shared object file: No such file or directory; LD_LIBRARY_PATH: /usr/local/nvidia/lib:/usr/local/nvidia/lib64\n",
              "2020-04-06 08:24:12.866105: W tensorflow/compiler/tf2tensorrt/utils/py_utils.cc:30] Cannot dlopen some TensorRT libraries. If you would like to use Nvidia GPU with TensorRT, please make sure the missing libraries mentioned above are installed properly.\n",
              "Traceback (most recent call last):\n",
              "  File \"/usr/local/bin/tensorboard\", line 8, in <module>\n",
              "    sys.exit(run_main())\n",
              "  File \"/usr/local/lib/python3.6/dist-packages/tensorboard/main.py\", line 66, in run_main\n",
              "    app.run(tensorboard.main, flags_parser=tensorboard.configure)\n",
              "  File \"/usr/local/lib/python3.6/dist-packages/absl/app.py\", line 299, in run\n",
              "    _run_main(main, args)\n",
              "  File \"/usr/local/lib/python3.6/dist-packages/absl/app.py\", line 250, in _run_main\n",
              "    sys.exit(main(argv))\n",
              "  File \"/usr/local/lib/python3.6/dist-packages/tensorboard/program.py\", line 268, in main\n",
              "    return runner(self.flags) or 0\n",
              "  File \"/usr/local/lib/python3.6/dist-packages/tensorboard/program.py\", line 282, in _run_serve_subcommand\n",
              "    server = self._make_server()\n",
              "  File \"/usr/local/lib/python3.6/dist-packages/tensorboard/program.py\", line 361, in _make_server\n",
              "    self.assets_zip_provider)\n",
              "  File \"/usr/local/lib/python3.6/dist-packages/tensorboard/backend/application.py\", line 165, in standard_tensorboard_wsgi\n",
              "    flags, plugin_loaders, data_provider, assets_zip_provider, multiplexer)\n",
              "  File \"/usr/local/lib/python3.6/dist-packages/tensorboard/backend/application.py\", line 234, in TensorBoardWSGIApp\n",
              "    return TensorBoardWSGI(tbplugins, flags.path_prefix)\n",
              "  File \"/usr/local/lib/python3.6/dist-packages/tensorboard/backend/application.py\", line 286, in __init__\n",
              "    raise ValueError('Duplicate plugins for name %s' % plugin.plugin_name)\n",
              "ValueError: Duplicate plugins for name whatif"
            ]
          },
          "metadata": {
            "tags": []
          }
        }
      ]
    },
    {
      "cell_type": "markdown",
      "metadata": {
        "id": "dHsGUj-3b07z",
        "colab_type": "text"
      },
      "source": [
        "### 在测试集上评估"
      ]
    },
    {
      "cell_type": "code",
      "metadata": {
        "id": "HBGzrtDgP8hn",
        "colab_type": "code",
        "colab": {}
      },
      "source": [
        "#在测试集上进行测试\n",
        "#求值传递MnistModel就足够了，不执行梯度下降，也不需要构造优化器，MnistTModel就是前面定义的那个class\n",
        "evaluation = tff.learning.build_federated_evaluation(MnistModel)"
      ],
      "execution_count": 0,
      "outputs": []
    },
    {
      "cell_type": "code",
      "metadata": {
        "id": "lQjEUho65VGX",
        "colab_type": "code",
        "colab": {}
      },
      "source": [
        "#评估一下在训练中得到的最新状态，为了从服务器状态中提取最新的训练模型，只需访问.model成员\n",
        "#和上面说的形式一样，它接收model和联邦数据并返回训练的metrics\n",
        "#这里是在评估模型的最新状态，为了从服务器状态中提取最新的训练模型，只需访问.model成员\n",
        "#train_metrics = evaluation(state.model, federated_train_data)"
      ],
      "execution_count": 0,
      "outputs": []
    },
    {
      "cell_type": "code",
      "metadata": {
        "id": "0M5UwerU5V6R",
        "colab_type": "code",
        "outputId": "1e7fc7d7-04a5-479e-d414-286d84fcdffc",
        "colab": {
          "base_uri": "https://localhost:8080/",
          "height": 73
        }
      },
      "source": [
        "#编译联邦数据的测试样本，并对测试数据重新运行求值。同样也是随机选择NUM_CLIENTS个用户。\n",
        "# sample_clients = random.sample(emnist_train.client_ids, NUM_CLIENTS_PER_ROUND)\n",
        "# federated_test_data = make_federated_data(emnist_test, sample_clients)\n",
        "NUM_TEST_CLIENTS = len(test.client_ids)\n",
        "\n",
        "#测试集测试精度\n",
        "# sample_clients = random.sample(BAL4_test.client_ids, NUM_CLIENTS_PER_ROUND)\n",
        "sample_clients = test.client_ids[0:NUM_TEST_CLIENTS]\n",
        "federated_test_data = make_federated_data(test, sample_clients)\n",
        "len(federated_test_data), federated_test_data[0]"
      ],
      "execution_count": 0,
      "outputs": [
        {
          "output_type": "execute_result",
          "data": {
            "text/plain": [
              "(50,\n",
              " <PrefetchDataset shapes: OrderedDict([(x, (None, 28, 28, 1)), (y, (None, 1))]), types: OrderedDict([(x, tf.float32), (y, tf.int32)])>)"
            ]
          },
          "metadata": {
            "tags": []
          },
          "execution_count": 56
        }
      ]
    },
    {
      "cell_type": "code",
      "metadata": {
        "id": "1a_F78e05cKM",
        "colab_type": "code",
        "outputId": "ac59c939-b361-4ac5-8fcf-23ef93160aa4",
        "colab": {
          "base_uri": "https://localhost:8080/",
          "height": 35
        }
      },
      "source": [
        "#使用EMNIST，客户端随机选择10个，初始精度在0.8898\n",
        "#使用BAL1，K=20,客户端随机选了5个作为测试集测试，训练30轮，精度在0.9616666436195374\n",
        "\n",
        "# #使用BAL1，K=100，轮询训练20轮，测试精度0.9793000221252441\n",
        "# #使用BAL1，K=100，轮询训练20轮，测试精度0.9071999788284302(4-14 5:05我服了,此时学习率0.001)\n",
        "# #使用BAL1，测试精度0.9095249772071838(4-14 6:13 学习率0.001)\n",
        "# #使用BAL1，K=100，轮询训练20轮，测试精度0.9792249798774719(4-14 5:42,学习率0.02)\n",
        "# #使用BAL1，测试精度（4-14 6:23 学习率0.02）\n",
        "# test_metrics = evaluation(state.model, federated_test_data)\n",
        "\n",
        "\n",
        "# 使用BAL2，K=100，碎片型，轮询训练20轮，测试精度0.950124979019165\n",
        "# 使用BAL2，K=100，轮询训练20轮，测试精度0.27605000138282776（4-14 5:29？？？学习率0.001)\n",
        "# 使用BAL2，K=100，轮询训练20轮，测试精度0.5352500081062317(4-14 5:48 学习率0.02)\n",
        "# 使用BAL2，K=100，轮询训练20轮，测试精度0.43607500195503235(4-14 5:05 学习率0.02)\n",
        "# 使用BAL2，测试精度(4-14 6:35 学习率0.001)\n",
        "# test_metrics = evaluation(state.model, federated_test_data)\n",
        "\n",
        "\n",
        "#使用BAL3，K=100，客户端样本数呈正态分布，学习率0.02,轮询20轮，测试精度0.9304500222206116\n",
        "# 使用BAL3，K=100，客户端样本数呈正态分布，学习率0.02,轮询20轮，测试精度0.9286500215530396\n",
        "# 使用BAL3，测试精度0.93545001745224\n",
        "# 使用BAL3，学习率0.02，测试精度0.9805750250816345(4-14 5:59)\n",
        "# test_metrics = evaluation(state.model, federated_test_data)\n",
        "\n",
        "#BAL3和BAL4使用了同一个客户端样本数\n",
        "#使用BAL4，K=100，样本类别数呈正态分布，客户端样本数呈正态分布，轮询训练20轮，测试精度0.9043499827384949\n",
        "#使用BAL4，K=100，样本类别数呈正态分布，客户端样本数呈正态分布，轮询训练20轮，测试精度0.902525007724762\n",
        "#使用BAL4，K=100，样本类别数呈正态分布，客户端样本数呈正态分布，轮询训练20轮，测试精度0.9056000113487244\n",
        "#使用BAL4，测试集精度0.5352500081062317(4-14 6:08 学习率0.02)\n",
        "#使用BAL4，简单repeat少数样本到平均数，测试精度0.9290568828582764\n",
        "#使用BAL4，简单repeat少数样本到平均数，测试精度0.9289368391036987\n",
        "#使用BAL4，简单repeat少数样本到平均数，测试精度0.9277360439300537(4-14 2:54)\n",
        "#使用BAL4，简单repeat少数样本到平均数，自适应repeat客户端样本，所有样本repeat3次，测试精度0.9119815826416016？？反而下降了？？\n",
        "#使用BAL4，简单repeat少数样本到平均数，自适应repeat客户端样本，所有样本repeat5次，测试精度0.9271356463432312\n",
        "test_metrics = evaluation(state.model, federated_test_data)\n",
        "\n",
        "str(test_metrics)"
      ],
      "execution_count": 72,
      "outputs": [
        {
          "output_type": "execute_result",
          "data": {
            "text/plain": [
              "'<num_examples=200000.0,loss=0.08457162976264954,accuracy=0.9745650291442871>'"
            ]
          },
          "metadata": {
            "tags": []
          },
          "execution_count": 72
        }
      ]
    }
  ]
}